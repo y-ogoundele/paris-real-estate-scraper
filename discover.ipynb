{
 "cells": [
  {
   "cell_type": "code",
   "execution_count": 499,
   "metadata": {},
   "outputs": [],
   "source": [
    "import pandas as pd\n",
    "import numpy as np\n",
    "from bs4 import BeautifulSoup\n",
    "import requests\n",
    "import re"
   ]
  },
  {
   "cell_type": "markdown",
   "metadata": {},
   "source": [
    "# Scraping a property page\n",
    "This is a discovery notebook. It contains script that scrape a property page of the website seloger.com.\\\n",
    "From a page we can extract several features of the flat:\n",
    "\n",
    "- Title\n",
    "- URL (used a primary key)\n",
    "- nom du quartier\n",
    "- arrondissement/ville\n",
    "- loyer (all inclusive)\n",
    "- taxes and fees\n",
    "- caution\n",
    "- evolution des prix (si disponible)\n",
    "- nb de pieces\n",
    "- nb de m2\n",
    "- \"L'avis du professionel\"\n",
    "- Description de l'appart (general, interieur et autres)\n",
    "- Diagnostic de performance energetique (note et kWhEP/m².an)"
   ]
  },
  {
   "cell_type": "code",
   "execution_count": 500,
   "metadata": {},
   "outputs": [],
   "source": [
    "url = \"https://www.seloger.com/annonces/locations/appartement/paris-11eme-75/nation-alexandre-dumas/155711407.htm?projects=1&types=1&places=[{ci:750105}|{ci:750111}|{ci:940067}|{ci:940080}|{idq:133102}|{idq:133103}|{idq:133104}|{idq:133105}|{idq:133106}|{idq:133107}|{idq:133108}|{idq:133109}|{idq:133110}|{idq:133111}|{idq:133112}|{idq:133113}|{idq:133114}|{idq:133115}|{idq:133764}]&surface=20/NaN&rooms=1&sort=d_dt_crea&picture=15&qsVersion=1.0&bd=ListToDetail\""
   ]
  },
  {
   "cell_type": "code",
   "execution_count": 501,
   "metadata": {},
   "outputs": [],
   "source": [
    "header = {\"user-agent\": \"Mozilla/5.0 (Windows NT 10.0; Win64; x64) AppleWebKit/537.36 (KHTML, like Gecko) Chrome/74.0.3729.169 Safari/537.36\" ,'referer':'https://www.google.com/'}\n",
    "response = requests.get(url, headers=headers)\n",
    "soup = BeautifulSoup(response.text,\"html.parser\")"
   ]
  },
  {
   "cell_type": "markdown",
   "metadata": {},
   "source": [
    "#### Comment:\n",
    "Adding headers enables to avoid being detected as a bot when querying the webpage. When querying this website without headers, the response contains a captcha"
   ]
  },
  {
   "cell_type": "markdown",
   "metadata": {},
   "source": [
    "# Navigate the soup\n",
    "Most of the key information is in the **main** section of the HTML"
   ]
  },
  {
   "cell_type": "markdown",
   "metadata": {},
   "source": [
    "## Title"
   ]
  },
  {
   "cell_type": "code",
   "execution_count": 503,
   "metadata": {},
   "outputs": [
    {
     "data": {
      "text/plain": [
       "'Location Studio Paris 11ème - Appartement F1/T1/1 pièce 21,37m² 1015€/mois - SeLoger'"
      ]
     },
     "execution_count": 503,
     "metadata": {},
     "output_type": "execute_result"
    }
   ],
   "source": [
    "soup.title.string"
   ]
  },
  {
   "cell_type": "markdown",
   "metadata": {},
   "source": [
    "## URL"
   ]
  },
  {
   "cell_type": "code",
   "execution_count": 504,
   "metadata": {},
   "outputs": [
    {
     "name": "stdout",
     "output_type": "stream",
     "text": [
      "- Studio refait à neuf de 21.37 m² \r\n",
      "- 303 rue du Faubourg Saint-Antoine\r\n",
      "- 5ème étage avec ascenseur\r\n",
      "- Balcon exposé Sud\r\n",
      "- Rangements\r\n",
      "- Parquet\r\n",
      "- Four combiné\r\n",
      "- Cuisine intégrée\r\n",
      "- Plaque vitrocéramique\r\n",
      "- Réfrigérateur / congélateur\r\n",
      "-\n",
      "https://www.seloger.com/annonces/locations/appartement/paris-11eme-75/nation-alexandre-dumas/155711407.htm\n"
     ]
    }
   ],
   "source": [
    "for val in soup.find_all('meta'):\n",
    "    if val.get('name') == 'description':\n",
    "        print(val.get('content'))\n",
    "        print(val.link.get('href'))"
   ]
  },
  {
   "cell_type": "markdown",
   "metadata": {},
   "source": [
    "## Nom du quartier, arrondissement, ville\n",
    "### Option 1 -  Use summary block"
   ]
  },
  {
   "cell_type": "code",
   "execution_count": 505,
   "metadata": {},
   "outputs": [],
   "source": [
    "summary_block = main_tag.find_all('div', class_='Summarystyled__MainWrapper-tzuaot-1 erajXw')[0]"
   ]
  },
  {
   "cell_type": "code",
   "execution_count": 506,
   "metadata": {},
   "outputs": [
    {
     "data": {
      "text/plain": [
       "[<div class=\"Summarystyled__Address-tzuaot-5 fLUFm\">Quartier <!-- -->Nation-Alexandre Dumas<!-- -->, <!-- -->Paris 11ème</div>]"
      ]
     },
     "execution_count": 506,
     "metadata": {},
     "output_type": "execute_result"
    }
   ],
   "source": [
    "summary_block.find_all('div', class_='Summarystyled__Address-tzuaot-5 fLUFm')"
   ]
  },
  {
   "cell_type": "markdown",
   "metadata": {},
   "source": [
    "### Option 2 - Use main block"
   ]
  },
  {
   "cell_type": "code",
   "execution_count": 507,
   "metadata": {},
   "outputs": [],
   "source": [
    "main_tag = soup.find_all('div', class_='app__CWrapMain-aroj7e-3 FfHMD')[0]"
   ]
  },
  {
   "cell_type": "code",
   "execution_count": 508,
   "metadata": {},
   "outputs": [
    {
     "data": {
      "text/plain": [
       "bs4.element.Tag"
      ]
     },
     "execution_count": 508,
     "metadata": {},
     "output_type": "execute_result"
    }
   ],
   "source": [
    "type(main_tag)"
   ]
  },
  {
   "cell_type": "code",
   "execution_count": 509,
   "metadata": {},
   "outputs": [],
   "source": [
    "quartier_block = (\n",
    "    main_tag.find('p', class_=\"Map__AddressLine-sc-6i077b-2 eCDRsF\")\n",
    ")"
   ]
  },
  {
   "cell_type": "code",
   "execution_count": 510,
   "metadata": {},
   "outputs": [
    {
     "data": {
      "text/plain": [
       "['L’appartement est situé',\n",
       " ' ',\n",
       " ' ',\n",
       " <strong>à <!-- -->Paris<!-- --> (<!-- -->75011<!-- -->)</strong>,\n",
       " ', dans le quartier ',\n",
       " ' ',\n",
       " 'Nation-Alexandre Dumas',\n",
       " ' ',\n",
       " '.']"
      ]
     },
     "execution_count": 510,
     "metadata": {},
     "output_type": "execute_result"
    }
   ],
   "source": [
    "quartier_block.contents"
   ]
  },
  {
   "cell_type": "code",
   "execution_count": 511,
   "metadata": {},
   "outputs": [],
   "source": [
    "ville = quartier_block.strong"
   ]
  },
  {
   "cell_type": "code",
   "execution_count": 512,
   "metadata": {},
   "outputs": [
    {
     "name": "stdout",
     "output_type": "stream",
     "text": [
      "['à\\xa0', ' ', 'Paris', ' ', ' (', ' ', '75011', ' ', ')']\n"
     ]
    }
   ],
   "source": [
    "print(ville.contents)"
   ]
  },
  {
   "cell_type": "code",
   "execution_count": 513,
   "metadata": {},
   "outputs": [
    {
     "data": {
      "text/plain": [
       "'Paris  ( 75011 )'"
      ]
     },
     "execution_count": 513,
     "metadata": {},
     "output_type": "execute_result"
    }
   ],
   "source": [
    "''.join(ville.contents[2:])"
   ]
  },
  {
   "cell_type": "code",
   "execution_count": 514,
   "metadata": {},
   "outputs": [
    {
     "data": {
      "text/plain": [
       "'Nation-Alexandre Dumas'"
      ]
     },
     "execution_count": 514,
     "metadata": {},
     "output_type": "execute_result"
    }
   ],
   "source": [
    "quartier_block.contents[-3]"
   ]
  },
  {
   "cell_type": "markdown",
   "metadata": {},
   "source": [
    "## Rent price"
   ]
  },
  {
   "cell_type": "code",
   "execution_count": 515,
   "metadata": {},
   "outputs": [],
   "source": [
    "price_block = (\n",
    "    main_tag\n",
    "    .find_all('div', id='a-propos-de-ce-prix', class_='Pricestyled__Container-uc7t2j-1 djoCgs')\n",
    ")[0]"
   ]
  },
  {
   "cell_type": "code",
   "execution_count": 516,
   "metadata": {},
   "outputs": [
    {
     "data": {
      "text/plain": [
       "bs4.element.Tag"
      ]
     },
     "execution_count": 516,
     "metadata": {},
     "output_type": "execute_result"
    }
   ],
   "source": [
    "type(price_block)"
   ]
  },
  {
   "cell_type": "code",
   "execution_count": 517,
   "metadata": {},
   "outputs": [],
   "source": [
    "current_price = price_block.find_all('div', class_='Pricestyled__Price-uc7t2j-0 jWsTKU')[0].find('div').contents[0]"
   ]
  },
  {
   "cell_type": "code",
   "execution_count": 518,
   "metadata": {},
   "outputs": [
    {
     "data": {
      "text/plain": [
       "'1 015 €'"
      ]
     },
     "execution_count": 518,
     "metadata": {},
     "output_type": "execute_result"
    }
   ],
   "source": [
    "current_price"
   ]
  },
  {
   "cell_type": "markdown",
   "metadata": {},
   "source": [
    "## Taxes and fees"
   ]
  },
  {
   "cell_type": "code",
   "execution_count": 519,
   "metadata": {},
   "outputs": [],
   "source": [
    "taxes_and_fees_block = price_block.find_all('div', class_='Pricestyled__Panel-uc7t2j-4 OLjZF')[0]"
   ]
  },
  {
   "cell_type": "code",
   "execution_count": 520,
   "metadata": {},
   "outputs": [],
   "source": [
    "assert taxes_and_fees_block.strong.contents[0] == 'Charges comprises'"
   ]
  },
  {
   "cell_type": "code",
   "execution_count": 521,
   "metadata": {},
   "outputs": [
    {
     "data": {
      "text/plain": [
       "[<div>- Complément de loyer :<!-- --> <strong>268 €</strong></div>,\n",
       " <div>- Provisions pour charges avec regularisation annuelle :<!-- --> <strong>45 €</strong></div>]"
      ]
     },
     "execution_count": 521,
     "metadata": {},
     "output_type": "execute_result"
    }
   ],
   "source": [
    "taxes_and_fees_block.find_all('div')"
   ]
  },
  {
   "cell_type": "code",
   "execution_count": 522,
   "metadata": {},
   "outputs": [],
   "source": [
    "# try except sur les fluctuations de prix"
   ]
  },
  {
   "cell_type": "code",
   "execution_count": 523,
   "metadata": {},
   "outputs": [],
   "source": [
    "price_fluctuations_block = price_block.find_all('div', class_='PriceHistorystyled__Container-sc-18jhpbr-0 iSZUrX')[0]"
   ]
  },
  {
   "cell_type": "code",
   "execution_count": 524,
   "metadata": {},
   "outputs": [
    {
     "data": {
      "text/plain": [
       "'45 €'"
      ]
     },
     "execution_count": 524,
     "metadata": {},
     "output_type": "execute_result"
    }
   ],
   "source": [
    "(\n",
    "    price_fluctuations_block\n",
    "    .find_all('span',\n",
    "              class_='PriceHistorystyled__BoldDisplayAmount-sc-18jhpbr-4 kdmxHw global-styles__TextNoWrap-sc-1aeotog-6 dVzJN')\n",
    ")[0].contents[0]"
   ]
  },
  {
   "cell_type": "code",
   "execution_count": 525,
   "metadata": {},
   "outputs": [],
   "source": [
    "deposit_block = price_block.find_all('div', class_='rentHelper__Garantie-sc-1x3dozo-0 AJvvM')[0]"
   ]
  },
  {
   "cell_type": "code",
   "execution_count": 526,
   "metadata": {},
   "outputs": [
    {
     "data": {
      "text/plain": [
       "'970 €'"
      ]
     },
     "execution_count": 526,
     "metadata": {},
     "output_type": "execute_result"
    }
   ],
   "source": [
    "deposit_block.strong.contents[0]"
   ]
  },
  {
   "cell_type": "markdown",
   "metadata": {},
   "source": [
    "## Dimensions"
   ]
  },
  {
   "cell_type": "code",
   "execution_count": 527,
   "metadata": {},
   "outputs": [],
   "source": [
    "dimensions_block = (\n",
    "    summary_block\n",
    "    .find_all('div', class_='Summarystyled__TagsWrapper-tzuaot-18 cgUaLi')[0]\n",
    "    .find_all('div', class_='TagsWithIcon__TagContainer-j1x9om-1 eiaFim')\n",
    ")"
   ]
  },
  {
   "cell_type": "code",
   "execution_count": 528,
   "metadata": {},
   "outputs": [
    {
     "data": {
      "text/plain": [
       "[<div class=\"TagsWithIcon__TagContainer-j1x9om-1 eiaFim\"><div class=\"TagsWithIcon__CurrentIcon-j1x9om-0 jGcqmv Icon__IconElement-sc-1xnn3zd-0 jbPwtO\" data-test=\"sl-ui.icon\"><svg viewbox=\"0 0 512 512\"><g><path d=\"M368.6 27.6H132.1c-1.1-.1-2.2-.2-3.2-.2-13.3 0-24.1 10.8-24.1 24.1v335.3c0 9.4 5.4 17.9 13.9 21.9l149.9 69.8c12.1 5.6 26.4.4 32-11.7 1.5-3.2 2.2-6.6 2.2-10.1v-38.4h65.8c19.9 0 36.1-16.2 36.1-36.1V63.7c.1-19.9-16.1-36.1-36.1-36.1zm-89.8 429l-149.9-69.9V51.5l149.9 75v330.1zM380.7 382c0 6.6-5.4 12-12 12h-65.8V126.4c0-9.1-5.1-17.5-13.3-21.5L183.2 51.7h185.5c6.6 0 12 5.4 12 12V382z\"></path><path d=\"M255.4 311.9c6.6 0 12-5.4 12.1-12v-48.2c0-6.7-5.4-12-12-12s-12 5.4-12 12v48.2c-.2 6.6 5.2 12 11.9 12z\"></path></g></svg></div><div>1 pièce</div></div>,\n",
       " <div class=\"TagsWithIcon__TagContainer-j1x9om-1 eiaFim\"><div class=\"TagsWithIcon__CurrentIcon-j1x9om-0 jGcqmv Icon__IconElement-sc-1xnn3zd-0 jbPwtO\" data-test=\"sl-ui.icon\"><svg viewbox=\"0 0 512 512\"><path d=\"M382 493.6H44.6c-7.2 0-13-5.8-13-13V117.3c0-7.2 5.8-13 13-13H382c7.2 0 13 5.8 13 13v363.3c0 7.2-5.8 13-13 13zM98.9 42.5h227v-25l67.9 34-67.9 34v-17h-227v19.2L31 53.7l67.9-34v22.8zm335.9 383.6v-254h-21.7l34-67.9 34 67.9h-20.4v254h20.2l-34 67.9-34-67.9h21.9zM369 467.6V130.3H57.6v337.4H369z\"></path></svg></div><div>21,37m²</div></div>]"
      ]
     },
     "execution_count": 528,
     "metadata": {},
     "output_type": "execute_result"
    }
   ],
   "source": [
    "dimensions_block"
   ]
  },
  {
   "cell_type": "code",
   "execution_count": 529,
   "metadata": {},
   "outputs": [],
   "source": [
    "rooms = dimensions_block[0]"
   ]
  },
  {
   "cell_type": "code",
   "execution_count": 530,
   "metadata": {},
   "outputs": [
    {
     "data": {
      "text/plain": [
       "['1 pièce']"
      ]
     },
     "execution_count": 530,
     "metadata": {},
     "output_type": "execute_result"
    }
   ],
   "source": [
    "rooms.find_all('div')[-1].contents"
   ]
  },
  {
   "cell_type": "code",
   "execution_count": 531,
   "metadata": {},
   "outputs": [],
   "source": [
    "size = dimensions_block[1]"
   ]
  },
  {
   "cell_type": "code",
   "execution_count": 532,
   "metadata": {},
   "outputs": [
    {
     "data": {
      "text/plain": [
       "['21,37m²']"
      ]
     },
     "execution_count": 532,
     "metadata": {},
     "output_type": "execute_result"
    }
   ],
   "source": [
    "size.find_all('div')[-1].contents"
   ]
  },
  {
   "cell_type": "markdown",
   "metadata": {},
   "source": [
    "## L'avis du professionel"
   ]
  },
  {
   "cell_type": "code",
   "execution_count": 533,
   "metadata": {},
   "outputs": [],
   "source": [
    "description_block = (\n",
    "    main_tag\n",
    "    .find_all('div', class_='TitledDescription__TitledDescriptionContent-sc-1r4hqf5-1 koqVoo')\n",
    ")"
   ]
  },
  {
   "cell_type": "code",
   "execution_count": 534,
   "metadata": {},
   "outputs": [],
   "source": [
    "avis_du_pro = description_block[0]"
   ]
  },
  {
   "cell_type": "code",
   "execution_count": 535,
   "metadata": {},
   "outputs": [
    {
     "data": {
      "text/plain": [
       "<div class=\"TitledDescription__TitledDescriptionContent-sc-1r4hqf5-1 koqVoo\"><div class=\"\"><div class=\"ShowMoreText__UITextContainer-sc-5ggbbc-0 hCeOyd\"><p>- Studio refait à neuf de 21.37 m² \n",
       "</p><p>- 303 rue du Faubourg Saint-Antoine\n",
       "</p><p>- 5ème étage avec ascenseur\n",
       "</p><p>- Balcon exposé Sud\n",
       "</p><p>- Rangements\n",
       "</p><p>- Parquet\n",
       "</p><p>- Four combiné\n",
       "</p><p>- Cuisine intégrée\n",
       "</p><p>- Plaque vitrocéramique\n",
       "</p><p>- Réfrigérateur / congélateur\n",
       "</p><p>- Hotte\n",
       "</p><p>- Four\n",
       "</p><p>- Lave-linge séchant\n",
       "</p><p>- Salle de douche\n",
       "</p><p>- Métro Nation 200 m\n",
       "</p><p>- Loyer de base: 702 euros \n",
       "</p><p>- Complément de loyer: 268 euros \n",
       "</p><p>- Charges: 45 euros\n",
       "</p><p>- Aucun frais d'agence.</p><button class=\"ContactLink__StyledButton-sc-1ex39dt-0 jPagdq\">Demander plus d'informations à l'agence<div class=\"ContactLink__Chevron-sc-1ex39dt-1 gYbUwK Icon__IconElement-sc-1xnn3zd-0 fFMQXr\" color=\"#e00034\" data-test=\"contact-link-chevron\" style=\"margin-left:5px\"><svg viewbox=\"0 0 512 512\"><path d=\"M144.9 495.9c-9 0-16.4-7.3-16.4-16.4 0-4.2 1.6-8.3 4.6-11.4L338 256 133.1 43.8c-6.2-6.5-6-16.9.5-23.2 6.5-6.2 16.8-6 23 .4l226.9 235-226.8 234.9c-3.1 3.2-7.4 5-11.8 5z\"></path></svg></div></button></div></div></div>"
      ]
     },
     "execution_count": 535,
     "metadata": {},
     "output_type": "execute_result"
    }
   ],
   "source": [
    "avis_du_pro"
   ]
  },
  {
   "cell_type": "code",
   "execution_count": 536,
   "metadata": {},
   "outputs": [
    {
     "data": {
      "text/plain": [
       "[<p>- Studio refait à neuf de 21.37 m² \n",
       " </p>, <p>- 303 rue du Faubourg Saint-Antoine\n",
       " </p>, <p>- 5ème étage avec ascenseur\n",
       " </p>, <p>- Balcon exposé Sud\n",
       " </p>, <p>- Rangements\n",
       " </p>, <p>- Parquet\n",
       " </p>, <p>- Four combiné\n",
       " </p>, <p>- Cuisine intégrée\n",
       " </p>, <p>- Plaque vitrocéramique\n",
       " </p>, <p>- Réfrigérateur / congélateur\n",
       " </p>, <p>- Hotte\n",
       " </p>, <p>- Four\n",
       " </p>, <p>- Lave-linge séchant\n",
       " </p>, <p>- Salle de douche\n",
       " </p>, <p>- Métro Nation 200 m\n",
       " </p>, <p>- Loyer de base: 702 euros \n",
       " </p>, <p>- Complément de loyer: 268 euros \n",
       " </p>, <p>- Charges: 45 euros\n",
       " </p>, <p>- Aucun frais d'agence.</p>]"
      ]
     },
     "execution_count": 536,
     "metadata": {},
     "output_type": "execute_result"
    }
   ],
   "source": [
    "avis_du_pro.find_all('p')"
   ]
  },
  {
   "cell_type": "markdown",
   "metadata": {},
   "source": [
    "## Amenities"
   ]
  },
  {
   "cell_type": "code",
   "execution_count": 537,
   "metadata": {},
   "outputs": [],
   "source": [
    "general = description_block[2].find_all('ul', class_='GeneralList__List-sc-9gtpjm-0 BAyYz')[0]"
   ]
  },
  {
   "cell_type": "code",
   "execution_count": 538,
   "metadata": {},
   "outputs": [
    {
     "data": {
      "text/plain": [
       "<ul class=\"GeneralList__List-sc-9gtpjm-0 BAyYz\"><li class=\"GeneralList__Item-sc-9gtpjm-1 dsevYN\">Surface de 21,37m²</li><li class=\"GeneralList__Item-sc-9gtpjm-1 dsevYN\">Bâtiment de 6 étages</li><li class=\"GeneralList__Item-sc-9gtpjm-1 dsevYN\">1 Pièce</li><li class=\"GeneralList__Item-sc-9gtpjm-1 dsevYN\">Année de construction 1885</li><li class=\"GeneralList__Item-sc-9gtpjm-1 dsevYN\">Refait à neuf</li><li class=\"GeneralList__Item-sc-9gtpjm-1 dsevYN\">Au 5ème étage</li></ul>"
      ]
     },
     "execution_count": 538,
     "metadata": {},
     "output_type": "execute_result"
    }
   ],
   "source": [
    "general"
   ]
  },
  {
   "cell_type": "code",
   "execution_count": 539,
   "metadata": {},
   "outputs": [],
   "source": [
    "inside = description_block[3].find_all('ul', class_='GeneralList__List-sc-9gtpjm-0 BAyYz')[0]"
   ]
  },
  {
   "cell_type": "code",
   "execution_count": 540,
   "metadata": {},
   "outputs": [
    {
     "data": {
      "text/plain": [
       "<ul class=\"GeneralList__List-sc-9gtpjm-0 BAyYz\"><li class=\"GeneralList__Item-sc-9gtpjm-1 dsevYN\">1 Salle d'eau</li><li class=\"GeneralList__Item-sc-9gtpjm-1 dsevYN\">Parquet</li><li class=\"GeneralList__Item-sc-9gtpjm-1 dsevYN\">Rangements</li><li class=\"GeneralList__Item-sc-9gtpjm-1 dsevYN\">Chauffage électrique</li><li class=\"GeneralList__Item-sc-9gtpjm-1 dsevYN\">Cuisine équipée</li></ul>"
      ]
     },
     "execution_count": 540,
     "metadata": {},
     "output_type": "execute_result"
    }
   ],
   "source": [
    "inside"
   ]
  },
  {
   "cell_type": "code",
   "execution_count": 541,
   "metadata": {},
   "outputs": [],
   "source": [
    "other = description_block[4].find_all('ul', class_='GeneralList__List-sc-9gtpjm-0 BAyYz')[0]"
   ]
  },
  {
   "cell_type": "code",
   "execution_count": 542,
   "metadata": {},
   "outputs": [
    {
     "data": {
      "text/plain": [
       "<ul class=\"GeneralList__List-sc-9gtpjm-0 BAyYz\"><li class=\"GeneralList__Item-sc-9gtpjm-1 dsevYN\">Digicode</li></ul>"
      ]
     },
     "execution_count": 542,
     "metadata": {},
     "output_type": "execute_result"
    }
   ],
   "source": [
    "other"
   ]
  },
  {
   "cell_type": "markdown",
   "metadata": {},
   "source": [
    "## Diagnostique energetique"
   ]
  },
  {
   "cell_type": "code",
   "execution_count": 543,
   "metadata": {},
   "outputs": [],
   "source": [
    "diagnostics_block = main_tag.find_all('div', id='diagnostics')[0]"
   ]
  },
  {
   "cell_type": "code",
   "execution_count": 544,
   "metadata": {},
   "outputs": [
    {
     "data": {
      "text/plain": [
       "<div class=\"global-styles__WhiteBox-sc-1aeotog-2 global-styles__DescriptionWrapper-sc-1aeotog-5 czLMZl\" data-test=\"diagnostics-block\" id=\"diagnostics\"><div class=\"TitledDescription__TitledDescriptionContainer-sc-1r4hqf5-0 fHzMfE\"><h3 class=\"typography__TitleH3-sc-111kv7i-1 jrMlIh\">Les diagnostics énergétiques</h3><div class=\"TitledDescription__TitledDescriptionContent-sc-1r4hqf5-1 koqVoo\"><div class=\"Diagnostics__DiagnosticsContainer-al64ti-2 Oitqq\" data-test=\"diagnostics-content\"><div class=\"Diagnostics__PreviewContainer-al64ti-0 dTGPCg\"><p class=\"Diagnostics__PreviewTitle-al64ti-1 eJGktk\" data-test=\"diagnostics-preview-title\">Diagnostic de performance énergétique</p><div class=\"Preview__PreviewBar-sc-1pa12ii-0 jIpQSL\" data-test=\"diagnostics-preview-bar\"><div class=\"Preview__PreviewTile-sc-1pa12ii-1 gafcOY\"><p>A</p></div><div class=\"Preview__PreviewTile-sc-1pa12ii-1 iGmEzL\"><p>B</p></div><div class=\"Preview__PreviewTile-sc-1pa12ii-1 edGcMP\"><p>C</p></div><div class=\"Preview__PreviewTile-sc-1pa12ii-1 Preview__PreviewFocusedTile-sc-1pa12ii-2 hJiFNB\"><p>D</p><div class=\"Preview__PreviewTooltip-sc-1pa12ii-3 hVDlNM\"><span class=\"Preview__PreviewTooltipValue-sc-1pa12ii-4 eGDcBO\">152</span><span class=\"Preview__PreviewTooltipCaption-sc-1pa12ii-5 cizigk\">kWhEP/m².an</span></div></div><div class=\"Preview__PreviewTile-sc-1pa12ii-1 EmyuG\"><p>E</p></div><div class=\"Preview__PreviewTile-sc-1pa12ii-1 nIZEh\"><p>F</p></div><div class=\"Preview__PreviewTile-sc-1pa12ii-1 ollKY\"><p>G</p></div></div></div></div><div class=\"Diagnostics__DiagnosticsContainer-al64ti-2 Oitqq\" data-test=\"diagnostics-content\"><div class=\"Diagnostics__PreviewContainer-al64ti-0 dTGPCg\"><p class=\"Diagnostics__PreviewTitle-al64ti-1 eJGktk\" data-test=\"diagnostics-preview-title\">Indice d'émission de gaz à effet de serre</p><div class=\"Preview__PreviewBar-sc-1pa12ii-0 jIpQSL\" data-test=\"diagnostics-preview-bar\"><div class=\"Preview__PreviewTile-sc-1pa12ii-1 gfpEsI\"><p>A</p></div><div class=\"Preview__PreviewTile-sc-1pa12ii-1 eASHcX\"><p>B</p></div><div class=\"Preview__PreviewTile-sc-1pa12ii-1 Preview__PreviewFocusedTile-sc-1pa12ii-2 ObbeY\"><p>C</p><div class=\"Preview__PreviewTooltip-sc-1pa12ii-3 hVDlNM\"><span class=\"Preview__PreviewTooltipValue-sc-1pa12ii-4 eGDcBO\">11</span><span class=\"Preview__PreviewTooltipCaption-sc-1pa12ii-5 cizigk\">kgeqCO2/m².an</span></div></div><div class=\"Preview__PreviewTile-sc-1pa12ii-1 Wcifk\"><p>D</p></div><div class=\"Preview__PreviewTile-sc-1pa12ii-1 zsmaq\"><p>E</p></div><div class=\"Preview__PreviewTile-sc-1pa12ii-1 gzTnZe\"><p>F</p></div><div class=\"Preview__PreviewTile-sc-1pa12ii-1 dpqcqE\"><p>G</p></div></div></div></div><button class=\"Diagnostics__ToggleGraphsVisibilityButton-al64ti-4 jfJpNo\" data-test=\"diagnostics-toggle-graph-button\" disabled=\"\">Afficher plus<div class=\"StyledIcon-vdo5jm-0 bBIEDK Icon__IconElement-sc-1xnn3zd-0 iXyOfa\" data-test=\"sl-ui.icon\" style=\"position:relative;left:5px;top:3px\"><svg viewbox=\"0 0 512 512\"><path d=\"M254.5 381.9c-5.1 1-9-1.8-12.3-5.1L16 149.1c-6.9-6.6-7.1-17.6-.5-24.4 6.6-6.9 17.6-7.1 24.4-.5l.6.6 214 215.4 217-215.5c6.6-6.9 17.6-7.1 24.4-.5 6.9 6.6 7.1 17.6.5 24.4l-.6.6-229.1 227.7c-3.3 3.2-7.6 5-12.2 5z\"></path></svg></div></button></div></div></div>"
      ]
     },
     "execution_count": 544,
     "metadata": {},
     "output_type": "execute_result"
    }
   ],
   "source": [
    "diagnostics_block"
   ]
  },
  {
   "cell_type": "code",
   "execution_count": 493,
   "metadata": {},
   "outputs": [],
   "source": [
    "[energy_diagnostic, ges_diagnostics] = diagnostics_block.find_all('div', class_='Diagnostics__DiagnosticsContainer-al64ti-2 Oitqq')"
   ]
  },
  {
   "cell_type": "code",
   "execution_count": 494,
   "metadata": {},
   "outputs": [
    {
     "data": {
      "text/plain": [
       "<div class=\"Diagnostics__DiagnosticsContainer-al64ti-2 Oitqq\" data-test=\"diagnostics-content\"><div class=\"Diagnostics__PreviewContainer-al64ti-0 dTGPCg\"><p class=\"Diagnostics__PreviewTitle-al64ti-1 eJGktk\" data-test=\"diagnostics-preview-title\">Diagnostic de performance énergétique</p><div class=\"Preview__PreviewBar-sc-1pa12ii-0 jIpQSL\" data-test=\"diagnostics-preview-bar\"><div class=\"Preview__PreviewTile-sc-1pa12ii-1 gafcOY\"><p>A</p></div><div class=\"Preview__PreviewTile-sc-1pa12ii-1 iGmEzL\"><p>B</p></div><div class=\"Preview__PreviewTile-sc-1pa12ii-1 edGcMP\"><p>C</p></div><div class=\"Preview__PreviewTile-sc-1pa12ii-1 Preview__PreviewFocusedTile-sc-1pa12ii-2 hJiFNB\"><p>D</p><div class=\"Preview__PreviewTooltip-sc-1pa12ii-3 hVDlNM\"><span class=\"Preview__PreviewTooltipValue-sc-1pa12ii-4 eGDcBO\">152</span><span class=\"Preview__PreviewTooltipCaption-sc-1pa12ii-5 cizigk\">kWhEP/m².an</span></div></div><div class=\"Preview__PreviewTile-sc-1pa12ii-1 EmyuG\"><p>E</p></div><div class=\"Preview__PreviewTile-sc-1pa12ii-1 nIZEh\"><p>F</p></div><div class=\"Preview__PreviewTile-sc-1pa12ii-1 ollKY\"><p>G</p></div></div></div></div>"
      ]
     },
     "execution_count": 494,
     "metadata": {},
     "output_type": "execute_result"
    }
   ],
   "source": [
    "energy_diagnostic"
   ]
  },
  {
   "cell_type": "code",
   "execution_count": 497,
   "metadata": {},
   "outputs": [
    {
     "data": {
      "text/plain": [
       "['D']"
      ]
     },
     "execution_count": 497,
     "metadata": {},
     "output_type": "execute_result"
    }
   ],
   "source": [
    "energy_diagnostic.find_all('div', class_=lambda x: x and 'FocusedTile' in x)[0].p.contents"
   ]
  },
  {
   "cell_type": "code",
   "execution_count": 498,
   "metadata": {},
   "outputs": [
    {
     "data": {
      "text/plain": [
       "[<div class=\"Preview__PreviewTooltip-sc-1pa12ii-3 hVDlNM\"><span class=\"Preview__PreviewTooltipValue-sc-1pa12ii-4 eGDcBO\">152</span><span class=\"Preview__PreviewTooltipCaption-sc-1pa12ii-5 cizigk\">kWhEP/m².an</span></div>]"
      ]
     },
     "execution_count": 498,
     "metadata": {},
     "output_type": "execute_result"
    }
   ],
   "source": [
    "energy_diagnostic.find_all('div', class_='Preview__PreviewTooltip-sc-1pa12ii-3 hVDlNM')"
   ]
  },
  {
   "cell_type": "markdown",
   "metadata": {},
   "source": [
    "# Scraping search results\n",
    "The goal is be to get a list of property URL from one search results URL"
   ]
  },
  {
   "cell_type": "code",
   "execution_count": 546,
   "metadata": {},
   "outputs": [],
   "source": [
    "sr_url = \"https://www.seloger.com/list.htm?ci=750105,750111,940067,940080&idq=133102,133103,133104,133105,133106,133107,133108,133109,133110,133111,133112,133113,133114,133115,133764&idtt=1&idtypebien=1&nb_pieces=1&photo=15&si_meuble=1&surfacemin=20&tri=d_dt_crea\""
   ]
  },
  {
   "cell_type": "code",
   "execution_count": 547,
   "metadata": {},
   "outputs": [],
   "source": [
    "header = {\"user-agent\": \"Mozilla/5.0 (Windows NT 10.0; Win64; x64) AppleWebKit/537.36 (KHTML, like Gecko) Chrome/74.0.3729.169 Safari/537.36\" ,'referer':'https://www.google.com/'}\n",
    "response = requests.get(sr_url, headers=headers)\n",
    "soup = BeautifulSoup(response.text,\"html.parser\")"
   ]
  },
  {
   "cell_type": "code",
   "execution_count": 558,
   "metadata": {},
   "outputs": [],
   "source": [
    "main_tag = soup.find_all('div', class_='Page__WrapMain-st6q56-1 bgOcDb')[0]"
   ]
  },
  {
   "cell_type": "code",
   "execution_count": 571,
   "metadata": {},
   "outputs": [],
   "source": [
    "results = main_tag.find_all('div', class_=\"classified__ContentWrapper-sc-1wmlctl-1 iFOIpl\")"
   ]
  },
  {
   "cell_type": "code",
   "execution_count": 572,
   "metadata": {},
   "outputs": [
    {
     "data": {
      "text/plain": [
       "25"
      ]
     },
     "execution_count": 572,
     "metadata": {},
     "output_type": "execute_result"
    }
   ],
   "source": [
    "len(results)"
   ]
  },
  {
   "cell_type": "code",
   "execution_count": 581,
   "metadata": {},
   "outputs": [
    {
     "data": {
      "text/plain": [
       "'https://www.seloger.com/annonces/locations/appartement/paris-11eme-75/leon-blum-folie-regnault/159157123.htm?projects=1&types=1&places=[{ci:750105}|{ci:750111}|{ci:940067}|{ci:940080}|{idq:133102}|{idq:133103}|{idq:133104}|{idq:133105}|{idq:133106}|{idq:133107}|{idq:133108}|{idq:133109}|{idq:133110}|{idq:133111}|{idq:133112}|{idq:133113}|{idq:133114}|{idq:133115}|{idq:133764}]&surface=20/NaN&rooms=1&sort=d_dt_crea&picture=15&qsVersion=1.0&bd=ListToDetail'"
      ]
     },
     "execution_count": 581,
     "metadata": {},
     "output_type": "execute_result"
    }
   ],
   "source": [
    "results[0].find_all('a', class_='CoveringLink-a3s3kt-0 dXJclF')[0].get('href')"
   ]
  },
  {
   "cell_type": "code",
   "execution_count": 584,
   "metadata": {},
   "outputs": [
    {
     "name": "stdout",
     "output_type": "stream",
     "text": [
      "https://www.seloger.com/annonces/locations/appartement/paris-11eme-75/leon-blum-folie-regnault/159157123.htm?projects=1&types=1&places=[{ci:750105}|{ci:750111}|{ci:940067}|{ci:940080}|{idq:133102}|{idq:133103}|{idq:133104}|{idq:133105}|{idq:133106}|{idq:133107}|{idq:133108}|{idq:133109}|{idq:133110}|{idq:133111}|{idq:133112}|{idq:133113}|{idq:133114}|{idq:133115}|{idq:133764}]&surface=20/NaN&rooms=1&sort=d_dt_crea&picture=15&qsVersion=1.0&bd=ListToDetail\n",
      "\n",
      "\n",
      "https://www.seloger.com/annonces/locations/appartement/paris-11eme-75/nation-alexandre-dumas/155711407.htm?projects=1&types=1&places=[{ci:750105}|{ci:750111}|{ci:940067}|{ci:940080}|{idq:133102}|{idq:133103}|{idq:133104}|{idq:133105}|{idq:133106}|{idq:133107}|{idq:133108}|{idq:133109}|{idq:133110}|{idq:133111}|{idq:133112}|{idq:133113}|{idq:133114}|{idq:133115}|{idq:133764}]&surface=20/NaN&rooms=1&sort=d_dt_crea&picture=15&qsVersion=1.0&bd=ListToDetail\n",
      "\n",
      "\n",
      "https://www.seloger.com/annonces/locations/appartement/paris-11eme-75/leon-blum-folie-regnault/159153475.htm?projects=1&types=1&places=[{ci:750105}|{ci:750111}|{ci:940067}|{ci:940080}|{idq:133102}|{idq:133103}|{idq:133104}|{idq:133105}|{idq:133106}|{idq:133107}|{idq:133108}|{idq:133109}|{idq:133110}|{idq:133111}|{idq:133112}|{idq:133113}|{idq:133114}|{idq:133115}|{idq:133764}]&surface=20/NaN&rooms=1&sort=d_dt_crea&picture=15&qsVersion=1.0&bd=ListToDetail\n",
      "\n",
      "\n",
      "https://www.seloger.com/annonces/locations/appartement/paris-12eme-75/vallee-de-fecamp/159153483.htm?projects=1&types=1&places=[{ci:750105}|{ci:750111}|{ci:940067}|{ci:940080}|{idq:133102}|{idq:133103}|{idq:133104}|{idq:133105}|{idq:133106}|{idq:133107}|{idq:133108}|{idq:133109}|{idq:133110}|{idq:133111}|{idq:133112}|{idq:133113}|{idq:133114}|{idq:133115}|{idq:133764}]&surface=20/NaN&rooms=1&sort=d_dt_crea&picture=15&qsVersion=1.0&bd=ListToDetail\n",
      "\n",
      "\n",
      "https://www.seloger.com/annonces/locations/appartement/paris-12eme-75/jardin-de-reuilly/159148805.htm?projects=1&types=1&places=[{ci:750105}|{ci:750111}|{ci:940067}|{ci:940080}|{idq:133102}|{idq:133103}|{idq:133104}|{idq:133105}|{idq:133106}|{idq:133107}|{idq:133108}|{idq:133109}|{idq:133110}|{idq:133111}|{idq:133112}|{idq:133113}|{idq:133114}|{idq:133115}|{idq:133764}]&surface=20/NaN&rooms=1&sort=d_dt_crea&picture=15&qsVersion=1.0&bd=ListToDetail\n",
      "\n",
      "\n",
      "https://www.seloger.com/annonces/locations/appartement/paris-11eme-75/bastille-popincourt/159145879.htm?projects=1&types=1&places=[{ci:750105}|{ci:750111}|{ci:940067}|{ci:940080}|{idq:133102}|{idq:133103}|{idq:133104}|{idq:133105}|{idq:133106}|{idq:133107}|{idq:133108}|{idq:133109}|{idq:133110}|{idq:133111}|{idq:133112}|{idq:133113}|{idq:133114}|{idq:133115}|{idq:133764}]&surface=20/NaN&rooms=1&sort=d_dt_crea&picture=15&qsVersion=1.0&bd=ListToDetail\n",
      "\n",
      "\n",
      "https://www.seloger.com/annonces/locations/appartement/paris-13eme-75/nationale-deux-moulins/159144335.htm?projects=1&types=1&places=[{ci:750105}|{ci:750111}|{ci:940067}|{ci:940080}|{idq:133102}|{idq:133103}|{idq:133104}|{idq:133105}|{idq:133106}|{idq:133107}|{idq:133108}|{idq:133109}|{idq:133110}|{idq:133111}|{idq:133112}|{idq:133113}|{idq:133114}|{idq:133115}|{idq:133764}]&surface=20/NaN&rooms=1&sort=d_dt_crea&picture=15&qsVersion=1.0&bd=ListToDetail\n",
      "\n",
      "\n",
      "https://www.seloger.com/annonces/locations/appartement/paris-12eme-75/bel-air-sud/159143997.htm?projects=1&types=1&places=[{ci:750105}|{ci:750111}|{ci:940067}|{ci:940080}|{idq:133102}|{idq:133103}|{idq:133104}|{idq:133105}|{idq:133106}|{idq:133107}|{idq:133108}|{idq:133109}|{idq:133110}|{idq:133111}|{idq:133112}|{idq:133113}|{idq:133114}|{idq:133115}|{idq:133764}]&surface=20/NaN&rooms=1&sort=d_dt_crea&picture=15&qsVersion=1.0&bd=ListToDetail\n",
      "\n",
      "\n",
      "https://www.seloger.com/annonces/locations/appartement/vincennes-94/sorano-centre-ville/159140189.htm?projects=1&types=1&places=[{ci:750105}|{ci:750111}|{ci:940067}|{ci:940080}|{idq:133102}|{idq:133103}|{idq:133104}|{idq:133105}|{idq:133106}|{idq:133107}|{idq:133108}|{idq:133109}|{idq:133110}|{idq:133111}|{idq:133112}|{idq:133113}|{idq:133114}|{idq:133115}|{idq:133764}]&surface=20/NaN&rooms=1&sort=d_dt_crea&picture=15&qsVersion=1.0&bd=ListToDetail\n",
      "\n",
      "\n",
      "https://www.seloger.com/annonces/locations/appartement/paris-5eme-75/jardin-des-plantes/159135193.htm?projects=1&types=1&places=[{ci:750105}|{ci:750111}|{ci:940067}|{ci:940080}|{idq:133102}|{idq:133103}|{idq:133104}|{idq:133105}|{idq:133106}|{idq:133107}|{idq:133108}|{idq:133109}|{idq:133110}|{idq:133111}|{idq:133112}|{idq:133113}|{idq:133114}|{idq:133115}|{idq:133764}]&surface=20/NaN&rooms=1&sort=d_dt_crea&picture=15&qsVersion=1.0&bd=ListToDetail\n",
      "\n",
      "\n",
      "https://www.seloger.com/annonces/locations/appartement/paris-13eme-75/dunois-bibliotheque-jeanne-d-arc/159133015.htm?projects=1&types=1&places=[{ci:750105}|{ci:750111}|{ci:940067}|{ci:940080}|{idq:133102}|{idq:133103}|{idq:133104}|{idq:133105}|{idq:133106}|{idq:133107}|{idq:133108}|{idq:133109}|{idq:133110}|{idq:133111}|{idq:133112}|{idq:133113}|{idq:133114}|{idq:133115}|{idq:133764}]&surface=20/NaN&rooms=1&sort=d_dt_crea&picture=15&qsVersion=1.0&bd=ListToDetail\n",
      "\n",
      "\n",
      "https://www.seloger.com/annonces/locations/appartement/paris-11eme-75/republique-saint-ambroise/159131151.htm?projects=1&types=1&places=[{ci:750105}|{ci:750111}|{ci:940067}|{ci:940080}|{idq:133102}|{idq:133103}|{idq:133104}|{idq:133105}|{idq:133106}|{idq:133107}|{idq:133108}|{idq:133109}|{idq:133110}|{idq:133111}|{idq:133112}|{idq:133113}|{idq:133114}|{idq:133115}|{idq:133764}]&surface=20/NaN&rooms=1&sort=d_dt_crea&picture=15&qsVersion=1.0&bd=ListToDetail\n",
      "\n",
      "\n",
      "https://www.seloger.com/annonces/locations/appartement/paris-11eme-75/leon-blum-folie-regnault/159122441.htm?projects=1&types=1&places=[{ci:750105}|{ci:750111}|{ci:940067}|{ci:940080}|{idq:133102}|{idq:133103}|{idq:133104}|{idq:133105}|{idq:133106}|{idq:133107}|{idq:133108}|{idq:133109}|{idq:133110}|{idq:133111}|{idq:133112}|{idq:133113}|{idq:133114}|{idq:133115}|{idq:133764}]&surface=20/NaN&rooms=1&sort=d_dt_crea&picture=15&qsVersion=1.0&bd=ListToDetail\n",
      "\n",
      "\n",
      "https://www.seloger.com/annonces/locations/appartement/paris-13eme-75/nationale-deux-moulins/159121435.htm?projects=1&types=1&places=[{ci:750105}|{ci:750111}|{ci:940067}|{ci:940080}|{idq:133102}|{idq:133103}|{idq:133104}|{idq:133105}|{idq:133106}|{idq:133107}|{idq:133108}|{idq:133109}|{idq:133110}|{idq:133111}|{idq:133112}|{idq:133113}|{idq:133114}|{idq:133115}|{idq:133764}]&surface=20/NaN&rooms=1&sort=d_dt_crea&picture=15&qsVersion=1.0&bd=ListToDetail\n",
      "\n",
      "\n",
      "https://www.seloger.com/annonces/locations/appartement/paris-11eme-75/leon-blum-folie-regnault/159117195.htm?projects=1&types=1&places=[{ci:750105}|{ci:750111}|{ci:940067}|{ci:940080}|{idq:133102}|{idq:133103}|{idq:133104}|{idq:133105}|{idq:133106}|{idq:133107}|{idq:133108}|{idq:133109}|{idq:133110}|{idq:133111}|{idq:133112}|{idq:133113}|{idq:133114}|{idq:133115}|{idq:133764}]&surface=20/NaN&rooms=1&sort=d_dt_crea&picture=15&qsVersion=1.0&bd=ListToDetail\n",
      "\n",
      "\n",
      "https://www.seloger.com/annonces/locations/appartement/paris-11eme-75/leon-blum-folie-regnault/159111619.htm?projects=1&types=1&places=[{ci:750105}|{ci:750111}|{ci:940067}|{ci:940080}|{idq:133102}|{idq:133103}|{idq:133104}|{idq:133105}|{idq:133106}|{idq:133107}|{idq:133108}|{idq:133109}|{idq:133110}|{idq:133111}|{idq:133112}|{idq:133113}|{idq:133114}|{idq:133115}|{idq:133764}]&surface=20/NaN&rooms=1&sort=d_dt_crea&picture=15&qsVersion=1.0&bd=ListToDetail\n",
      "\n",
      "\n",
      "https://www.seloger.com/annonces/locations/appartement/paris-13eme-75/dunois-bibliotheque-jeanne-d-arc/159111407.htm?projects=1&types=1&places=[{ci:750105}|{ci:750111}|{ci:940067}|{ci:940080}|{idq:133102}|{idq:133103}|{idq:133104}|{idq:133105}|{idq:133106}|{idq:133107}|{idq:133108}|{idq:133109}|{idq:133110}|{idq:133111}|{idq:133112}|{idq:133113}|{idq:133114}|{idq:133115}|{idq:133764}]&surface=20/NaN&rooms=1&sort=d_dt_crea&picture=15&qsVersion=1.0&bd=ListToDetail\n",
      "\n",
      "\n",
      "https://www.seloger.com/annonces/locations/appartement/paris-13eme-75/dunois-bibliotheque-jeanne-d-arc/159029323.htm?projects=1&types=1&places=[{ci:750105}|{ci:750111}|{ci:940067}|{ci:940080}|{idq:133102}|{idq:133103}|{idq:133104}|{idq:133105}|{idq:133106}|{idq:133107}|{idq:133108}|{idq:133109}|{idq:133110}|{idq:133111}|{idq:133112}|{idq:133113}|{idq:133114}|{idq:133115}|{idq:133764}]&surface=20/NaN&rooms=1&sort=d_dt_crea&picture=15&qsVersion=1.0&bd=ListToDetail\n",
      "\n",
      "\n",
      "https://www.seloger.com/annonces/locations/appartement/paris-11eme-75/leon-blum-folie-regnault/159110739.htm?projects=1&types=1&places=[{ci:750105}|{ci:750111}|{ci:940067}|{ci:940080}|{idq:133102}|{idq:133103}|{idq:133104}|{idq:133105}|{idq:133106}|{idq:133107}|{idq:133108}|{idq:133109}|{idq:133110}|{idq:133111}|{idq:133112}|{idq:133113}|{idq:133114}|{idq:133115}|{idq:133764}]&surface=20/NaN&rooms=1&sort=d_dt_crea&picture=15&qsVersion=1.0&bd=ListToDetail\n",
      "\n",
      "\n",
      "https://www.seloger.com/annonces/locations/appartement/paris-11eme-75/republique-saint-ambroise/159103113.htm?projects=1&types=1&places=[{ci:750105}|{ci:750111}|{ci:940067}|{ci:940080}|{idq:133102}|{idq:133103}|{idq:133104}|{idq:133105}|{idq:133106}|{idq:133107}|{idq:133108}|{idq:133109}|{idq:133110}|{idq:133111}|{idq:133112}|{idq:133113}|{idq:133114}|{idq:133115}|{idq:133764}]&surface=20/NaN&rooms=1&sort=d_dt_crea&picture=15&qsVersion=1.0&bd=ListToDetail\n",
      "\n",
      "\n",
      "https://www.seloger.com/annonces/locations/appartement/paris-11eme-75/bastille-popincourt/159102961.htm?projects=1&types=1&places=[{ci:750105}|{ci:750111}|{ci:940067}|{ci:940080}|{idq:133102}|{idq:133103}|{idq:133104}|{idq:133105}|{idq:133106}|{idq:133107}|{idq:133108}|{idq:133109}|{idq:133110}|{idq:133111}|{idq:133112}|{idq:133113}|{idq:133114}|{idq:133115}|{idq:133764}]&surface=20/NaN&rooms=1&sort=d_dt_crea&picture=15&qsVersion=1.0&bd=ListToDetail\n",
      "\n",
      "\n",
      "https://www.seloger.com/annonces/locations/appartement/paris-13eme-75/buttes-aux-cailles-glaciere/159100275.htm?projects=1&types=1&places=[{ci:750105}|{ci:750111}|{ci:940067}|{ci:940080}|{idq:133102}|{idq:133103}|{idq:133104}|{idq:133105}|{idq:133106}|{idq:133107}|{idq:133108}|{idq:133109}|{idq:133110}|{idq:133111}|{idq:133112}|{idq:133113}|{idq:133114}|{idq:133115}|{idq:133764}]&surface=20/NaN&rooms=1&sort=d_dt_crea&picture=15&qsVersion=1.0&bd=ListToDetail\n",
      "\n",
      "\n",
      "https://www.seloger.com/annonces/locations/appartement/paris-12eme-75/jardin-de-reuilly/159099975.htm?projects=1&types=1&places=[{ci:750105}|{ci:750111}|{ci:940067}|{ci:940080}|{idq:133102}|{idq:133103}|{idq:133104}|{idq:133105}|{idq:133106}|{idq:133107}|{idq:133108}|{idq:133109}|{idq:133110}|{idq:133111}|{idq:133112}|{idq:133113}|{idq:133114}|{idq:133115}|{idq:133764}]&surface=20/NaN&rooms=1&sort=d_dt_crea&picture=15&qsVersion=1.0&bd=ListToDetail\n",
      "\n",
      "\n",
      "https://www.seloger.com/annonces/locations/appartement/vincennes-94/sorano-centre-ville/159099393.htm?projects=1&types=1&places=[{ci:750105}|{ci:750111}|{ci:940067}|{ci:940080}|{idq:133102}|{idq:133103}|{idq:133104}|{idq:133105}|{idq:133106}|{idq:133107}|{idq:133108}|{idq:133109}|{idq:133110}|{idq:133111}|{idq:133112}|{idq:133113}|{idq:133114}|{idq:133115}|{idq:133764}]&surface=20/NaN&rooms=1&sort=d_dt_crea&picture=15&qsVersion=1.0&bd=ListToDetail\n",
      "\n",
      "\n",
      "https://www.seloger.com/annonces/locations/appartement/paris-11eme-75/belleville-saint-maur/159097487.htm?projects=1&types=1&places=[{ci:750105}|{ci:750111}|{ci:940067}|{ci:940080}|{idq:133102}|{idq:133103}|{idq:133104}|{idq:133105}|{idq:133106}|{idq:133107}|{idq:133108}|{idq:133109}|{idq:133110}|{idq:133111}|{idq:133112}|{idq:133113}|{idq:133114}|{idq:133115}|{idq:133764}]&surface=20/NaN&rooms=1&sort=d_dt_crea&picture=15&qsVersion=1.0&bd=ListToDetail\n",
      "\n",
      "\n"
     ]
    }
   ],
   "source": [
    "for result in results:\n",
    "    print(result.find_all('a', class_='CoveringLink-a3s3kt-0 dXJclF')[0].get('href'))\n",
    "    print('\\n')"
   ]
  },
  {
   "cell_type": "code",
   "execution_count": null,
   "metadata": {},
   "outputs": [],
   "source": []
  }
 ],
 "metadata": {
  "kernelspec": {
   "display_name": "venv",
   "language": "python",
   "name": "venv"
  },
  "language_info": {
   "codemirror_mode": {
    "name": "ipython",
    "version": 3
   },
   "file_extension": ".py",
   "mimetype": "text/x-python",
   "name": "python",
   "nbconvert_exporter": "python",
   "pygments_lexer": "ipython3",
   "version": "3.7.4"
  }
 },
 "nbformat": 4,
 "nbformat_minor": 2
}
