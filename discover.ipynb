{
 "cells": [
  {
   "cell_type": "code",
   "execution_count": 499,
   "metadata": {},
   "outputs": [],
   "source": [
    "import pandas as pd\n",
    "import numpy as np\n",
    "from bs4 import BeautifulSoup\n",
    "import requests\n",
    "import re"
   ]
  },
  {
   "cell_type": "markdown",
   "metadata": {},
   "source": [
    "# Scraping a property page\n",
    "This is a discovery notebook. It contains script that scrape a property page of the website seloger.com.\\\n",
    "From a page we can extract several features of the flat:\n",
    "\n",
    "- Title\n",
    "- URL (used a primary key)\n",
    "- nom du quartier\n",
    "- arrondissement/ville\n",
    "- loyer (all inclusive)\n",
    "- taxes and fees\n",
    "- caution\n",
    "- evolution des prix (si disponible)\n",
    "- nb de pieces\n",
    "- nb de m2\n",
    "- \"L'avis du professionel\"\n",
    "- Description de l'appart (general, interieur et autres)\n",
    "- Diagnostic de performance energetique (note et kWhEP/m².an)"
   ]
  },
  {
   "cell_type": "code",
   "execution_count": 500,
   "metadata": {},
   "outputs": [],
   "source": [
    "url = \"https://www.seloger.com/annonces/locations/appartement/paris-11eme-75/nation-alexandre-dumas/155711407.htm?projects=1&types=1&places=[{ci:750105}|{ci:750111}|{ci:940067}|{ci:940080}|{idq:133102}|{idq:133103}|{idq:133104}|{idq:133105}|{idq:133106}|{idq:133107}|{idq:133108}|{idq:133109}|{idq:133110}|{idq:133111}|{idq:133112}|{idq:133113}|{idq:133114}|{idq:133115}|{idq:133764}]&surface=20/NaN&rooms=1&sort=d_dt_crea&picture=15&qsVersion=1.0&bd=ListToDetail\""
   ]
  },
  {
   "cell_type": "code",
   "execution_count": 501,
   "metadata": {},
   "outputs": [],
   "source": [
    "header = {\"user-agent\": \"Mozilla/5.0 (Windows NT 10.0; Win64; x64) AppleWebKit/537.36 (KHTML, like Gecko) Chrome/74.0.3729.169 Safari/537.36\" ,'referer':'https://www.google.com/'}\n",
    "response = requests.get(url, headers=headers)\n",
    "soup = BeautifulSoup(response.text,\"html.parser\")"
   ]
  },
  {
   "cell_type": "markdown",
   "metadata": {},
   "source": [
    "#### Comment:\n",
    "Adding headers enables to avoid being detected as a bot when querying the webpage. When querying this website without headers, the response contains a captcha"
   ]
  },
  {
   "cell_type": "code",
   "execution_count": 502,
   "metadata": {
    "scrolled": true
   },
   "outputs": [
    {
     "name": "stdout",
     "output_type": "stream",
     "text": [
      "<main>\n",
      " <div class=\"SubHeaderstyled__SubHeaderWrapper-sc-1s8qndx-0 htLyZj\">\n",
      "  <a class=\"SubHeaderstyled__Link-sc-1s8qndx-3 SubHeaderstyled__ReturnToResultsLink-sc-1s8qndx-4 iwDGaU\" href=\"https://www.seloger.com/list.htm?projects=1&amp;types=1&amp;places=[%7Bci:750105%7D%7C%7Bci:750111%7D%7C%7Bci:940067%7D%7C%7Bci:940080%7D%7C%7Bidq:133102%7D%7C%7Bidq:133103%7D%7C%7Bidq:133104%7D%7C%7Bidq:133105%7D%7C%7Bidq:133106%7D%7C%7Bidq:133107%7D%7C%7Bidq:133108%7D%7C%7Bidq:133109%7D%7C%7Bidq:133110%7D%7C%7Bidq:133111%7D%7C%7Bidq:133112%7D%7C%7Bidq:133113%7D%7C%7Bidq:133114%7D%7C%7Bidq:133115%7D%7C%7Bidq:133764%7D]&amp;surface=20/NaN&amp;rooms=1&amp;sort=d_dt_crea&amp;picture=15&amp;qsVersion=1.0&amp;bd=ListToDetail\">\n",
      "   <div class=\"Icon__IconElement-sc-1xnn3zd-0 jGTLkV\" data-test=\"sl-ui.icon\">\n",
      "    <svg viewbox=\"0 0 512 512\">\n",
      "     <path d=\"M483.8 241.7L67.3 239l85.4-93.4c6.4-7 5.9-18-1.1-24.4-7-6.4-18-5.9-24.4 1.1l-111.7 122c-2.9 3.2-4.5 7.3-4.5 11.5 0 .2.1.3.1.5 0 2 .4 4 1.1 5.9.4.8.9 1.6 1.4 2.4.4 1 1 1.9 1.6 2.8l107.1 122.2c6.4 7.1 17.4 7.6 24.4 1.2 6.9-6.3 7.6-16.8 1.6-24l-81.7-93.2 416.9 2.8h.1c9.5 0 17.3-7.7 17.3-17.2.2-9.7-7.5-17.4-17.1-17.5z\">\n",
      "     </path>\n",
      "    </svg>\n",
      "   </div>\n",
      "   <div class=\"SubHeaderstyled__LinkText-sc-1s8qndx-2 hWfldW\">\n",
      "    <span>\n",
      "     Retour aux\n",
      "    </span>\n",
      "    résultats\n",
      "   </div>\n",
      "  </a>\n",
      "  <div class=\"SubHeaderstyled__RightContent-sc-1s8qndx-1 cGypx\">\n",
      "   <div class=\"SubHeaderstyled__AbuseRefGroup-sc-1s8qndx-5 jsbQpD\">\n",
      "    <div class=\"SubHeaderstyled__DotButton-sc-1s8qndx-6 hdESIA\" data-test=\"dot-button\">\n",
      "     <div class=\"Icon__IconElement-sc-1xnn3zd-0 jGTLkV\" data-test=\"sl-ui.icon\">\n",
      "      <svg viewbox=\"0 0 512 512\">\n",
      "       <path d=\"M427.9 192.9c-32 0-57.9 25.9-57.9 57.9s25.9 57.9 57.9 57.9 57.9-25.9 57.9-57.9-25.9-57.9-57.9-57.9zm0 87c-16.1 0-29.2-13-29.2-29.1s13-29.2 29.1-29.2 29.2 13 29.2 29.1c0 16.2-13 29.2-29.1 29.2zM259 192.9c-32 0-57.9 25.9-57.9 57.9s25.9 57.9 57.9 57.9 57.9-25.9 57.9-57.9-25.9-57.9-57.9-57.9zm0 87c-16.1 0-29.1-13.1-29.1-29.2s13.1-29.1 29.2-29.1 29.1 13.1 29.1 29.2c-.1 16.1-13.1 29.1-29.2 29.1zM93.8 192.9c-32 0-57.9 25.9-57.9 57.9s25.9 57.9 57.9 57.9 57.9-25.9 57.9-57.9-26-57.9-57.9-57.9zm0 87c-16.1 0-29.1-13.1-29.1-29.2s13.1-29.1 29.2-29.1 29.1 13.1 29.1 29.1c-.1 16.2-13.1 29.2-29.2 29.2z\">\n",
      "       </path>\n",
      "      </svg>\n",
      "     </div>\n",
      "    </div>\n",
      "    <div class=\"SubHeaderstyled__DesktopAbuseRef-sc-1s8qndx-9 ebgMbT\">\n",
      "     <div class=\"SubHeaderstyled__Reference-sc-1s8qndx-7 sWNHa\">\n",
      "      Réf. annonce :\n",
      "      <!-- -->\n",
      "      6307_512\n",
      "     </div>\n",
      "    </div>\n",
      "   </div>\n",
      "   <button class=\"aliButton AliButton__StyledButton-sc-1odesab-0 fBBJwS Button__StyledButton-fl6j-2 dApzXu\" data-test=\"sl-ui.button\" disabled=\"\" format=\"collapsable\">\n",
      "    <div class=\"Button__ButtonIcon-fl6j-0 hOhti Icon__IconElement-sc-1xnn3zd-0 jGTLkV\" data-test=\"sl-ui.icon\">\n",
      "     <svg viewbox=\"0 0 512 512\">\n",
      "      <path d=\"M120.8 388.9h269.8c-26.5-40.8-26.5-102.7-26.5-130.1v-49.3c-.1-57.9-48.4-104.9-108.1-105.3-28.8-.4-56.5 10.5-77.3 30.4-20.4 19.5-31.8 46.6-31.6 74.8v49.3c3 45-6.1 89.9-26.3 130.2zm163.3 38.5h-56.2v1c0 15 12.6 27.2 28.1 27.2s28.1-12.2 28.1-27.2v-1zm-8.2-360.5c72.6 9.4 128.7 69.6 128.8 142.5v49.3c0 130.1 42.4 130.1 56.4 130.1 11 0 19.9 8.6 19.9 19.3s-8.9 19.2-19.9 19.2H323.8v1c.1 17.6-7 34.4-19.7 46.6-27 25.5-69.2 25.5-96.3 0a64.02 64.02 0 0 1-19.7-46.6v-1H50.9c-11 0-19.9-8.6-19.9-19.2s8.9-19.3 19.9-19.3c37.6 0 56.4-43.9 56.4-130.1v-49.3c-.3-38.5 15.4-75.5 43.2-102.1 23.4-22.5 53.4-36.7 85.6-40.5V36.9c0-10.6 8.9-19.2 19.9-19.2s19.9 8.6 19.9 19.2v30z\">\n",
      "      </path>\n",
      "     </svg>\n",
      "    </div>\n",
      "    <span class=\"Button__ButtonText-fl6j-1 gdQzAO\">\n",
      "     Enregistrer ma recherche\n",
      "    </span>\n",
      "   </button>\n",
      "  </div>\n",
      " </div>\n",
      " <div class=\"SubHeaderstyled__SubHeaderLine-sc-1s8qndx-11 ipOURe\">\n",
      " </div>\n",
      " <div class=\"app__CWrap-aroj7e-1 gkJnPi\">\n",
      "  <div class=\"TitleGroup__TitleGroupContainer-sc-1e7eo7o-0 gpNaTb\">\n",
      "   <h1 class=\"Title__ShowcaseTitleContainer-sc-4479bn-0 bNeEKl\">\n",
      "    Location Appartement 21,37m² Paris 11ème - Nation-Alexandre Dumas\n",
      "   </h1>\n",
      "  </div>\n",
      "  <div class=\"app__CWrapTwoColumns-aroj7e-2 goSAzs\">\n",
      "   <div class=\"app__CWrapMain-aroj7e-3 FfHMD\" data-test=\"main-content\">\n",
      "    <div class=\"EstateResume__EstateResumeContainer-sc-1dv8dy9-0 hPfkHZ\" id=\"top\">\n",
      "     <div class=\"TabMedia__TabMediaContainer-sc-1hx6f18-3 ASadv\">\n",
      "      <div class=\"TabMedia__ItemContainer-sc-1hx6f18-1 hfilId\">\n",
      "       <button class=\"selected TabMedia__Content-sc-1hx6f18-2 cSnKBH\">\n",
      "        Photos\n",
      "       </button>\n",
      "       <div class=\"selected TabMedia__ArrowDown-sc-1hx6f18-0 hrHCGE\">\n",
      "       </div>\n",
      "      </div>\n",
      "      <div class=\"TabMedia__ItemContainer-sc-1hx6f18-1 hfilId\">\n",
      "       <button class=\"TabMedia__Content-sc-1hx6f18-2 cSnKBH\">\n",
      "        Quartier\n",
      "       </button>\n",
      "       <div class=\"TabMedia__ArrowDown-sc-1hx6f18-0 hrHCGE\">\n",
      "       </div>\n",
      "      </div>\n",
      "     </div>\n",
      "     <div class=\"VideoPlayerManager__OverlayMediaSlider-sc-14krvpq-0 fGiEqY\" data-test=\"media-block\">\n",
      "      <div class=\"Slide__ShowcaseMediaSlide-sc-8kj5lh-0 carousel-photos-annonce-undefined swiper-container SliderContainer__ShowcaseMediaSliderContainer-sc-15p22w5-0 hmULuE\">\n",
      "       <div class=\"swiper-wrapper\">\n",
      "        <div class=\"Slide__ShowcaseMediaSlide-sc-8kj5lh-0 first-slide swiper-slide SliderPhotos__BlurryWrapper-sc-1ccxqd2-0 cyeVHg\">\n",
      "         <div class=\"SliderPhotos__LazyImage-sc-1ccxqd2-1 SliderPhotos__Image-sc-1ccxqd2-2 bAWxqF\">\n",
      "         </div>\n",
      "        </div>\n",
      "        <div class=\"Slide__ShowcaseMediaSlide-sc-8kj5lh-0 swiper-slide SliderPhotos__BlurryWrapper-sc-1ccxqd2-0 cyeVHg\">\n",
      "         <div class=\"swiper-lazy SliderPhotos__LazyImage-sc-1ccxqd2-1 bksYzg\" data-background=\"https://v.seloger.com/s/width/800/visuels/1/r/l/8/1rl8dklq6jn6ngkszxvygrg5dwyuyt6w7fmr5n49e.jpg\">\n",
      "          <div class=\"swiper-lazy-preloader\">\n",
      "          </div>\n",
      "         </div>\n",
      "        </div>\n",
      "        <div class=\"Slide__ShowcaseMediaSlide-sc-8kj5lh-0 swiper-slide SliderPhotos__BlurryWrapper-sc-1ccxqd2-0 cyeVHg\">\n",
      "         <div class=\"swiper-lazy SliderPhotos__LazyImage-sc-1ccxqd2-1 bksYzg\" data-background=\"https://v.seloger.com/s/width/800/visuels/1/4/i/h/14ih5644qypfhgezmfhd8wcqnaq8jrfblkro6eb82.jpg\">\n",
      "          <div class=\"swiper-lazy-preloader\">\n",
      "          </div>\n",
      "         </div>\n",
      "        </div>\n",
      "        <div class=\"Slide__ShowcaseMediaSlide-sc-8kj5lh-0 swiper-slide SliderPhotos__BlurryWrapper-sc-1ccxqd2-0 cyeVHg\">\n",
      "         <div class=\"swiper-lazy SliderPhotos__LazyImage-sc-1ccxqd2-1 bksYzg\" data-background=\"https://v.seloger.com/s/width/800/visuels/1/b/x/p/1bxplsaa43oosagmixvoo6uys12ypecddejpo0biq.jpg\">\n",
      "          <div class=\"swiper-lazy-preloader\">\n",
      "          </div>\n",
      "         </div>\n",
      "        </div>\n",
      "        <div class=\"Slide__ShowcaseMediaSlide-sc-8kj5lh-0 swiper-slide SliderPhotos__BlurryWrapper-sc-1ccxqd2-0 cyeVHg\">\n",
      "         <div class=\"swiper-lazy SliderPhotos__LazyImage-sc-1ccxqd2-1 bksYzg\" data-background=\"https://v.seloger.com/s/width/800/visuels/1/0/2/9/1029ah13755wlyw5paj0m6vwkptn2w4pbwhm90aix.jpg\">\n",
      "          <div class=\"swiper-lazy-preloader\">\n",
      "          </div>\n",
      "         </div>\n",
      "        </div>\n",
      "        <div class=\"Slide__ShowcaseMediaSlide-sc-8kj5lh-0 swiper-slide SliderPhotos__BlurryWrapper-sc-1ccxqd2-0 cyeVHg\">\n",
      "         <div class=\"swiper-lazy SliderPhotos__LazyImage-sc-1ccxqd2-1 bksYzg\" data-background=\"https://v.seloger.com/s/width/800/visuels/1/e/3/5/1e359veasapt96t7167nxvg9fpjep7r9r8pcs1mww.jpg\">\n",
      "          <div class=\"swiper-lazy-preloader\">\n",
      "          </div>\n",
      "         </div>\n",
      "        </div>\n",
      "        <div class=\"Slide__ShowcaseMediaSlide-sc-8kj5lh-0 swiper-slide SliderPhotos__BlurryWrapper-sc-1ccxqd2-0 lkSQlt\">\n",
      "         <div class=\"swiper-lazy SliderPhotos__LazyImage-sc-1ccxqd2-1 dMgTYO\" data-background=\"https://v.seloger.com/s/height/800/visuels/1/9/v/o/19vo3z6fe5vc5eefdpen77awgb7jz4lzrn9igpfso.jpg\">\n",
      "          <div class=\"swiper-lazy-preloader\">\n",
      "          </div>\n",
      "         </div>\n",
      "        </div>\n",
      "        <div class=\"Slide__ShowcaseMediaSlide-sc-8kj5lh-0 swiper-slide SliderPhotos__BlurryWrapper-sc-1ccxqd2-0 cyeVHg\">\n",
      "         <div class=\"swiper-lazy SliderPhotos__LazyImage-sc-1ccxqd2-1 bksYzg\" data-background=\"https://v.seloger.com/s/width/800/visuels/1/h/6/5/1h6539hlj43iex060p6dbgqnpc65y21wr4oksbdqq.jpg\">\n",
      "          <div class=\"swiper-lazy-preloader\">\n",
      "          </div>\n",
      "         </div>\n",
      "        </div>\n",
      "        <div class=\"Slide__ShowcaseMediaSlide-sc-8kj5lh-0 swiper-slide SliderPhotos__BlurryWrapper-sc-1ccxqd2-0 cyeVHg\">\n",
      "         <div class=\"swiper-lazy SliderPhotos__LazyImage-sc-1ccxqd2-1 bksYzg\" data-background=\"https://v.seloger.com/s/width/800/visuels/0/z/3/p/0z3p2r92wlpjibd6aqke39yuzz89uuucbmahz9trq.jpg\">\n",
      "          <div class=\"swiper-lazy-preloader\">\n",
      "          </div>\n",
      "         </div>\n",
      "        </div>\n",
      "        <div class=\"Slide__ShowcaseMediaSlide-sc-8kj5lh-0 swiper-slide SliderPhotos__BlurryWrapper-sc-1ccxqd2-0 cyeVHg\">\n",
      "         <div class=\"swiper-lazy SliderPhotos__LazyImage-sc-1ccxqd2-1 bksYzg\" data-background=\"https://v.seloger.com/s/width/800/visuels/1/i/3/0/1i30spag89lu1iaf3g0v93h8jr1b2q4p82hke5efm.jpg\">\n",
      "          <div class=\"swiper-lazy-preloader\">\n",
      "          </div>\n",
      "         </div>\n",
      "        </div>\n",
      "        <div class=\"Slide__ShowcaseMediaSlide-sc-8kj5lh-0 swiper-slide SliderPhotos__BlurryWrapper-sc-1ccxqd2-0 cyeVHg\">\n",
      "         <div class=\"swiper-lazy SliderPhotos__LazyImage-sc-1ccxqd2-1 bksYzg\" data-background=\"https://v.seloger.com/s/width/800/visuels/0/w/c/6/0wc6rvgc43rxu1q48ytlijz8hj7cm1k6504xguatu.jpg\">\n",
      "          <div class=\"swiper-lazy-preloader\">\n",
      "          </div>\n",
      "         </div>\n",
      "        </div>\n",
      "        <div class=\"Slide__ShowcaseMediaSlide-sc-8kj5lh-0 swiper-slide contact-slide ContactSlide__Container-sc-84ak3l-0 gGoINd\">\n",
      "         <div class=\"ContactSlide__Wrapper-sc-84ak3l-1 gRgltr\">\n",
      "          <div class=\"ContactSlide__Label-sc-84ak3l-2 fglohu\">\n",
      "           Ce bien vous intéresse ?\n",
      "          </div>\n",
      "          <div class=\"ContactSlide__ButtonWrapper-sc-84ak3l-3 eLTXpG\">\n",
      "           <button class=\"phone-button Button__StyledButton-fl6j-2 duIBCg\" data-test=\"sl-ui.button\" format=\"normal\" style=\"min-width:250px\">\n",
      "            <div class=\"Button__ButtonIcon-fl6j-0 hOhti Icon__IconElement-sc-1xnn3zd-0 jGTLkV\" data-test=\"sl-ui.icon\">\n",
      "             <svg viewbox=\"0 0 512 512\">\n",
      "              <g>\n",
      "               <path d=\"M391.3 382.7c-68.4-69.2-73.8-72.7-76.6-74.4-12.7-7.9-26.2-6.8-40.3 3.3-3 2.2-16.9 12.7-23.3 27.3-1.3-.6-2.5-1.2-3.7-1.9-12.6-7.3-25.8-17.9-39.3-31.6l-3.1-3.1c-13.5-13.7-23.9-27.1-30.9-39.7-.7-1.2-1.3-2.5-1.8-3.8 14.5-6.1 25.4-19.9 27.6-22.8 10.5-13.9 11.9-27.4 4.1-40.4-1.6-2.7-5-8.2-73.2-77.7-7.9-8.2-18.9-12.8-30.3-12.6-9.8.5-19.2 4.2-26.7 10.7-19.5 16.4-29.9 38.1-35.2 53.5-4.3 12.6-6.8 25.7-7.6 39-4.8 78.3 41.7 142.9 81.5 183.4l.1.1 4.3 4.4c38.4 39.1 99.3 84.7 173.9 84.7 2.7 0 5.4-.1 8.1-.2 13.3-.5 26.5-2.8 39.2-6.9 15.5-5 37.5-15 54.2-34.3 6.8-7.9 10.6-17 11.1-26.4.4-11.5-4-22.5-12.1-30.6.1 0 0 0 0 0zm-205.6-55.4c15.5 15.7 31 28.1 46 36.8 5.9 3.6 12.5 6 19.3 7.1 8.7 1.3 13.7-.9 17.5-3 5.3-3.2 9-8.6 10.9-15.8 1.1-4.4 7.8-11.5 13.3-15.5 1-.7 2.3-2.5 4.9-2.5 1.8 1.4 12.3 10.4 71.3 70.1 2 1.8 3.1 4.4 3.1 7.1-.1 2.3-1.3 4.9-3.5 7.4-12 13.8-28.4 21.2-40.2 25-10 3.2-20.4 5-30.9 5.3-67.9 3-123-39.2-158.4-75.3l-2.1-2.1c-.8-.8-1.6-1.5-2.3-2.2l.1-.1C99.4 334 58.1 277.1 62.2 210.4c.6-10.5 2.6-20.8 5.9-30.8 4-11.6 11.7-27.9 25.7-39.6 2.6-2.2 5.1-3.3 7.5-3.4h.2c2.6.1 5.1 1.3 6.9 3.2 60.2 61.4 68 71.1 69.1 72.8-.1 1-1.9 3.4-2.7 4.5-4 5.4-11.2 11.9-15.6 13-7.3 1.7-12.7 5.3-16.3 10.9-1.9 3.1-4.3 8.2-3.1 17.2 1 6.8 3.3 13.4 6.8 19.4 8.4 15.1 20.5 30.8 36 46.5l3.1 3.2zM239.1 105.8c-8.5-.9-16.1 5.3-17 13.7v.5c-.8 8.6 5.5 16.2 14.1 17h.1c73 6.5 131 64.1 138 137 .8 8 7.5 14.2 15.6 14.2.5 0 1 0 1.5-.1 8.6-.8 14.9-8.5 14.1-17.1-8.6-87.9-78.5-157.3-166.4-165.2z\">\n",
      "               </path>\n",
      "               <path d=\"M407.5 104.2c-42-42-97.4-67.9-156.6-73.2-8.6-.8-16.2 5.6-17 14.2s5.6 16.2 14.2 17c106.4 9.5 191 93.4 201.3 199.8.8 8 7.5 14.2 15.6 14.2.5 0 1 0 1.5-.1 8.6-.8 14.9-8.5 14.1-17.1-5.7-58.5-31.6-113.2-73.1-154.8z\">\n",
      "               </path>\n",
      "              </g>\n",
      "             </svg>\n",
      "            </div>\n",
      "            <span class=\"Button__ButtonText-fl6j-1 gdQzAO\">\n",
      "             Téléphone\n",
      "            </span>\n",
      "           </button>\n",
      "           <button class=\"Button__StyledButton-fl6j-2 duIBCg\" data-test=\"sl-ui.button\" format=\"normal\" style=\"min-width:250px\">\n",
      "            <div class=\"Button__ButtonIcon-fl6j-0 hOhti Icon__IconElement-sc-1xnn3zd-0 jGTLkV\" data-test=\"sl-ui.icon\">\n",
      "             <svg viewbox=\"0 0 512 512\">\n",
      "              <path d=\"M449.07 431.55H64.33c-29.06 0-52.63-24.37-52.63-54.44v-245c0-30.07 23.57-54.44 52.63-54.44h384.74c29.07 0 52.63 24.37 52.63 54.44v245c0 30.07-23.56 54.44-52.63 54.44zm12.37-281.73L256.7 354.24 52 149.59v229.7a12.58 12.58 0 0 0 12.37 12.52h384.7a12.58 12.58 0 0 0 12.37-12.52zm-380.8-28.33L256.7 297.35 433 121.49z\" data-name=\"R/uEA51-B-enveloppe\">\n",
      "              </path>\n",
      "             </svg>\n",
      "            </div>\n",
      "            <span class=\"Button__ButtonText-fl6j-1 gdQzAO\">\n",
      "             Contactez l’agence\n",
      "            </span>\n",
      "           </button>\n",
      "          </div>\n",
      "         </div>\n",
      "        </div>\n",
      "       </div>\n",
      "       <div>\n",
      "       </div>\n",
      "       <div>\n",
      "        <div class=\"slider__LightSliderNav-sc-1nl56sf-0 prev-slide prev slider__Carroussel-sc-1nl56sf-2 hCubsj\">\n",
      "         <div class=\"slider__ItemContainer-sc-1nl56sf-1 onSCL\">\n",
      "          <div class=\"prev StyledIcon-vdo5jm-0 bBIEDK Icon__IconElement-sc-1xnn3zd-0 jfgHed\" color=\"#ffffff\" data-test=\"sl-ui.icon\">\n",
      "           <svg viewbox=\"0 0 512 512\">\n",
      "            <path d=\"M370 500.1c-3.7 0-7.2-1.5-9.7-4.1L128.5 256 360.2 16c5.3-5.3 13.8-5.4 19.1-.1 5.2 5.2 5.4 13.6.3 18.9L166.1 256l213.6 221.2c5.2 5.4 5 13.9-.3 19.1-2.5 2.5-5.9 3.8-9.4 3.8z\">\n",
      "            </path>\n",
      "           </svg>\n",
      "          </div>\n",
      "         </div>\n",
      "        </div>\n",
      "        <div class=\"slider__LightSliderNav-sc-1nl56sf-0 next-slide next slider__Carroussel-sc-1nl56sf-2 hCubsj\">\n",
      "         <div class=\"slider__ItemContainer-sc-1nl56sf-1 onSCL\">\n",
      "          <div class=\"next StyledIcon-vdo5jm-0 bBIEDK Icon__IconElement-sc-1xnn3zd-0 jfgHed\" color=\"#ffffff\" data-test=\"sl-ui.icon\">\n",
      "           <svg viewbox=\"0 0 512 512\">\n",
      "            <path d=\"M146.7 500.1c-7.5 0-13.5-6-13.5-13.5 0-3.5 1.4-6.9 3.8-9.4L350.6 256 137 34.8c-5-5.6-4.6-14.1 1-19.1 5.3-4.8 13.4-4.6 18.5.3l231.7 240-231.7 240c-2.6 2.6-6.1 4.1-9.8 4.1z\">\n",
      "            </path>\n",
      "           </svg>\n",
      "          </div>\n",
      "         </div>\n",
      "        </div>\n",
      "       </div>\n",
      "       <div class=\"swiper-pagination PagingDisplay__ShowcaseMediaPagingDisplay-dd16v3-0 fXlVHQ\">\n",
      "       </div>\n",
      "      </div>\n",
      "     </div>\n",
      "     <div class=\"Summarystyled__ShowcaseSummaryContainer-tzuaot-0 fPMvFK\" data-test=\"summary\">\n",
      "      <div class=\"BookmarkButtonstyled__MetaBookmarkButtonContainer-sc-1happ1v-1 fsDDYv\">\n",
      "       <div class=\"BookmarkButtonstyled__HeartIcon-sc-1happ1v-0 cjeTCp Icon__IconElement-sc-1xnn3zd-0 jbPwtO\" data-test=\"sl-ui.icon\">\n",
      "        <svg viewbox=\"0 0 512 512\">\n",
      "         <path d=\"M59.7 243.4l184.7 202.7c3.2 3.6 7.3 5.4 11.5 5.4s8.3-1.8 11.6-5.5l184.6-202.7c41.9-41.9 41.9-109.7 0-151.5-41.7-41.7-109.5-41.7-151.5.2l-35.3 34.4c-5.2 5.1-13.5 5.1-18.7 0l-35.4-34.5c-41.8-41.8-109.7-41.8-151.5 0s-41.8 109.6 0 151.5zM40.8 72.9c52.3-52.2 137.1-52.2 189.2-.1l26 25.3L281.8 73c52.3-52.3 137.1-52.3 189.4 0 52.3 52.3 52.3 137.1.4 188.9L287.4 464c-8.3 9.2-19.6 14.3-31.4 14.3-11.9 0-23.2-5.1-31.4-14.2l-184-202c-52.1-52.3-52-136.9.2-189.2z\">\n",
      "         </path>\n",
      "        </svg>\n",
      "       </div>\n",
      "       <div class=\"BookmarkButtonstyled__Label-sc-1happ1v-2 jGZKam\">\n",
      "        Sauvegarder\n",
      "       </div>\n",
      "       <div class=\"BookmarkButtonstyled__Updating-sc-1happ1v-3 bTHPIz\" data-test=\"spinner\">\n",
      "        <div class=\"Spinner__OuterBallPulse-sc-16m3fs5-0 fbcNDd\">\n",
      "         <div class=\"Spinner__InnerBallPulse-sc-16m3fs5-1 ieGjBx\">\n",
      "         </div>\n",
      "         <div class=\"Spinner__InnerBallPulse-sc-16m3fs5-1 ieGjBx\">\n",
      "         </div>\n",
      "         <div class=\"Spinner__InnerBallPulse-sc-16m3fs5-1 ieGjBx\">\n",
      "         </div>\n",
      "        </div>\n",
      "       </div>\n",
      "      </div>\n",
      "      <div class=\"Summarystyled__MainWrapper-tzuaot-1 erajXw\">\n",
      "       <div class=\"Summarystyled__TitleWrapper-tzuaot-2 dcMWBS\">\n",
      "        <div class=\"Summarystyled__Title-tzuaot-3 dkepid\">\n",
      "         Appartement\n",
      "        </div>\n",
      "        <div class=\"Summarystyled__Exclusive-tzuaot-4 ebGsrv\">\n",
      "         Exclusivité\n",
      "        </div>\n",
      "        <div class=\"Summarystyled__Address-tzuaot-5 fLUFm\">\n",
      "         Quartier\n",
      "         <!-- -->\n",
      "         Nation-Alexandre Dumas\n",
      "         <!-- -->\n",
      "         ,\n",
      "         <!-- -->\n",
      "         Paris 11ème\n",
      "        </div>\n",
      "       </div>\n",
      "       <div class=\"Summarystyled__Price-tzuaot-6 dRGKzE\">\n",
      "        <div class=\"Summarystyled__PriceContainer-tzuaot-7 kEetHB\">\n",
      "         <div class=\"ArrowSign__UICircledArrow-sc-1mc8voz-1 dmXioN\">\n",
      "          <div class=\"ArrowSign__Arrow-sc-1mc8voz-0 nwNpD Icon__IconElement-sc-1xnn3zd-0 cVOlAc\" data-test=\"arrow-down\">\n",
      "           <svg viewbox=\"0 0 512 512\">\n",
      "            <path d=\"M484.8 493.8H271.7c-4.6 0-8.3-3.7-8.3-8.3 0-2.2.9-4.3 2.4-5.9l86.6-86.6L21.3 61.9c-11-11-11-28.9 0-39.9s28.9-11 39.9 0l331.1 331.1 86.6-86.6c1.6-1.5 3.7-2.4 5.9-2.4 1.1 0 2.2.2 3.2.6 3.1 1.3 5.1 4.3 5.1 7.7v213.1c0 4.6-3.7 8.3-8.3 8.3z\">\n",
      "            </path>\n",
      "           </svg>\n",
      "          </div>\n",
      "         </div>\n",
      "         <span class=\"Summarystyled__PriceText-tzuaot-10 ghsVOC\">\n",
      "          <span class=\"global-styles__TextNoWrap-sc-1aeotog-6 dVzJN\">\n",
      "           1 015 €\n",
      "          </span>\n",
      "          <span class=\"Summarystyled__PriceSuffixText-tzuaot-11 kVlptd\">\n",
      "           CC\n",
      "          </span>\n",
      "         </span>\n",
      "        </div>\n",
      "        <div class=\"summary-ads-link\">\n",
      "        </div>\n",
      "       </div>\n",
      "       <div class=\"Summarystyled__TagsWrapper-tzuaot-18 cgUaLi\">\n",
      "        <div class=\"TagsWithIcon__TagContainer-j1x9om-1 eiaFim\">\n",
      "         <div class=\"TagsWithIcon__CurrentIcon-j1x9om-0 jGcqmv Icon__IconElement-sc-1xnn3zd-0 jbPwtO\" data-test=\"sl-ui.icon\">\n",
      "          <svg viewbox=\"0 0 512 512\">\n",
      "           <g>\n",
      "            <path d=\"M368.6 27.6H132.1c-1.1-.1-2.2-.2-3.2-.2-13.3 0-24.1 10.8-24.1 24.1v335.3c0 9.4 5.4 17.9 13.9 21.9l149.9 69.8c12.1 5.6 26.4.4 32-11.7 1.5-3.2 2.2-6.6 2.2-10.1v-38.4h65.8c19.9 0 36.1-16.2 36.1-36.1V63.7c.1-19.9-16.1-36.1-36.1-36.1zm-89.8 429l-149.9-69.9V51.5l149.9 75v330.1zM380.7 382c0 6.6-5.4 12-12 12h-65.8V126.4c0-9.1-5.1-17.5-13.3-21.5L183.2 51.7h185.5c6.6 0 12 5.4 12 12V382z\">\n",
      "            </path>\n",
      "            <path d=\"M255.4 311.9c6.6 0 12-5.4 12.1-12v-48.2c0-6.7-5.4-12-12-12s-12 5.4-12 12v48.2c-.2 6.6 5.2 12 11.9 12z\">\n",
      "            </path>\n",
      "           </g>\n",
      "          </svg>\n",
      "         </div>\n",
      "         <div>\n",
      "          1 pièce\n",
      "         </div>\n",
      "        </div>\n",
      "        <div class=\"TagsWithIcon__TagContainer-j1x9om-1 eiaFim\">\n",
      "         <div class=\"TagsWithIcon__CurrentIcon-j1x9om-0 jGcqmv Icon__IconElement-sc-1xnn3zd-0 jbPwtO\" data-test=\"sl-ui.icon\">\n",
      "          <svg viewbox=\"0 0 512 512\">\n",
      "           <path d=\"M382 493.6H44.6c-7.2 0-13-5.8-13-13V117.3c0-7.2 5.8-13 13-13H382c7.2 0 13 5.8 13 13v363.3c0 7.2-5.8 13-13 13zM98.9 42.5h227v-25l67.9 34-67.9 34v-17h-227v19.2L31 53.7l67.9-34v22.8zm335.9 383.6v-254h-21.7l34-67.9 34 67.9h-20.4v254h20.2l-34 67.9-34-67.9h21.9zM369 467.6V130.3H57.6v337.4H369z\">\n",
      "           </path>\n",
      "          </svg>\n",
      "         </div>\n",
      "         <div>\n",
      "          21,37m²\n",
      "         </div>\n",
      "        </div>\n",
      "       </div>\n",
      "       <button class=\"Summarystyled__MapLink-tzuaot-14 AbtDy\" type=\"button\">\n",
      "        <img alt=\"Voir le bien sur la carte\" class=\"Summarystyled__BackgroundImage-tzuaot-15 Summarystyled__MobileMapImg-tzuaot-16 dNvVeI\" src=\"/annonces_resources/img/mobile-map.ext.svg\"/>\n",
      "        <img alt=\"Voir le bien sur la carte\" class=\"Summarystyled__BackgroundImage-tzuaot-15 Summarystyled__DesktopMapImg-tzuaot-17 fNOjCE\" src=\"/annonces_resources/img/desktop-map.ext.svg\"/>\n",
      "       </button>\n",
      "      </div>\n",
      "     </div>\n",
      "    </div>\n",
      "    <div class=\"NavBar__AnchorWrapper-sc-1h5esb7-0 NavBar__NavBarWrapper-sc-1h5esb7-1 jCShaq\">\n",
      "     <ul class=\"AnchorList__AnchorWrapper-sc-11u0e6u-1 jgKMfK\">\n",
      "      <li class=\"selected AnchorList__AnchorText-sc-11u0e6u-0 gbXRSh\">\n",
      "       <a class=\"AnchorList__NameText-sc-11u0e6u-2 eIOzib\" href=\"#top\">\n",
      "        Le bien\n",
      "       </a>\n",
      "      </li>\n",
      "      <li class=\"AnchorList__AnchorText-sc-11u0e6u-0 gbXRSh\">\n",
      "       <a class=\"AnchorList__NameText-sc-11u0e6u-2 eIOzib\" href=\"#centralContactForm\">\n",
      "        L'agence\n",
      "       </a>\n",
      "      </li>\n",
      "      <li class=\"AnchorList__AnchorText-sc-11u0e6u-0 gbXRSh\">\n",
      "       <a class=\"AnchorList__NameText-sc-11u0e6u-2 eIOzib\" href=\"#neighborhood\">\n",
      "        Le quartier\n",
      "       </a>\n",
      "      </li>\n",
      "     </ul>\n",
      "    </div>\n",
      "    <div class=\"banner-haute-habillage AdsWrapper__TopAdsWrapper-nyi8ot-1 hXDTBB\">\n",
      "    </div>\n",
      "    <section class=\"Showcase__ShowcaseTitledSection-sc-1y4y37c-0 ebzZDt TitledSection__TitledSectionContainer-sc-1rdkjev-0 iGhppP\" id=\"showcase-description\">\n",
      "     <h2 class=\"SectionTitle__TitleWrapper-dx8lqr-0 oHbpU\">\n",
      "      <div class=\"SectionTitle__Icon-dx8lqr-1 bZkDUm Icon__IconElement-sc-1xnn3zd-0 jbPwtO\" data-test=\"sl-ui.icon\">\n",
      "       <svg viewbox=\"0 0 512 512\">\n",
      "        <path d=\"M414.5 244.2L256 88.7 97.8 244v191.9h95.4v-85.4c.3-11.1 9.3-20 20.5-20.1H298c11.2-.1 20.3 8.9 20.4 20.1v85.4h96V244.2zm40.9 40.2V456c.1 5.4-2.1 10.5-5.9 14.3-3.9 3.8-9.1 5.9-14.5 5.8H298.5c-11.2.1-20.3-8.9-20.5-20.1v-85.4h-43.9V456c-.1 11.2-9.3 20.2-20.4 20.1H77.4c-11.2.1-20.4-8.9-20.5-20.1V284.1L46 294.8c-3.8 3.8-9.1 5.9-14.5 5.9-5.4.1-10.6-2.1-14.5-5.9-7.8-7.4-8.2-19.8-.7-27.6.2-.3.5-.5.7-.7L241.6 46.2c8.2-7.5 20.7-7.5 28.9 0l224.4 220.3c7.8 7.4 8.2 19.8.7 27.6-.2.3-.5.5-.7.7-8 7.8-20.9 7.8-28.9 0l-10.6-10.4z\">\n",
      "        </path>\n",
      "       </svg>\n",
      "      </div>\n",
      "      <!-- -->\n",
      "      À propos de cet appartement 1 pièce à Paris 11ème\n",
      "     </h2>\n",
      "     <div class=\"global-styles__WhiteBox-sc-1aeotog-2 global-styles__DescriptionWrapper-sc-1aeotog-5 czLMZl\">\n",
      "      <div class=\"TitledDescription__TitledDescriptionContainer-sc-1r4hqf5-0 fHzMfE\">\n",
      "       <h3 class=\"typography__TitleH3-sc-111kv7i-1 jrMlIh\">\n",
      "        L’avis du professionnel\n",
      "       </h3>\n",
      "       <div class=\"TitledDescription__TitledDescriptionContent-sc-1r4hqf5-1 koqVoo\">\n",
      "        <div class=\"\">\n",
      "         <div class=\"ShowMoreText__UITextContainer-sc-5ggbbc-0 hCeOyd\">\n",
      "          <p>\n",
      "           - Studio refait à neuf de 21.37 m²\n",
      "          </p>\n",
      "          <p>\n",
      "           - 303 rue du Faubourg Saint-Antoine\n",
      "          </p>\n",
      "          <p>\n",
      "           - 5ème étage avec ascenseur\n",
      "          </p>\n",
      "          <p>\n",
      "           - Balcon exposé Sud\n",
      "          </p>\n",
      "          <p>\n",
      "           - Rangements\n",
      "          </p>\n",
      "          <p>\n",
      "           - Parquet\n",
      "          </p>\n",
      "          <p>\n",
      "           - Four combiné\n",
      "          </p>\n",
      "          <p>\n",
      "           - Cuisine intégrée\n",
      "          </p>\n",
      "          <p>\n",
      "           - Plaque vitrocéramique\n",
      "          </p>\n",
      "          <p>\n",
      "           - Réfrigérateur / congélateur\n",
      "          </p>\n",
      "          <p>\n",
      "           - Hotte\n",
      "          </p>\n",
      "          <p>\n",
      "           - Four\n",
      "          </p>\n",
      "          <p>\n",
      "           - Lave-linge séchant\n",
      "          </p>\n",
      "          <p>\n",
      "           - Salle de douche\n",
      "          </p>\n",
      "          <p>\n",
      "           - Métro Nation 200 m\n",
      "          </p>\n",
      "          <p>\n",
      "           - Loyer de base: 702 euros\n",
      "          </p>\n",
      "          <p>\n",
      "           - Complément de loyer: 268 euros\n",
      "          </p>\n",
      "          <p>\n",
      "           - Charges: 45 euros\n",
      "          </p>\n",
      "          <p>\n",
      "           - Aucun frais d'agence.\n",
      "          </p>\n",
      "          <button class=\"ContactLink__StyledButton-sc-1ex39dt-0 jPagdq\">\n",
      "           Demander plus d'informations à l'agence\n",
      "           <div class=\"ContactLink__Chevron-sc-1ex39dt-1 gYbUwK Icon__IconElement-sc-1xnn3zd-0 fFMQXr\" color=\"#e00034\" data-test=\"contact-link-chevron\" style=\"margin-left:5px\">\n",
      "            <svg viewbox=\"0 0 512 512\">\n",
      "             <path d=\"M144.9 495.9c-9 0-16.4-7.3-16.4-16.4 0-4.2 1.6-8.3 4.6-11.4L338 256 133.1 43.8c-6.2-6.5-6-16.9.5-23.2 6.5-6.2 16.8-6 23 .4l226.9 235-226.8 234.9c-3.1 3.2-7.4 5-11.8 5z\">\n",
      "             </path>\n",
      "            </svg>\n",
      "           </div>\n",
      "          </button>\n",
      "         </div>\n",
      "        </div>\n",
      "       </div>\n",
      "      </div>\n",
      "     </div>\n",
      "     <div class=\"global-styles__WhiteBox-sc-1aeotog-2 global-styles__DescriptionWrapper-sc-1aeotog-5 czLMZl\">\n",
      "      <div class=\"TitledDescription__TitledDescriptionContainer-sc-1r4hqf5-0 fHzMfE\">\n",
      "       <h3 class=\"typography__TitleH3-sc-111kv7i-1 jrMlIh\">\n",
      "        Les plus\n",
      "       </h3>\n",
      "       <div class=\"TitledDescription__TitledDescriptionContent-sc-1r4hqf5-1 koqVoo\">\n",
      "        <div class=\"PlusList__Container-m3s89e-0 ipbCnI\" data-test=\"plus-list\">\n",
      "         <figure class=\"Plus__Figure-sc-1v5witi-0 iGqmPS\">\n",
      "          <div class=\"Plus__ImageContainer-sc-1v5witi-1 bhuRZQ\">\n",
      "          </div>\n",
      "          <figcaption>\n",
      "           Orientation Sud\n",
      "          </figcaption>\n",
      "         </figure>\n",
      "         <figure class=\"Plus__Figure-sc-1v5witi-0 iGqmPS\">\n",
      "          <div class=\"Plus__ImageContainer-sc-1v5witi-1 bhuRZQ\">\n",
      "          </div>\n",
      "          <figcaption>\n",
      "           1 Balcon\n",
      "          </figcaption>\n",
      "         </figure>\n",
      "         <figure class=\"Plus__Figure-sc-1v5witi-0 iGqmPS\">\n",
      "          <div class=\"Plus__ImageContainer-sc-1v5witi-1 bhuRZQ\">\n",
      "          </div>\n",
      "          <figcaption>\n",
      "           Vue\n",
      "          </figcaption>\n",
      "         </figure>\n",
      "         <figure class=\"Plus__Figure-sc-1v5witi-0 iGqmPS\">\n",
      "          <div class=\"Plus__ImageContainer-sc-1v5witi-1 bhuRZQ\">\n",
      "          </div>\n",
      "          <figcaption>\n",
      "           Ascenseur\n",
      "          </figcaption>\n",
      "         </figure>\n",
      "        </div>\n",
      "       </div>\n",
      "      </div>\n",
      "      <div class=\"\">\n",
      "       <div class=\"ShowMoreText__UITextContainer-sc-5ggbbc-0 hCeOyd\">\n",
      "        <div class=\"TitledDescription__TitledDescriptionContainer-sc-1r4hqf5-0 fHzMfE\">\n",
      "         <h3 class=\"typography__TitleH3-sc-111kv7i-1 jrMlIh\">\n",
      "          Général\n",
      "         </h3>\n",
      "         <div class=\"TitledDescription__TitledDescriptionContent-sc-1r4hqf5-1 koqVoo\">\n",
      "          <ul class=\"GeneralList__List-sc-9gtpjm-0 BAyYz\">\n",
      "           <li class=\"GeneralList__Item-sc-9gtpjm-1 dsevYN\">\n",
      "            Surface de 21,37m²\n",
      "           </li>\n",
      "           <li class=\"GeneralList__Item-sc-9gtpjm-1 dsevYN\">\n",
      "            Bâtiment de 6 étages\n",
      "           </li>\n",
      "           <li class=\"GeneralList__Item-sc-9gtpjm-1 dsevYN\">\n",
      "            1 Pièce\n",
      "           </li>\n",
      "           <li class=\"GeneralList__Item-sc-9gtpjm-1 dsevYN\">\n",
      "            Année de construction 1885\n",
      "           </li>\n",
      "           <li class=\"GeneralList__Item-sc-9gtpjm-1 dsevYN\">\n",
      "            Refait à neuf\n",
      "           </li>\n",
      "           <li class=\"GeneralList__Item-sc-9gtpjm-1 dsevYN\">\n",
      "            Au 5ème étage\n",
      "           </li>\n",
      "          </ul>\n",
      "         </div>\n",
      "        </div>\n",
      "        <div class=\"TitledDescription__TitledDescriptionContainer-sc-1r4hqf5-0 fHzMfE\">\n",
      "         <h3 class=\"typography__TitleH3-sc-111kv7i-1 jrMlIh\">\n",
      "          A l'intérieur\n",
      "         </h3>\n",
      "         <div class=\"TitledDescription__TitledDescriptionContent-sc-1r4hqf5-1 koqVoo\">\n",
      "          <ul class=\"GeneralList__List-sc-9gtpjm-0 BAyYz\">\n",
      "           <li class=\"GeneralList__Item-sc-9gtpjm-1 dsevYN\">\n",
      "            1 Salle d'eau\n",
      "           </li>\n",
      "           <li class=\"GeneralList__Item-sc-9gtpjm-1 dsevYN\">\n",
      "            Parquet\n",
      "           </li>\n",
      "           <li class=\"GeneralList__Item-sc-9gtpjm-1 dsevYN\">\n",
      "            Rangements\n",
      "           </li>\n",
      "           <li class=\"GeneralList__Item-sc-9gtpjm-1 dsevYN\">\n",
      "            Chauffage électrique\n",
      "           </li>\n",
      "           <li class=\"GeneralList__Item-sc-9gtpjm-1 dsevYN\">\n",
      "            Cuisine équipée\n",
      "           </li>\n",
      "          </ul>\n",
      "         </div>\n",
      "        </div>\n",
      "        <div class=\"TitledDescription__TitledDescriptionContainer-sc-1r4hqf5-0 fHzMfE\">\n",
      "         <h3 class=\"typography__TitleH3-sc-111kv7i-1 jrMlIh\">\n",
      "          Autres\n",
      "         </h3>\n",
      "         <div class=\"TitledDescription__TitledDescriptionContent-sc-1r4hqf5-1 koqVoo\">\n",
      "          <ul class=\"GeneralList__List-sc-9gtpjm-0 BAyYz\">\n",
      "           <li class=\"GeneralList__Item-sc-9gtpjm-1 dsevYN\">\n",
      "            Digicode\n",
      "           </li>\n",
      "          </ul>\n",
      "         </div>\n",
      "        </div>\n",
      "       </div>\n",
      "      </div>\n",
      "     </div>\n",
      "     <div class=\"global-styles__WhiteBox-sc-1aeotog-2 global-styles__DescriptionWrapper-sc-1aeotog-5 czLMZl\" data-test=\"diagnostics-block\" id=\"diagnostics\">\n",
      "      <div class=\"TitledDescription__TitledDescriptionContainer-sc-1r4hqf5-0 fHzMfE\">\n",
      "       <h3 class=\"typography__TitleH3-sc-111kv7i-1 jrMlIh\">\n",
      "        Les diagnostics énergétiques\n",
      "       </h3>\n",
      "       <div class=\"TitledDescription__TitledDescriptionContent-sc-1r4hqf5-1 koqVoo\">\n",
      "        <div class=\"Diagnostics__DiagnosticsContainer-al64ti-2 Oitqq\" data-test=\"diagnostics-content\">\n",
      "         <div class=\"Diagnostics__PreviewContainer-al64ti-0 dTGPCg\">\n",
      "          <p class=\"Diagnostics__PreviewTitle-al64ti-1 eJGktk\" data-test=\"diagnostics-preview-title\">\n",
      "           Diagnostic de performance énergétique\n",
      "          </p>\n",
      "          <div class=\"Preview__PreviewBar-sc-1pa12ii-0 jIpQSL\" data-test=\"diagnostics-preview-bar\">\n",
      "           <div class=\"Preview__PreviewTile-sc-1pa12ii-1 gafcOY\">\n",
      "            <p>\n",
      "             A\n",
      "            </p>\n",
      "           </div>\n",
      "           <div class=\"Preview__PreviewTile-sc-1pa12ii-1 iGmEzL\">\n",
      "            <p>\n",
      "             B\n",
      "            </p>\n",
      "           </div>\n",
      "           <div class=\"Preview__PreviewTile-sc-1pa12ii-1 edGcMP\">\n",
      "            <p>\n",
      "             C\n",
      "            </p>\n",
      "           </div>\n",
      "           <div class=\"Preview__PreviewTile-sc-1pa12ii-1 Preview__PreviewFocusedTile-sc-1pa12ii-2 hJiFNB\">\n",
      "            <p>\n",
      "             D\n",
      "            </p>\n",
      "            <div class=\"Preview__PreviewTooltip-sc-1pa12ii-3 hVDlNM\">\n",
      "             <span class=\"Preview__PreviewTooltipValue-sc-1pa12ii-4 eGDcBO\">\n",
      "              152\n",
      "             </span>\n",
      "             <span class=\"Preview__PreviewTooltipCaption-sc-1pa12ii-5 cizigk\">\n",
      "              kWhEP/m².an\n",
      "             </span>\n",
      "            </div>\n",
      "           </div>\n",
      "           <div class=\"Preview__PreviewTile-sc-1pa12ii-1 EmyuG\">\n",
      "            <p>\n",
      "             E\n",
      "            </p>\n",
      "           </div>\n",
      "           <div class=\"Preview__PreviewTile-sc-1pa12ii-1 nIZEh\">\n",
      "            <p>\n",
      "             F\n",
      "            </p>\n",
      "           </div>\n",
      "           <div class=\"Preview__PreviewTile-sc-1pa12ii-1 ollKY\">\n",
      "            <p>\n",
      "             G\n",
      "            </p>\n",
      "           </div>\n",
      "          </div>\n",
      "         </div>\n",
      "        </div>\n",
      "        <div class=\"Diagnostics__DiagnosticsContainer-al64ti-2 Oitqq\" data-test=\"diagnostics-content\">\n",
      "         <div class=\"Diagnostics__PreviewContainer-al64ti-0 dTGPCg\">\n",
      "          <p class=\"Diagnostics__PreviewTitle-al64ti-1 eJGktk\" data-test=\"diagnostics-preview-title\">\n",
      "           Indice d'émission de gaz à effet de serre\n",
      "          </p>\n",
      "          <div class=\"Preview__PreviewBar-sc-1pa12ii-0 jIpQSL\" data-test=\"diagnostics-preview-bar\">\n",
      "           <div class=\"Preview__PreviewTile-sc-1pa12ii-1 gfpEsI\">\n",
      "            <p>\n",
      "             A\n",
      "            </p>\n",
      "           </div>\n",
      "           <div class=\"Preview__PreviewTile-sc-1pa12ii-1 eASHcX\">\n",
      "            <p>\n",
      "             B\n",
      "            </p>\n",
      "           </div>\n",
      "           <div class=\"Preview__PreviewTile-sc-1pa12ii-1 Preview__PreviewFocusedTile-sc-1pa12ii-2 ObbeY\">\n",
      "            <p>\n",
      "             C\n",
      "            </p>\n",
      "            <div class=\"Preview__PreviewTooltip-sc-1pa12ii-3 hVDlNM\">\n",
      "             <span class=\"Preview__PreviewTooltipValue-sc-1pa12ii-4 eGDcBO\">\n",
      "              11\n",
      "             </span>\n",
      "             <span class=\"Preview__PreviewTooltipCaption-sc-1pa12ii-5 cizigk\">\n",
      "              kgeqCO2/m².an\n",
      "             </span>\n",
      "            </div>\n",
      "           </div>\n",
      "           <div class=\"Preview__PreviewTile-sc-1pa12ii-1 Wcifk\">\n",
      "            <p>\n",
      "             D\n",
      "            </p>\n",
      "           </div>\n",
      "           <div class=\"Preview__PreviewTile-sc-1pa12ii-1 zsmaq\">\n",
      "            <p>\n",
      "             E\n",
      "            </p>\n",
      "           </div>\n",
      "           <div class=\"Preview__PreviewTile-sc-1pa12ii-1 gzTnZe\">\n",
      "            <p>\n",
      "             F\n",
      "            </p>\n",
      "           </div>\n",
      "           <div class=\"Preview__PreviewTile-sc-1pa12ii-1 dpqcqE\">\n",
      "            <p>\n",
      "             G\n",
      "            </p>\n",
      "           </div>\n",
      "          </div>\n",
      "         </div>\n",
      "        </div>\n",
      "        <button class=\"Diagnostics__ToggleGraphsVisibilityButton-al64ti-4 jfJpNo\" data-test=\"diagnostics-toggle-graph-button\" disabled=\"\">\n",
      "         Afficher plus\n",
      "         <div class=\"StyledIcon-vdo5jm-0 bBIEDK Icon__IconElement-sc-1xnn3zd-0 iXyOfa\" data-test=\"sl-ui.icon\" style=\"position:relative;left:5px;top:3px\">\n",
      "          <svg viewbox=\"0 0 512 512\">\n",
      "           <path d=\"M254.5 381.9c-5.1 1-9-1.8-12.3-5.1L16 149.1c-6.9-6.6-7.1-17.6-.5-24.4 6.6-6.9 17.6-7.1 24.4-.5l.6.6 214 215.4 217-215.5c6.6-6.9 17.6-7.1 24.4-.5 6.9 6.6 7.1 17.6.5 24.4l-.6.6-229.1 227.7c-3.3 3.2-7.6 5-12.2 5z\">\n",
      "           </path>\n",
      "          </svg>\n",
      "         </div>\n",
      "        </button>\n",
      "       </div>\n",
      "      </div>\n",
      "     </div>\n",
      "     <div class=\"Pricestyled__Container-uc7t2j-1 djoCgs\" data-test=\"price-block\" id=\"a-propos-de-ce-prix\">\n",
      "      <div class=\"Pricestyled__LeftColumn-uc7t2j-2 ktrPbs\">\n",
      "       <div class=\"Pricestyled__Price-uc7t2j-0 jWsTKU\">\n",
      "        Le loyer mensuel est de\n",
      "        <div>\n",
      "         1 015 €\n",
      "        </div>\n",
      "       </div>\n",
      "       <div class=\"Pricestyled__Panel-uc7t2j-4 OLjZF\" data-test=\"price-block-panel\">\n",
      "        <strong>\n",
      "         Charges comprises\n",
      "        </strong>\n",
      "        , dont :\n",
      "        <br/>\n",
      "        <div>\n",
      "         - Complément de loyer :\n",
      "         <!-- -->\n",
      "         <strong>\n",
      "          268 €\n",
      "         </strong>\n",
      "        </div>\n",
      "        <div>\n",
      "         - Provisions pour charges avec regularisation annuelle :\n",
      "         <!-- -->\n",
      "         <strong>\n",
      "          45 €\n",
      "         </strong>\n",
      "        </div>\n",
      "       </div>\n",
      "      </div>\n",
      "      <div class=\"Pricestyled__RightColumn-uc7t2j-3 iPCfGL\" data-test=\"price-block-right\">\n",
      "       <div class=\"PriceHistorystyled__Container-sc-18jhpbr-0 iSZUrX\" data-test=\"price-history\">\n",
      "        <div class=\"PriceHistorystyled__FirstEvolution-sc-18jhpbr-1 jYnlUx\">\n",
      "         <div class=\"StyledIcon-vdo5jm-0 bBIEDK Icon__IconElement-sc-1xnn3zd-0 gNSjEe\" data-test=\"sl-ui.icon\">\n",
      "          <svg viewbox=\"0 0 512 512\">\n",
      "           <path d=\"M484.8 493.8H271.7c-4.6 0-8.3-3.7-8.3-8.3 0-2.2.9-4.3 2.4-5.9l86.6-86.6L21.3 61.9c-11-11-11-28.9 0-39.9s28.9-11 39.9 0l331.1 331.1 86.6-86.6c1.6-1.5 3.7-2.4 5.9-2.4 1.1 0 2.2.2 3.2.6 3.1 1.3 5.1 4.3 5.1 7.7v213.1c0 4.6-3.7 8.3-8.3 8.3z\">\n",
      "           </path>\n",
      "          </svg>\n",
      "         </div>\n",
      "         -4.2%\n",
      "        </div>\n",
      "        <div class=\"PriceHistorystyled__Evolutions-sc-18jhpbr-3 gRLKKb\">\n",
      "         <div class=\"PriceHistorystyled__FirstEvolutionFull-sc-18jhpbr-2 fCCpRR\">\n",
      "          Baisse\n",
      "          <!-- -->\n",
      "          du prix de\n",
      "          <span class=\"PriceHistorystyled__BoldDisplayAmount-sc-18jhpbr-4 kdmxHw global-styles__TextNoWrap-sc-1aeotog-6 dVzJN\">\n",
      "           45 €\n",
      "          </span>\n",
      "         </div>\n",
      "         <div class=\"PriceHistorystyled__FullHistory-sc-18jhpbr-5 ecfdRO\">\n",
      "          <div class=\"PriceHistorystyled__Trigger-sc-18jhpbr-7 irfmvz\">\n",
      "           <span class=\"PriceHistorystyled__TriggerButton-sc-18jhpbr-8 kXXvUq\">\n",
      "            Voir les\n",
      "            <!-- -->\n",
      "            2\n",
      "            <!-- -->\n",
      "            évolutions de prix\n",
      "            <!-- -->\n",
      "            <div class=\"StyledIcon-vdo5jm-0 bBIEDK Icon__IconElement-sc-1xnn3zd-0 jGTLkV\" data-test=\"sl-ui.icon\">\n",
      "             <svg viewbox=\"0 0 512 512\">\n",
      "              <path d=\"M232 301.7c-1.3-8.4-1-16.9.9-25.1 1.8-7.3 4.6-14.4 8.4-20.9 3.6-6.3 7.8-12.2 12.6-17.7 4.6-5.5 9.1-10.8 13.3-16 3.9-4.8 7.4-10 10.5-15.4 2.8-5 4.2-10.6 4.2-16.4 0-9.1-2.7-16.5-8.2-22.1s-13-8.4-22.6-8.4c-7.4-.1-14.8 1.7-21.3 5.4-6.7 3.8-12.8 8.7-17.9 14.5L187.4 157c8.4-9.7 18.6-17.8 29.9-23.8 11.6-6.2 24.6-9.3 39-9.3 9.3-.1 18.5 1.2 27.4 4 8 2.4 15.3 6.5 21.5 12 6.1 5.5 10.9 12.3 14.1 19.8 3.4 7.9 5.1 17 5.1 27.4.1 7.5-1.3 15-4.3 21.9-2.9 6.5-6.6 12.7-10.9 18.5s-9 11.4-13.9 16.8c-4.9 5.2-9.3 10.8-13.3 16.7-3.9 5.8-7.1 12.1-9.6 18.7-2.4 7.1-3.2 14.7-2.1 22.1l-38.3-.1zm19.4 86.5c-7.6.2-15-2.8-20.2-8.4-5.3-5.6-8-12.7-8-21.3s2.6-15.7 8-21.3 12.1-8.4 20.2-8.4c7.7-.2 15.1 2.8 20.4 8.4 5.5 5.6 8.2 12.7 8.2 21.3s-2.7 15.7-8.2 21.3c-5.3 5.5-12.7 8.5-20.4 8.4zm163.7 26.9c-87.8 87.9-230.3 87.9-318.2 0S9 184.8 96.9 96.9s230.3-87.9 318.2 0 87.9 230.3 0 318.2zm-21.7-296.5c-75.9-75.9-198.9-75.9-274.7 0s-75.9 198.9 0 274.7 198.9 75.9 274.7 0 75.8-198.8 0-274.7z\">\n",
      "              </path>\n",
      "             </svg>\n",
      "            </div>\n",
      "           </span>\n",
      "           <div class=\"PriceHistorystyled__Popup-sc-18jhpbr-6 hQpEiS\" data-test=\"price-history-popup\">\n",
      "            <table cellpadding=\"0\" cellspacing=\"0\">\n",
      "             <thead>\n",
      "              <tr>\n",
      "               <th>\n",
      "                Date\n",
      "               </th>\n",
      "               <th>\n",
      "                Prix\n",
      "               </th>\n",
      "              </tr>\n",
      "             </thead>\n",
      "             <tbody>\n",
      "              <tr data-test=\"price-history-evol-0\">\n",
      "               <td>\n",
      "                <div class=\"StyledIcon-vdo5jm-0 bBIEDK Icon__IconElement-sc-1xnn3zd-0 dlsDvS\" color=\"#00819e\" data-test=\"price-history-arrow-down\">\n",
      "                 <svg viewbox=\"0 0 512 512\">\n",
      "                  <path d=\"M484.8 493.8H271.7c-4.6 0-8.3-3.7-8.3-8.3 0-2.2.9-4.3 2.4-5.9l86.6-86.6L21.3 61.9c-11-11-11-28.9 0-39.9s28.9-11 39.9 0l331.1 331.1 86.6-86.6c1.6-1.5 3.7-2.4 5.9-2.4 1.1 0 2.2.2 3.2.6 3.1 1.3 5.1 4.3 5.1 7.7v213.1c0 4.6-3.7 8.3-8.3 8.3z\">\n",
      "                  </path>\n",
      "                 </svg>\n",
      "                </div>\n",
      "                17 mai 2020\n",
      "               </td>\n",
      "               <td>\n",
      "                <span class=\"global-styles__TextNoWrap-sc-1aeotog-6 dVzJN\">\n",
      "                 1 015 €\n",
      "                </span>\n",
      "               </td>\n",
      "              </tr>\n",
      "              <tr data-test=\"price-history-evol-1\">\n",
      "               <td>\n",
      "                <div class=\"StyledIcon-vdo5jm-0 bBIEDK Icon__IconElement-sc-1xnn3zd-0 dlsDvS\" color=\"#00819e\" data-test=\"price-history-arrow-down\">\n",
      "                 <svg viewbox=\"0 0 512 512\">\n",
      "                  <path d=\"M484.8 493.8H271.7c-4.6 0-8.3-3.7-8.3-8.3 0-2.2.9-4.3 2.4-5.9l86.6-86.6L21.3 61.9c-11-11-11-28.9 0-39.9s28.9-11 39.9 0l331.1 331.1 86.6-86.6c1.6-1.5 3.7-2.4 5.9-2.4 1.1 0 2.2.2 3.2.6 3.1 1.3 5.1 4.3 5.1 7.7v213.1c0 4.6-3.7 8.3-8.3 8.3z\">\n",
      "                  </path>\n",
      "                 </svg>\n",
      "                </div>\n",
      "                24 janvier 2020\n",
      "               </td>\n",
      "               <td>\n",
      "                <span class=\"global-styles__TextNoWrap-sc-1aeotog-6 dVzJN\">\n",
      "                 1 060 €\n",
      "                </span>\n",
      "               </td>\n",
      "              </tr>\n",
      "             </tbody>\n",
      "            </table>\n",
      "           </div>\n",
      "          </div>\n",
      "         </div>\n",
      "        </div>\n",
      "       </div>\n",
      "       <div class=\"rentHelper__Garantie-sc-1x3dozo-0 AJvvM\">\n",
      "        Dépôt de garantie :\n",
      "        <strong>\n",
      "         970 €\n",
      "        </strong>\n",
      "       </div>\n",
      "       <br/>\n",
      "       <div class=\"Pricestyled__PriceLinkWrapper-uc7t2j-5 boCsPt\">\n",
      "        <a class=\"RealEstatePriceLink__Link-sc-1wcupem-0 wdjdG\" href=\"https://seloger.com/prix-de-l-immo/location/ile-de-france/paris/paris-11eme/nation-alexandre-dumas/48224.htm\" target=\"_blank\">\n",
      "         Consulter tous les prix de l'immobilier à Paris 11ème\n",
      "         <div class=\"RealEstatePriceLink__Chevron-sc-1wcupem-1 cwEwkk Icon__IconElement-sc-1xnn3zd-0 dVrfUG\" color=\"#2b2b2b\" data-test=\"sl-ui.icon\">\n",
      "          <svg viewbox=\"0 0 512 512\">\n",
      "           <path d=\"M183.7 484.7c-13.3 0-24-10.8-24-24 0-6.2 2.4-12.2 6.7-16.7L348 256 166.5 68c-9.4-9.4-9.4-24.6 0-33.9s24.6-9.4 33.9 0l.6.6L414.7 256 201 477.3c-4.5 4.7-10.7 7.4-17.3 7.4z\">\n",
      "           </path>\n",
      "          </svg>\n",
      "         </div>\n",
      "        </a>\n",
      "       </div>\n",
      "      </div>\n",
      "     </div>\n",
      "    </section>\n",
      "    <section class=\"is-collapsed TitledSection__TitledSectionContainer-sc-1rdkjev-0 iGhppP\">\n",
      "     <div class=\"AdsWrapper__ServiceList-nyi8ot-3 jktYXc\">\n",
      "      <div class=\"service-list-item native-multipartenaire-1 AdsWrapper__Service-nyi8ot-2 iFTZWq\">\n",
      "      </div>\n",
      "      <div class=\"service-list-item native-multipartenaire-2 AdsWrapper__Service-nyi8ot-2 iFTZWq\">\n",
      "      </div>\n",
      "      <div class=\"service-list-item native-multipartenaire-3 AdsWrapper__Service-nyi8ot-2 iFTZWq\">\n",
      "      </div>\n",
      "      <div class=\"service-list-item native-multipartenaire-4 AdsWrapper__Service-nyi8ot-2 iFTZWq\">\n",
      "      </div>\n",
      "     </div>\n",
      "    </section>\n",
      "    <section class=\"Agency__StyledUITitledSection-omxy8e-0 lgtpkt TitledSection__TitledSectionContainer-sc-1rdkjev-0 iGhppP\" id=\"centralContactForm\">\n",
      "     <h2 class=\"SectionTitle__TitleWrapper-dx8lqr-0 oHbpU\">\n",
      "      <div class=\"SectionTitle__Icon-dx8lqr-1 bZkDUm Icon__IconElement-sc-1xnn3zd-0 jbPwtO\" data-test=\"sl-ui.icon\">\n",
      "       <svg viewbox=\"0 0 512 512\">\n",
      "        <path d=\"M252.6 267.4h-.9c-28 0-50.3-9-66.9-27.1-12.6-13.5-21-31.2-26.1-52.1-5.4-22.2-6.6-45.2-5.4-65.6 0-1.3.1-2.6.3-3.8v-2.1c2.8-68.6 41.1-96.4 96.6-99.2h1.5c52.8 0 93.7 30.1 96.6 99.9 0 1 .2 2.8.3 5.3 1.2 20.3 0 43.4-5.4 65.6-5.1 20.9-13.5 38.6-25.2 51.2-13.6 17.1-35.8 26.2-65.4 27.9zm41.8-48.4c8.5-9.1 14.7-22.1 18.6-38.2 4.6-18.8 5.6-38.9 4.6-56.4-.1-2-.2-3.4-.4-5.6v-.8c-2.1-50.4-27.9-69.4-65.5-69.4h-.7c-40.3 2.1-64.2 19.4-66.2 68.7l-.1 3.1c-.1.6-.2 2-.3 4-1 17.5 0 37.7 4.6 56.4 3.9 16.1 10.1 29.1 18.7 38.4 10.5 11.4 24.2 17 43.6 17.1 21.2-1.3 34.9-7 43.1-17.3zm-48.7 107.4c1.5 3.3 1.7 7 .7 10.5l-29.5 104.9c-4.6 16.2-28 14.7-30.4-2l-22-149.7c-61.9 37.6-96.1 72.2-103.1 102-.7 3.7-1.2 7.4-1.4 11.2-.4 7.7-.2 15.5.6 23.2 57.7 22 123.4 34 192.7 34 69.4 0 135.4-12 193.1-34.1 1-7.5 1.3-15.1.8-22.7-.3-3.8-1-7.5-2-11.2-7-29.1-42.6-63.9-107.4-102.5L316 439.7c-2.4 16.7-25.9 18.2-30.4 2l-29.4-104.9c-1-3.4-.7-7.1.7-10.4l4.3-10h-19.8l4.3 10zm-39 36.6l8.2-29.2-11.7-26.7c-3.5-7.9.1-17.1 8-20.5 2-.9 4.1-1.3 6.3-1.3h67.4c8.6 0 15.6 7 15.6 15.6 0 2.1-.4 4.2-1.3 6.1l-11.5 26.7 8.1 28.8 14.5-99.9c1.2-8.5 9.1-14.4 17.7-13.2 1.9.3 3.7.9 5.3 1.8 84.3 47 131.9 90.8 142 133.1 1.5 5.4 2.5 11 3 16.7.7 10.2.4 20.4-1.1 30.5-.6 4.1-1.1 7.3-1.5 9.2-1.1 5.1-4.6 9.3-9.4 11.2-63.4 25.6-136.2 39.6-212.9 39.6s-149.5-14-212.9-39.5c-5.1-2-8.7-6.6-9.5-12-.3-1.8-.7-4.9-1.1-8.9-1.1-9.9-1.3-19.8-.8-29.7.3-5.5 1-10.9 2.1-16.2 10.3-43.9 56.5-87.8 137.9-133.8 7.5-4.2 17-1.6 21.2 5.9.9 1.7 1.6 3.5 1.9 5.4L206.7 363z\">\n",
      "        </path>\n",
      "       </svg>\n",
      "      </div>\n",
      "      <!-- -->\n",
      "      Contacter l'agence\n",
      "     </h2>\n",
      "     <div class=\"Wrapper__ContactWrapper-sc-72u0wh-0 ezNoLm\">\n",
      "      <h3 class=\"CenterTitle__CenterFormTitle-sc-5ljg72-0 gmIPEs\">\n",
      "       <div>\n",
      "        Envie de visiter ?\n",
      "       </div>\n",
      "       <div>\n",
      "        Une question sur cet\n",
      "        <span class=\"global-styles__TextNoWrap-sc-1aeotog-6 dVzJN\">\n",
      "         appartement\n",
      "         <!-- -->\n",
      "         ?\n",
      "        </span>\n",
      "       </div>\n",
      "      </h3>\n",
      "      <div class=\"contact-form position-center Formstyled__ContactFormWrapper-sc-1oh5rnc-2 ddnZoq\">\n",
      "       <fieldset class=\"Formstyled__ContactFormFieldset-sc-1oh5rnc-3 gEBilA\" disabled=\"\">\n",
      "        <div class=\"Formstyled__ContactFormGroup-sc-1oh5rnc-7 dkRUKL\">\n",
      "         <div class=\"Formstyled__ContactFormInput-sc-1oh5rnc-1 pshwJ Input__InputGroup-sc-9txjc8-3 jdvcCW\" data-test=\"name\" label=\"Nom\" value=\"\">\n",
      "          <label class=\"Input__StyledLabel-sc-9txjc8-2 gFpOeM\" for=\"input_224857\">\n",
      "           Nom\n",
      "          </label>\n",
      "          <input aria-invalid=\"false\" class=\"Input__StyledInput-sc-9txjc8-0 kYiydX\" id=\"input_224857\" name=\"name\" spellcheck=\"false\" type=\"text\" value=\"\"/>\n",
      "         </div>\n",
      "         <div class=\"Formstyled__ContactFormInput-sc-1oh5rnc-1 pshwJ Input__InputGroup-sc-9txjc8-3 jdvcCW\" data-test=\"email\" label=\"Email\" value=\"\">\n",
      "          <label class=\"Input__StyledLabel-sc-9txjc8-2 gFpOeM\" for=\"input_224858\">\n",
      "           Email\n",
      "          </label>\n",
      "          <input aria-invalid=\"false\" class=\"Input__StyledInput-sc-9txjc8-0 kYiydX\" id=\"input_224858\" name=\"email\" spellcheck=\"false\" type=\"email\" value=\"\"/>\n",
      "         </div>\n",
      "         <div class=\"Formstyled__ContactFormInput-sc-1oh5rnc-1 pshwJ Input__InputGroup-sc-9txjc8-3 jdvcCW\" data-test=\"telephone\" label=\"Téléphone\" value=\"\">\n",
      "          <label class=\"Input__StyledLabel-sc-9txjc8-2 gFpOeM\" for=\"input_224859\">\n",
      "           Téléphone\n",
      "          </label>\n",
      "          <input aria-invalid=\"false\" class=\"Input__StyledInput-sc-9txjc8-0 kYiydX\" id=\"input_224859\" name=\"telephone\" spellcheck=\"true\" type=\"tel\" value=\"\"/>\n",
      "         </div>\n",
      "        </div>\n",
      "        <div class=\"precision Formstyled__ContactFormGroup-sc-1oh5rnc-7 dkRUKL\">\n",
      "         <button class=\"Formstyled__ToggleButton-sc-1oh5rnc-5 cjYWnk\">\n",
      "          Une précision ?\n",
      "         </button>\n",
      "         (facultatif)\n",
      "        </div>\n",
      "        <div class=\"ali Formstyled__ContactFormGroup-sc-1oh5rnc-7 dkRUKL\">\n",
      "         <label class=\"CheckboxWithLabel__Label-sc-1h2g24s-0 bHnUbp\">\n",
      "          <label class=\"CheckboxWithLabel__StyledCheckbox-sc-1h2g24s-1 bNbRBd Checkbox__CheckboxContainer-sc-1iyz5va-1 jkerwN\" data-test=\"sl-ui.checkbox\">\n",
      "           <input type=\"checkbox\"/>\n",
      "           <div class=\"check-icon\">\n",
      "            <div class=\"Checkbox__CheckboxIcon-sc-1iyz5va-0 jxuNCG Icon__IconElement-sc-1xnn3zd-0 ifzowN\" data-test=\"sl-ui.icon\">\n",
      "             <svg viewbox=\"0 0 512 512\">\n",
      "              <path d=\"M211.7 436.7c-7.5 0-14.7-3.2-19.7-9L17.4 225.9c-6.6-6.6-8.9-16.4-5.8-25.3 3.2-8.9 11.1-15.3 20.5-16.6 9.4-1.4 18.8 2.4 24.6 10l155.1 179.3 242-280.2c5.7-7.6 15.2-11.4 24.6-10 9.4 1.3 17.3 7.7 20.4 16.6 3.1 8.8.8 18.6-5.8 25.2L231.1 427.7c-4.9 5.7-12 8.9-19.4 9z\">\n",
      "              </path>\n",
      "             </svg>\n",
      "            </div>\n",
      "           </div>\n",
      "          </label>\n",
      "          <div class=\"CheckboxWithLabel__LabelText-sc-1h2g24s-2 jSJFPy\">\n",
      "           Je ne souhaite pas recevoir les annonces similaires et les suggestions personnalisées de SeLoger.\n",
      "           <button class=\"Formstyled__CheckLabelLink-sc-1oh5rnc-4 ifHRyH\">\n",
      "            En savoir +\n",
      "           </button>\n",
      "          </div>\n",
      "         </label>\n",
      "        </div>\n",
      "        <div class=\"Formstyled__ContactFormGroup-sc-1oh5rnc-7 dkRUKL\">\n",
      "         <button class=\"Formstyled__ContactFormSubmitButton-sc-1oh5rnc-0 cZYObZ Button__StyledButton-fl6j-2 cbGRUp\" data-test=\"submit-button\" disabled=\"\" format=\"normal\">\n",
      "          <div class=\"Button__ButtonIcon-fl6j-0 hOhti Icon__IconElement-sc-1xnn3zd-0 jGTLkV\" data-test=\"sl-ui.icon\">\n",
      "           <svg viewbox=\"0 0 512 512\">\n",
      "            <path d=\"M449.07 431.55H64.33c-29.06 0-52.63-24.37-52.63-54.44v-245c0-30.07 23.57-54.44 52.63-54.44h384.74c29.07 0 52.63 24.37 52.63 54.44v245c0 30.07-23.56 54.44-52.63 54.44zm12.37-281.73L256.7 354.24 52 149.59v229.7a12.58 12.58 0 0 0 12.37 12.52h384.7a12.58 12.58 0 0 0 12.37-12.52zm-380.8-28.33L256.7 297.35 433 121.49z\" data-name=\"R/uEA51-B-enveloppe\">\n",
      "            </path>\n",
      "           </svg>\n",
      "          </div>\n",
      "          <span class=\"Button__ButtonText-fl6j-1 gdQzAO\">\n",
      "           Contactez l'agence\n",
      "          </span>\n",
      "         </button>\n",
      "        </div>\n",
      "       </fieldset>\n",
      "      </div>\n",
      "      <div class=\"LegalInfos__Information-hv2iyy-0 cMfNMn\">\n",
      "       <span>\n",
      "        Vos informations (dont celles relatives à votre navigation sur SeLoger) sont traitées par Digital Classifieds France et transmises au professionnel de l’immobilier que vous souhaitez contacter afin de gérer votre demande. Pour exercer vos droits conformément à la loi « informatique et libertés »,\n",
      "       </span>\n",
      "       <span class=\"LegalInfos__ToggleSpan-hv2iyy-2 egipaf\">\n",
      "        cliquez ici\n",
      "       </span>\n",
      "       <div class=\"LegalInfos__InformationWrapper-hv2iyy-1 eoSXdY\">\n",
      "        Vous pouvez accéder aux données vous concernant, les faire rectifier ou demander leur effacement. Vous disposez également d’un droit d’opposition, d’un droit à la portabilité et d’un droit à la limitation du traitement des données qui vous concernent que vous pouvez exercer en vous adressant à : SeLoger / Digital Classifieds France - 65 Rue Ordener, 75880 Paris Cedex 18 ou en\n",
      "        <a href=\"https://www.seloger.com/contact.html?query=legal#formulaire\" rel=\"noopener noreferrer\" target=\"_blank\">\n",
      "         cliquant ici\n",
      "        </a>\n",
      "        . Pour plus d’informations, vous pouvez également consulter nos\n",
      "        <a href=\"https://www.seloger.com/CGU_politique_de_confidentialite.html\" rel=\"noopener noreferrer\" target=\"_blank\">\n",
      "         CGU - Politique de Confidentialité\n",
      "        </a>\n",
      "        .\n",
      "       </div>\n",
      "      </div>\n",
      "     </div>\n",
      "     <div class=\"global-styles__WhiteBox-sc-1aeotog-2 global-styles__DescriptionWrapper-sc-1aeotog-5 Summary__Container-d4ti72-0 cZQUgh\" data-test=\"center-agency-block\" id=\"agence-info\">\n",
      "      <div class=\"Agency__PrimaryBlock-sc-1rsw64j-5 NnYSs\">\n",
      "       <h3 class=\"Summarycommonstyled__Title-axkat0-0 Agency__Title-sc-1rsw64j-0 gGhaSP\">\n",
      "        AKELIUS FRANCE MANAGEMENT\n",
      "       </h3>\n",
      "       <p class=\"Agency__Subtitle-sc-1rsw64j-1 fjrrQN\">\n",
      "        Agences immobilières\n",
      "       </p>\n",
      "       <div class=\"Agency__Text-sc-1rsw64j-2 gFrVwI\">\n",
      "        <div class=\"StyledIcon-vdo5jm-0 Agency__AddressIcon-sc-1rsw64j-4 ijDHLp Icon__IconElement-sc-1xnn3zd-0 eGgFQN\" color=\"#262626\" data-test=\"sl-ui.icon\">\n",
      "         <svg viewbox=\"0 0 512 512\">\n",
      "          <path d=\"M265.8 53.8c-74.6 0-135 60.6-135 135.4 0 71.9 85 199.5 135 263.9 42.9-55.3 135.1-189.9 135.1-263.9-1.1-74.4-61-134.4-135.1-135.4zm1.6 444.4c-9.5.2-18.6-3.7-25-10.7C225.3 466.7 90.8 295 90.8 189.2c.2-96.9 78.4-175.4 175-175.5 96.1 1.3 173.7 79.1 175 175.5 0 101.2-127.3 267.1-147.6 293.8-4.7 9.9-14.9 16-25.8 15.2zm0-358.2c-27.1-.1-49.2 21.9-49.3 49s21.9 49.2 49 49.3c27.1.1 49.2-21.9 49.3-49v-.1c-.4-26.9-22.1-48.7-49-49.2zm0 138.4c-49.3.1-89.3-39.7-89.4-89s39.7-89.3 89-89.4c49.3-.1 89.3 39.7 89.4 89v.2c0 49.2-39.8 89.1-89 89.2z\">\n",
      "          </path>\n",
      "         </svg>\n",
      "        </div>\n",
      "        <!-- -->\n",
      "        24 RUE CAMBACÉRÈS\n",
      "75008 PARIS 8ÈME\n",
      "       </div>\n",
      "       <div class=\"SummaryLinkList__SummaryLinksContainer-sc-1bymgzc-0 logJVb\">\n",
      "        <a class=\"SummaryLinkList__Link-sc-1bymgzc-1 dPoWhS\" href=\"https://www.seloger.com/professionnels/agences-immobilieres/paris-8eme-75/agency-82411.htm\" target=\"_blank\">\n",
      "         Profil de l\n",
      "         <!-- -->\n",
      "         '\n",
      "         <!-- -->\n",
      "         agence\n",
      "        </a>\n",
      "        <a class=\"SummaryLinkList__Link-sc-1bymgzc-1 dPoWhS\" href=\"https://rent.akelius.com/fr/search/france/apartment/paris\" rel=\"nofollow\" target=\"_blank\">\n",
      "         Site de l\n",
      "         <!-- -->\n",
      "         '\n",
      "         <!-- -->\n",
      "         agence\n",
      "        </a>\n",
      "       </div>\n",
      "       <div class=\"LegalNotice__LegalInfo-q8j7x7-1 kIoPvC\">\n",
      "        <h3 class=\"LegalNotice__Title-q8j7x7-0 cOOkOy\">\n",
      "         Informations légales de l\n",
      "         <!-- -->\n",
      "         '\n",
      "         <!-- -->\n",
      "         agence\n",
      "        </h3>\n",
      "        <p class=\"LegalNotice__LegalText-q8j7x7-2 fnARQZ\">\n",
      "         <strong>\n",
      "          RCS :\n",
      "         </strong>\n",
      "         804128866\n",
      "        </p>\n",
      "       </div>\n",
      "      </div>\n",
      "      <div class=\"Agency__SecondaryBlock-sc-1rsw64j-6 kvmiTP\">\n",
      "       <div class=\"Agency__LogoWrapper-sc-1rsw64j-10 fNWtNl\">\n",
      "        <div class=\"Agency__LogoContainer-sc-1rsw64j-7 kdfJpy\">\n",
      "        </div>\n",
      "       </div>\n",
      "       <div class=\"Summarycommonstyled__ContactButtonContainer-axkat0-1 kpeCDf\">\n",
      "        <div class=\"RoundPhoneButton__ButtonWithTooltip-sc-126i0kb-0 jUSTwd\">\n",
      "         <button class=\"Button__StyledButton-fl6j-2 fHossp\" data-test=\"contact-phone-button\" format=\"circle\">\n",
      "          <div class=\"Button__ButtonIcon-fl6j-0 hOhti Icon__IconElement-sc-1xnn3zd-0 jGTLkV\" data-test=\"sl-ui.icon\">\n",
      "           <svg viewbox=\"0 0 512 512\">\n",
      "            <g>\n",
      "             <path d=\"M391.3 382.7c-68.4-69.2-73.8-72.7-76.6-74.4-12.7-7.9-26.2-6.8-40.3 3.3-3 2.2-16.9 12.7-23.3 27.3-1.3-.6-2.5-1.2-3.7-1.9-12.6-7.3-25.8-17.9-39.3-31.6l-3.1-3.1c-13.5-13.7-23.9-27.1-30.9-39.7-.7-1.2-1.3-2.5-1.8-3.8 14.5-6.1 25.4-19.9 27.6-22.8 10.5-13.9 11.9-27.4 4.1-40.4-1.6-2.7-5-8.2-73.2-77.7-7.9-8.2-18.9-12.8-30.3-12.6-9.8.5-19.2 4.2-26.7 10.7-19.5 16.4-29.9 38.1-35.2 53.5-4.3 12.6-6.8 25.7-7.6 39-4.8 78.3 41.7 142.9 81.5 183.4l.1.1 4.3 4.4c38.4 39.1 99.3 84.7 173.9 84.7 2.7 0 5.4-.1 8.1-.2 13.3-.5 26.5-2.8 39.2-6.9 15.5-5 37.5-15 54.2-34.3 6.8-7.9 10.6-17 11.1-26.4.4-11.5-4-22.5-12.1-30.6.1 0 0 0 0 0zm-205.6-55.4c15.5 15.7 31 28.1 46 36.8 5.9 3.6 12.5 6 19.3 7.1 8.7 1.3 13.7-.9 17.5-3 5.3-3.2 9-8.6 10.9-15.8 1.1-4.4 7.8-11.5 13.3-15.5 1-.7 2.3-2.5 4.9-2.5 1.8 1.4 12.3 10.4 71.3 70.1 2 1.8 3.1 4.4 3.1 7.1-.1 2.3-1.3 4.9-3.5 7.4-12 13.8-28.4 21.2-40.2 25-10 3.2-20.4 5-30.9 5.3-67.9 3-123-39.2-158.4-75.3l-2.1-2.1c-.8-.8-1.6-1.5-2.3-2.2l.1-.1C99.4 334 58.1 277.1 62.2 210.4c.6-10.5 2.6-20.8 5.9-30.8 4-11.6 11.7-27.9 25.7-39.6 2.6-2.2 5.1-3.3 7.5-3.4h.2c2.6.1 5.1 1.3 6.9 3.2 60.2 61.4 68 71.1 69.1 72.8-.1 1-1.9 3.4-2.7 4.5-4 5.4-11.2 11.9-15.6 13-7.3 1.7-12.7 5.3-16.3 10.9-1.9 3.1-4.3 8.2-3.1 17.2 1 6.8 3.3 13.4 6.8 19.4 8.4 15.1 20.5 30.8 36 46.5l3.1 3.2zM239.1 105.8c-8.5-.9-16.1 5.3-17 13.7v.5c-.8 8.6 5.5 16.2 14.1 17h.1c73 6.5 131 64.1 138 137 .8 8 7.5 14.2 15.6 14.2.5 0 1 0 1.5-.1 8.6-.8 14.9-8.5 14.1-17.1-8.6-87.9-78.5-157.3-166.4-165.2z\">\n",
      "             </path>\n",
      "             <path d=\"M407.5 104.2c-42-42-97.4-67.9-156.6-73.2-8.6-.8-16.2 5.6-17 14.2s5.6 16.2 14.2 17c106.4 9.5 191 93.4 201.3 199.8.8 8 7.5 14.2 15.6 14.2.5 0 1 0 1.5-.1 8.6-.8 14.9-8.5 14.1-17.1-5.7-58.5-31.6-113.2-73.1-154.8z\">\n",
      "             </path>\n",
      "            </g>\n",
      "           </svg>\n",
      "          </div>\n",
      "          <span class=\"Button__ButtonText-fl6j-1 gdQzAO\">\n",
      "          </span>\n",
      "         </button>\n",
      "        </div>\n",
      "        <button class=\"Button__StyledButton-fl6j-2 fHossp\" data-test=\"contact-mail-button\" format=\"circle\">\n",
      "         <div class=\"Button__ButtonIcon-fl6j-0 hOhti Icon__IconElement-sc-1xnn3zd-0 jGTLkV\" data-test=\"sl-ui.icon\">\n",
      "          <svg viewbox=\"0 0 512 512\">\n",
      "           <path d=\"M449.07 431.55H64.33c-29.06 0-52.63-24.37-52.63-54.44v-245c0-30.07 23.57-54.44 52.63-54.44h384.74c29.07 0 52.63 24.37 52.63 54.44v245c0 30.07-23.56 54.44-52.63 54.44zm12.37-281.73L256.7 354.24 52 149.59v229.7a12.58 12.58 0 0 0 12.37 12.52h384.7a12.58 12.58 0 0 0 12.37-12.52zm-380.8-28.33L256.7 297.35 433 121.49z\" data-name=\"R/uEA51-B-enveloppe\">\n",
      "           </path>\n",
      "          </svg>\n",
      "         </div>\n",
      "         <span class=\"Button__ButtonText-fl6j-1 gdQzAO\">\n",
      "         </span>\n",
      "        </button>\n",
      "       </div>\n",
      "      </div>\n",
      "     </div>\n",
      "    </section>\n",
      "    <section class=\"Neighborhood__DescriptionWrapper-lvg9s5-0 fMOSgz TitledSection__TitledSectionContainer-sc-1rdkjev-0 iGhppP\" id=\"neighborhood\">\n",
      "     <h2 class=\"SectionTitle__TitleWrapper-dx8lqr-0 oHbpU\">\n",
      "      <div class=\"SectionTitle__Icon-dx8lqr-1 bZkDUm Icon__IconElement-sc-1xnn3zd-0 jbPwtO\" data-test=\"sl-ui.icon\">\n",
      "       <svg viewbox=\"0 0 512 512\">\n",
      "        <g>\n",
      "         <path d=\"M157.6 209c-6.2-24.4-17.2-40.4-32.7-47.8-14.8-7-32.7-5.5-53.2 4.4-3.6 1.7-6.3 4.8-7.6 8.6-.8 2.4-1 5-.6 7.6-4.8-2.8-10.8-2.7-15.5.3-8.3 5.2-13 13.3-13.5 23.3-.2 4 .1 8 1 11.9-17.2 23.9-19.5 48.2-6.6 70.3 4.5 7.6 10.2 14.3 17 19.9 2.1 1.8 4.3 3.4 6.6 5l.2.1c8.8 12 18.3 20.3 28.2 25V472c0 8.3 6.7 15 15 15s15-6.7 15-15V340.1c8.6-2.5 17-7.6 24.9-15.4 3.6-3.6 6.9-7.4 9.8-11.6 27.6-14.6 41.4-37.9 38-64-2.5-17.6-12.8-33.5-26-40.1zm-23.4 22l9.4 4.6 1.1.3c1.8.6 7.8 7.5 9 17.1 1.9 14.2-6.8 26.3-25.1 35l-4.1 2-2.4 4c-2.1 3.4-4.6 6.6-7.5 9.4-1.3 1.3-2.6 2.4-3.8 3.4v-38.9l20.4-20.4c4.2-4.3 5.4-10.9 3-16.5zm-61-37.6c3.8 1.3 7.9 1.1 11.5-.7 13.3-6.4 22.4-7.9 28.8-4.7 7.3 3.7 12.3 14.1 15.9 32.8l4 8.6c-.6-1.1-1.4-2.1-2.3-3-5.9-5.8-15.3-5.8-21.2 0l-.2.2c-3-7.7-11.7-11.6-19.4-8.6-5.8 2.2-9.7 7.9-9.6 14.1v17.3c-7.9-2.6-16.3 1.7-18.9 9.6-1.8 5.4-.3 11.3 3.7 15.3l15.3 15.3V300c-1.8-2.1-3.7-4.6-5.8-7.5-4.1-3.8-4.2-3.8-4.5-4l-1.1-.7c-1.4-1-2.8-2-4.2-3.2-4.1-3.4-7.6-7.4-10.4-12-7.4-12.8-4.8-26.2 8.4-42.1l3.4-4.1V221c-.1-2.9-.6-5.7-1.4-8.5-.5-1.7-.7-3.5-.7-5.2 4.9-3.3 7.3-9.2 6.3-15 .7.3 1.6.7 2.4 1.1zM419.6 25.1h-168c-28.2 0-51 22.8-51 51V436c0 28.2 22.8 51 51 51h168c28.2 0 51-22.8 51-51V76c-.1-28.1-22.9-50.9-51-50.9zm-36 287.9h-96c-14.9 0-27 12.1-27 27v117h-9c-11.6 0-21-9.4-21-21V76c0-11.6 9.4-21 21-21h168c11.6 0 21 9.4 21 21v360c0 11.6-9.4 21-21 21h-9V340c0-14.9-12.1-27-27-27zm-3 30v114h-90V343h90z\">\n",
      "         </path>\n",
      "         <path d=\"M422.6 232v-28c0-14.9-12.1-27-27-27h-24c-14.9 0-27 12.1-27 27v28c0 14.9 12.1 27 27 27h24c14.9 0 27-12.1 27-27zm-30-25v22h-18v-22h18zM299.6 177h-24c-14.9 0-27 12.1-27 27v28c0 14.9 12.1 27 27 27h24c14.9 0 27-12.1 27-27v-28c0-14.9-12.1-27-27-27zm-3 30v22h-18v-22h18zM371.6 157.7h24c14.9 0 27-12.1 27-27v-28c0-14.9-12.1-27-27-27h-24c-14.9 0-27 12.1-27 27v28c0 14.9 12.1 27 27 27zm3-30v-22h18v22h-18zM299.6 75.7h-24c-14.9 0-27 12.1-27 27v28c0 14.9 12.1 27 27 27h24c14.9 0 27-12.1 27-27v-28c0-14.9-12.1-27-27-27zm-3 30v22h-18v-22h18z\">\n",
      "         </path>\n",
      "        </g>\n",
      "       </svg>\n",
      "      </div>\n",
      "      <!-- -->\n",
      "      Le quartier\n",
      "     </h2>\n",
      "     <div class=\"global-styles__WhiteBox-sc-1aeotog-2 global-styles__DescriptionWrapper-sc-1aeotog-5 czLMZl\" data-test=\"localisation\" id=\"neighborhood-map\">\n",
      "      <div class=\"TitledDescription__TitledDescriptionContainer-sc-1r4hqf5-0 fHzMfE\">\n",
      "       <h3 class=\"typography__TitleH3-sc-111kv7i-1 jrMlIh\">\n",
      "        Localisation du bien\n",
      "       </h3>\n",
      "       <div class=\"TitledDescription__TitledDescriptionContent-sc-1r4hqf5-1 koqVoo\">\n",
      "        <p class=\"Map__AddressLine-sc-6i077b-2 eCDRsF\">\n",
      "         L’appartement est situé\n",
      "         <!-- -->\n",
      "         <strong>\n",
      "          à\n",
      "          <!-- -->\n",
      "          Paris\n",
      "          <!-- -->\n",
      "          (\n",
      "          <!-- -->\n",
      "          75011\n",
      "          <!-- -->\n",
      "          )\n",
      "         </strong>\n",
      "         , dans le quartier\n",
      "         <!-- -->\n",
      "         Nation-Alexandre Dumas\n",
      "         <!-- -->\n",
      "         .\n",
      "        </p>\n",
      "        <div class=\"Map__Demande-sc-6i077b-3 cBhdDr\">\n",
      "         <strong>\n",
      "          L’agence\n",
      "          <!-- -->\n",
      "          n’a pas souhaité communiquer son adresse exacte.\n",
      "         </strong>\n",
      "         <button class=\"ContactLink__StyledButton-sc-1ex39dt-0 leSrQT\">\n",
      "          Demander l’adresse\n",
      "         </button>\n",
      "        </div>\n",
      "        <div aria-hidden=\"true\" class=\"Map__MapWrapper-sc-6i077b-1 psKJo\">\n",
      "         <img alt=\"carte\" class=\"Map__BackgroundImage-sc-6i077b-4 iBFHTE\" src=\"/annonces_resources/img/background.ext.svg\"/>\n",
      "         <button class=\"Map__StyledButton-sc-6i077b-0 elQZGO Button__StyledButton-fl6j-2 duIBCg\" data-test=\"sl-ui.button\" format=\"normal\">\n",
      "          <span class=\"Button__ButtonText-fl6j-1 gdQzAO\">\n",
      "           Explorer le quartier\n",
      "          </span>\n",
      "         </button>\n",
      "        </div>\n",
      "       </div>\n",
      "      </div>\n",
      "     </div>\n",
      "    </section>\n",
      "   </div>\n",
      "   <div class=\"app__CWrapSide-aroj7e-4 dVPTyr\" data-test=\"side-content\">\n",
      "    <div class=\"Side__SideWrapper-nj4r0f-0 iWAKTP\">\n",
      "     <div class=\"Wrapper__ContactWrapper-sc-72u0wh-0 jqQAnr\">\n",
      "      <div class=\"LightSummary__Container-f6k8ax-0 hxnYKw\" data-test=\"side-agency-block\">\n",
      "       <div class=\"LightSummary__SummaryContainer-f6k8ax-2 deareG\">\n",
      "        <h3 class=\"LightSummary__Title-f6k8ax-1 lnUnld\">\n",
      "         AKELIUS FRANCE MANAGEMENT\n",
      "        </h3>\n",
      "        <div class=\"TextPhoneButton__Wrapper-sc-1gkbdjt-0 dSDGUf\" data-test=\"text-phone-button\">\n",
      "         <div class=\"Icon__IconElement-sc-1xnn3zd-0 jmcZPv\" color=\"#1a6fda\" data-test=\"sl-ui.icon\">\n",
      "          <svg viewbox=\"0 0 512 512\">\n",
      "           <g>\n",
      "            <path d=\"M391.3 382.7c-68.4-69.2-73.8-72.7-76.6-74.4-12.7-7.9-26.2-6.8-40.3 3.3-3 2.2-16.9 12.7-23.3 27.3-1.3-.6-2.5-1.2-3.7-1.9-12.6-7.3-25.8-17.9-39.3-31.6l-3.1-3.1c-13.5-13.7-23.9-27.1-30.9-39.7-.7-1.2-1.3-2.5-1.8-3.8 14.5-6.1 25.4-19.9 27.6-22.8 10.5-13.9 11.9-27.4 4.1-40.4-1.6-2.7-5-8.2-73.2-77.7-7.9-8.2-18.9-12.8-30.3-12.6-9.8.5-19.2 4.2-26.7 10.7-19.5 16.4-29.9 38.1-35.2 53.5-4.3 12.6-6.8 25.7-7.6 39-4.8 78.3 41.7 142.9 81.5 183.4l.1.1 4.3 4.4c38.4 39.1 99.3 84.7 173.9 84.7 2.7 0 5.4-.1 8.1-.2 13.3-.5 26.5-2.8 39.2-6.9 15.5-5 37.5-15 54.2-34.3 6.8-7.9 10.6-17 11.1-26.4.4-11.5-4-22.5-12.1-30.6.1 0 0 0 0 0zm-205.6-55.4c15.5 15.7 31 28.1 46 36.8 5.9 3.6 12.5 6 19.3 7.1 8.7 1.3 13.7-.9 17.5-3 5.3-3.2 9-8.6 10.9-15.8 1.1-4.4 7.8-11.5 13.3-15.5 1-.7 2.3-2.5 4.9-2.5 1.8 1.4 12.3 10.4 71.3 70.1 2 1.8 3.1 4.4 3.1 7.1-.1 2.3-1.3 4.9-3.5 7.4-12 13.8-28.4 21.2-40.2 25-10 3.2-20.4 5-30.9 5.3-67.9 3-123-39.2-158.4-75.3l-2.1-2.1c-.8-.8-1.6-1.5-2.3-2.2l.1-.1C99.4 334 58.1 277.1 62.2 210.4c.6-10.5 2.6-20.8 5.9-30.8 4-11.6 11.7-27.9 25.7-39.6 2.6-2.2 5.1-3.3 7.5-3.4h.2c2.6.1 5.1 1.3 6.9 3.2 60.2 61.4 68 71.1 69.1 72.8-.1 1-1.9 3.4-2.7 4.5-4 5.4-11.2 11.9-15.6 13-7.3 1.7-12.7 5.3-16.3 10.9-1.9 3.1-4.3 8.2-3.1 17.2 1 6.8 3.3 13.4 6.8 19.4 8.4 15.1 20.5 30.8 36 46.5l3.1 3.2zM239.1 105.8c-8.5-.9-16.1 5.3-17 13.7v.5c-.8 8.6 5.5 16.2 14.1 17h.1c73 6.5 131 64.1 138 137 .8 8 7.5 14.2 15.6 14.2.5 0 1 0 1.5-.1 8.6-.8 14.9-8.5 14.1-17.1-8.6-87.9-78.5-157.3-166.4-165.2z\">\n",
      "            </path>\n",
      "            <path d=\"M407.5 104.2c-42-42-97.4-67.9-156.6-73.2-8.6-.8-16.2 5.6-17 14.2s5.6 16.2 14.2 17c106.4 9.5 191 93.4 201.3 199.8.8 8 7.5 14.2 15.6 14.2.5 0 1 0 1.5-.1 8.6-.8 14.9-8.5 14.1-17.1-5.7-58.5-31.6-113.2-73.1-154.8z\">\n",
      "            </path>\n",
      "           </g>\n",
      "          </svg>\n",
      "         </div>\n",
      "         <div class=\"phone-button TextPhoneButton-sc-1gkbdjt-1 kCjgMH\">\n",
      "          <button type=\"button\">\n",
      "           Affichez le numéro\n",
      "          </button>\n",
      "         </div>\n",
      "        </div>\n",
      "       </div>\n",
      "       <img alt=\"logo AKELIUS FRANCE MANAGEMENT\" class=\"LightSummaryLogo__Logo-sc-1q8hl8u-0 iGyCno\" src=\"https://v.seloger.com/s/width/40/logos/0/0/5/g/005gz7djkmj5wctd91dxsd0ka8q2hjdi67j2kqz5x.jpg\"/>\n",
      "      </div>\n",
      "      <div class=\"Side__Separator-nj4r0f-1 jZkXpn\">\n",
      "      </div>\n",
      "      <div class=\"contact-form position-side Formstyled__ContactFormWrapper-sc-1oh5rnc-2 ddnZoq\">\n",
      "       <fieldset class=\"Formstyled__ContactFormFieldset-sc-1oh5rnc-3 gEBilA\" disabled=\"\">\n",
      "        <div class=\"Formstyled__ContactFormGroup-sc-1oh5rnc-7 dkRUKL\">\n",
      "         <div class=\"Formstyled__ContactFormInput-sc-1oh5rnc-1 pshwJ Input__InputGroup-sc-9txjc8-3 jdvcCW\" data-test=\"name\" label=\"Nom\" value=\"\">\n",
      "          <label class=\"Input__StyledLabel-sc-9txjc8-2 gFpOeM\" for=\"input_224860\">\n",
      "           Nom\n",
      "          </label>\n",
      "          <input aria-invalid=\"false\" class=\"Input__StyledInput-sc-9txjc8-0 kYiydX\" id=\"input_224860\" name=\"name\" spellcheck=\"false\" type=\"text\" value=\"\"/>\n",
      "         </div>\n",
      "         <div class=\"Formstyled__ContactFormInput-sc-1oh5rnc-1 pshwJ Input__InputGroup-sc-9txjc8-3 jdvcCW\" data-test=\"email\" label=\"Email\" value=\"\">\n",
      "          <label class=\"Input__StyledLabel-sc-9txjc8-2 gFpOeM\" for=\"input_224861\">\n",
      "           Email\n",
      "          </label>\n",
      "          <input aria-invalid=\"false\" class=\"Input__StyledInput-sc-9txjc8-0 kYiydX\" id=\"input_224861\" name=\"email\" spellcheck=\"false\" type=\"email\" value=\"\"/>\n",
      "         </div>\n",
      "         <div class=\"Formstyled__ContactFormInput-sc-1oh5rnc-1 pshwJ Input__InputGroup-sc-9txjc8-3 jdvcCW\" data-test=\"telephone\" label=\"Téléphone\" value=\"\">\n",
      "          <label class=\"Input__StyledLabel-sc-9txjc8-2 gFpOeM\" for=\"input_224862\">\n",
      "           Téléphone\n",
      "          </label>\n",
      "          <input aria-invalid=\"false\" class=\"Input__StyledInput-sc-9txjc8-0 kYiydX\" id=\"input_224862\" name=\"telephone\" spellcheck=\"true\" type=\"tel\" value=\"\"/>\n",
      "         </div>\n",
      "        </div>\n",
      "        <div class=\"precision Formstyled__ContactFormGroup-sc-1oh5rnc-7 dkRUKL\">\n",
      "         <button class=\"Formstyled__ToggleButton-sc-1oh5rnc-5 cjYWnk\">\n",
      "          Une précision ?\n",
      "         </button>\n",
      "         (facultatif)\n",
      "        </div>\n",
      "        <div class=\"ali Formstyled__ContactFormGroup-sc-1oh5rnc-7 dkRUKL\">\n",
      "         <label class=\"CheckboxWithLabel__Label-sc-1h2g24s-0 bHnUbp\">\n",
      "          <label class=\"CheckboxWithLabel__StyledCheckbox-sc-1h2g24s-1 bNbRBd Checkbox__CheckboxContainer-sc-1iyz5va-1 jkerwN\" data-test=\"sl-ui.checkbox\">\n",
      "           <input type=\"checkbox\"/>\n",
      "           <div class=\"check-icon\">\n",
      "            <div class=\"Checkbox__CheckboxIcon-sc-1iyz5va-0 jxuNCG Icon__IconElement-sc-1xnn3zd-0 ifzowN\" data-test=\"sl-ui.icon\">\n",
      "             <svg viewbox=\"0 0 512 512\">\n",
      "              <path d=\"M211.7 436.7c-7.5 0-14.7-3.2-19.7-9L17.4 225.9c-6.6-6.6-8.9-16.4-5.8-25.3 3.2-8.9 11.1-15.3 20.5-16.6 9.4-1.4 18.8 2.4 24.6 10l155.1 179.3 242-280.2c5.7-7.6 15.2-11.4 24.6-10 9.4 1.3 17.3 7.7 20.4 16.6 3.1 8.8.8 18.6-5.8 25.2L231.1 427.7c-4.9 5.7-12 8.9-19.4 9z\">\n",
      "              </path>\n",
      "             </svg>\n",
      "            </div>\n",
      "           </div>\n",
      "          </label>\n",
      "          <div class=\"CheckboxWithLabel__LabelText-sc-1h2g24s-2 jSJFPy\">\n",
      "           Je ne souhaite pas recevoir les annonces similaires et les suggestions personnalisées de SeLoger.\n",
      "           <button class=\"Formstyled__CheckLabelLink-sc-1oh5rnc-4 ifHRyH\">\n",
      "            En savoir +\n",
      "           </button>\n",
      "          </div>\n",
      "         </label>\n",
      "        </div>\n",
      "        <div class=\"Formstyled__ContactFormGroup-sc-1oh5rnc-7 dkRUKL\">\n",
      "         <button class=\"Formstyled__ContactFormSubmitButton-sc-1oh5rnc-0 cZYObZ Button__StyledButton-fl6j-2 cbGRUp\" data-test=\"submit-button\" disabled=\"\" format=\"normal\">\n",
      "          <div class=\"Button__ButtonIcon-fl6j-0 hOhti Icon__IconElement-sc-1xnn3zd-0 jGTLkV\" data-test=\"sl-ui.icon\">\n",
      "           <svg viewbox=\"0 0 512 512\">\n",
      "            <path d=\"M449.07 431.55H64.33c-29.06 0-52.63-24.37-52.63-54.44v-245c0-30.07 23.57-54.44 52.63-54.44h384.74c29.07 0 52.63 24.37 52.63 54.44v245c0 30.07-23.56 54.44-52.63 54.44zm12.37-281.73L256.7 354.24 52 149.59v229.7a12.58 12.58 0 0 0 12.37 12.52h384.7a12.58 12.58 0 0 0 12.37-12.52zm-380.8-28.33L256.7 297.35 433 121.49z\" data-name=\"R/uEA51-B-enveloppe\">\n",
      "            </path>\n",
      "           </svg>\n",
      "          </div>\n",
      "          <span class=\"Button__ButtonText-fl6j-1 gdQzAO\">\n",
      "           Contactez l'agence\n",
      "          </span>\n",
      "         </button>\n",
      "        </div>\n",
      "       </fieldset>\n",
      "      </div>\n",
      "      <div class=\"LegalInfos__Information-hv2iyy-0 cMfNMn\">\n",
      "       <span>\n",
      "        Vos informations (dont celles relatives à votre navigation sur SeLoger) sont traitées par Digital Classifieds France et transmises au professionnel de l’immobilier que vous souhaitez contacter afin de gérer votre demande. Pour exercer vos droits conformément à la loi « informatique et libertés »,\n",
      "       </span>\n",
      "       <span class=\"LegalInfos__ToggleSpan-hv2iyy-2 egipaf\">\n",
      "        cliquez ici\n",
      "       </span>\n",
      "       <div class=\"LegalInfos__InformationWrapper-hv2iyy-1 eoSXdY\">\n",
      "        Vous pouvez accéder aux données vous concernant, les faire rectifier ou demander leur effacement. Vous disposez également d’un droit d’opposition, d’un droit à la portabilité et d’un droit à la limitation du traitement des données qui vous concernent que vous pouvez exercer en vous adressant à : SeLoger / Digital Classifieds France - 65 Rue Ordener, 75880 Paris Cedex 18 ou en\n",
      "        <a href=\"https://www.seloger.com/contact.html?query=legal#formulaire\" rel=\"noopener noreferrer\" target=\"_blank\">\n",
      "         cliquant ici\n",
      "        </a>\n",
      "        . Pour plus d’informations, vous pouvez également consulter nos\n",
      "        <a href=\"https://www.seloger.com/CGU_politique_de_confidentialite.html\" rel=\"noopener noreferrer\" target=\"_blank\">\n",
      "         CGU - Politique de Confidentialité\n",
      "        </a>\n",
      "        .\n",
      "       </div>\n",
      "      </div>\n",
      "     </div>\n",
      "     <div class=\"pave-haut AdsWrapper__AdContainer-nyi8ot-0 jcOCGs\">\n",
      "     </div>\n",
      "     <div class=\"pave-milieu AdsWrapper__AdContainer-nyi8ot-0 jcOCGs\">\n",
      "     </div>\n",
      "    </div>\n",
      "   </div>\n",
      "  </div>\n",
      " </div>\n",
      " <div class=\"app__CWrap-aroj7e-1 gkJnPi\" data-test=\"bottom-content\">\n",
      "  <section class=\"TitledSection__TitledSectionContainer-sc-1rdkjev-0 iGhppP\" id=\"similar-properties-list\">\n",
      "   <h2 class=\"SectionTitle__TitleWrapper-dx8lqr-0 oHbpU\">\n",
      "    <div class=\"SectionTitle__Icon-dx8lqr-1 bZkDUm Icon__IconElement-sc-1xnn3zd-0 jbPwtO\" data-test=\"sl-ui.icon\">\n",
      "     <svg viewbox=\"0 0 512 512\">\n",
      "      <path d=\"M386.56 481H125.44A94.34 94.34 0 0 1 31 386.71V125.19A94.34 94.34 0 0 1 125.44 31h261.12A94.33 94.33 0 0 1 481 125.19v260.57A94.36 94.36 0 0 1 386.56 481zm-36.83-284.42h96.8v-71.39a59.9 59.9 0 0 0-60-59.84H125.44a59.92 59.92 0 0 0-59.84 55.83h99.5a17.67 17.67 0 1 1 0 35.34H65.47v229.24a59.91 59.91 0 0 0 60 59.85h56.9V295.06h-61.65a17.67 17.67 0 1 1 0-35.34h62.56a34.67 34.67 0 0 1 34.47 34.39v151.5h168.81a59.91 59.91 0 0 0 60-59.85V365.5H331.78v40.29A17.91 17.91 0 0 1 315 423.46a17.69 17.69 0 0 1-17.71-17.67v-41.23a34.44 34.44 0 0 1 34.47-34.4h114.77v-98.24H238.05a17.67 17.67 0 1 1 0-35.34h76.26V112.7a17.71 17.71 0 0 1 35.42 0z\" data-name=\"R/uEB41-B-plan\">\n",
      "      </path>\n",
      "     </svg>\n",
      "    </div>\n",
      "    <!-- -->\n",
      "    Annonces similaires\n",
      "   </h2>\n",
      "   <div class=\"PropertyLine__Container-sc-1hauni4-0 kRKYOb\">\n",
      "    <div class=\"swiper-container PropertyLine__Wrapper-sc-1hauni4-1 iQTxpk\">\n",
      "     <div class=\"swiper-wrapper PropertyLine__SwiperWrapper-sc-1hauni4-2 hPOPwc\">\n",
      "      <div class=\"swiper-slide PropertyLine__Slide-sc-1hauni4-3 hTiQAk\">\n",
      "       <div class=\"Advert__AdvertWrapper-sc-1s1sivd-0 fANNkD\">\n",
      "        <a class=\"Advert__HyperLink-sc-1s1sivd-10 bPwruT\" href=\"https://www.seloger.com/annonces/locations/appartement/paris-11eme-75/nation-alexandre-dumas/103873317.htm?bd=detail_biens_similaires\" target=\"_self\">\n",
      "         <div class=\"Advert-sc-1s1sivd-1 dPkFmu\">\n",
      "          <div class=\"Advert__AdvertTop-sc-1s1sivd-2 eTAifz\">\n",
      "          </div>\n",
      "          <div class=\"Advert__AdvertBottom-sc-1s1sivd-4 lfMVgJ\">\n",
      "           <div class=\"global-styles__InlineWrap-sc-1aeotog-0 Advert__Wrapper-sc-1s1sivd-11 fjRWep\">\n",
      "            <p class=\"Advert__PropertyTypeText-sc-1s1sivd-5 fALFGl\">\n",
      "             Appartement\n",
      "            </p>\n",
      "            <p class=\"Advert__TextPrice-sc-1s1sivd-6 feHmWA\">\n",
      "             <span class=\"global-styles__TextNoWrap-sc-1aeotog-6 dVzJN\">\n",
      "              750 €\n",
      "             </span>\n",
      "            </p>\n",
      "           </div>\n",
      "           <div class=\"Advert__EstateDetails-sc-1s1sivd-8 egjNPa\">\n",
      "            <div class=\"Tags__TagContainer-sc-1gccxml-0 kQEoGa\">\n",
      "             1 pièce\n",
      "            </div>\n",
      "            <div class=\"Tags__TagContainer-sc-1gccxml-0 kQEoGa\">\n",
      "             21 m²\n",
      "            </div>\n",
      "           </div>\n",
      "           <p class=\"Advert__LocationText-sc-1s1sivd-7 kiYMGL\">\n",
      "            Paris 11ème\n",
      "           </p>\n",
      "          </div>\n",
      "         </div>\n",
      "        </a>\n",
      "        <div class=\"BookmarkButtonstyled__MetaBookmarkButtonContainer-sc-1happ1v-1 ghDgN\">\n",
      "         <div class=\"BookmarkButtonstyled__HeartIcon-sc-1happ1v-0 jqteSK Icon__IconElement-sc-1xnn3zd-0 iXyOfa\" data-test=\"sl-ui.icon\">\n",
      "          <svg viewbox=\"0 0 512 512\">\n",
      "           <path d=\"M59.7 243.4l184.7 202.7c3.2 3.6 7.3 5.4 11.5 5.4s8.3-1.8 11.6-5.5l184.6-202.7c41.9-41.9 41.9-109.7 0-151.5-41.7-41.7-109.5-41.7-151.5.2l-35.3 34.4c-5.2 5.1-13.5 5.1-18.7 0l-35.4-34.5c-41.8-41.8-109.7-41.8-151.5 0s-41.8 109.6 0 151.5zM40.8 72.9c52.3-52.2 137.1-52.2 189.2-.1l26 25.3L281.8 73c52.3-52.3 137.1-52.3 189.4 0 52.3 52.3 52.3 137.1.4 188.9L287.4 464c-8.3 9.2-19.6 14.3-31.4 14.3-11.9 0-23.2-5.1-31.4-14.2l-184-202c-52.1-52.3-52-136.9.2-189.2z\">\n",
      "           </path>\n",
      "          </svg>\n",
      "         </div>\n",
      "         <div class=\"BookmarkButtonstyled__Label-sc-1happ1v-2 bNfyoM\">\n",
      "          Sauvegarder\n",
      "         </div>\n",
      "         <div class=\"BookmarkButtonstyled__Updating-sc-1happ1v-3 bTHPIz\" data-test=\"spinner\">\n",
      "          <div class=\"Spinner__OuterBallPulse-sc-16m3fs5-0 fbcNDd\">\n",
      "           <div class=\"Spinner__InnerBallPulse-sc-16m3fs5-1 ieGjBx\">\n",
      "           </div>\n",
      "           <div class=\"Spinner__InnerBallPulse-sc-16m3fs5-1 ieGjBx\">\n",
      "           </div>\n",
      "           <div class=\"Spinner__InnerBallPulse-sc-16m3fs5-1 ieGjBx\">\n",
      "           </div>\n",
      "          </div>\n",
      "         </div>\n",
      "        </div>\n",
      "       </div>\n",
      "      </div>\n",
      "      <div class=\"swiper-slide PropertyLine__Slide-sc-1hauni4-3 hTiQAk\">\n",
      "       <div class=\"Advert__AdvertWrapper-sc-1s1sivd-0 fANNkD\">\n",
      "        <a class=\"Advert__HyperLink-sc-1s1sivd-10 bPwruT\" href=\"https://www.seloger.com/annonces/locations/appartement/paris-11eme-75/nation-alexandre-dumas/158785229.htm?bd=detail_biens_similaires\" target=\"_self\">\n",
      "         <div class=\"Advert-sc-1s1sivd-1 dPkFmu\">\n",
      "          <div class=\"Advert__AdvertTop-sc-1s1sivd-2 eTAifz\">\n",
      "          </div>\n",
      "          <div class=\"Advert__AdvertBottom-sc-1s1sivd-4 lfMVgJ\">\n",
      "           <div class=\"global-styles__InlineWrap-sc-1aeotog-0 Advert__Wrapper-sc-1s1sivd-11 fjRWep\">\n",
      "            <p class=\"Advert__PropertyTypeText-sc-1s1sivd-5 fALFGl\">\n",
      "             Appartement\n",
      "            </p>\n",
      "            <p class=\"Advert__TextPrice-sc-1s1sivd-6 feHmWA\">\n",
      "             <span class=\"global-styles__TextNoWrap-sc-1aeotog-6 dVzJN\">\n",
      "              760 €\n",
      "             </span>\n",
      "            </p>\n",
      "           </div>\n",
      "           <div class=\"Advert__EstateDetails-sc-1s1sivd-8 egjNPa\">\n",
      "            <div class=\"Tags__TagContainer-sc-1gccxml-0 kQEoGa\">\n",
      "             1 pièce\n",
      "            </div>\n",
      "            <div class=\"Tags__TagContainer-sc-1gccxml-0 kQEoGa\">\n",
      "             21 m²\n",
      "            </div>\n",
      "           </div>\n",
      "           <p class=\"Advert__LocationText-sc-1s1sivd-7 kiYMGL\">\n",
      "            Paris 11ème\n",
      "           </p>\n",
      "          </div>\n",
      "         </div>\n",
      "        </a>\n",
      "        <div class=\"BookmarkButtonstyled__MetaBookmarkButtonContainer-sc-1happ1v-1 ghDgN\">\n",
      "         <div class=\"BookmarkButtonstyled__HeartIcon-sc-1happ1v-0 jqteSK Icon__IconElement-sc-1xnn3zd-0 iXyOfa\" data-test=\"sl-ui.icon\">\n",
      "          <svg viewbox=\"0 0 512 512\">\n",
      "           <path d=\"M59.7 243.4l184.7 202.7c3.2 3.6 7.3 5.4 11.5 5.4s8.3-1.8 11.6-5.5l184.6-202.7c41.9-41.9 41.9-109.7 0-151.5-41.7-41.7-109.5-41.7-151.5.2l-35.3 34.4c-5.2 5.1-13.5 5.1-18.7 0l-35.4-34.5c-41.8-41.8-109.7-41.8-151.5 0s-41.8 109.6 0 151.5zM40.8 72.9c52.3-52.2 137.1-52.2 189.2-.1l26 25.3L281.8 73c52.3-52.3 137.1-52.3 189.4 0 52.3 52.3 52.3 137.1.4 188.9L287.4 464c-8.3 9.2-19.6 14.3-31.4 14.3-11.9 0-23.2-5.1-31.4-14.2l-184-202c-52.1-52.3-52-136.9.2-189.2z\">\n",
      "           </path>\n",
      "          </svg>\n",
      "         </div>\n",
      "         <div class=\"BookmarkButtonstyled__Label-sc-1happ1v-2 bNfyoM\">\n",
      "          Sauvegarder\n",
      "         </div>\n",
      "         <div class=\"BookmarkButtonstyled__Updating-sc-1happ1v-3 bTHPIz\" data-test=\"spinner\">\n",
      "          <div class=\"Spinner__OuterBallPulse-sc-16m3fs5-0 fbcNDd\">\n",
      "           <div class=\"Spinner__InnerBallPulse-sc-16m3fs5-1 ieGjBx\">\n",
      "           </div>\n",
      "           <div class=\"Spinner__InnerBallPulse-sc-16m3fs5-1 ieGjBx\">\n",
      "           </div>\n",
      "           <div class=\"Spinner__InnerBallPulse-sc-16m3fs5-1 ieGjBx\">\n",
      "           </div>\n",
      "          </div>\n",
      "         </div>\n",
      "        </div>\n",
      "       </div>\n",
      "      </div>\n",
      "      <div class=\"swiper-slide PropertyLine__Slide-sc-1hauni4-3 hTiQAk\">\n",
      "       <div class=\"Advert__AdvertWrapper-sc-1s1sivd-0 fANNkD\">\n",
      "        <a class=\"Advert__HyperLink-sc-1s1sivd-10 bPwruT\" href=\"https://www.seloger.com/annonces/locations/appartement/paris-11eme-75/belleville-saint-maur/158930633.htm?bd=detail_biens_similaires\" target=\"_self\">\n",
      "         <div class=\"Advert-sc-1s1sivd-1 dPkFmu\">\n",
      "          <div class=\"Advert__AdvertTop-sc-1s1sivd-2 eTAifz\">\n",
      "          </div>\n",
      "          <div class=\"Advert__AdvertBottom-sc-1s1sivd-4 lfMVgJ\">\n",
      "           <div class=\"global-styles__InlineWrap-sc-1aeotog-0 Advert__Wrapper-sc-1s1sivd-11 fjRWep\">\n",
      "            <p class=\"Advert__PropertyTypeText-sc-1s1sivd-5 fALFGl\">\n",
      "             Appartement\n",
      "            </p>\n",
      "            <p class=\"Advert__TextPrice-sc-1s1sivd-6 feHmWA\">\n",
      "             <span class=\"global-styles__TextNoWrap-sc-1aeotog-6 dVzJN\">\n",
      "              790 €\n",
      "             </span>\n",
      "            </p>\n",
      "           </div>\n",
      "           <div class=\"Advert__EstateDetails-sc-1s1sivd-8 egjNPa\">\n",
      "            <div class=\"Tags__TagContainer-sc-1gccxml-0 kQEoGa\">\n",
      "             1 pièce\n",
      "            </div>\n",
      "            <div class=\"Tags__TagContainer-sc-1gccxml-0 kQEoGa\">\n",
      "             21.65 m²\n",
      "            </div>\n",
      "           </div>\n",
      "           <p class=\"Advert__LocationText-sc-1s1sivd-7 kiYMGL\">\n",
      "            Paris 11ème\n",
      "           </p>\n",
      "          </div>\n",
      "         </div>\n",
      "        </a>\n",
      "        <div class=\"BookmarkButtonstyled__MetaBookmarkButtonContainer-sc-1happ1v-1 ghDgN\">\n",
      "         <div class=\"BookmarkButtonstyled__HeartIcon-sc-1happ1v-0 jqteSK Icon__IconElement-sc-1xnn3zd-0 iXyOfa\" data-test=\"sl-ui.icon\">\n",
      "          <svg viewbox=\"0 0 512 512\">\n",
      "           <path d=\"M59.7 243.4l184.7 202.7c3.2 3.6 7.3 5.4 11.5 5.4s8.3-1.8 11.6-5.5l184.6-202.7c41.9-41.9 41.9-109.7 0-151.5-41.7-41.7-109.5-41.7-151.5.2l-35.3 34.4c-5.2 5.1-13.5 5.1-18.7 0l-35.4-34.5c-41.8-41.8-109.7-41.8-151.5 0s-41.8 109.6 0 151.5zM40.8 72.9c52.3-52.2 137.1-52.2 189.2-.1l26 25.3L281.8 73c52.3-52.3 137.1-52.3 189.4 0 52.3 52.3 52.3 137.1.4 188.9L287.4 464c-8.3 9.2-19.6 14.3-31.4 14.3-11.9 0-23.2-5.1-31.4-14.2l-184-202c-52.1-52.3-52-136.9.2-189.2z\">\n",
      "           </path>\n",
      "          </svg>\n",
      "         </div>\n",
      "         <div class=\"BookmarkButtonstyled__Label-sc-1happ1v-2 bNfyoM\">\n",
      "          Sauvegarder\n",
      "         </div>\n",
      "         <div class=\"BookmarkButtonstyled__Updating-sc-1happ1v-3 bTHPIz\" data-test=\"spinner\">\n",
      "          <div class=\"Spinner__OuterBallPulse-sc-16m3fs5-0 fbcNDd\">\n",
      "           <div class=\"Spinner__InnerBallPulse-sc-16m3fs5-1 ieGjBx\">\n",
      "           </div>\n",
      "           <div class=\"Spinner__InnerBallPulse-sc-16m3fs5-1 ieGjBx\">\n",
      "           </div>\n",
      "           <div class=\"Spinner__InnerBallPulse-sc-16m3fs5-1 ieGjBx\">\n",
      "           </div>\n",
      "          </div>\n",
      "         </div>\n",
      "        </div>\n",
      "       </div>\n",
      "      </div>\n",
      "     </div>\n",
      "    </div>\n",
      "    <div class=\"PropertySliderButtons__SliderButton-a74czr-0 prevSliderButton PropertySliderButtons__PrevButton-a74czr-1 cmabZE\">\n",
      "     <div class=\"StyledIcon-vdo5jm-0 bBIEDK Icon__IconElement-sc-1xnn3zd-0 jGTLkV\" data-test=\"sl-ui.icon\">\n",
      "      <svg viewbox=\"0 0 512 512\">\n",
      "       <path d=\"M346.1 484.7c-6.5 0-12.7-2.6-17.3-7.3L115.1 256 328.8 34.7c9.2-9.5 24.4-9.8 33.9-.6s9.8 24.4.6 33.9L181.9 256l181.5 188c9.2 9.5 9 24.7-.6 33.9-4.5 4.4-10.5 6.8-16.7 6.8z\">\n",
      "       </path>\n",
      "      </svg>\n",
      "     </div>\n",
      "    </div>\n",
      "    <div class=\"PropertySliderButtons__SliderButton-a74czr-0 nextSliderButton PropertySliderButtons__NextButton-a74czr-2 eaLQwK\">\n",
      "     <div class=\"StyledIcon-vdo5jm-0 bBIEDK Icon__IconElement-sc-1xnn3zd-0 jGTLkV\" data-test=\"sl-ui.icon\">\n",
      "      <svg viewbox=\"0 0 512 512\">\n",
      "       <path d=\"M183.7 484.7c-13.3 0-24-10.8-24-24 0-6.2 2.4-12.2 6.7-16.7L348 256 166.5 68c-9.4-9.4-9.4-24.6 0-33.9s24.6-9.4 33.9 0l.6.6L414.7 256 201 477.3c-4.5 4.7-10.7 7.4-17.3 7.4z\">\n",
      "       </path>\n",
      "      </svg>\n",
      "     </div>\n",
      "    </div>\n",
      "   </div>\n",
      "  </section>\n",
      "  <section class=\"TitledSection__TitledSectionContainer-sc-1rdkjev-0 iGhppP\" id=\"edito\">\n",
      "   <h2 class=\"SectionTitle__TitleWrapper-dx8lqr-0 oHbpU\">\n",
      "    <div class=\"SectionTitle__Icon-dx8lqr-1 bZkDUm Icon__IconElement-sc-1xnn3zd-0 jbPwtO\" data-test=\"sl-ui.icon\">\n",
      "     <svg viewbox=\"0 0 512 512\">\n",
      "      <path d=\"M480.4 450.2l-20.2-74.6c33-66.3 22.4-148.9-28.1-203.2-26.7-28.7-61.3-46.1-98.2-50.2-6.2-10.3-13.5-20-21.8-28.8-63.9-68.1-167.9-68.1-231.8 0-50.9 54.3-61.6 136.8-28.4 203l-20.4 74.5c-2.2 8.2 2.6 16.7 10.8 18.9 2.8.8 5.8.7 8.7-.2l68.9-21.4c18.6 10.5 39.1 17 60.3 19.2 6.2 10.4 13.5 20.2 21.8 29.1 50.7 54.5 128.4 66.2 190.8 30.9l68.2 21.4c8.1 2.5 16.7-2 19.3-10.1.9-2.7.9-5.7.1-8.5zM117.3 336.8l-48.6 15.1 14.6-53.2c1.1-3.8.6-8-1.3-11.5-30.4-55.6-22.3-126.8 20.9-172.8 51.7-55.1 135.2-55.1 186.9 0 52.3 55.7 52.3 146.3 0 201.9-42.8 45.5-108.3 54-159.7 22.1-4-2.3-8.6-2.9-12.8-1.6zm311.6 41l14.4 53.3-48-15c-4.3-1.4-9-.7-12.8 1.6-50.9 31.9-115.7 23.4-158.1-22.1-2.6-2.8-5.1-5.7-7.4-8.7 35-4.7 68.6-21.4 95-49.5 46-49 58.6-119.9 37.8-180.9 22.9 6.5 43.6 19.2 59.6 36.8 42.8 46.1 50.9 117.4 20.7 173.1-1.7 3.6-2.2 7.7-1.2 11.4z\">\n",
      "      </path>\n",
      "     </svg>\n",
      "    </div>\n",
      "    <!-- -->\n",
      "    Nos conseils\n",
      "   </h2>\n",
      "   <div class=\"Edito__ArticlesList-t2jyks-0 kqjpEP\">\n",
      "    <a class=\"EditoArticle__Article-ljcifx-0 gfjexJ\" href=\"https://edito.seloger.com/conseils-d-experts/acheter/fixe-date-signer-l-acte-de-vente-chez-notaire-article-37225.html\" target=\"_blank\">\n",
      "     <div class=\"EditoArticle__ImgContainer-ljcifx-2 wekdN\">\n",
      "      <div class=\"EditoArticle__Img-ljcifx-3 kXBScq\">\n",
      "      </div>\n",
      "     </div>\n",
      "     <div class=\"EditoArticle__Title-ljcifx-1 fcdyFw\">\n",
      "      Qui fixe la date pour signer l'acte de vente chez le notaire ?\n",
      "     </div>\n",
      "    </a>\n",
      "    <a class=\"EditoArticle__Article-ljcifx-0 gfjexJ\" href=\"https://edito.seloger.com/conseils-d-experts/acheter/frais-de-notaire-identiques-lorsqu-on-signe-un-acte-de-vente-a-distance-article-37165.html\" target=\"_blank\">\n",
      "     <div class=\"EditoArticle__ImgContainer-ljcifx-2 wekdN\">\n",
      "      <div class=\"EditoArticle__Img-ljcifx-3 kXBScq\">\n",
      "      </div>\n",
      "     </div>\n",
      "     <div class=\"EditoArticle__Title-ljcifx-1 fcdyFw\">\n",
      "      Les frais de notaire sont-ils identiques lorsqu’on signe un acte de vente à distance ?\n",
      "     </div>\n",
      "    </a>\n",
      "    <a class=\"EditoArticle__Article-ljcifx-0 gfjexJ\" href=\"https://edito.seloger.com/conseils-d-experts/acheter/guide-achat-immobilier-sommaire.html\" target=\"_blank\">\n",
      "     <div class=\"EditoArticle__ImgContainer-ljcifx-2 wekdN\">\n",
      "      <div class=\"EditoArticle__Img-ljcifx-3 kXBScq\">\n",
      "      </div>\n",
      "     </div>\n",
      "     <div class=\"EditoArticle__Title-ljcifx-1 fcdyFw\">\n",
      "      Le guide de l'achat immobilier\n",
      "     </div>\n",
      "    </a>\n",
      "    <a class=\"EditoArticle__Article-ljcifx-0 gfjexJ\" href=\"https://edito.seloger.com/conseils-d-experts/acheter/les-check-lists-avant-d-acheter-votre-appartement-sommaire.html\" target=\"_blank\">\n",
      "     <div class=\"EditoArticle__ImgContainer-ljcifx-2 wekdN\">\n",
      "      <div class=\"EditoArticle__Img-ljcifx-3 kXBScq\">\n",
      "      </div>\n",
      "     </div>\n",
      "     <div class=\"EditoArticle__Title-ljcifx-1 fcdyFw\">\n",
      "      Les check-lists avant d’acheter votre appartement\n",
      "     </div>\n",
      "    </a>\n",
      "   </div>\n",
      "  </section>\n",
      "  <div class=\"BreadCrumb__Wrapper-sc-1roreyg-0 bnoerA\" id=\"fil-d-ariane\">\n",
      "   <ol class=\"Breadcrumb__BreadcrumbContainer-sc-1v7tu64-1 dRmGVa\" data-test=\"sl-ui.breadcrumb\" itemscope=\"\" itemtype=\"http://schema.org/BreadcrumbList\">\n",
      "    <li class=\"Breadcrumb__ElementContainer-sc-1v7tu64-0 gIGskl\" itemprop=\"itemListElement\" itemscope=\"\" itemtype=\"http://schema.org/ListItem\" title=\"Accueil\">\n",
      "     <a href=\"https://seloger.com\" itemprop=\"item\">\n",
      "      <span itemprop=\"name\">\n",
      "       Accueil\n",
      "      </span>\n",
      "     </a>\n",
      "     <meta content=\"1\" itemprop=\"position\"/>\n",
      "    </li>\n",
      "    <li class=\"Breadcrumb__ElementContainer-sc-1v7tu64-0 gIGskl\" itemprop=\"itemListElement\" itemscope=\"\" itemtype=\"http://schema.org/ListItem\" title=\"Annonces\">\n",
      "     <a href=\"https://seloger.com/immobilier/\" itemprop=\"item\">\n",
      "      <span itemprop=\"name\">\n",
      "       Annonces\n",
      "      </span>\n",
      "     </a>\n",
      "     <meta content=\"2\" itemprop=\"position\"/>\n",
      "    </li>\n",
      "    <li class=\"Breadcrumb__ElementContainer-sc-1v7tu64-0 gIGskl\" itemprop=\"itemListElement\" itemscope=\"\" itemtype=\"http://schema.org/ListItem\" title=\"Île-de-France\">\n",
      "     <a href=\"https://www.seloger.com/immobilier/locations/bien-appartement/ile-de-france.htm\" itemprop=\"item\">\n",
      "      <span itemprop=\"name\">\n",
      "       Île-de-France\n",
      "      </span>\n",
      "     </a>\n",
      "     <meta content=\"3\" itemprop=\"position\"/>\n",
      "    </li>\n",
      "    <li class=\"Breadcrumb__ElementContainer-sc-1v7tu64-0 gIGskl\" itemprop=\"itemListElement\" itemscope=\"\" itemtype=\"http://schema.org/ListItem\" title=\"Paris\">\n",
      "     <a href=\"https://www.seloger.com/immobilier/locations/75/bien-appartement/\" itemprop=\"item\">\n",
      "      <span itemprop=\"name\">\n",
      "       Paris\n",
      "      </span>\n",
      "     </a>\n",
      "     <meta content=\"4\" itemprop=\"position\"/>\n",
      "    </li>\n",
      "    <li class=\"Breadcrumb__ElementContainer-sc-1v7tu64-0 gIGskl\" itemprop=\"itemListElement\" itemscope=\"\" itemtype=\"http://schema.org/ListItem\" title=\"Paris 11ème\">\n",
      "     <a href=\"https://www.seloger.com/immobilier/locations/immo-paris-11eme-75/bien-appartement/\" itemprop=\"item\">\n",
      "      <span itemprop=\"name\">\n",
      "       Paris 11ème\n",
      "      </span>\n",
      "     </a>\n",
      "     <meta content=\"5\" itemprop=\"position\"/>\n",
      "    </li>\n",
      "    <li class=\"Breadcrumb__ElementContainer-sc-1v7tu64-0 gIGskl\" itemprop=\"itemListElement\" itemscope=\"\" itemtype=\"http://schema.org/ListItem\" title=\"Nation-Alexandre Dumas\">\n",
      "     <a href=\"https://www.seloger.com/immobilier/locations/immo-paris-11eme-75/quartier-nation-alexandre-dumas/bien-appartement/\" itemprop=\"item\">\n",
      "      <span itemprop=\"name\">\n",
      "       Nation-Alexandre Dumas\n",
      "      </span>\n",
      "     </a>\n",
      "     <meta content=\"6\" itemprop=\"position\"/>\n",
      "    </li>\n",
      "    <li class=\"Breadcrumb__ElementContainer-sc-1v7tu64-0 gIGskl\" itemprop=\"itemListElement\" itemscope=\"\" itemtype=\"http://schema.org/ListItem\" title=\"Location Appartement\">\n",
      "     <a href=\"https://www.seloger.com/immobilier/locations/immo-paris-11eme-75/bien-appartement/\" itemprop=\"item\">\n",
      "      <span itemprop=\"name\">\n",
      "       Location Appartement\n",
      "      </span>\n",
      "     </a>\n",
      "     <meta content=\"7\" itemprop=\"position\"/>\n",
      "    </li>\n",
      "    <li class=\"Breadcrumb__ElementContainer-sc-1v7tu64-0 gIGskl\" itemprop=\"itemListElement\" itemscope=\"\" itemtype=\"http://schema.org/ListItem\" title=\"Location Appartement 1 pièce 21,37m²\">\n",
      "     <a itemprop=\"item\">\n",
      "      <span itemprop=\"name\">\n",
      "       Location Appartement 1 pièce 21,37m²\n",
      "      </span>\n",
      "     </a>\n",
      "     <meta content=\"8\" itemprop=\"position\"/>\n",
      "    </li>\n",
      "   </ol>\n",
      "  </div>\n",
      " </div>\n",
      "</main>\n",
      "\n"
     ]
    }
   ],
   "source": [
    "print(soup.main.prettify())"
   ]
  },
  {
   "cell_type": "markdown",
   "metadata": {},
   "source": [
    "# Navigate the soup\n",
    "Most of the key information is in the **main** section of the HTML"
   ]
  },
  {
   "cell_type": "markdown",
   "metadata": {},
   "source": [
    "## Title"
   ]
  },
  {
   "cell_type": "code",
   "execution_count": 503,
   "metadata": {},
   "outputs": [
    {
     "data": {
      "text/plain": [
       "'Location Studio Paris 11ème - Appartement F1/T1/1 pièce 21,37m² 1015€/mois - SeLoger'"
      ]
     },
     "execution_count": 503,
     "metadata": {},
     "output_type": "execute_result"
    }
   ],
   "source": [
    "soup.title.string"
   ]
  },
  {
   "cell_type": "markdown",
   "metadata": {},
   "source": [
    "## URL"
   ]
  },
  {
   "cell_type": "code",
   "execution_count": 504,
   "metadata": {},
   "outputs": [
    {
     "name": "stdout",
     "output_type": "stream",
     "text": [
      "- Studio refait à neuf de 21.37 m² \r\n",
      "- 303 rue du Faubourg Saint-Antoine\r\n",
      "- 5ème étage avec ascenseur\r\n",
      "- Balcon exposé Sud\r\n",
      "- Rangements\r\n",
      "- Parquet\r\n",
      "- Four combiné\r\n",
      "- Cuisine intégrée\r\n",
      "- Plaque vitrocéramique\r\n",
      "- Réfrigérateur / congélateur\r\n",
      "-\n",
      "https://www.seloger.com/annonces/locations/appartement/paris-11eme-75/nation-alexandre-dumas/155711407.htm\n"
     ]
    }
   ],
   "source": [
    "for val in soup.find_all('meta'):\n",
    "    if val.get('name') == 'description':\n",
    "        print(val.get('content'))\n",
    "        print(val.link.get('href'))"
   ]
  },
  {
   "cell_type": "markdown",
   "metadata": {},
   "source": [
    "## Nom du quartier, arrondissement, ville\n",
    "### Option 1 -  Use summary block"
   ]
  },
  {
   "cell_type": "code",
   "execution_count": 505,
   "metadata": {},
   "outputs": [],
   "source": [
    "summary_block = main_tag.find_all('div', class_='Summarystyled__MainWrapper-tzuaot-1 erajXw')[0]"
   ]
  },
  {
   "cell_type": "code",
   "execution_count": 506,
   "metadata": {},
   "outputs": [
    {
     "data": {
      "text/plain": [
       "[<div class=\"Summarystyled__Address-tzuaot-5 fLUFm\">Quartier <!-- -->Nation-Alexandre Dumas<!-- -->, <!-- -->Paris 11ème</div>]"
      ]
     },
     "execution_count": 506,
     "metadata": {},
     "output_type": "execute_result"
    }
   ],
   "source": [
    "summary_block.find_all('div', class_='Summarystyled__Address-tzuaot-5 fLUFm')"
   ]
  },
  {
   "cell_type": "markdown",
   "metadata": {},
   "source": [
    "### Option 2 - Use main block"
   ]
  },
  {
   "cell_type": "code",
   "execution_count": 507,
   "metadata": {},
   "outputs": [],
   "source": [
    "main_tag = soup.find_all('div', class_='app__CWrapMain-aroj7e-3 FfHMD')[0]"
   ]
  },
  {
   "cell_type": "code",
   "execution_count": 508,
   "metadata": {},
   "outputs": [
    {
     "data": {
      "text/plain": [
       "bs4.element.Tag"
      ]
     },
     "execution_count": 508,
     "metadata": {},
     "output_type": "execute_result"
    }
   ],
   "source": [
    "type(main_tag)"
   ]
  },
  {
   "cell_type": "code",
   "execution_count": 509,
   "metadata": {},
   "outputs": [],
   "source": [
    "quartier_block = (\n",
    "    main_tag.find('p', class_=\"Map__AddressLine-sc-6i077b-2 eCDRsF\")\n",
    ")"
   ]
  },
  {
   "cell_type": "code",
   "execution_count": 510,
   "metadata": {},
   "outputs": [
    {
     "data": {
      "text/plain": [
       "['L’appartement est situé',\n",
       " ' ',\n",
       " ' ',\n",
       " <strong>à <!-- -->Paris<!-- --> (<!-- -->75011<!-- -->)</strong>,\n",
       " ', dans le quartier ',\n",
       " ' ',\n",
       " 'Nation-Alexandre Dumas',\n",
       " ' ',\n",
       " '.']"
      ]
     },
     "execution_count": 510,
     "metadata": {},
     "output_type": "execute_result"
    }
   ],
   "source": [
    "quartier_block.contents"
   ]
  },
  {
   "cell_type": "code",
   "execution_count": 511,
   "metadata": {},
   "outputs": [],
   "source": [
    "ville = quartier_block.strong"
   ]
  },
  {
   "cell_type": "code",
   "execution_count": 512,
   "metadata": {},
   "outputs": [
    {
     "name": "stdout",
     "output_type": "stream",
     "text": [
      "['à\\xa0', ' ', 'Paris', ' ', ' (', ' ', '75011', ' ', ')']\n"
     ]
    }
   ],
   "source": [
    "print(ville.contents)"
   ]
  },
  {
   "cell_type": "code",
   "execution_count": 513,
   "metadata": {},
   "outputs": [
    {
     "data": {
      "text/plain": [
       "'Paris  ( 75011 )'"
      ]
     },
     "execution_count": 513,
     "metadata": {},
     "output_type": "execute_result"
    }
   ],
   "source": [
    "''.join(ville.contents[2:])"
   ]
  },
  {
   "cell_type": "code",
   "execution_count": 514,
   "metadata": {},
   "outputs": [
    {
     "data": {
      "text/plain": [
       "'Nation-Alexandre Dumas'"
      ]
     },
     "execution_count": 514,
     "metadata": {},
     "output_type": "execute_result"
    }
   ],
   "source": [
    "quartier_block.contents[-3]"
   ]
  },
  {
   "cell_type": "markdown",
   "metadata": {},
   "source": [
    "## Rent price"
   ]
  },
  {
   "cell_type": "code",
   "execution_count": 515,
   "metadata": {},
   "outputs": [],
   "source": [
    "price_block = (\n",
    "    main_tag\n",
    "    .find_all('div', id='a-propos-de-ce-prix', class_='Pricestyled__Container-uc7t2j-1 djoCgs')\n",
    ")[0]"
   ]
  },
  {
   "cell_type": "code",
   "execution_count": 516,
   "metadata": {},
   "outputs": [
    {
     "data": {
      "text/plain": [
       "bs4.element.Tag"
      ]
     },
     "execution_count": 516,
     "metadata": {},
     "output_type": "execute_result"
    }
   ],
   "source": [
    "type(price_block)"
   ]
  },
  {
   "cell_type": "code",
   "execution_count": 517,
   "metadata": {},
   "outputs": [],
   "source": [
    "current_price = price_block.find_all('div', class_='Pricestyled__Price-uc7t2j-0 jWsTKU')[0].find('div').contents[0]"
   ]
  },
  {
   "cell_type": "code",
   "execution_count": 518,
   "metadata": {},
   "outputs": [
    {
     "data": {
      "text/plain": [
       "'1 015 €'"
      ]
     },
     "execution_count": 518,
     "metadata": {},
     "output_type": "execute_result"
    }
   ],
   "source": [
    "current_price"
   ]
  },
  {
   "cell_type": "markdown",
   "metadata": {},
   "source": [
    "## Taxes and fees"
   ]
  },
  {
   "cell_type": "code",
   "execution_count": 519,
   "metadata": {},
   "outputs": [],
   "source": [
    "taxes_and_fees_block = price_block.find_all('div', class_='Pricestyled__Panel-uc7t2j-4 OLjZF')[0]"
   ]
  },
  {
   "cell_type": "code",
   "execution_count": 520,
   "metadata": {},
   "outputs": [],
   "source": [
    "assert taxes_and_fees_block.strong.contents[0] == 'Charges comprises'"
   ]
  },
  {
   "cell_type": "code",
   "execution_count": 521,
   "metadata": {},
   "outputs": [
    {
     "data": {
      "text/plain": [
       "[<div>- Complément de loyer :<!-- --> <strong>268 €</strong></div>,\n",
       " <div>- Provisions pour charges avec regularisation annuelle :<!-- --> <strong>45 €</strong></div>]"
      ]
     },
     "execution_count": 521,
     "metadata": {},
     "output_type": "execute_result"
    }
   ],
   "source": [
    "taxes_and_fees_block.find_all('div')"
   ]
  },
  {
   "cell_type": "code",
   "execution_count": 522,
   "metadata": {},
   "outputs": [],
   "source": [
    "# try except sur les fluctuations de prix"
   ]
  },
  {
   "cell_type": "code",
   "execution_count": 523,
   "metadata": {},
   "outputs": [],
   "source": [
    "price_fluctuations_block = price_block.find_all('div', class_='PriceHistorystyled__Container-sc-18jhpbr-0 iSZUrX')[0]"
   ]
  },
  {
   "cell_type": "code",
   "execution_count": 524,
   "metadata": {},
   "outputs": [
    {
     "data": {
      "text/plain": [
       "'45 €'"
      ]
     },
     "execution_count": 524,
     "metadata": {},
     "output_type": "execute_result"
    }
   ],
   "source": [
    "(\n",
    "    price_fluctuations_block\n",
    "    .find_all('span',\n",
    "              class_='PriceHistorystyled__BoldDisplayAmount-sc-18jhpbr-4 kdmxHw global-styles__TextNoWrap-sc-1aeotog-6 dVzJN')\n",
    ")[0].contents[0]"
   ]
  },
  {
   "cell_type": "code",
   "execution_count": 525,
   "metadata": {},
   "outputs": [],
   "source": [
    "deposit_block = price_block.find_all('div', class_='rentHelper__Garantie-sc-1x3dozo-0 AJvvM')[0]"
   ]
  },
  {
   "cell_type": "code",
   "execution_count": 526,
   "metadata": {},
   "outputs": [
    {
     "data": {
      "text/plain": [
       "'970 €'"
      ]
     },
     "execution_count": 526,
     "metadata": {},
     "output_type": "execute_result"
    }
   ],
   "source": [
    "deposit_block.strong.contents[0]"
   ]
  },
  {
   "cell_type": "markdown",
   "metadata": {},
   "source": [
    "## Dimensions"
   ]
  },
  {
   "cell_type": "code",
   "execution_count": 527,
   "metadata": {},
   "outputs": [],
   "source": [
    "dimensions_block = (\n",
    "    summary_block\n",
    "    .find_all('div', class_='Summarystyled__TagsWrapper-tzuaot-18 cgUaLi')[0]\n",
    "    .find_all('div', class_='TagsWithIcon__TagContainer-j1x9om-1 eiaFim')\n",
    ")"
   ]
  },
  {
   "cell_type": "code",
   "execution_count": 528,
   "metadata": {},
   "outputs": [
    {
     "data": {
      "text/plain": [
       "[<div class=\"TagsWithIcon__TagContainer-j1x9om-1 eiaFim\"><div class=\"TagsWithIcon__CurrentIcon-j1x9om-0 jGcqmv Icon__IconElement-sc-1xnn3zd-0 jbPwtO\" data-test=\"sl-ui.icon\"><svg viewbox=\"0 0 512 512\"><g><path d=\"M368.6 27.6H132.1c-1.1-.1-2.2-.2-3.2-.2-13.3 0-24.1 10.8-24.1 24.1v335.3c0 9.4 5.4 17.9 13.9 21.9l149.9 69.8c12.1 5.6 26.4.4 32-11.7 1.5-3.2 2.2-6.6 2.2-10.1v-38.4h65.8c19.9 0 36.1-16.2 36.1-36.1V63.7c.1-19.9-16.1-36.1-36.1-36.1zm-89.8 429l-149.9-69.9V51.5l149.9 75v330.1zM380.7 382c0 6.6-5.4 12-12 12h-65.8V126.4c0-9.1-5.1-17.5-13.3-21.5L183.2 51.7h185.5c6.6 0 12 5.4 12 12V382z\"></path><path d=\"M255.4 311.9c6.6 0 12-5.4 12.1-12v-48.2c0-6.7-5.4-12-12-12s-12 5.4-12 12v48.2c-.2 6.6 5.2 12 11.9 12z\"></path></g></svg></div><div>1 pièce</div></div>,\n",
       " <div class=\"TagsWithIcon__TagContainer-j1x9om-1 eiaFim\"><div class=\"TagsWithIcon__CurrentIcon-j1x9om-0 jGcqmv Icon__IconElement-sc-1xnn3zd-0 jbPwtO\" data-test=\"sl-ui.icon\"><svg viewbox=\"0 0 512 512\"><path d=\"M382 493.6H44.6c-7.2 0-13-5.8-13-13V117.3c0-7.2 5.8-13 13-13H382c7.2 0 13 5.8 13 13v363.3c0 7.2-5.8 13-13 13zM98.9 42.5h227v-25l67.9 34-67.9 34v-17h-227v19.2L31 53.7l67.9-34v22.8zm335.9 383.6v-254h-21.7l34-67.9 34 67.9h-20.4v254h20.2l-34 67.9-34-67.9h21.9zM369 467.6V130.3H57.6v337.4H369z\"></path></svg></div><div>21,37m²</div></div>]"
      ]
     },
     "execution_count": 528,
     "metadata": {},
     "output_type": "execute_result"
    }
   ],
   "source": [
    "dimensions_block"
   ]
  },
  {
   "cell_type": "code",
   "execution_count": 529,
   "metadata": {},
   "outputs": [],
   "source": [
    "rooms = dimensions_block[0]"
   ]
  },
  {
   "cell_type": "code",
   "execution_count": 530,
   "metadata": {},
   "outputs": [
    {
     "data": {
      "text/plain": [
       "['1 pièce']"
      ]
     },
     "execution_count": 530,
     "metadata": {},
     "output_type": "execute_result"
    }
   ],
   "source": [
    "rooms.find_all('div')[-1].contents"
   ]
  },
  {
   "cell_type": "code",
   "execution_count": 531,
   "metadata": {},
   "outputs": [],
   "source": [
    "size = dimensions_block[1]"
   ]
  },
  {
   "cell_type": "code",
   "execution_count": 532,
   "metadata": {},
   "outputs": [
    {
     "data": {
      "text/plain": [
       "['21,37m²']"
      ]
     },
     "execution_count": 532,
     "metadata": {},
     "output_type": "execute_result"
    }
   ],
   "source": [
    "size.find_all('div')[-1].contents"
   ]
  },
  {
   "cell_type": "markdown",
   "metadata": {},
   "source": [
    "## L'avis du professionel"
   ]
  },
  {
   "cell_type": "code",
   "execution_count": 533,
   "metadata": {},
   "outputs": [],
   "source": [
    "description_block = (\n",
    "    main_tag\n",
    "    .find_all('div', class_='TitledDescription__TitledDescriptionContent-sc-1r4hqf5-1 koqVoo')\n",
    ")"
   ]
  },
  {
   "cell_type": "code",
   "execution_count": 534,
   "metadata": {},
   "outputs": [],
   "source": [
    "avis_du_pro = description_block[0]"
   ]
  },
  {
   "cell_type": "code",
   "execution_count": 535,
   "metadata": {},
   "outputs": [
    {
     "data": {
      "text/plain": [
       "<div class=\"TitledDescription__TitledDescriptionContent-sc-1r4hqf5-1 koqVoo\"><div class=\"\"><div class=\"ShowMoreText__UITextContainer-sc-5ggbbc-0 hCeOyd\"><p>- Studio refait à neuf de 21.37 m² \n",
       "</p><p>- 303 rue du Faubourg Saint-Antoine\n",
       "</p><p>- 5ème étage avec ascenseur\n",
       "</p><p>- Balcon exposé Sud\n",
       "</p><p>- Rangements\n",
       "</p><p>- Parquet\n",
       "</p><p>- Four combiné\n",
       "</p><p>- Cuisine intégrée\n",
       "</p><p>- Plaque vitrocéramique\n",
       "</p><p>- Réfrigérateur / congélateur\n",
       "</p><p>- Hotte\n",
       "</p><p>- Four\n",
       "</p><p>- Lave-linge séchant\n",
       "</p><p>- Salle de douche\n",
       "</p><p>- Métro Nation 200 m\n",
       "</p><p>- Loyer de base: 702 euros \n",
       "</p><p>- Complément de loyer: 268 euros \n",
       "</p><p>- Charges: 45 euros\n",
       "</p><p>- Aucun frais d'agence.</p><button class=\"ContactLink__StyledButton-sc-1ex39dt-0 jPagdq\">Demander plus d'informations à l'agence<div class=\"ContactLink__Chevron-sc-1ex39dt-1 gYbUwK Icon__IconElement-sc-1xnn3zd-0 fFMQXr\" color=\"#e00034\" data-test=\"contact-link-chevron\" style=\"margin-left:5px\"><svg viewbox=\"0 0 512 512\"><path d=\"M144.9 495.9c-9 0-16.4-7.3-16.4-16.4 0-4.2 1.6-8.3 4.6-11.4L338 256 133.1 43.8c-6.2-6.5-6-16.9.5-23.2 6.5-6.2 16.8-6 23 .4l226.9 235-226.8 234.9c-3.1 3.2-7.4 5-11.8 5z\"></path></svg></div></button></div></div></div>"
      ]
     },
     "execution_count": 535,
     "metadata": {},
     "output_type": "execute_result"
    }
   ],
   "source": [
    "avis_du_pro"
   ]
  },
  {
   "cell_type": "code",
   "execution_count": 536,
   "metadata": {},
   "outputs": [
    {
     "data": {
      "text/plain": [
       "[<p>- Studio refait à neuf de 21.37 m² \n",
       " </p>, <p>- 303 rue du Faubourg Saint-Antoine\n",
       " </p>, <p>- 5ème étage avec ascenseur\n",
       " </p>, <p>- Balcon exposé Sud\n",
       " </p>, <p>- Rangements\n",
       " </p>, <p>- Parquet\n",
       " </p>, <p>- Four combiné\n",
       " </p>, <p>- Cuisine intégrée\n",
       " </p>, <p>- Plaque vitrocéramique\n",
       " </p>, <p>- Réfrigérateur / congélateur\n",
       " </p>, <p>- Hotte\n",
       " </p>, <p>- Four\n",
       " </p>, <p>- Lave-linge séchant\n",
       " </p>, <p>- Salle de douche\n",
       " </p>, <p>- Métro Nation 200 m\n",
       " </p>, <p>- Loyer de base: 702 euros \n",
       " </p>, <p>- Complément de loyer: 268 euros \n",
       " </p>, <p>- Charges: 45 euros\n",
       " </p>, <p>- Aucun frais d'agence.</p>]"
      ]
     },
     "execution_count": 536,
     "metadata": {},
     "output_type": "execute_result"
    }
   ],
   "source": [
    "avis_du_pro.find_all('p')"
   ]
  },
  {
   "cell_type": "markdown",
   "metadata": {},
   "source": [
    "## Amenities"
   ]
  },
  {
   "cell_type": "code",
   "execution_count": 537,
   "metadata": {},
   "outputs": [],
   "source": [
    "general = description_block[2].find_all('ul', class_='GeneralList__List-sc-9gtpjm-0 BAyYz')[0]"
   ]
  },
  {
   "cell_type": "code",
   "execution_count": 538,
   "metadata": {},
   "outputs": [
    {
     "data": {
      "text/plain": [
       "<ul class=\"GeneralList__List-sc-9gtpjm-0 BAyYz\"><li class=\"GeneralList__Item-sc-9gtpjm-1 dsevYN\">Surface de 21,37m²</li><li class=\"GeneralList__Item-sc-9gtpjm-1 dsevYN\">Bâtiment de 6 étages</li><li class=\"GeneralList__Item-sc-9gtpjm-1 dsevYN\">1 Pièce</li><li class=\"GeneralList__Item-sc-9gtpjm-1 dsevYN\">Année de construction 1885</li><li class=\"GeneralList__Item-sc-9gtpjm-1 dsevYN\">Refait à neuf</li><li class=\"GeneralList__Item-sc-9gtpjm-1 dsevYN\">Au 5ème étage</li></ul>"
      ]
     },
     "execution_count": 538,
     "metadata": {},
     "output_type": "execute_result"
    }
   ],
   "source": [
    "general"
   ]
  },
  {
   "cell_type": "code",
   "execution_count": 539,
   "metadata": {},
   "outputs": [],
   "source": [
    "inside = description_block[3].find_all('ul', class_='GeneralList__List-sc-9gtpjm-0 BAyYz')[0]"
   ]
  },
  {
   "cell_type": "code",
   "execution_count": 540,
   "metadata": {},
   "outputs": [
    {
     "data": {
      "text/plain": [
       "<ul class=\"GeneralList__List-sc-9gtpjm-0 BAyYz\"><li class=\"GeneralList__Item-sc-9gtpjm-1 dsevYN\">1 Salle d'eau</li><li class=\"GeneralList__Item-sc-9gtpjm-1 dsevYN\">Parquet</li><li class=\"GeneralList__Item-sc-9gtpjm-1 dsevYN\">Rangements</li><li class=\"GeneralList__Item-sc-9gtpjm-1 dsevYN\">Chauffage électrique</li><li class=\"GeneralList__Item-sc-9gtpjm-1 dsevYN\">Cuisine équipée</li></ul>"
      ]
     },
     "execution_count": 540,
     "metadata": {},
     "output_type": "execute_result"
    }
   ],
   "source": [
    "inside"
   ]
  },
  {
   "cell_type": "code",
   "execution_count": 541,
   "metadata": {},
   "outputs": [],
   "source": [
    "other = description_block[4].find_all('ul', class_='GeneralList__List-sc-9gtpjm-0 BAyYz')[0]"
   ]
  },
  {
   "cell_type": "code",
   "execution_count": 542,
   "metadata": {},
   "outputs": [
    {
     "data": {
      "text/plain": [
       "<ul class=\"GeneralList__List-sc-9gtpjm-0 BAyYz\"><li class=\"GeneralList__Item-sc-9gtpjm-1 dsevYN\">Digicode</li></ul>"
      ]
     },
     "execution_count": 542,
     "metadata": {},
     "output_type": "execute_result"
    }
   ],
   "source": [
    "other"
   ]
  },
  {
   "cell_type": "markdown",
   "metadata": {},
   "source": [
    "## Diagnostique energetique"
   ]
  },
  {
   "cell_type": "code",
   "execution_count": 543,
   "metadata": {},
   "outputs": [],
   "source": [
    "diagnostics_block = main_tag.find_all('div', id='diagnostics')[0]"
   ]
  },
  {
   "cell_type": "code",
   "execution_count": 544,
   "metadata": {},
   "outputs": [
    {
     "data": {
      "text/plain": [
       "<div class=\"global-styles__WhiteBox-sc-1aeotog-2 global-styles__DescriptionWrapper-sc-1aeotog-5 czLMZl\" data-test=\"diagnostics-block\" id=\"diagnostics\"><div class=\"TitledDescription__TitledDescriptionContainer-sc-1r4hqf5-0 fHzMfE\"><h3 class=\"typography__TitleH3-sc-111kv7i-1 jrMlIh\">Les diagnostics énergétiques</h3><div class=\"TitledDescription__TitledDescriptionContent-sc-1r4hqf5-1 koqVoo\"><div class=\"Diagnostics__DiagnosticsContainer-al64ti-2 Oitqq\" data-test=\"diagnostics-content\"><div class=\"Diagnostics__PreviewContainer-al64ti-0 dTGPCg\"><p class=\"Diagnostics__PreviewTitle-al64ti-1 eJGktk\" data-test=\"diagnostics-preview-title\">Diagnostic de performance énergétique</p><div class=\"Preview__PreviewBar-sc-1pa12ii-0 jIpQSL\" data-test=\"diagnostics-preview-bar\"><div class=\"Preview__PreviewTile-sc-1pa12ii-1 gafcOY\"><p>A</p></div><div class=\"Preview__PreviewTile-sc-1pa12ii-1 iGmEzL\"><p>B</p></div><div class=\"Preview__PreviewTile-sc-1pa12ii-1 edGcMP\"><p>C</p></div><div class=\"Preview__PreviewTile-sc-1pa12ii-1 Preview__PreviewFocusedTile-sc-1pa12ii-2 hJiFNB\"><p>D</p><div class=\"Preview__PreviewTooltip-sc-1pa12ii-3 hVDlNM\"><span class=\"Preview__PreviewTooltipValue-sc-1pa12ii-4 eGDcBO\">152</span><span class=\"Preview__PreviewTooltipCaption-sc-1pa12ii-5 cizigk\">kWhEP/m².an</span></div></div><div class=\"Preview__PreviewTile-sc-1pa12ii-1 EmyuG\"><p>E</p></div><div class=\"Preview__PreviewTile-sc-1pa12ii-1 nIZEh\"><p>F</p></div><div class=\"Preview__PreviewTile-sc-1pa12ii-1 ollKY\"><p>G</p></div></div></div></div><div class=\"Diagnostics__DiagnosticsContainer-al64ti-2 Oitqq\" data-test=\"diagnostics-content\"><div class=\"Diagnostics__PreviewContainer-al64ti-0 dTGPCg\"><p class=\"Diagnostics__PreviewTitle-al64ti-1 eJGktk\" data-test=\"diagnostics-preview-title\">Indice d'émission de gaz à effet de serre</p><div class=\"Preview__PreviewBar-sc-1pa12ii-0 jIpQSL\" data-test=\"diagnostics-preview-bar\"><div class=\"Preview__PreviewTile-sc-1pa12ii-1 gfpEsI\"><p>A</p></div><div class=\"Preview__PreviewTile-sc-1pa12ii-1 eASHcX\"><p>B</p></div><div class=\"Preview__PreviewTile-sc-1pa12ii-1 Preview__PreviewFocusedTile-sc-1pa12ii-2 ObbeY\"><p>C</p><div class=\"Preview__PreviewTooltip-sc-1pa12ii-3 hVDlNM\"><span class=\"Preview__PreviewTooltipValue-sc-1pa12ii-4 eGDcBO\">11</span><span class=\"Preview__PreviewTooltipCaption-sc-1pa12ii-5 cizigk\">kgeqCO2/m².an</span></div></div><div class=\"Preview__PreviewTile-sc-1pa12ii-1 Wcifk\"><p>D</p></div><div class=\"Preview__PreviewTile-sc-1pa12ii-1 zsmaq\"><p>E</p></div><div class=\"Preview__PreviewTile-sc-1pa12ii-1 gzTnZe\"><p>F</p></div><div class=\"Preview__PreviewTile-sc-1pa12ii-1 dpqcqE\"><p>G</p></div></div></div></div><button class=\"Diagnostics__ToggleGraphsVisibilityButton-al64ti-4 jfJpNo\" data-test=\"diagnostics-toggle-graph-button\" disabled=\"\">Afficher plus<div class=\"StyledIcon-vdo5jm-0 bBIEDK Icon__IconElement-sc-1xnn3zd-0 iXyOfa\" data-test=\"sl-ui.icon\" style=\"position:relative;left:5px;top:3px\"><svg viewbox=\"0 0 512 512\"><path d=\"M254.5 381.9c-5.1 1-9-1.8-12.3-5.1L16 149.1c-6.9-6.6-7.1-17.6-.5-24.4 6.6-6.9 17.6-7.1 24.4-.5l.6.6 214 215.4 217-215.5c6.6-6.9 17.6-7.1 24.4-.5 6.9 6.6 7.1 17.6.5 24.4l-.6.6-229.1 227.7c-3.3 3.2-7.6 5-12.2 5z\"></path></svg></div></button></div></div></div>"
      ]
     },
     "execution_count": 544,
     "metadata": {},
     "output_type": "execute_result"
    }
   ],
   "source": [
    "diagnostics_block"
   ]
  },
  {
   "cell_type": "code",
   "execution_count": 493,
   "metadata": {},
   "outputs": [],
   "source": [
    "[energy_diagnostic, ges_diagnostics] = diagnostics_block.find_all('div', class_='Diagnostics__DiagnosticsContainer-al64ti-2 Oitqq')"
   ]
  },
  {
   "cell_type": "code",
   "execution_count": 494,
   "metadata": {},
   "outputs": [
    {
     "data": {
      "text/plain": [
       "<div class=\"Diagnostics__DiagnosticsContainer-al64ti-2 Oitqq\" data-test=\"diagnostics-content\"><div class=\"Diagnostics__PreviewContainer-al64ti-0 dTGPCg\"><p class=\"Diagnostics__PreviewTitle-al64ti-1 eJGktk\" data-test=\"diagnostics-preview-title\">Diagnostic de performance énergétique</p><div class=\"Preview__PreviewBar-sc-1pa12ii-0 jIpQSL\" data-test=\"diagnostics-preview-bar\"><div class=\"Preview__PreviewTile-sc-1pa12ii-1 gafcOY\"><p>A</p></div><div class=\"Preview__PreviewTile-sc-1pa12ii-1 iGmEzL\"><p>B</p></div><div class=\"Preview__PreviewTile-sc-1pa12ii-1 edGcMP\"><p>C</p></div><div class=\"Preview__PreviewTile-sc-1pa12ii-1 Preview__PreviewFocusedTile-sc-1pa12ii-2 hJiFNB\"><p>D</p><div class=\"Preview__PreviewTooltip-sc-1pa12ii-3 hVDlNM\"><span class=\"Preview__PreviewTooltipValue-sc-1pa12ii-4 eGDcBO\">152</span><span class=\"Preview__PreviewTooltipCaption-sc-1pa12ii-5 cizigk\">kWhEP/m².an</span></div></div><div class=\"Preview__PreviewTile-sc-1pa12ii-1 EmyuG\"><p>E</p></div><div class=\"Preview__PreviewTile-sc-1pa12ii-1 nIZEh\"><p>F</p></div><div class=\"Preview__PreviewTile-sc-1pa12ii-1 ollKY\"><p>G</p></div></div></div></div>"
      ]
     },
     "execution_count": 494,
     "metadata": {},
     "output_type": "execute_result"
    }
   ],
   "source": [
    "energy_diagnostic"
   ]
  },
  {
   "cell_type": "code",
   "execution_count": 497,
   "metadata": {},
   "outputs": [
    {
     "data": {
      "text/plain": [
       "['D']"
      ]
     },
     "execution_count": 497,
     "metadata": {},
     "output_type": "execute_result"
    }
   ],
   "source": [
    "energy_diagnostic.find_all('div', class_=lambda x: x and 'FocusedTile' in x)[0].p.contents"
   ]
  },
  {
   "cell_type": "code",
   "execution_count": 498,
   "metadata": {},
   "outputs": [
    {
     "data": {
      "text/plain": [
       "[<div class=\"Preview__PreviewTooltip-sc-1pa12ii-3 hVDlNM\"><span class=\"Preview__PreviewTooltipValue-sc-1pa12ii-4 eGDcBO\">152</span><span class=\"Preview__PreviewTooltipCaption-sc-1pa12ii-5 cizigk\">kWhEP/m².an</span></div>]"
      ]
     },
     "execution_count": 498,
     "metadata": {},
     "output_type": "execute_result"
    }
   ],
   "source": [
    "energy_diagnostic.find_all('div', class_='Preview__PreviewTooltip-sc-1pa12ii-3 hVDlNM')"
   ]
  },
  {
   "cell_type": "markdown",
   "metadata": {},
   "source": [
    "# Scraping search results\n",
    "The goal is be to get a list of property URL from one search results URL"
   ]
  },
  {
   "cell_type": "code",
   "execution_count": 546,
   "metadata": {},
   "outputs": [],
   "source": [
    "sr_url = \"https://www.seloger.com/list.htm?ci=750105,750111,940067,940080&idq=133102,133103,133104,133105,133106,133107,133108,133109,133110,133111,133112,133113,133114,133115,133764&idtt=1&idtypebien=1&nb_pieces=1&photo=15&si_meuble=1&surfacemin=20&tri=d_dt_crea\""
   ]
  },
  {
   "cell_type": "code",
   "execution_count": 547,
   "metadata": {},
   "outputs": [],
   "source": [
    "header = {\"user-agent\": \"Mozilla/5.0 (Windows NT 10.0; Win64; x64) AppleWebKit/537.36 (KHTML, like Gecko) Chrome/74.0.3729.169 Safari/537.36\" ,'referer':'https://www.google.com/'}\n",
    "response = requests.get(sr_url, headers=headers)\n",
    "soup = BeautifulSoup(response.text,\"html.parser\")"
   ]
  },
  {
   "cell_type": "code",
   "execution_count": 558,
   "metadata": {},
   "outputs": [],
   "source": [
    "main_tag = soup.find_all('div', class_='Page__WrapMain-st6q56-1 bgOcDb')[0]"
   ]
  },
  {
   "cell_type": "code",
   "execution_count": 559,
   "metadata": {},
   "outputs": [
    {
     "data": {
      "text/plain": [
       "<div class=\"Page__WrapMain-st6q56-1 bgOcDb\"><div class=\"block__ShadowedBlock-sc-10w6hsj-0 ListContent__SmartClassifiedExtended-sc-1viyr2k-2 iddbNe classified__ClassifiedContainer-sc-1wmlctl-0 jzFgwH Card__CardContainer-sc-7insep-7 fMfqlk\"><div class=\"classified__ContentWrapper-sc-1wmlctl-1 iFOIpl\"><div class=\"Card__MediaZone-sc-7insep-0 fPingW\"><div class=\"PhotoSlider__PhotoSliderContainer-cta2l8-0 feqESw\"></div><div class=\"MediaZone__Stickers-bd1uhq-3 iwwrzY\"></div><div class=\"MediaZone__Chips-bd1uhq-4 ifvlFB\"><div class=\"MediaZone__Chip-bd1uhq-5 eUGAIh\"><div class=\"Icon__IconElement-sc-1xnn3zd-0 iIyIAR\" color=\"white\" data-test=\"sl-ui.icon\" style=\"margin-right:6px\"><svg viewbox=\"0 0 512 512\"><path d=\"M421.5 136h-50.3c-.9-.2-1.7-.7-2.4-1.4l-13-37.6c-4.3-12.4-17.5-21.7-30.7-21.7h-143c-13.3 0-26.6 9.3-30.8 21.6l-13 37.5c-.6.8-1.4 1.3-2.3 1.6H85.6c-31.5 0-57 24.9-57 55.5v182.1c0 30.6 25.6 55.5 57 55.5h335.9c31.5 0 57.1-24.9 57.1-55.5V191.5c-.1-30.6-25.6-55.5-57.1-55.5zm26.9 237.6c0 14-12.1 25.4-26.9 25.4H85.6c-14.8 0-26.9-11.4-26.9-25.4V191.5c0-14 12.1-25.4 26.9-25.4H136c13.3 0 26.6-9.3 30.8-21.7l12.9-37.4c.6-.8 1.5-1.4 2.4-1.6h142.7c.9.2 1.7.7 2.4 1.4l13 37.6c4.2 12.4 17.5 21.7 30.8 21.7h50.4c14.9 0 26.9 11.4 26.9 25.4l.1 182.1z\"></path><path d=\"M253.5 180.3c-54.7 0-99 44.3-99 99s44.3 99 99 99 99-44.3 99-98.9c0-54.7-44.3-99-99-99.1zm0 168c-38.1 0-68.9-30.8-68.9-68.9s30.8-68.9 68.9-68.9 68.9 30.8 68.9 68.9c0 38-30.8 68.8-68.9 68.9zM396.2 180.3c-17.6 0-31.8 14.2-31.8 31.8s14.2 31.8 31.8 31.8 31.8-14.2 31.8-31.8-14.2-31.8-31.8-31.8z\"></path></svg></div>9</div></div></div><div class=\"Card__ContentZone-sc-7insep-3 gfORyM\"><div class=\"ContentZone__DetailTop-wghbmy-6 dPYwvZ\"><div><div class=\"ContentZone__Title-wghbmy-7 joPkKZ\">Appartement</div><ul class=\"ContentZone__Tags-wghbmy-8 eJYQQA\"><li>1 p</li><li>24 m²</li></ul></div><div class=\"Price__PriceContainer-sc-1g9fitq-0 eOPseM\"><div class=\"Price__Label-sc-1g9fitq-1 mVWFG\">930 €</div><div class=\"Price__Expose-sc-1g9fitq-4 eCwDJa\">cc</div><div class=\"Price__Suffix-sc-1g9fitq-3 hYaChC\">/mois</div></div></div><div class=\"ContentZone__Address-wghbmy-2 fRAjHL\"><span>Paris 11ème</span><span>Léon-Blum Folie-Regnault</span></div><div class=\"ContentZone__ButtonSection-wghbmy-4 fgfCuS\"><div class=\"ContentZone__Button-wghbmy-5 ePrJwG\"><div class=\"ContentZone__StyledIcon-wghbmy-3 jIMdci Icon__IconElement-sc-1xnn3zd-0 jGTLkV\" data-test=\"sl-ui.icon\"><svg height=\"1em\" viewbox=\"0 0 20 20\" width=\"1em\"><path d=\"M18.146 2.146a.5.5 0 01.708.707l-16 16a.5.5 0 11-.708-.707l3.728-3.728c-1.421-.893-2.696-2.106-3.782-3.643a.503.503 0 01-.003-.574c.15-.215 3.718-5.277 8.886-5.188.018-.003 1.388-.088 3.335.97zm-1.794 5.258c.88.76 1.739 1.697 2.549 2.784a.5.5 0 01-.001.598c-.161.216-3.938 5.204-8.231 5.204l-.186-.003h-.034c-.148-.002-.776-.029-1.666-.265a.5.5 0 01.256-.967c.895.238 1.472.237 1.456.232 3.276.107 6.5-3.45 7.372-4.507a16.03 16.03 0 00-2.168-2.32.5.5 0 01.653-.756zm-2.26 2.226c.075.281.113.571.113.862 0 1.935-1.658 3.508-3.697 3.508-.22 0-.433-.018-.643-.053a.5.5 0 11.164-.986c.156.025.316.039.479.039 1.487 0 2.697-1.125 2.697-2.508 0-.205-.026-.408-.08-.605a.501.501 0 01.968-.257zM10.95 6.01h-.054c-3.958 0-6.971 3.461-7.774 4.482 1.01 1.36 2.179 2.43 3.473 3.206l1.033-1.033c-.521-.618-.817-1.37-.817-2.173 0-1.935 1.658-3.508 3.697-3.508a3.83 3.83 0 012.138.662l.927-.926c-1.525-.764-2.553-.708-2.568-.709h-.109zm-.442 1.974c-1.488 0-2.697 1.125-2.697 2.508 0 .535.187 1.042.522 1.468l3.595-3.595a2.835 2.835 0 00-1.42-.38z\" fill=\"currentColor\" fill-rule=\"evenodd\"></path></svg></div><span>Masquer</span></div><div class=\"ContentZone__Button-wghbmy-5 dxnwuI\"><div class=\"ContentZone__StyledIcon-wghbmy-3 jIMdci Icon__IconElement-sc-1xnn3zd-0 jGTLkV\" data-test=\"sl-ui.icon\"><svg height=\"1em\" viewbox=\"0 0 20 20\" width=\"1em\"><defs><path d=\"M9.976 18.5l-.706-.484c-5.564-3.54-8.64-7.87-8.234-11.568.13-2.704 2.267-4.854 4.915-4.944a4.9 4.9 0 014.025 1.84A5.014 5.014 0 0114 1.513c2.67.1 4.825 2.266 4.963 4.993.407 3.609-2.69 7.91-8.282 11.578l-.706.415zM5.95 3.017c-1.888.1-3.391 1.65-3.474 3.58-.338 3.123 2.468 6.9 7.499 10.143 4.963-3.243 7.827-7.099 7.498-10.065-.058-1.972-1.593-3.566-3.521-3.658a3.576 3.576 0 00-3.397 1.977L9.918 6.22l-.639-1.226a3.51 3.51 0 00-3.328-1.977z\" id=\"heart-regular_svg__a\"></path></defs><use fill=\"currentColor\" fill-rule=\"evenodd\" xlink:href=\"#heart-regular_svg__a\"></use></svg></div><span>Sauvegarder</span></div></div><div class=\"block__ShadowedBlock-sc-10w6hsj-0 ContentZone__SelectModal-wghbmy-15 eUFtOa\"><div class=\"ContentZone__SelectTitle-wghbmy-13 logJyh\">Pour quelle raison souhaitez-vous masquer cette annonce ? </div><div class=\"ContentZone__SelectOption-wghbmy-14 kBiYaS\">Pas intéressé(e)</div><div class=\"ContentZone__SelectOption-wghbmy-14 kBiYaS\">Déjà visité/contacté</div><div class=\"ContentZone__SelectOption-wghbmy-14 kBiYaS\">Photo insatisfaisante/absente</div><div class=\"ContentZone__SelectOption-wghbmy-14 kBiYaS\">Localisation incomplète</div><div class=\"ContentZone__SelectOption-wghbmy-14 kBiYaS\">Autre raison</div></div><div class=\"ContentZone__SmartClassifiedContact-wghbmy-1 bqeKmt Contact__ContactContainer-sc-3d01ca-1 hVXgxb\" mode=\"small\"><a class=\"AgencyLogo__AgencyLogoContainer-fcobow-0 hjyUfp\" mode=\"small\" target=\"_blank\"><div class=\"AgencyLogo__Placeholder-fcobow-2 jRuXFY\">Annonce de particulier</div></a><div class=\"Contact__Buttons-sc-3d01ca-3 pKCwm\" mode=\"small\"><div class=\"Contact__ButtonContainer-sc-3d01ca-2 iklMcR\" data-test=\"button-container\"><div class=\"Contact__ButtonIcon-sc-3d01ca-6 hWcXVi Icon__IconElement-sc-1xnn3zd-0 jGTLkV\" data-test=\"icon\"><svg viewbox=\"0 0 512 512\"><g><path d=\"M391.3 382.7c-68.4-69.2-73.8-72.7-76.6-74.4-12.7-7.9-26.2-6.8-40.3 3.3-3 2.2-16.9 12.7-23.3 27.3-1.3-.6-2.5-1.2-3.7-1.9-12.6-7.3-25.8-17.9-39.3-31.6l-3.1-3.1c-13.5-13.7-23.9-27.1-30.9-39.7-.7-1.2-1.3-2.5-1.8-3.8 14.5-6.1 25.4-19.9 27.6-22.8 10.5-13.9 11.9-27.4 4.1-40.4-1.6-2.7-5-8.2-73.2-77.7-7.9-8.2-18.9-12.8-30.3-12.6-9.8.5-19.2 4.2-26.7 10.7-19.5 16.4-29.9 38.1-35.2 53.5-4.3 12.6-6.8 25.7-7.6 39-4.8 78.3 41.7 142.9 81.5 183.4l.1.1 4.3 4.4c38.4 39.1 99.3 84.7 173.9 84.7 2.7 0 5.4-.1 8.1-.2 13.3-.5 26.5-2.8 39.2-6.9 15.5-5 37.5-15 54.2-34.3 6.8-7.9 10.6-17 11.1-26.4.4-11.5-4-22.5-12.1-30.6.1 0 0 0 0 0zm-205.6-55.4c15.5 15.7 31 28.1 46 36.8 5.9 3.6 12.5 6 19.3 7.1 8.7 1.3 13.7-.9 17.5-3 5.3-3.2 9-8.6 10.9-15.8 1.1-4.4 7.8-11.5 13.3-15.5 1-.7 2.3-2.5 4.9-2.5 1.8 1.4 12.3 10.4 71.3 70.1 2 1.8 3.1 4.4 3.1 7.1-.1 2.3-1.3 4.9-3.5 7.4-12 13.8-28.4 21.2-40.2 25-10 3.2-20.4 5-30.9 5.3-67.9 3-123-39.2-158.4-75.3l-2.1-2.1c-.8-.8-1.6-1.5-2.3-2.2l.1-.1C99.4 334 58.1 277.1 62.2 210.4c.6-10.5 2.6-20.8 5.9-30.8 4-11.6 11.7-27.9 25.7-39.6 2.6-2.2 5.1-3.3 7.5-3.4h.2c2.6.1 5.1 1.3 6.9 3.2 60.2 61.4 68 71.1 69.1 72.8-.1 1-1.9 3.4-2.7 4.5-4 5.4-11.2 11.9-15.6 13-7.3 1.7-12.7 5.3-16.3 10.9-1.9 3.1-4.3 8.2-3.1 17.2 1 6.8 3.3 13.4 6.8 19.4 8.4 15.1 20.5 30.8 36 46.5l3.1 3.2zM239.1 105.8c-8.5-.9-16.1 5.3-17 13.7v.5c-.8 8.6 5.5 16.2 14.1 17h.1c73 6.5 131 64.1 138 137 .8 8 7.5 14.2 15.6 14.2.5 0 1 0 1.5-.1 8.6-.8 14.9-8.5 14.1-17.1-8.6-87.9-78.5-157.3-166.4-165.2z\"></path><path d=\"M407.5 104.2c-42-42-97.4-67.9-156.6-73.2-8.6-.8-16.2 5.6-17 14.2s5.6 16.2 14.2 17c106.4 9.5 191 93.4 201.3 199.8.8 8 7.5 14.2 15.6 14.2.5 0 1 0 1.5-.1 8.6-.8 14.9-8.5 14.1-17.1-5.7-58.5-31.6-113.2-73.1-154.8z\"></path></g></svg></div></div><div class=\"Contact__ButtonContainer-sc-3d01ca-2 iklMcR\" data-test=\"button-container\"><div class=\"Contact__ButtonIcon-sc-3d01ca-6 hWcXVi Icon__IconElement-sc-1xnn3zd-0 jGTLkV\" data-test=\"icon\"><svg viewbox=\"0 0 512 512\"><path d=\"M449.07 431.55H64.33c-29.06 0-52.63-24.37-52.63-54.44v-245c0-30.07 23.57-54.44 52.63-54.44h384.74c29.07 0 52.63 24.37 52.63 54.44v245c0 30.07-23.56 54.44-52.63 54.44zm12.37-281.73L256.7 354.24 52 149.59v229.7a12.58 12.58 0 0 0 12.37 12.52h384.7a12.58 12.58 0 0 0 12.37-12.52zm-380.8-28.33L256.7 297.35 433 121.49z\" data-name=\"R/uEA51-B-enveloppe\"></path></svg></div></div></div></div><a class=\"CoveringLink-a3s3kt-0 dXJclF\" href=\"https://www.seloger.com/annonces/locations/appartement/paris-11eme-75/leon-blum-folie-regnault/159157123.htm?projects=1&amp;types=1&amp;places=[{ci:750105}|{ci:750111}|{ci:940067}|{ci:940080}|{idq:133102}|{idq:133103}|{idq:133104}|{idq:133105}|{idq:133106}|{idq:133107}|{idq:133108}|{idq:133109}|{idq:133110}|{idq:133111}|{idq:133112}|{idq:133113}|{idq:133114}|{idq:133115}|{idq:133764}]&amp;surface=20/NaN&amp;rooms=1&amp;sort=d_dt_crea&amp;picture=15&amp;qsVersion=1.0&amp;bd=ListToDetail\" name=\"classified-link\" target=\"_blank\" z=\"1\"></a></div></div><div class=\"OptionalCriteria__Criteria-ae5ia6-1 eJJkJo\"><div class=\"OptionalCriteria__Criterion-ae5ia6-2 rqdCi\">Avec photos</div></div></div><div class=\"ListContent__SmartAdvertCardExtended-sc-1viyr2k-0 kJKgEE AdvertCard__AdvertContainer-lf3yab-0 fGDTrM\"><div class=\"block__ShadowedBlock-sc-10w6hsj-0 AdvertCard__AdvertContent-lf3yab-1 jFJvEA\"><div class=\"adunitContainer\"><div class=\"adBox\"></div></div></div></div><div class=\"block__ShadowedBlock-sc-10w6hsj-0 ListContent__SmartClassifiedExtended-sc-1viyr2k-2 iddbNe classified__ClassifiedContainer-sc-1wmlctl-0 jzFgwH Card__CardContainer-sc-7insep-7 fMfqlk\"><div class=\"classified__ContentWrapper-sc-1wmlctl-1 iFOIpl\"><div class=\"Card__MediaZone-sc-7insep-0 fPingW\"><div class=\"PhotoSlider__PhotoSliderContainer-cta2l8-0 feqESw\"></div><div class=\"MediaZone__Stickers-bd1uhq-3 iwwrzY\"></div><div class=\"MediaZone__Chips-bd1uhq-4 ifvlFB\"><div class=\"MediaZone__Chip-bd1uhq-5 eUGAIh\"><div class=\"Icon__IconElement-sc-1xnn3zd-0 iIyIAR\" color=\"white\" data-test=\"sl-ui.icon\" style=\"margin-right:6px\"><svg viewbox=\"0 0 512 512\"><path d=\"M421.5 136h-50.3c-.9-.2-1.7-.7-2.4-1.4l-13-37.6c-4.3-12.4-17.5-21.7-30.7-21.7h-143c-13.3 0-26.6 9.3-30.8 21.6l-13 37.5c-.6.8-1.4 1.3-2.3 1.6H85.6c-31.5 0-57 24.9-57 55.5v182.1c0 30.6 25.6 55.5 57 55.5h335.9c31.5 0 57.1-24.9 57.1-55.5V191.5c-.1-30.6-25.6-55.5-57.1-55.5zm26.9 237.6c0 14-12.1 25.4-26.9 25.4H85.6c-14.8 0-26.9-11.4-26.9-25.4V191.5c0-14 12.1-25.4 26.9-25.4H136c13.3 0 26.6-9.3 30.8-21.7l12.9-37.4c.6-.8 1.5-1.4 2.4-1.6h142.7c.9.2 1.7.7 2.4 1.4l13 37.6c4.2 12.4 17.5 21.7 30.8 21.7h50.4c14.9 0 26.9 11.4 26.9 25.4l.1 182.1z\"></path><path d=\"M253.5 180.3c-54.7 0-99 44.3-99 99s44.3 99 99 99 99-44.3 99-98.9c0-54.7-44.3-99-99-99.1zm0 168c-38.1 0-68.9-30.8-68.9-68.9s30.8-68.9 68.9-68.9 68.9 30.8 68.9 68.9c0 38-30.8 68.8-68.9 68.9zM396.2 180.3c-17.6 0-31.8 14.2-31.8 31.8s14.2 31.8 31.8 31.8 31.8-14.2 31.8-31.8-14.2-31.8-31.8-31.8z\"></path></svg></div>11</div></div></div><div class=\"Card__ContentZone-sc-7insep-3 gfORyM\"><div class=\"ContentZone__DetailTop-wghbmy-6 dPYwvZ\"><div><div class=\"ContentZone__Title-wghbmy-7 joPkKZ\">Appartement</div><ul class=\"ContentZone__Tags-wghbmy-8 eJYQQA\"><li>1 p</li><li>21,37 m²</li><li>1 asc</li></ul></div><div class=\"Price__PriceContainer-sc-1g9fitq-0 eOPseM\"><div class=\"Price__Label-sc-1g9fitq-1 mVWFG\">1 015 €</div><div class=\"Price__Expose-sc-1g9fitq-4 eCwDJa\">cc</div><div class=\"Price__Suffix-sc-1g9fitq-3 hYaChC\">/mois</div></div></div><div class=\"ContentZone__Address-wghbmy-2 fRAjHL\"><span>Paris 11ème</span><span>Nation-Alexandre Dumas</span></div><div class=\"ContentZone__ButtonSection-wghbmy-4 fgfCuS\"><div class=\"ContentZone__Button-wghbmy-5 ePrJwG\"><div class=\"ContentZone__StyledIcon-wghbmy-3 jIMdci Icon__IconElement-sc-1xnn3zd-0 jGTLkV\" data-test=\"sl-ui.icon\"><svg height=\"1em\" viewbox=\"0 0 20 20\" width=\"1em\"><path d=\"M18.146 2.146a.5.5 0 01.708.707l-16 16a.5.5 0 11-.708-.707l3.728-3.728c-1.421-.893-2.696-2.106-3.782-3.643a.503.503 0 01-.003-.574c.15-.215 3.718-5.277 8.886-5.188.018-.003 1.388-.088 3.335.97zm-1.794 5.258c.88.76 1.739 1.697 2.549 2.784a.5.5 0 01-.001.598c-.161.216-3.938 5.204-8.231 5.204l-.186-.003h-.034c-.148-.002-.776-.029-1.666-.265a.5.5 0 01.256-.967c.895.238 1.472.237 1.456.232 3.276.107 6.5-3.45 7.372-4.507a16.03 16.03 0 00-2.168-2.32.5.5 0 01.653-.756zm-2.26 2.226c.075.281.113.571.113.862 0 1.935-1.658 3.508-3.697 3.508-.22 0-.433-.018-.643-.053a.5.5 0 11.164-.986c.156.025.316.039.479.039 1.487 0 2.697-1.125 2.697-2.508 0-.205-.026-.408-.08-.605a.501.501 0 01.968-.257zM10.95 6.01h-.054c-3.958 0-6.971 3.461-7.774 4.482 1.01 1.36 2.179 2.43 3.473 3.206l1.033-1.033c-.521-.618-.817-1.37-.817-2.173 0-1.935 1.658-3.508 3.697-3.508a3.83 3.83 0 012.138.662l.927-.926c-1.525-.764-2.553-.708-2.568-.709h-.109zm-.442 1.974c-1.488 0-2.697 1.125-2.697 2.508 0 .535.187 1.042.522 1.468l3.595-3.595a2.835 2.835 0 00-1.42-.38z\" fill=\"currentColor\" fill-rule=\"evenodd\"></path></svg></div><span>Masquer</span></div><div class=\"ContentZone__Button-wghbmy-5 dxnwuI\"><div class=\"ContentZone__StyledIcon-wghbmy-3 jIMdci Icon__IconElement-sc-1xnn3zd-0 jGTLkV\" data-test=\"sl-ui.icon\"><svg height=\"1em\" viewbox=\"0 0 20 20\" width=\"1em\"><defs><path d=\"M9.976 18.5l-.706-.484c-5.564-3.54-8.64-7.87-8.234-11.568.13-2.704 2.267-4.854 4.915-4.944a4.9 4.9 0 014.025 1.84A5.014 5.014 0 0114 1.513c2.67.1 4.825 2.266 4.963 4.993.407 3.609-2.69 7.91-8.282 11.578l-.706.415zM5.95 3.017c-1.888.1-3.391 1.65-3.474 3.58-.338 3.123 2.468 6.9 7.499 10.143 4.963-3.243 7.827-7.099 7.498-10.065-.058-1.972-1.593-3.566-3.521-3.658a3.576 3.576 0 00-3.397 1.977L9.918 6.22l-.639-1.226a3.51 3.51 0 00-3.328-1.977z\" id=\"heart-regular_svg__a\"></path></defs><use fill=\"currentColor\" fill-rule=\"evenodd\" xlink:href=\"#heart-regular_svg__a\"></use></svg></div><span>Sauvegarder</span></div></div><div class=\"block__ShadowedBlock-sc-10w6hsj-0 ContentZone__SelectModal-wghbmy-15 eUFtOa\"><div class=\"ContentZone__SelectTitle-wghbmy-13 logJyh\">Pour quelle raison souhaitez-vous masquer cette annonce ? </div><div class=\"ContentZone__SelectOption-wghbmy-14 kBiYaS\">Pas intéressé(e)</div><div class=\"ContentZone__SelectOption-wghbmy-14 kBiYaS\">Déjà visité/contacté</div><div class=\"ContentZone__SelectOption-wghbmy-14 kBiYaS\">Photo insatisfaisante/absente</div><div class=\"ContentZone__SelectOption-wghbmy-14 kBiYaS\">Localisation incomplète</div><div class=\"ContentZone__SelectOption-wghbmy-14 kBiYaS\">Autre raison</div></div><div class=\"ContentZone__SmartClassifiedContact-wghbmy-1 bqeKmt Contact__ContactContainer-sc-3d01ca-1 hVXgxb\" mode=\"small\"><a class=\"Contact__WebSiteShortcutContainer-sc-3d01ca-0 csZlpz\" href=\"https://rent.akelius.com/fr/search/france/apartment/paris\" rel=\"nofollow\" target=\"_blank\"><div class=\"Icon__IconElement-sc-1xnn3zd-0 qqhlj\" color=\"#929292\" data-test=\"icon\"><svg viewbox=\"0 0 512 512\"><path d=\"M478.2 254.2c0-120.6-93.3-219.3-211.2-226.5-1.2-.3-2.5-.4-3.8-.4-1.3 0-2.7 0-4 .1-2-.1-4-.1-6.1-.1h-4.2C149.1 29.2 65.1 96.7 37.7 188.9c-.8 1.7-1.4 3.6-1.6 5.5-5.3 19.5-7.9 39.6-7.9 59.8 0 123.9 98.5 224.7 220.9 226.9h4.1c2.1 0 4.1 0 6.1-.1 1.3 0 2.6.1 3.9.1 1.3 0 2.5-.1 3.8-.4 117.9-7.2 211.2-105.8 211.2-226.5zm-416.2 0c0-13.8 1.5-27.6 4.4-41.2h56.5c-3 26.2-3.1 52.6-.4 78.8H65.7c-2.5-12.3-3.7-24.9-3.7-37.6zm92.3 0c0-13.8.8-27.5 2.6-41.2h79.5v78.8h-79.8c-1.6-12.4-2.3-25-2.3-37.6zm196-75h-80.2V64.5c35.4 12.2 65.9 55.8 80.2 114.7zm-114-112v112H163c13.4-55 41-96.7 73.3-112zm0 258.4v115.5c-33.1-15.5-61.1-58.6-74.1-115.5h74.1zm33.8 118.3V325.7h81c-13.9 60.7-44.9 105.8-81 118.2zm0-152v-78.8h86.3c1.7 13.7 2.6 27.4 2.6 41.2 0 12.6-.7 25.2-2.1 37.7l-86.8-.1zM390.5 213H440c5.6 26 5.8 52.8.7 78.8h-49.9c1.3-12.5 1.9-25.1 1.9-37.7.1-13.7-.7-27.4-2.2-41.1zm39-33.8H385c-7.9-36.4-21.3-68.6-39-93.9 37.6 21.1 66.9 54.2 83.5 93.9zm-258-99.6c-19.6 26.1-34.6 60.5-43.1 99.7H77c18.2-43.7 51.8-79.2 94.5-99.7zM75.6 325.7h52.1c8.3 40.6 23.6 76.3 43.8 103.2-43.9-21.1-78.1-58-95.9-103.2zM346 423.1c18.2-26.1 32-59.7 39.7-97.5h45.2c-16.3 41.4-46.2 75.8-84.9 97.5z\"></path></svg></div></a><div class=\"Card__Sticker-sc-7insep-1 Contact__TagExclusive-sc-3d01ca-7 gosChP\" mode=\"small\">Exclusivité</div><a class=\"AgencyLogo__AgencyLogoContainer-fcobow-0 dKHFSg\" href=\"https://www.seloger.com/professionnels/1/paris-8eme-75/agency-82411.htm?bd=Liste_annonce_annuaire_detail\" mode=\"small\" target=\"_blank\"><div class=\"AgencyLogo__Image-fcobow-1 fLREq\"></div></a><div class=\"Contact__Buttons-sc-3d01ca-3 pKCwm\" mode=\"small\"><div class=\"Contact__ButtonContainer-sc-3d01ca-2 iklMcR\" data-test=\"button-container\"><div class=\"Contact__ButtonIcon-sc-3d01ca-6 hWcXVi Icon__IconElement-sc-1xnn3zd-0 jGTLkV\" data-test=\"icon\"><svg viewbox=\"0 0 512 512\"><g><path d=\"M391.3 382.7c-68.4-69.2-73.8-72.7-76.6-74.4-12.7-7.9-26.2-6.8-40.3 3.3-3 2.2-16.9 12.7-23.3 27.3-1.3-.6-2.5-1.2-3.7-1.9-12.6-7.3-25.8-17.9-39.3-31.6l-3.1-3.1c-13.5-13.7-23.9-27.1-30.9-39.7-.7-1.2-1.3-2.5-1.8-3.8 14.5-6.1 25.4-19.9 27.6-22.8 10.5-13.9 11.9-27.4 4.1-40.4-1.6-2.7-5-8.2-73.2-77.7-7.9-8.2-18.9-12.8-30.3-12.6-9.8.5-19.2 4.2-26.7 10.7-19.5 16.4-29.9 38.1-35.2 53.5-4.3 12.6-6.8 25.7-7.6 39-4.8 78.3 41.7 142.9 81.5 183.4l.1.1 4.3 4.4c38.4 39.1 99.3 84.7 173.9 84.7 2.7 0 5.4-.1 8.1-.2 13.3-.5 26.5-2.8 39.2-6.9 15.5-5 37.5-15 54.2-34.3 6.8-7.9 10.6-17 11.1-26.4.4-11.5-4-22.5-12.1-30.6.1 0 0 0 0 0zm-205.6-55.4c15.5 15.7 31 28.1 46 36.8 5.9 3.6 12.5 6 19.3 7.1 8.7 1.3 13.7-.9 17.5-3 5.3-3.2 9-8.6 10.9-15.8 1.1-4.4 7.8-11.5 13.3-15.5 1-.7 2.3-2.5 4.9-2.5 1.8 1.4 12.3 10.4 71.3 70.1 2 1.8 3.1 4.4 3.1 7.1-.1 2.3-1.3 4.9-3.5 7.4-12 13.8-28.4 21.2-40.2 25-10 3.2-20.4 5-30.9 5.3-67.9 3-123-39.2-158.4-75.3l-2.1-2.1c-.8-.8-1.6-1.5-2.3-2.2l.1-.1C99.4 334 58.1 277.1 62.2 210.4c.6-10.5 2.6-20.8 5.9-30.8 4-11.6 11.7-27.9 25.7-39.6 2.6-2.2 5.1-3.3 7.5-3.4h.2c2.6.1 5.1 1.3 6.9 3.2 60.2 61.4 68 71.1 69.1 72.8-.1 1-1.9 3.4-2.7 4.5-4 5.4-11.2 11.9-15.6 13-7.3 1.7-12.7 5.3-16.3 10.9-1.9 3.1-4.3 8.2-3.1 17.2 1 6.8 3.3 13.4 6.8 19.4 8.4 15.1 20.5 30.8 36 46.5l3.1 3.2zM239.1 105.8c-8.5-.9-16.1 5.3-17 13.7v.5c-.8 8.6 5.5 16.2 14.1 17h.1c73 6.5 131 64.1 138 137 .8 8 7.5 14.2 15.6 14.2.5 0 1 0 1.5-.1 8.6-.8 14.9-8.5 14.1-17.1-8.6-87.9-78.5-157.3-166.4-165.2z\"></path><path d=\"M407.5 104.2c-42-42-97.4-67.9-156.6-73.2-8.6-.8-16.2 5.6-17 14.2s5.6 16.2 14.2 17c106.4 9.5 191 93.4 201.3 199.8.8 8 7.5 14.2 15.6 14.2.5 0 1 0 1.5-.1 8.6-.8 14.9-8.5 14.1-17.1-5.7-58.5-31.6-113.2-73.1-154.8z\"></path></g></svg></div></div><div class=\"Contact__ButtonContainer-sc-3d01ca-2 iklMcR\" data-test=\"button-container\"><div class=\"Contact__ButtonIcon-sc-3d01ca-6 hWcXVi Icon__IconElement-sc-1xnn3zd-0 jGTLkV\" data-test=\"icon\"><svg viewbox=\"0 0 512 512\"><path d=\"M449.07 431.55H64.33c-29.06 0-52.63-24.37-52.63-54.44v-245c0-30.07 23.57-54.44 52.63-54.44h384.74c29.07 0 52.63 24.37 52.63 54.44v245c0 30.07-23.56 54.44-52.63 54.44zm12.37-281.73L256.7 354.24 52 149.59v229.7a12.58 12.58 0 0 0 12.37 12.52h384.7a12.58 12.58 0 0 0 12.37-12.52zm-380.8-28.33L256.7 297.35 433 121.49z\" data-name=\"R/uEA51-B-enveloppe\"></path></svg></div></div></div></div><a class=\"CoveringLink-a3s3kt-0 dXJclF\" href=\"https://www.seloger.com/annonces/locations/appartement/paris-11eme-75/nation-alexandre-dumas/155711407.htm?projects=1&amp;types=1&amp;places=[{ci:750105}|{ci:750111}|{ci:940067}|{ci:940080}|{idq:133102}|{idq:133103}|{idq:133104}|{idq:133105}|{idq:133106}|{idq:133107}|{idq:133108}|{idq:133109}|{idq:133110}|{idq:133111}|{idq:133112}|{idq:133113}|{idq:133114}|{idq:133115}|{idq:133764}]&amp;surface=20/NaN&amp;rooms=1&amp;sort=d_dt_crea&amp;picture=15&amp;qsVersion=1.0&amp;bd=ListToDetail\" name=\"classified-link\" target=\"_blank\" z=\"1\"></a></div></div><div class=\"OptionalCriteria__Criteria-ae5ia6-1 eJJkJo\"><div class=\"OptionalCriteria__Criterion-ae5ia6-2 rqdCi\">Avec photos</div></div></div><div class=\"block__ShadowedBlock-sc-10w6hsj-0 ListContent__SmartClassifiedExtended-sc-1viyr2k-2 iddbNe classified__ClassifiedContainer-sc-1wmlctl-0 jzFgwH Card__CardContainer-sc-7insep-7 fMfqlk\"><div class=\"classified__ContentWrapper-sc-1wmlctl-1 iFOIpl\"><div class=\"Card__MediaZone-sc-7insep-0 fPingW\"><div class=\"PhotoSlider__PhotoSliderContainer-cta2l8-0 feqESw\"></div><div class=\"MediaZone__Stickers-bd1uhq-3 iwwrzY\"></div><div class=\"MediaZone__Chips-bd1uhq-4 ifvlFB\"><div class=\"MediaZone__Chip-bd1uhq-5 eUGAIh\"><div class=\"Icon__IconElement-sc-1xnn3zd-0 iIyIAR\" color=\"white\" data-test=\"sl-ui.icon\" style=\"margin-right:6px\"><svg viewbox=\"0 0 512 512\"><path d=\"M421.5 136h-50.3c-.9-.2-1.7-.7-2.4-1.4l-13-37.6c-4.3-12.4-17.5-21.7-30.7-21.7h-143c-13.3 0-26.6 9.3-30.8 21.6l-13 37.5c-.6.8-1.4 1.3-2.3 1.6H85.6c-31.5 0-57 24.9-57 55.5v182.1c0 30.6 25.6 55.5 57 55.5h335.9c31.5 0 57.1-24.9 57.1-55.5V191.5c-.1-30.6-25.6-55.5-57.1-55.5zm26.9 237.6c0 14-12.1 25.4-26.9 25.4H85.6c-14.8 0-26.9-11.4-26.9-25.4V191.5c0-14 12.1-25.4 26.9-25.4H136c13.3 0 26.6-9.3 30.8-21.7l12.9-37.4c.6-.8 1.5-1.4 2.4-1.6h142.7c.9.2 1.7.7 2.4 1.4l13 37.6c4.2 12.4 17.5 21.7 30.8 21.7h50.4c14.9 0 26.9 11.4 26.9 25.4l.1 182.1z\"></path><path d=\"M253.5 180.3c-54.7 0-99 44.3-99 99s44.3 99 99 99 99-44.3 99-98.9c0-54.7-44.3-99-99-99.1zm0 168c-38.1 0-68.9-30.8-68.9-68.9s30.8-68.9 68.9-68.9 68.9 30.8 68.9 68.9c0 38-30.8 68.8-68.9 68.9zM396.2 180.3c-17.6 0-31.8 14.2-31.8 31.8s14.2 31.8 31.8 31.8 31.8-14.2 31.8-31.8-14.2-31.8-31.8-31.8z\"></path></svg></div>5</div></div></div><div class=\"Card__ContentZone-sc-7insep-3 gfORyM\"><div class=\"ContentZone__DetailTop-wghbmy-6 dPYwvZ\"><div><div class=\"ContentZone__Title-wghbmy-7 joPkKZ\">Appartement</div><ul class=\"ContentZone__Tags-wghbmy-8 eJYQQA\"><li>1 p</li><li>30 m²</li><li>1 asc</li></ul></div><div class=\"Price__PriceContainer-sc-1g9fitq-0 eOPseM\"><div class=\"Price__Label-sc-1g9fitq-1 mVWFG\">888 €</div><div class=\"Price__Expose-sc-1g9fitq-4 eCwDJa\">cc</div><div class=\"Price__Suffix-sc-1g9fitq-3 hYaChC\">/mois</div></div></div><div class=\"ContentZone__Address-wghbmy-2 fRAjHL\"><span>Paris 11ème</span><span>Léon-Blum Folie-Regnault</span></div><div class=\"ContentZone__ButtonSection-wghbmy-4 fgfCuS\"><div class=\"ContentZone__Button-wghbmy-5 ePrJwG\"><div class=\"ContentZone__StyledIcon-wghbmy-3 jIMdci Icon__IconElement-sc-1xnn3zd-0 jGTLkV\" data-test=\"sl-ui.icon\"><svg height=\"1em\" viewbox=\"0 0 20 20\" width=\"1em\"><path d=\"M18.146 2.146a.5.5 0 01.708.707l-16 16a.5.5 0 11-.708-.707l3.728-3.728c-1.421-.893-2.696-2.106-3.782-3.643a.503.503 0 01-.003-.574c.15-.215 3.718-5.277 8.886-5.188.018-.003 1.388-.088 3.335.97zm-1.794 5.258c.88.76 1.739 1.697 2.549 2.784a.5.5 0 01-.001.598c-.161.216-3.938 5.204-8.231 5.204l-.186-.003h-.034c-.148-.002-.776-.029-1.666-.265a.5.5 0 01.256-.967c.895.238 1.472.237 1.456.232 3.276.107 6.5-3.45 7.372-4.507a16.03 16.03 0 00-2.168-2.32.5.5 0 01.653-.756zm-2.26 2.226c.075.281.113.571.113.862 0 1.935-1.658 3.508-3.697 3.508-.22 0-.433-.018-.643-.053a.5.5 0 11.164-.986c.156.025.316.039.479.039 1.487 0 2.697-1.125 2.697-2.508 0-.205-.026-.408-.08-.605a.501.501 0 01.968-.257zM10.95 6.01h-.054c-3.958 0-6.971 3.461-7.774 4.482 1.01 1.36 2.179 2.43 3.473 3.206l1.033-1.033c-.521-.618-.817-1.37-.817-2.173 0-1.935 1.658-3.508 3.697-3.508a3.83 3.83 0 012.138.662l.927-.926c-1.525-.764-2.553-.708-2.568-.709h-.109zm-.442 1.974c-1.488 0-2.697 1.125-2.697 2.508 0 .535.187 1.042.522 1.468l3.595-3.595a2.835 2.835 0 00-1.42-.38z\" fill=\"currentColor\" fill-rule=\"evenodd\"></path></svg></div><span>Masquer</span></div><div class=\"ContentZone__Button-wghbmy-5 dxnwuI\"><div class=\"ContentZone__StyledIcon-wghbmy-3 jIMdci Icon__IconElement-sc-1xnn3zd-0 jGTLkV\" data-test=\"sl-ui.icon\"><svg height=\"1em\" viewbox=\"0 0 20 20\" width=\"1em\"><defs><path d=\"M9.976 18.5l-.706-.484c-5.564-3.54-8.64-7.87-8.234-11.568.13-2.704 2.267-4.854 4.915-4.944a4.9 4.9 0 014.025 1.84A5.014 5.014 0 0114 1.513c2.67.1 4.825 2.266 4.963 4.993.407 3.609-2.69 7.91-8.282 11.578l-.706.415zM5.95 3.017c-1.888.1-3.391 1.65-3.474 3.58-.338 3.123 2.468 6.9 7.499 10.143 4.963-3.243 7.827-7.099 7.498-10.065-.058-1.972-1.593-3.566-3.521-3.658a3.576 3.576 0 00-3.397 1.977L9.918 6.22l-.639-1.226a3.51 3.51 0 00-3.328-1.977z\" id=\"heart-regular_svg__a\"></path></defs><use fill=\"currentColor\" fill-rule=\"evenodd\" xlink:href=\"#heart-regular_svg__a\"></use></svg></div><span>Sauvegarder</span></div></div><div class=\"block__ShadowedBlock-sc-10w6hsj-0 ContentZone__SelectModal-wghbmy-15 eUFtOa\"><div class=\"ContentZone__SelectTitle-wghbmy-13 logJyh\">Pour quelle raison souhaitez-vous masquer cette annonce ? </div><div class=\"ContentZone__SelectOption-wghbmy-14 kBiYaS\">Pas intéressé(e)</div><div class=\"ContentZone__SelectOption-wghbmy-14 kBiYaS\">Déjà visité/contacté</div><div class=\"ContentZone__SelectOption-wghbmy-14 kBiYaS\">Photo insatisfaisante/absente</div><div class=\"ContentZone__SelectOption-wghbmy-14 kBiYaS\">Localisation incomplète</div><div class=\"ContentZone__SelectOption-wghbmy-14 kBiYaS\">Autre raison</div></div><div class=\"ContentZone__SmartClassifiedContact-wghbmy-1 bqeKmt Contact__ContactContainer-sc-3d01ca-1 hVXgxb\" mode=\"small\"><a class=\"Contact__WebSiteShortcutContainer-sc-3d01ca-0 csZlpz\" href=\"http://www.arobazimmo.com\" rel=\"nofollow\" target=\"_blank\"><div class=\"Icon__IconElement-sc-1xnn3zd-0 qqhlj\" color=\"#929292\" data-test=\"icon\"><svg viewbox=\"0 0 512 512\"><path d=\"M478.2 254.2c0-120.6-93.3-219.3-211.2-226.5-1.2-.3-2.5-.4-3.8-.4-1.3 0-2.7 0-4 .1-2-.1-4-.1-6.1-.1h-4.2C149.1 29.2 65.1 96.7 37.7 188.9c-.8 1.7-1.4 3.6-1.6 5.5-5.3 19.5-7.9 39.6-7.9 59.8 0 123.9 98.5 224.7 220.9 226.9h4.1c2.1 0 4.1 0 6.1-.1 1.3 0 2.6.1 3.9.1 1.3 0 2.5-.1 3.8-.4 117.9-7.2 211.2-105.8 211.2-226.5zm-416.2 0c0-13.8 1.5-27.6 4.4-41.2h56.5c-3 26.2-3.1 52.6-.4 78.8H65.7c-2.5-12.3-3.7-24.9-3.7-37.6zm92.3 0c0-13.8.8-27.5 2.6-41.2h79.5v78.8h-79.8c-1.6-12.4-2.3-25-2.3-37.6zm196-75h-80.2V64.5c35.4 12.2 65.9 55.8 80.2 114.7zm-114-112v112H163c13.4-55 41-96.7 73.3-112zm0 258.4v115.5c-33.1-15.5-61.1-58.6-74.1-115.5h74.1zm33.8 118.3V325.7h81c-13.9 60.7-44.9 105.8-81 118.2zm0-152v-78.8h86.3c1.7 13.7 2.6 27.4 2.6 41.2 0 12.6-.7 25.2-2.1 37.7l-86.8-.1zM390.5 213H440c5.6 26 5.8 52.8.7 78.8h-49.9c1.3-12.5 1.9-25.1 1.9-37.7.1-13.7-.7-27.4-2.2-41.1zm39-33.8H385c-7.9-36.4-21.3-68.6-39-93.9 37.6 21.1 66.9 54.2 83.5 93.9zm-258-99.6c-19.6 26.1-34.6 60.5-43.1 99.7H77c18.2-43.7 51.8-79.2 94.5-99.7zM75.6 325.7h52.1c8.3 40.6 23.6 76.3 43.8 103.2-43.9-21.1-78.1-58-95.9-103.2zM346 423.1c18.2-26.1 32-59.7 39.7-97.5h45.2c-16.3 41.4-46.2 75.8-84.9 97.5z\"></path></svg></div></a><a class=\"AgencyLogo__AgencyLogoContainer-fcobow-0 dKHFSg\" href=\"https://www.seloger.com/professionnels/1/paris-17eme-75/agency-60500.htm?bd=Liste_annonce_annuaire_detail\" mode=\"small\" target=\"_blank\"><div class=\"AgencyLogo__Image-fcobow-1 hlREae\"></div></a><div class=\"Contact__Buttons-sc-3d01ca-3 pKCwm\" mode=\"small\"><div class=\"Contact__ButtonContainer-sc-3d01ca-2 iklMcR\" data-test=\"button-container\"><div class=\"Contact__ButtonIcon-sc-3d01ca-6 hWcXVi Icon__IconElement-sc-1xnn3zd-0 jGTLkV\" data-test=\"icon\"><svg viewbox=\"0 0 512 512\"><g><path d=\"M391.3 382.7c-68.4-69.2-73.8-72.7-76.6-74.4-12.7-7.9-26.2-6.8-40.3 3.3-3 2.2-16.9 12.7-23.3 27.3-1.3-.6-2.5-1.2-3.7-1.9-12.6-7.3-25.8-17.9-39.3-31.6l-3.1-3.1c-13.5-13.7-23.9-27.1-30.9-39.7-.7-1.2-1.3-2.5-1.8-3.8 14.5-6.1 25.4-19.9 27.6-22.8 10.5-13.9 11.9-27.4 4.1-40.4-1.6-2.7-5-8.2-73.2-77.7-7.9-8.2-18.9-12.8-30.3-12.6-9.8.5-19.2 4.2-26.7 10.7-19.5 16.4-29.9 38.1-35.2 53.5-4.3 12.6-6.8 25.7-7.6 39-4.8 78.3 41.7 142.9 81.5 183.4l.1.1 4.3 4.4c38.4 39.1 99.3 84.7 173.9 84.7 2.7 0 5.4-.1 8.1-.2 13.3-.5 26.5-2.8 39.2-6.9 15.5-5 37.5-15 54.2-34.3 6.8-7.9 10.6-17 11.1-26.4.4-11.5-4-22.5-12.1-30.6.1 0 0 0 0 0zm-205.6-55.4c15.5 15.7 31 28.1 46 36.8 5.9 3.6 12.5 6 19.3 7.1 8.7 1.3 13.7-.9 17.5-3 5.3-3.2 9-8.6 10.9-15.8 1.1-4.4 7.8-11.5 13.3-15.5 1-.7 2.3-2.5 4.9-2.5 1.8 1.4 12.3 10.4 71.3 70.1 2 1.8 3.1 4.4 3.1 7.1-.1 2.3-1.3 4.9-3.5 7.4-12 13.8-28.4 21.2-40.2 25-10 3.2-20.4 5-30.9 5.3-67.9 3-123-39.2-158.4-75.3l-2.1-2.1c-.8-.8-1.6-1.5-2.3-2.2l.1-.1C99.4 334 58.1 277.1 62.2 210.4c.6-10.5 2.6-20.8 5.9-30.8 4-11.6 11.7-27.9 25.7-39.6 2.6-2.2 5.1-3.3 7.5-3.4h.2c2.6.1 5.1 1.3 6.9 3.2 60.2 61.4 68 71.1 69.1 72.8-.1 1-1.9 3.4-2.7 4.5-4 5.4-11.2 11.9-15.6 13-7.3 1.7-12.7 5.3-16.3 10.9-1.9 3.1-4.3 8.2-3.1 17.2 1 6.8 3.3 13.4 6.8 19.4 8.4 15.1 20.5 30.8 36 46.5l3.1 3.2zM239.1 105.8c-8.5-.9-16.1 5.3-17 13.7v.5c-.8 8.6 5.5 16.2 14.1 17h.1c73 6.5 131 64.1 138 137 .8 8 7.5 14.2 15.6 14.2.5 0 1 0 1.5-.1 8.6-.8 14.9-8.5 14.1-17.1-8.6-87.9-78.5-157.3-166.4-165.2z\"></path><path d=\"M407.5 104.2c-42-42-97.4-67.9-156.6-73.2-8.6-.8-16.2 5.6-17 14.2s5.6 16.2 14.2 17c106.4 9.5 191 93.4 201.3 199.8.8 8 7.5 14.2 15.6 14.2.5 0 1 0 1.5-.1 8.6-.8 14.9-8.5 14.1-17.1-5.7-58.5-31.6-113.2-73.1-154.8z\"></path></g></svg></div></div><div class=\"Contact__ButtonContainer-sc-3d01ca-2 iklMcR\" data-test=\"button-container\"><div class=\"Contact__ButtonIcon-sc-3d01ca-6 hWcXVi Icon__IconElement-sc-1xnn3zd-0 jGTLkV\" data-test=\"icon\"><svg viewbox=\"0 0 512 512\"><path d=\"M449.07 431.55H64.33c-29.06 0-52.63-24.37-52.63-54.44v-245c0-30.07 23.57-54.44 52.63-54.44h384.74c29.07 0 52.63 24.37 52.63 54.44v245c0 30.07-23.56 54.44-52.63 54.44zm12.37-281.73L256.7 354.24 52 149.59v229.7a12.58 12.58 0 0 0 12.37 12.52h384.7a12.58 12.58 0 0 0 12.37-12.52zm-380.8-28.33L256.7 297.35 433 121.49z\" data-name=\"R/uEA51-B-enveloppe\"></path></svg></div></div></div></div><a class=\"CoveringLink-a3s3kt-0 dXJclF\" href=\"https://www.seloger.com/annonces/locations/appartement/paris-11eme-75/leon-blum-folie-regnault/159153475.htm?projects=1&amp;types=1&amp;places=[{ci:750105}|{ci:750111}|{ci:940067}|{ci:940080}|{idq:133102}|{idq:133103}|{idq:133104}|{idq:133105}|{idq:133106}|{idq:133107}|{idq:133108}|{idq:133109}|{idq:133110}|{idq:133111}|{idq:133112}|{idq:133113}|{idq:133114}|{idq:133115}|{idq:133764}]&amp;surface=20/NaN&amp;rooms=1&amp;sort=d_dt_crea&amp;picture=15&amp;qsVersion=1.0&amp;bd=ListToDetail\" name=\"classified-link\" target=\"_blank\" z=\"1\"></a></div></div><div class=\"OptionalCriteria__Criteria-ae5ia6-1 eJJkJo\"><div class=\"OptionalCriteria__Criterion-ae5ia6-2 rqdCi\">Avec photos</div></div></div><div class=\"block__ShadowedBlock-sc-10w6hsj-0 ListContent__SmartClassifiedExtended-sc-1viyr2k-2 iddbNe classified__ClassifiedContainer-sc-1wmlctl-0 jzFgwH Card__CardContainer-sc-7insep-7 fMfqlk\"><div class=\"classified__ContentWrapper-sc-1wmlctl-1 iFOIpl\"><div class=\"Card__MediaZone-sc-7insep-0 fPingW\"><div class=\"PhotoSlider__PhotoSliderContainer-cta2l8-0 feqESw\"></div><div class=\"MediaZone__Stickers-bd1uhq-3 iwwrzY\"></div><div class=\"MediaZone__Chips-bd1uhq-4 ifvlFB\"><div class=\"MediaZone__Chip-bd1uhq-5 eUGAIh\"><div class=\"Icon__IconElement-sc-1xnn3zd-0 iIyIAR\" color=\"white\" data-test=\"sl-ui.icon\" style=\"margin-right:6px\"><svg viewbox=\"0 0 512 512\"><path d=\"M421.5 136h-50.3c-.9-.2-1.7-.7-2.4-1.4l-13-37.6c-4.3-12.4-17.5-21.7-30.7-21.7h-143c-13.3 0-26.6 9.3-30.8 21.6l-13 37.5c-.6.8-1.4 1.3-2.3 1.6H85.6c-31.5 0-57 24.9-57 55.5v182.1c0 30.6 25.6 55.5 57 55.5h335.9c31.5 0 57.1-24.9 57.1-55.5V191.5c-.1-30.6-25.6-55.5-57.1-55.5zm26.9 237.6c0 14-12.1 25.4-26.9 25.4H85.6c-14.8 0-26.9-11.4-26.9-25.4V191.5c0-14 12.1-25.4 26.9-25.4H136c13.3 0 26.6-9.3 30.8-21.7l12.9-37.4c.6-.8 1.5-1.4 2.4-1.6h142.7c.9.2 1.7.7 2.4 1.4l13 37.6c4.2 12.4 17.5 21.7 30.8 21.7h50.4c14.9 0 26.9 11.4 26.9 25.4l.1 182.1z\"></path><path d=\"M253.5 180.3c-54.7 0-99 44.3-99 99s44.3 99 99 99 99-44.3 99-98.9c0-54.7-44.3-99-99-99.1zm0 168c-38.1 0-68.9-30.8-68.9-68.9s30.8-68.9 68.9-68.9 68.9 30.8 68.9 68.9c0 38-30.8 68.8-68.9 68.9zM396.2 180.3c-17.6 0-31.8 14.2-31.8 31.8s14.2 31.8 31.8 31.8 31.8-14.2 31.8-31.8-14.2-31.8-31.8-31.8z\"></path></svg></div>4</div></div></div><div class=\"Card__ContentZone-sc-7insep-3 gfORyM\"><div class=\"ContentZone__DetailTop-wghbmy-6 dPYwvZ\"><div><div class=\"ContentZone__Title-wghbmy-7 joPkKZ\">Appartement</div><ul class=\"ContentZone__Tags-wghbmy-8 eJYQQA\"><li>1 p</li><li>21 m²</li></ul></div><div class=\"Price__PriceContainer-sc-1g9fitq-0 eOPseM\"><div class=\"Price__Label-sc-1g9fitq-1 mVWFG\">865 €</div><div class=\"Price__Expose-sc-1g9fitq-4 eCwDJa\">cc</div><div class=\"Price__Suffix-sc-1g9fitq-3 hYaChC\">/mois</div></div></div><div class=\"ContentZone__Address-wghbmy-2 fRAjHL\"><span>Paris 12ème</span><span>Vallée de Fécamp</span></div><div class=\"ContentZone__ButtonSection-wghbmy-4 fgfCuS\"><div class=\"ContentZone__Button-wghbmy-5 ePrJwG\"><div class=\"ContentZone__StyledIcon-wghbmy-3 jIMdci Icon__IconElement-sc-1xnn3zd-0 jGTLkV\" data-test=\"sl-ui.icon\"><svg height=\"1em\" viewbox=\"0 0 20 20\" width=\"1em\"><path d=\"M18.146 2.146a.5.5 0 01.708.707l-16 16a.5.5 0 11-.708-.707l3.728-3.728c-1.421-.893-2.696-2.106-3.782-3.643a.503.503 0 01-.003-.574c.15-.215 3.718-5.277 8.886-5.188.018-.003 1.388-.088 3.335.97zm-1.794 5.258c.88.76 1.739 1.697 2.549 2.784a.5.5 0 01-.001.598c-.161.216-3.938 5.204-8.231 5.204l-.186-.003h-.034c-.148-.002-.776-.029-1.666-.265a.5.5 0 01.256-.967c.895.238 1.472.237 1.456.232 3.276.107 6.5-3.45 7.372-4.507a16.03 16.03 0 00-2.168-2.32.5.5 0 01.653-.756zm-2.26 2.226c.075.281.113.571.113.862 0 1.935-1.658 3.508-3.697 3.508-.22 0-.433-.018-.643-.053a.5.5 0 11.164-.986c.156.025.316.039.479.039 1.487 0 2.697-1.125 2.697-2.508 0-.205-.026-.408-.08-.605a.501.501 0 01.968-.257zM10.95 6.01h-.054c-3.958 0-6.971 3.461-7.774 4.482 1.01 1.36 2.179 2.43 3.473 3.206l1.033-1.033c-.521-.618-.817-1.37-.817-2.173 0-1.935 1.658-3.508 3.697-3.508a3.83 3.83 0 012.138.662l.927-.926c-1.525-.764-2.553-.708-2.568-.709h-.109zm-.442 1.974c-1.488 0-2.697 1.125-2.697 2.508 0 .535.187 1.042.522 1.468l3.595-3.595a2.835 2.835 0 00-1.42-.38z\" fill=\"currentColor\" fill-rule=\"evenodd\"></path></svg></div><span>Masquer</span></div><div class=\"ContentZone__Button-wghbmy-5 dxnwuI\"><div class=\"ContentZone__StyledIcon-wghbmy-3 jIMdci Icon__IconElement-sc-1xnn3zd-0 jGTLkV\" data-test=\"sl-ui.icon\"><svg height=\"1em\" viewbox=\"0 0 20 20\" width=\"1em\"><defs><path d=\"M9.976 18.5l-.706-.484c-5.564-3.54-8.64-7.87-8.234-11.568.13-2.704 2.267-4.854 4.915-4.944a4.9 4.9 0 014.025 1.84A5.014 5.014 0 0114 1.513c2.67.1 4.825 2.266 4.963 4.993.407 3.609-2.69 7.91-8.282 11.578l-.706.415zM5.95 3.017c-1.888.1-3.391 1.65-3.474 3.58-.338 3.123 2.468 6.9 7.499 10.143 4.963-3.243 7.827-7.099 7.498-10.065-.058-1.972-1.593-3.566-3.521-3.658a3.576 3.576 0 00-3.397 1.977L9.918 6.22l-.639-1.226a3.51 3.51 0 00-3.328-1.977z\" id=\"heart-regular_svg__a\"></path></defs><use fill=\"currentColor\" fill-rule=\"evenodd\" xlink:href=\"#heart-regular_svg__a\"></use></svg></div><span>Sauvegarder</span></div></div><div class=\"block__ShadowedBlock-sc-10w6hsj-0 ContentZone__SelectModal-wghbmy-15 eUFtOa\"><div class=\"ContentZone__SelectTitle-wghbmy-13 logJyh\">Pour quelle raison souhaitez-vous masquer cette annonce ? </div><div class=\"ContentZone__SelectOption-wghbmy-14 kBiYaS\">Pas intéressé(e)</div><div class=\"ContentZone__SelectOption-wghbmy-14 kBiYaS\">Déjà visité/contacté</div><div class=\"ContentZone__SelectOption-wghbmy-14 kBiYaS\">Photo insatisfaisante/absente</div><div class=\"ContentZone__SelectOption-wghbmy-14 kBiYaS\">Localisation incomplète</div><div class=\"ContentZone__SelectOption-wghbmy-14 kBiYaS\">Autre raison</div></div><div class=\"ContentZone__SmartClassifiedContact-wghbmy-1 bqeKmt Contact__ContactContainer-sc-3d01ca-1 hVXgxb\" mode=\"small\"><a class=\"Contact__WebSiteShortcutContainer-sc-3d01ca-0 csZlpz\" href=\"http://www.arobazimmo.com\" rel=\"nofollow\" target=\"_blank\"><div class=\"Icon__IconElement-sc-1xnn3zd-0 qqhlj\" color=\"#929292\" data-test=\"icon\"><svg viewbox=\"0 0 512 512\"><path d=\"M478.2 254.2c0-120.6-93.3-219.3-211.2-226.5-1.2-.3-2.5-.4-3.8-.4-1.3 0-2.7 0-4 .1-2-.1-4-.1-6.1-.1h-4.2C149.1 29.2 65.1 96.7 37.7 188.9c-.8 1.7-1.4 3.6-1.6 5.5-5.3 19.5-7.9 39.6-7.9 59.8 0 123.9 98.5 224.7 220.9 226.9h4.1c2.1 0 4.1 0 6.1-.1 1.3 0 2.6.1 3.9.1 1.3 0 2.5-.1 3.8-.4 117.9-7.2 211.2-105.8 211.2-226.5zm-416.2 0c0-13.8 1.5-27.6 4.4-41.2h56.5c-3 26.2-3.1 52.6-.4 78.8H65.7c-2.5-12.3-3.7-24.9-3.7-37.6zm92.3 0c0-13.8.8-27.5 2.6-41.2h79.5v78.8h-79.8c-1.6-12.4-2.3-25-2.3-37.6zm196-75h-80.2V64.5c35.4 12.2 65.9 55.8 80.2 114.7zm-114-112v112H163c13.4-55 41-96.7 73.3-112zm0 258.4v115.5c-33.1-15.5-61.1-58.6-74.1-115.5h74.1zm33.8 118.3V325.7h81c-13.9 60.7-44.9 105.8-81 118.2zm0-152v-78.8h86.3c1.7 13.7 2.6 27.4 2.6 41.2 0 12.6-.7 25.2-2.1 37.7l-86.8-.1zM390.5 213H440c5.6 26 5.8 52.8.7 78.8h-49.9c1.3-12.5 1.9-25.1 1.9-37.7.1-13.7-.7-27.4-2.2-41.1zm39-33.8H385c-7.9-36.4-21.3-68.6-39-93.9 37.6 21.1 66.9 54.2 83.5 93.9zm-258-99.6c-19.6 26.1-34.6 60.5-43.1 99.7H77c18.2-43.7 51.8-79.2 94.5-99.7zM75.6 325.7h52.1c8.3 40.6 23.6 76.3 43.8 103.2-43.9-21.1-78.1-58-95.9-103.2zM346 423.1c18.2-26.1 32-59.7 39.7-97.5h45.2c-16.3 41.4-46.2 75.8-84.9 97.5z\"></path></svg></div></a><a class=\"AgencyLogo__AgencyLogoContainer-fcobow-0 dKHFSg\" href=\"https://www.seloger.com/professionnels/1/paris-17eme-75/agency-60500.htm?bd=Liste_annonce_annuaire_detail\" mode=\"small\" target=\"_blank\"><div class=\"AgencyLogo__Image-fcobow-1 hlREae\"></div></a><div class=\"Contact__Buttons-sc-3d01ca-3 pKCwm\" mode=\"small\"><div class=\"Contact__ButtonContainer-sc-3d01ca-2 iklMcR\" data-test=\"button-container\"><div class=\"Contact__ButtonIcon-sc-3d01ca-6 hWcXVi Icon__IconElement-sc-1xnn3zd-0 jGTLkV\" data-test=\"icon\"><svg viewbox=\"0 0 512 512\"><g><path d=\"M391.3 382.7c-68.4-69.2-73.8-72.7-76.6-74.4-12.7-7.9-26.2-6.8-40.3 3.3-3 2.2-16.9 12.7-23.3 27.3-1.3-.6-2.5-1.2-3.7-1.9-12.6-7.3-25.8-17.9-39.3-31.6l-3.1-3.1c-13.5-13.7-23.9-27.1-30.9-39.7-.7-1.2-1.3-2.5-1.8-3.8 14.5-6.1 25.4-19.9 27.6-22.8 10.5-13.9 11.9-27.4 4.1-40.4-1.6-2.7-5-8.2-73.2-77.7-7.9-8.2-18.9-12.8-30.3-12.6-9.8.5-19.2 4.2-26.7 10.7-19.5 16.4-29.9 38.1-35.2 53.5-4.3 12.6-6.8 25.7-7.6 39-4.8 78.3 41.7 142.9 81.5 183.4l.1.1 4.3 4.4c38.4 39.1 99.3 84.7 173.9 84.7 2.7 0 5.4-.1 8.1-.2 13.3-.5 26.5-2.8 39.2-6.9 15.5-5 37.5-15 54.2-34.3 6.8-7.9 10.6-17 11.1-26.4.4-11.5-4-22.5-12.1-30.6.1 0 0 0 0 0zm-205.6-55.4c15.5 15.7 31 28.1 46 36.8 5.9 3.6 12.5 6 19.3 7.1 8.7 1.3 13.7-.9 17.5-3 5.3-3.2 9-8.6 10.9-15.8 1.1-4.4 7.8-11.5 13.3-15.5 1-.7 2.3-2.5 4.9-2.5 1.8 1.4 12.3 10.4 71.3 70.1 2 1.8 3.1 4.4 3.1 7.1-.1 2.3-1.3 4.9-3.5 7.4-12 13.8-28.4 21.2-40.2 25-10 3.2-20.4 5-30.9 5.3-67.9 3-123-39.2-158.4-75.3l-2.1-2.1c-.8-.8-1.6-1.5-2.3-2.2l.1-.1C99.4 334 58.1 277.1 62.2 210.4c.6-10.5 2.6-20.8 5.9-30.8 4-11.6 11.7-27.9 25.7-39.6 2.6-2.2 5.1-3.3 7.5-3.4h.2c2.6.1 5.1 1.3 6.9 3.2 60.2 61.4 68 71.1 69.1 72.8-.1 1-1.9 3.4-2.7 4.5-4 5.4-11.2 11.9-15.6 13-7.3 1.7-12.7 5.3-16.3 10.9-1.9 3.1-4.3 8.2-3.1 17.2 1 6.8 3.3 13.4 6.8 19.4 8.4 15.1 20.5 30.8 36 46.5l3.1 3.2zM239.1 105.8c-8.5-.9-16.1 5.3-17 13.7v.5c-.8 8.6 5.5 16.2 14.1 17h.1c73 6.5 131 64.1 138 137 .8 8 7.5 14.2 15.6 14.2.5 0 1 0 1.5-.1 8.6-.8 14.9-8.5 14.1-17.1-8.6-87.9-78.5-157.3-166.4-165.2z\"></path><path d=\"M407.5 104.2c-42-42-97.4-67.9-156.6-73.2-8.6-.8-16.2 5.6-17 14.2s5.6 16.2 14.2 17c106.4 9.5 191 93.4 201.3 199.8.8 8 7.5 14.2 15.6 14.2.5 0 1 0 1.5-.1 8.6-.8 14.9-8.5 14.1-17.1-5.7-58.5-31.6-113.2-73.1-154.8z\"></path></g></svg></div></div><div class=\"Contact__ButtonContainer-sc-3d01ca-2 iklMcR\" data-test=\"button-container\"><div class=\"Contact__ButtonIcon-sc-3d01ca-6 hWcXVi Icon__IconElement-sc-1xnn3zd-0 jGTLkV\" data-test=\"icon\"><svg viewbox=\"0 0 512 512\"><path d=\"M449.07 431.55H64.33c-29.06 0-52.63-24.37-52.63-54.44v-245c0-30.07 23.57-54.44 52.63-54.44h384.74c29.07 0 52.63 24.37 52.63 54.44v245c0 30.07-23.56 54.44-52.63 54.44zm12.37-281.73L256.7 354.24 52 149.59v229.7a12.58 12.58 0 0 0 12.37 12.52h384.7a12.58 12.58 0 0 0 12.37-12.52zm-380.8-28.33L256.7 297.35 433 121.49z\" data-name=\"R/uEA51-B-enveloppe\"></path></svg></div></div></div></div><a class=\"CoveringLink-a3s3kt-0 dXJclF\" href=\"https://www.seloger.com/annonces/locations/appartement/paris-12eme-75/vallee-de-fecamp/159153483.htm?projects=1&amp;types=1&amp;places=[{ci:750105}|{ci:750111}|{ci:940067}|{ci:940080}|{idq:133102}|{idq:133103}|{idq:133104}|{idq:133105}|{idq:133106}|{idq:133107}|{idq:133108}|{idq:133109}|{idq:133110}|{idq:133111}|{idq:133112}|{idq:133113}|{idq:133114}|{idq:133115}|{idq:133764}]&amp;surface=20/NaN&amp;rooms=1&amp;sort=d_dt_crea&amp;picture=15&amp;qsVersion=1.0&amp;bd=ListToDetail\" name=\"classified-link\" target=\"_blank\" z=\"1\"></a></div></div><div class=\"OptionalCriteria__Criteria-ae5ia6-1 eJJkJo\"><div class=\"OptionalCriteria__Criterion-ae5ia6-2 rqdCi\">Avec photos</div></div></div><div class=\"block__ShadowedBlock-sc-10w6hsj-0 ListContent__SmartClassifiedExtended-sc-1viyr2k-2 iddbNe classified__ClassifiedContainer-sc-1wmlctl-0 jzFgwH Card__CardContainer-sc-7insep-7 fMfqlk\"><div class=\"classified__ContentWrapper-sc-1wmlctl-1 iFOIpl\"><div class=\"Card__MediaZone-sc-7insep-0 fPingW\"><div class=\"PhotoSlider__PhotoSliderContainer-cta2l8-0 feqESw\"></div><div class=\"MediaZone__Stickers-bd1uhq-3 iwwrzY\"></div><div class=\"MediaZone__Chips-bd1uhq-4 ifvlFB\"><div class=\"MediaZone__Chip-bd1uhq-5 eUGAIh\"><div class=\"Icon__IconElement-sc-1xnn3zd-0 iIyIAR\" color=\"white\" data-test=\"sl-ui.icon\" style=\"margin-right:6px\"><svg viewbox=\"0 0 512 512\"><path d=\"M421.5 136h-50.3c-.9-.2-1.7-.7-2.4-1.4l-13-37.6c-4.3-12.4-17.5-21.7-30.7-21.7h-143c-13.3 0-26.6 9.3-30.8 21.6l-13 37.5c-.6.8-1.4 1.3-2.3 1.6H85.6c-31.5 0-57 24.9-57 55.5v182.1c0 30.6 25.6 55.5 57 55.5h335.9c31.5 0 57.1-24.9 57.1-55.5V191.5c-.1-30.6-25.6-55.5-57.1-55.5zm26.9 237.6c0 14-12.1 25.4-26.9 25.4H85.6c-14.8 0-26.9-11.4-26.9-25.4V191.5c0-14 12.1-25.4 26.9-25.4H136c13.3 0 26.6-9.3 30.8-21.7l12.9-37.4c.6-.8 1.5-1.4 2.4-1.6h142.7c.9.2 1.7.7 2.4 1.4l13 37.6c4.2 12.4 17.5 21.7 30.8 21.7h50.4c14.9 0 26.9 11.4 26.9 25.4l.1 182.1z\"></path><path d=\"M253.5 180.3c-54.7 0-99 44.3-99 99s44.3 99 99 99 99-44.3 99-98.9c0-54.7-44.3-99-99-99.1zm0 168c-38.1 0-68.9-30.8-68.9-68.9s30.8-68.9 68.9-68.9 68.9 30.8 68.9 68.9c0 38-30.8 68.8-68.9 68.9zM396.2 180.3c-17.6 0-31.8 14.2-31.8 31.8s14.2 31.8 31.8 31.8 31.8-14.2 31.8-31.8-14.2-31.8-31.8-31.8z\"></path></svg></div>4</div></div></div><div class=\"Card__ContentZone-sc-7insep-3 gfORyM\"><div class=\"ContentZone__DetailTop-wghbmy-6 dPYwvZ\"><div><div class=\"ContentZone__Title-wghbmy-7 joPkKZ\">Appartement</div><ul class=\"ContentZone__Tags-wghbmy-8 eJYQQA\"><li>1 p</li><li>29,28 m²</li><li>3 etg</li></ul></div><div class=\"Price__PriceContainer-sc-1g9fitq-0 eOPseM\"><div class=\"Price__Label-sc-1g9fitq-1 mVWFG\">1 075 €</div><div class=\"Price__Expose-sc-1g9fitq-4 eCwDJa\">cc</div><div class=\"Price__Suffix-sc-1g9fitq-3 hYaChC\">/mois</div></div></div><div class=\"ContentZone__Address-wghbmy-2 fRAjHL\"><span>Paris 12ème</span><span>Jardin de Reuilly</span></div><div class=\"ContentZone__ButtonSection-wghbmy-4 fgfCuS\"><div class=\"ContentZone__Button-wghbmy-5 ePrJwG\"><div class=\"ContentZone__StyledIcon-wghbmy-3 jIMdci Icon__IconElement-sc-1xnn3zd-0 jGTLkV\" data-test=\"sl-ui.icon\"><svg height=\"1em\" viewbox=\"0 0 20 20\" width=\"1em\"><path d=\"M18.146 2.146a.5.5 0 01.708.707l-16 16a.5.5 0 11-.708-.707l3.728-3.728c-1.421-.893-2.696-2.106-3.782-3.643a.503.503 0 01-.003-.574c.15-.215 3.718-5.277 8.886-5.188.018-.003 1.388-.088 3.335.97zm-1.794 5.258c.88.76 1.739 1.697 2.549 2.784a.5.5 0 01-.001.598c-.161.216-3.938 5.204-8.231 5.204l-.186-.003h-.034c-.148-.002-.776-.029-1.666-.265a.5.5 0 01.256-.967c.895.238 1.472.237 1.456.232 3.276.107 6.5-3.45 7.372-4.507a16.03 16.03 0 00-2.168-2.32.5.5 0 01.653-.756zm-2.26 2.226c.075.281.113.571.113.862 0 1.935-1.658 3.508-3.697 3.508-.22 0-.433-.018-.643-.053a.5.5 0 11.164-.986c.156.025.316.039.479.039 1.487 0 2.697-1.125 2.697-2.508 0-.205-.026-.408-.08-.605a.501.501 0 01.968-.257zM10.95 6.01h-.054c-3.958 0-6.971 3.461-7.774 4.482 1.01 1.36 2.179 2.43 3.473 3.206l1.033-1.033c-.521-.618-.817-1.37-.817-2.173 0-1.935 1.658-3.508 3.697-3.508a3.83 3.83 0 012.138.662l.927-.926c-1.525-.764-2.553-.708-2.568-.709h-.109zm-.442 1.974c-1.488 0-2.697 1.125-2.697 2.508 0 .535.187 1.042.522 1.468l3.595-3.595a2.835 2.835 0 00-1.42-.38z\" fill=\"currentColor\" fill-rule=\"evenodd\"></path></svg></div><span>Masquer</span></div><div class=\"ContentZone__Button-wghbmy-5 dxnwuI\"><div class=\"ContentZone__StyledIcon-wghbmy-3 jIMdci Icon__IconElement-sc-1xnn3zd-0 jGTLkV\" data-test=\"sl-ui.icon\"><svg height=\"1em\" viewbox=\"0 0 20 20\" width=\"1em\"><defs><path d=\"M9.976 18.5l-.706-.484c-5.564-3.54-8.64-7.87-8.234-11.568.13-2.704 2.267-4.854 4.915-4.944a4.9 4.9 0 014.025 1.84A5.014 5.014 0 0114 1.513c2.67.1 4.825 2.266 4.963 4.993.407 3.609-2.69 7.91-8.282 11.578l-.706.415zM5.95 3.017c-1.888.1-3.391 1.65-3.474 3.58-.338 3.123 2.468 6.9 7.499 10.143 4.963-3.243 7.827-7.099 7.498-10.065-.058-1.972-1.593-3.566-3.521-3.658a3.576 3.576 0 00-3.397 1.977L9.918 6.22l-.639-1.226a3.51 3.51 0 00-3.328-1.977z\" id=\"heart-regular_svg__a\"></path></defs><use fill=\"currentColor\" fill-rule=\"evenodd\" xlink:href=\"#heart-regular_svg__a\"></use></svg></div><span>Sauvegarder</span></div></div><div class=\"block__ShadowedBlock-sc-10w6hsj-0 ContentZone__SelectModal-wghbmy-15 eUFtOa\"><div class=\"ContentZone__SelectTitle-wghbmy-13 logJyh\">Pour quelle raison souhaitez-vous masquer cette annonce ? </div><div class=\"ContentZone__SelectOption-wghbmy-14 kBiYaS\">Pas intéressé(e)</div><div class=\"ContentZone__SelectOption-wghbmy-14 kBiYaS\">Déjà visité/contacté</div><div class=\"ContentZone__SelectOption-wghbmy-14 kBiYaS\">Photo insatisfaisante/absente</div><div class=\"ContentZone__SelectOption-wghbmy-14 kBiYaS\">Localisation incomplète</div><div class=\"ContentZone__SelectOption-wghbmy-14 kBiYaS\">Autre raison</div></div><div class=\"ContentZone__SmartClassifiedContact-wghbmy-1 bqeKmt Contact__ContactContainer-sc-3d01ca-1 hVXgxb\" mode=\"small\"><a class=\"Contact__WebSiteShortcutContainer-sc-3d01ca-0 csZlpz\" href=\"http://www.h3m-arthurimmo.com/\" rel=\"nofollow\" target=\"_blank\"><div class=\"Icon__IconElement-sc-1xnn3zd-0 qqhlj\" color=\"#929292\" data-test=\"icon\"><svg viewbox=\"0 0 512 512\"><path d=\"M478.2 254.2c0-120.6-93.3-219.3-211.2-226.5-1.2-.3-2.5-.4-3.8-.4-1.3 0-2.7 0-4 .1-2-.1-4-.1-6.1-.1h-4.2C149.1 29.2 65.1 96.7 37.7 188.9c-.8 1.7-1.4 3.6-1.6 5.5-5.3 19.5-7.9 39.6-7.9 59.8 0 123.9 98.5 224.7 220.9 226.9h4.1c2.1 0 4.1 0 6.1-.1 1.3 0 2.6.1 3.9.1 1.3 0 2.5-.1 3.8-.4 117.9-7.2 211.2-105.8 211.2-226.5zm-416.2 0c0-13.8 1.5-27.6 4.4-41.2h56.5c-3 26.2-3.1 52.6-.4 78.8H65.7c-2.5-12.3-3.7-24.9-3.7-37.6zm92.3 0c0-13.8.8-27.5 2.6-41.2h79.5v78.8h-79.8c-1.6-12.4-2.3-25-2.3-37.6zm196-75h-80.2V64.5c35.4 12.2 65.9 55.8 80.2 114.7zm-114-112v112H163c13.4-55 41-96.7 73.3-112zm0 258.4v115.5c-33.1-15.5-61.1-58.6-74.1-115.5h74.1zm33.8 118.3V325.7h81c-13.9 60.7-44.9 105.8-81 118.2zm0-152v-78.8h86.3c1.7 13.7 2.6 27.4 2.6 41.2 0 12.6-.7 25.2-2.1 37.7l-86.8-.1zM390.5 213H440c5.6 26 5.8 52.8.7 78.8h-49.9c1.3-12.5 1.9-25.1 1.9-37.7.1-13.7-.7-27.4-2.2-41.1zm39-33.8H385c-7.9-36.4-21.3-68.6-39-93.9 37.6 21.1 66.9 54.2 83.5 93.9zm-258-99.6c-19.6 26.1-34.6 60.5-43.1 99.7H77c18.2-43.7 51.8-79.2 94.5-99.7zM75.6 325.7h52.1c8.3 40.6 23.6 76.3 43.8 103.2-43.9-21.1-78.1-58-95.9-103.2zM346 423.1c18.2-26.1 32-59.7 39.7-97.5h45.2c-16.3 41.4-46.2 75.8-84.9 97.5z\"></path></svg></div></a><a class=\"AgencyLogo__AgencyLogoContainer-fcobow-0 dKHFSg\" href=\"https://www.seloger.com/professionnels/1/paris-11eme-75/agency-64335.htm?bd=Liste_annonce_annuaire_detail\" mode=\"small\" target=\"_blank\"><div class=\"AgencyLogo__Image-fcobow-1 gDNnKu\"></div></a><div class=\"Contact__Buttons-sc-3d01ca-3 pKCwm\" mode=\"small\"><div class=\"Contact__ButtonContainer-sc-3d01ca-2 iklMcR\" data-test=\"button-container\"><div class=\"Contact__ButtonIcon-sc-3d01ca-6 hWcXVi Icon__IconElement-sc-1xnn3zd-0 jGTLkV\" data-test=\"icon\"><svg viewbox=\"0 0 512 512\"><g><path d=\"M391.3 382.7c-68.4-69.2-73.8-72.7-76.6-74.4-12.7-7.9-26.2-6.8-40.3 3.3-3 2.2-16.9 12.7-23.3 27.3-1.3-.6-2.5-1.2-3.7-1.9-12.6-7.3-25.8-17.9-39.3-31.6l-3.1-3.1c-13.5-13.7-23.9-27.1-30.9-39.7-.7-1.2-1.3-2.5-1.8-3.8 14.5-6.1 25.4-19.9 27.6-22.8 10.5-13.9 11.9-27.4 4.1-40.4-1.6-2.7-5-8.2-73.2-77.7-7.9-8.2-18.9-12.8-30.3-12.6-9.8.5-19.2 4.2-26.7 10.7-19.5 16.4-29.9 38.1-35.2 53.5-4.3 12.6-6.8 25.7-7.6 39-4.8 78.3 41.7 142.9 81.5 183.4l.1.1 4.3 4.4c38.4 39.1 99.3 84.7 173.9 84.7 2.7 0 5.4-.1 8.1-.2 13.3-.5 26.5-2.8 39.2-6.9 15.5-5 37.5-15 54.2-34.3 6.8-7.9 10.6-17 11.1-26.4.4-11.5-4-22.5-12.1-30.6.1 0 0 0 0 0zm-205.6-55.4c15.5 15.7 31 28.1 46 36.8 5.9 3.6 12.5 6 19.3 7.1 8.7 1.3 13.7-.9 17.5-3 5.3-3.2 9-8.6 10.9-15.8 1.1-4.4 7.8-11.5 13.3-15.5 1-.7 2.3-2.5 4.9-2.5 1.8 1.4 12.3 10.4 71.3 70.1 2 1.8 3.1 4.4 3.1 7.1-.1 2.3-1.3 4.9-3.5 7.4-12 13.8-28.4 21.2-40.2 25-10 3.2-20.4 5-30.9 5.3-67.9 3-123-39.2-158.4-75.3l-2.1-2.1c-.8-.8-1.6-1.5-2.3-2.2l.1-.1C99.4 334 58.1 277.1 62.2 210.4c.6-10.5 2.6-20.8 5.9-30.8 4-11.6 11.7-27.9 25.7-39.6 2.6-2.2 5.1-3.3 7.5-3.4h.2c2.6.1 5.1 1.3 6.9 3.2 60.2 61.4 68 71.1 69.1 72.8-.1 1-1.9 3.4-2.7 4.5-4 5.4-11.2 11.9-15.6 13-7.3 1.7-12.7 5.3-16.3 10.9-1.9 3.1-4.3 8.2-3.1 17.2 1 6.8 3.3 13.4 6.8 19.4 8.4 15.1 20.5 30.8 36 46.5l3.1 3.2zM239.1 105.8c-8.5-.9-16.1 5.3-17 13.7v.5c-.8 8.6 5.5 16.2 14.1 17h.1c73 6.5 131 64.1 138 137 .8 8 7.5 14.2 15.6 14.2.5 0 1 0 1.5-.1 8.6-.8 14.9-8.5 14.1-17.1-8.6-87.9-78.5-157.3-166.4-165.2z\"></path><path d=\"M407.5 104.2c-42-42-97.4-67.9-156.6-73.2-8.6-.8-16.2 5.6-17 14.2s5.6 16.2 14.2 17c106.4 9.5 191 93.4 201.3 199.8.8 8 7.5 14.2 15.6 14.2.5 0 1 0 1.5-.1 8.6-.8 14.9-8.5 14.1-17.1-5.7-58.5-31.6-113.2-73.1-154.8z\"></path></g></svg></div></div><div class=\"Contact__ButtonContainer-sc-3d01ca-2 iklMcR\" data-test=\"button-container\"><div class=\"Contact__ButtonIcon-sc-3d01ca-6 hWcXVi Icon__IconElement-sc-1xnn3zd-0 jGTLkV\" data-test=\"icon\"><svg viewbox=\"0 0 512 512\"><path d=\"M449.07 431.55H64.33c-29.06 0-52.63-24.37-52.63-54.44v-245c0-30.07 23.57-54.44 52.63-54.44h384.74c29.07 0 52.63 24.37 52.63 54.44v245c0 30.07-23.56 54.44-52.63 54.44zm12.37-281.73L256.7 354.24 52 149.59v229.7a12.58 12.58 0 0 0 12.37 12.52h384.7a12.58 12.58 0 0 0 12.37-12.52zm-380.8-28.33L256.7 297.35 433 121.49z\" data-name=\"R/uEA51-B-enveloppe\"></path></svg></div></div></div></div><a class=\"CoveringLink-a3s3kt-0 dXJclF\" href=\"https://www.seloger.com/annonces/locations/appartement/paris-12eme-75/jardin-de-reuilly/159148805.htm?projects=1&amp;types=1&amp;places=[{ci:750105}|{ci:750111}|{ci:940067}|{ci:940080}|{idq:133102}|{idq:133103}|{idq:133104}|{idq:133105}|{idq:133106}|{idq:133107}|{idq:133108}|{idq:133109}|{idq:133110}|{idq:133111}|{idq:133112}|{idq:133113}|{idq:133114}|{idq:133115}|{idq:133764}]&amp;surface=20/NaN&amp;rooms=1&amp;sort=d_dt_crea&amp;picture=15&amp;qsVersion=1.0&amp;bd=ListToDetail\" name=\"classified-link\" target=\"_blank\" z=\"1\"></a></div></div><div class=\"OptionalCriteria__Criteria-ae5ia6-1 eJJkJo\"><div class=\"OptionalCriteria__Criterion-ae5ia6-2 rqdCi\">Avec photos</div></div></div><div class=\"block__ShadowedBlock-sc-10w6hsj-0 ListContent__SmartLocalExpertExtended-sc-1viyr2k-3 loLgaA Card__CardContainer-sc-7insep-7 fMfqlk\"><div class=\"Card__MediaZone-sc-7insep-0 LocalExpert__ImageContainer-sc-1gzt9ds-4 ekfjPO\"><img alt=\"LocalExpert\" class=\"LocalExpert__Image-sc-1gzt9ds-3 gsNKfj\" src=\"https://v.seloger.com/s/width/80/bandeaux/1/5/e/1/15e1h8vach9s8snnnnsxpjzklmxplw2osi4iuxi8m.jpg\"/></div><div class=\"Card__ContentZone-sc-7insep-3 gfORyM\"><div class=\"LocalExpert__Tag-sc-1gzt9ds-0 jpFYMX\">L'immobilier en toute sécurité</div><div class=\"LocalExpert__Title-sc-1gzt9ds-1 fnseYI\">CONFIEZ NOUS VOTRE BIEN EN LOCATION</div><div class=\"Card__Description-sc-7insep-4 bbcegX\">GESTION LOCATIVE AVEC GARANTIES DES LOYERS ET DES DETERIORATIONS</div><ul class=\"LocalExpert__RealEstateAds-sc-1gzt9ds-2 hVLPaD\"><li><a>1 biens en location</a></li></ul><div class=\"Card__Sponsor-sc-7insep-5 lcwbLW\">Contenu sponsorisé</div></div><a class=\"CoveringLink-a3s3kt-0 dXJclF\" href=\"https://www.seloger.com/professionnels/l-immobilier-en-toute-securite/paris-75/agency-54968.htm?CMP=localexpertweb&amp;idc=630&amp;pdb=0&amp;nbd=1\" name=\"localExpert-link\" target=\"_blank\" title=\"CONFIEZ NOUS VOTRE BIEN EN LOCATION\" z=\"1\"></a></div><div class=\"block__ShadowedBlock-sc-10w6hsj-0 ListContent__SmartClassifiedExtended-sc-1viyr2k-2 iddbNe classified__ClassifiedContainer-sc-1wmlctl-0 jzFgwH Card__CardContainer-sc-7insep-7 fMfqlk\"><div class=\"classified__ContentWrapper-sc-1wmlctl-1 iFOIpl\"><div class=\"Card__MediaZone-sc-7insep-0 fPingW\"><div class=\"PhotoSlider__PhotoSliderContainer-cta2l8-0 feqESw\"></div><div class=\"MediaZone__Stickers-bd1uhq-3 iwwrzY\"></div><div class=\"MediaZone__Chips-bd1uhq-4 ifvlFB\"><div class=\"MediaZone__Chip-bd1uhq-5 eUGAIh\"><div class=\"Icon__IconElement-sc-1xnn3zd-0 iIyIAR\" color=\"white\" data-test=\"sl-ui.icon\" style=\"margin-right:6px\"><svg viewbox=\"0 0 512 512\"><path d=\"M421.5 136h-50.3c-.9-.2-1.7-.7-2.4-1.4l-13-37.6c-4.3-12.4-17.5-21.7-30.7-21.7h-143c-13.3 0-26.6 9.3-30.8 21.6l-13 37.5c-.6.8-1.4 1.3-2.3 1.6H85.6c-31.5 0-57 24.9-57 55.5v182.1c0 30.6 25.6 55.5 57 55.5h335.9c31.5 0 57.1-24.9 57.1-55.5V191.5c-.1-30.6-25.6-55.5-57.1-55.5zm26.9 237.6c0 14-12.1 25.4-26.9 25.4H85.6c-14.8 0-26.9-11.4-26.9-25.4V191.5c0-14 12.1-25.4 26.9-25.4H136c13.3 0 26.6-9.3 30.8-21.7l12.9-37.4c.6-.8 1.5-1.4 2.4-1.6h142.7c.9.2 1.7.7 2.4 1.4l13 37.6c4.2 12.4 17.5 21.7 30.8 21.7h50.4c14.9 0 26.9 11.4 26.9 25.4l.1 182.1z\"></path><path d=\"M253.5 180.3c-54.7 0-99 44.3-99 99s44.3 99 99 99 99-44.3 99-98.9c0-54.7-44.3-99-99-99.1zm0 168c-38.1 0-68.9-30.8-68.9-68.9s30.8-68.9 68.9-68.9 68.9 30.8 68.9 68.9c0 38-30.8 68.8-68.9 68.9zM396.2 180.3c-17.6 0-31.8 14.2-31.8 31.8s14.2 31.8 31.8 31.8 31.8-14.2 31.8-31.8-14.2-31.8-31.8-31.8z\"></path></svg></div>7</div></div></div><div class=\"Card__ContentZone-sc-7insep-3 gfORyM\"><div class=\"ContentZone__DetailTop-wghbmy-6 dPYwvZ\"><div><div class=\"ContentZone__Title-wghbmy-7 joPkKZ\">Appartement</div><ul class=\"ContentZone__Tags-wghbmy-8 eJYQQA\"><li>1 p</li><li>34 m²</li></ul></div><div class=\"Price__PriceContainer-sc-1g9fitq-0 eOPseM\"><div class=\"Price__Label-sc-1g9fitq-1 mVWFG\">900 €</div><div class=\"Price__Expose-sc-1g9fitq-4 eCwDJa\">cc</div><div class=\"Price__Suffix-sc-1g9fitq-3 hYaChC\">/mois</div></div></div><div class=\"ContentZone__Address-wghbmy-2 fRAjHL\"><span>Paris 11ème</span><span>Bastille-Popincourt</span></div><div class=\"ContentZone__ButtonSection-wghbmy-4 fgfCuS\"><div class=\"ContentZone__Button-wghbmy-5 ePrJwG\"><div class=\"ContentZone__StyledIcon-wghbmy-3 jIMdci Icon__IconElement-sc-1xnn3zd-0 jGTLkV\" data-test=\"sl-ui.icon\"><svg height=\"1em\" viewbox=\"0 0 20 20\" width=\"1em\"><path d=\"M18.146 2.146a.5.5 0 01.708.707l-16 16a.5.5 0 11-.708-.707l3.728-3.728c-1.421-.893-2.696-2.106-3.782-3.643a.503.503 0 01-.003-.574c.15-.215 3.718-5.277 8.886-5.188.018-.003 1.388-.088 3.335.97zm-1.794 5.258c.88.76 1.739 1.697 2.549 2.784a.5.5 0 01-.001.598c-.161.216-3.938 5.204-8.231 5.204l-.186-.003h-.034c-.148-.002-.776-.029-1.666-.265a.5.5 0 01.256-.967c.895.238 1.472.237 1.456.232 3.276.107 6.5-3.45 7.372-4.507a16.03 16.03 0 00-2.168-2.32.5.5 0 01.653-.756zm-2.26 2.226c.075.281.113.571.113.862 0 1.935-1.658 3.508-3.697 3.508-.22 0-.433-.018-.643-.053a.5.5 0 11.164-.986c.156.025.316.039.479.039 1.487 0 2.697-1.125 2.697-2.508 0-.205-.026-.408-.08-.605a.501.501 0 01.968-.257zM10.95 6.01h-.054c-3.958 0-6.971 3.461-7.774 4.482 1.01 1.36 2.179 2.43 3.473 3.206l1.033-1.033c-.521-.618-.817-1.37-.817-2.173 0-1.935 1.658-3.508 3.697-3.508a3.83 3.83 0 012.138.662l.927-.926c-1.525-.764-2.553-.708-2.568-.709h-.109zm-.442 1.974c-1.488 0-2.697 1.125-2.697 2.508 0 .535.187 1.042.522 1.468l3.595-3.595a2.835 2.835 0 00-1.42-.38z\" fill=\"currentColor\" fill-rule=\"evenodd\"></path></svg></div><span>Masquer</span></div><div class=\"ContentZone__Button-wghbmy-5 dxnwuI\"><div class=\"ContentZone__StyledIcon-wghbmy-3 jIMdci Icon__IconElement-sc-1xnn3zd-0 jGTLkV\" data-test=\"sl-ui.icon\"><svg height=\"1em\" viewbox=\"0 0 20 20\" width=\"1em\"><defs><path d=\"M9.976 18.5l-.706-.484c-5.564-3.54-8.64-7.87-8.234-11.568.13-2.704 2.267-4.854 4.915-4.944a4.9 4.9 0 014.025 1.84A5.014 5.014 0 0114 1.513c2.67.1 4.825 2.266 4.963 4.993.407 3.609-2.69 7.91-8.282 11.578l-.706.415zM5.95 3.017c-1.888.1-3.391 1.65-3.474 3.58-.338 3.123 2.468 6.9 7.499 10.143 4.963-3.243 7.827-7.099 7.498-10.065-.058-1.972-1.593-3.566-3.521-3.658a3.576 3.576 0 00-3.397 1.977L9.918 6.22l-.639-1.226a3.51 3.51 0 00-3.328-1.977z\" id=\"heart-regular_svg__a\"></path></defs><use fill=\"currentColor\" fill-rule=\"evenodd\" xlink:href=\"#heart-regular_svg__a\"></use></svg></div><span>Sauvegarder</span></div></div><div class=\"block__ShadowedBlock-sc-10w6hsj-0 ContentZone__SelectModal-wghbmy-15 eUFtOa\"><div class=\"ContentZone__SelectTitle-wghbmy-13 logJyh\">Pour quelle raison souhaitez-vous masquer cette annonce ? </div><div class=\"ContentZone__SelectOption-wghbmy-14 kBiYaS\">Pas intéressé(e)</div><div class=\"ContentZone__SelectOption-wghbmy-14 kBiYaS\">Déjà visité/contacté</div><div class=\"ContentZone__SelectOption-wghbmy-14 kBiYaS\">Photo insatisfaisante/absente</div><div class=\"ContentZone__SelectOption-wghbmy-14 kBiYaS\">Localisation incomplète</div><div class=\"ContentZone__SelectOption-wghbmy-14 kBiYaS\">Autre raison</div></div><div class=\"ContentZone__SmartClassifiedContact-wghbmy-1 bqeKmt Contact__ContactContainer-sc-3d01ca-1 hVXgxb\" mode=\"small\"><a class=\"AgencyLogo__AgencyLogoContainer-fcobow-0 hjyUfp\" mode=\"small\" target=\"_blank\"><div class=\"AgencyLogo__Placeholder-fcobow-2 jRuXFY\">STUDAPART</div></a><div class=\"Contact__Buttons-sc-3d01ca-3 pKCwm\" mode=\"small\"><div class=\"Contact__ButtonContainer-sc-3d01ca-2 iklMcR\" data-test=\"button-container\"><div class=\"Contact__ButtonIcon-sc-3d01ca-6 hWcXVi Icon__IconElement-sc-1xnn3zd-0 jGTLkV\" data-test=\"icon\"><svg viewbox=\"0 0 512 512\"><g><path d=\"M391.3 382.7c-68.4-69.2-73.8-72.7-76.6-74.4-12.7-7.9-26.2-6.8-40.3 3.3-3 2.2-16.9 12.7-23.3 27.3-1.3-.6-2.5-1.2-3.7-1.9-12.6-7.3-25.8-17.9-39.3-31.6l-3.1-3.1c-13.5-13.7-23.9-27.1-30.9-39.7-.7-1.2-1.3-2.5-1.8-3.8 14.5-6.1 25.4-19.9 27.6-22.8 10.5-13.9 11.9-27.4 4.1-40.4-1.6-2.7-5-8.2-73.2-77.7-7.9-8.2-18.9-12.8-30.3-12.6-9.8.5-19.2 4.2-26.7 10.7-19.5 16.4-29.9 38.1-35.2 53.5-4.3 12.6-6.8 25.7-7.6 39-4.8 78.3 41.7 142.9 81.5 183.4l.1.1 4.3 4.4c38.4 39.1 99.3 84.7 173.9 84.7 2.7 0 5.4-.1 8.1-.2 13.3-.5 26.5-2.8 39.2-6.9 15.5-5 37.5-15 54.2-34.3 6.8-7.9 10.6-17 11.1-26.4.4-11.5-4-22.5-12.1-30.6.1 0 0 0 0 0zm-205.6-55.4c15.5 15.7 31 28.1 46 36.8 5.9 3.6 12.5 6 19.3 7.1 8.7 1.3 13.7-.9 17.5-3 5.3-3.2 9-8.6 10.9-15.8 1.1-4.4 7.8-11.5 13.3-15.5 1-.7 2.3-2.5 4.9-2.5 1.8 1.4 12.3 10.4 71.3 70.1 2 1.8 3.1 4.4 3.1 7.1-.1 2.3-1.3 4.9-3.5 7.4-12 13.8-28.4 21.2-40.2 25-10 3.2-20.4 5-30.9 5.3-67.9 3-123-39.2-158.4-75.3l-2.1-2.1c-.8-.8-1.6-1.5-2.3-2.2l.1-.1C99.4 334 58.1 277.1 62.2 210.4c.6-10.5 2.6-20.8 5.9-30.8 4-11.6 11.7-27.9 25.7-39.6 2.6-2.2 5.1-3.3 7.5-3.4h.2c2.6.1 5.1 1.3 6.9 3.2 60.2 61.4 68 71.1 69.1 72.8-.1 1-1.9 3.4-2.7 4.5-4 5.4-11.2 11.9-15.6 13-7.3 1.7-12.7 5.3-16.3 10.9-1.9 3.1-4.3 8.2-3.1 17.2 1 6.8 3.3 13.4 6.8 19.4 8.4 15.1 20.5 30.8 36 46.5l3.1 3.2zM239.1 105.8c-8.5-.9-16.1 5.3-17 13.7v.5c-.8 8.6 5.5 16.2 14.1 17h.1c73 6.5 131 64.1 138 137 .8 8 7.5 14.2 15.6 14.2.5 0 1 0 1.5-.1 8.6-.8 14.9-8.5 14.1-17.1-8.6-87.9-78.5-157.3-166.4-165.2z\"></path><path d=\"M407.5 104.2c-42-42-97.4-67.9-156.6-73.2-8.6-.8-16.2 5.6-17 14.2s5.6 16.2 14.2 17c106.4 9.5 191 93.4 201.3 199.8.8 8 7.5 14.2 15.6 14.2.5 0 1 0 1.5-.1 8.6-.8 14.9-8.5 14.1-17.1-5.7-58.5-31.6-113.2-73.1-154.8z\"></path></g></svg></div></div><div class=\"Contact__ButtonContainer-sc-3d01ca-2 iklMcR\" data-test=\"button-container\"><div class=\"Contact__ButtonIcon-sc-3d01ca-6 hWcXVi Icon__IconElement-sc-1xnn3zd-0 jGTLkV\" data-test=\"icon\"><svg viewbox=\"0 0 512 512\"><path d=\"M449.07 431.55H64.33c-29.06 0-52.63-24.37-52.63-54.44v-245c0-30.07 23.57-54.44 52.63-54.44h384.74c29.07 0 52.63 24.37 52.63 54.44v245c0 30.07-23.56 54.44-52.63 54.44zm12.37-281.73L256.7 354.24 52 149.59v229.7a12.58 12.58 0 0 0 12.37 12.52h384.7a12.58 12.58 0 0 0 12.37-12.52zm-380.8-28.33L256.7 297.35 433 121.49z\" data-name=\"R/uEA51-B-enveloppe\"></path></svg></div></div></div></div><a class=\"CoveringLink-a3s3kt-0 dXJclF\" href=\"https://www.seloger.com/annonces/locations/appartement/paris-11eme-75/bastille-popincourt/159145879.htm?projects=1&amp;types=1&amp;places=[{ci:750105}|{ci:750111}|{ci:940067}|{ci:940080}|{idq:133102}|{idq:133103}|{idq:133104}|{idq:133105}|{idq:133106}|{idq:133107}|{idq:133108}|{idq:133109}|{idq:133110}|{idq:133111}|{idq:133112}|{idq:133113}|{idq:133114}|{idq:133115}|{idq:133764}]&amp;surface=20/NaN&amp;rooms=1&amp;sort=d_dt_crea&amp;picture=15&amp;qsVersion=1.0&amp;bd=ListToDetail\" name=\"classified-link\" target=\"_blank\" z=\"1\"></a></div></div><div class=\"OptionalCriteria__Criteria-ae5ia6-1 eJJkJo\"><div class=\"OptionalCriteria__Criterion-ae5ia6-2 rqdCi\">Avec photos</div></div></div><div class=\"block__ShadowedBlock-sc-10w6hsj-0 ListContent__SmartClassifiedExtended-sc-1viyr2k-2 iddbNe classified__ClassifiedContainer-sc-1wmlctl-0 jzFgwH Card__CardContainer-sc-7insep-7 fMfqlk\"><div class=\"classified__ContentWrapper-sc-1wmlctl-1 iFOIpl\"><div class=\"Card__MediaZone-sc-7insep-0 fPingW\"><div class=\"PhotoSlider__PhotoSliderContainer-cta2l8-0 feqESw\"></div><div class=\"MediaZone__Stickers-bd1uhq-3 iwwrzY\"></div><div class=\"MediaZone__Chips-bd1uhq-4 ifvlFB\"><div class=\"MediaZone__Chip-bd1uhq-5 eUGAIh\"><div class=\"Icon__IconElement-sc-1xnn3zd-0 iIyIAR\" color=\"white\" data-test=\"sl-ui.icon\" style=\"margin-right:6px\"><svg viewbox=\"0 0 512 512\"><path d=\"M421.5 136h-50.3c-.9-.2-1.7-.7-2.4-1.4l-13-37.6c-4.3-12.4-17.5-21.7-30.7-21.7h-143c-13.3 0-26.6 9.3-30.8 21.6l-13 37.5c-.6.8-1.4 1.3-2.3 1.6H85.6c-31.5 0-57 24.9-57 55.5v182.1c0 30.6 25.6 55.5 57 55.5h335.9c31.5 0 57.1-24.9 57.1-55.5V191.5c-.1-30.6-25.6-55.5-57.1-55.5zm26.9 237.6c0 14-12.1 25.4-26.9 25.4H85.6c-14.8 0-26.9-11.4-26.9-25.4V191.5c0-14 12.1-25.4 26.9-25.4H136c13.3 0 26.6-9.3 30.8-21.7l12.9-37.4c.6-.8 1.5-1.4 2.4-1.6h142.7c.9.2 1.7.7 2.4 1.4l13 37.6c4.2 12.4 17.5 21.7 30.8 21.7h50.4c14.9 0 26.9 11.4 26.9 25.4l.1 182.1z\"></path><path d=\"M253.5 180.3c-54.7 0-99 44.3-99 99s44.3 99 99 99 99-44.3 99-98.9c0-54.7-44.3-99-99-99.1zm0 168c-38.1 0-68.9-30.8-68.9-68.9s30.8-68.9 68.9-68.9 68.9 30.8 68.9 68.9c0 38-30.8 68.8-68.9 68.9zM396.2 180.3c-17.6 0-31.8 14.2-31.8 31.8s14.2 31.8 31.8 31.8 31.8-14.2 31.8-31.8-14.2-31.8-31.8-31.8z\"></path></svg></div>8</div></div></div><div class=\"Card__ContentZone-sc-7insep-3 gfORyM\"><div class=\"ContentZone__DetailTop-wghbmy-6 dPYwvZ\"><div><div class=\"ContentZone__Title-wghbmy-7 joPkKZ\">Appartement</div><ul class=\"ContentZone__Tags-wghbmy-8 eJYQQA\"><li>1 p</li><li>31 m²</li><li>1 asc</li></ul></div><div class=\"Price__PriceContainer-sc-1g9fitq-0 eOPseM\"><div class=\"Price__Label-sc-1g9fitq-1 mVWFG\">1 120 €</div><div class=\"Price__Expose-sc-1g9fitq-4 eCwDJa\">cc</div><div class=\"Price__Suffix-sc-1g9fitq-3 hYaChC\">/mois</div></div></div><div class=\"ContentZone__Address-wghbmy-2 fRAjHL\"><span>Paris 13ème</span><span>Nationale-Deux Moulins</span></div><div class=\"ContentZone__ButtonSection-wghbmy-4 fgfCuS\"><div class=\"ContentZone__Button-wghbmy-5 ePrJwG\"><div class=\"ContentZone__StyledIcon-wghbmy-3 jIMdci Icon__IconElement-sc-1xnn3zd-0 jGTLkV\" data-test=\"sl-ui.icon\"><svg height=\"1em\" viewbox=\"0 0 20 20\" width=\"1em\"><path d=\"M18.146 2.146a.5.5 0 01.708.707l-16 16a.5.5 0 11-.708-.707l3.728-3.728c-1.421-.893-2.696-2.106-3.782-3.643a.503.503 0 01-.003-.574c.15-.215 3.718-5.277 8.886-5.188.018-.003 1.388-.088 3.335.97zm-1.794 5.258c.88.76 1.739 1.697 2.549 2.784a.5.5 0 01-.001.598c-.161.216-3.938 5.204-8.231 5.204l-.186-.003h-.034c-.148-.002-.776-.029-1.666-.265a.5.5 0 01.256-.967c.895.238 1.472.237 1.456.232 3.276.107 6.5-3.45 7.372-4.507a16.03 16.03 0 00-2.168-2.32.5.5 0 01.653-.756zm-2.26 2.226c.075.281.113.571.113.862 0 1.935-1.658 3.508-3.697 3.508-.22 0-.433-.018-.643-.053a.5.5 0 11.164-.986c.156.025.316.039.479.039 1.487 0 2.697-1.125 2.697-2.508 0-.205-.026-.408-.08-.605a.501.501 0 01.968-.257zM10.95 6.01h-.054c-3.958 0-6.971 3.461-7.774 4.482 1.01 1.36 2.179 2.43 3.473 3.206l1.033-1.033c-.521-.618-.817-1.37-.817-2.173 0-1.935 1.658-3.508 3.697-3.508a3.83 3.83 0 012.138.662l.927-.926c-1.525-.764-2.553-.708-2.568-.709h-.109zm-.442 1.974c-1.488 0-2.697 1.125-2.697 2.508 0 .535.187 1.042.522 1.468l3.595-3.595a2.835 2.835 0 00-1.42-.38z\" fill=\"currentColor\" fill-rule=\"evenodd\"></path></svg></div><span>Masquer</span></div><div class=\"ContentZone__Button-wghbmy-5 dxnwuI\"><div class=\"ContentZone__StyledIcon-wghbmy-3 jIMdci Icon__IconElement-sc-1xnn3zd-0 jGTLkV\" data-test=\"sl-ui.icon\"><svg height=\"1em\" viewbox=\"0 0 20 20\" width=\"1em\"><defs><path d=\"M9.976 18.5l-.706-.484c-5.564-3.54-8.64-7.87-8.234-11.568.13-2.704 2.267-4.854 4.915-4.944a4.9 4.9 0 014.025 1.84A5.014 5.014 0 0114 1.513c2.67.1 4.825 2.266 4.963 4.993.407 3.609-2.69 7.91-8.282 11.578l-.706.415zM5.95 3.017c-1.888.1-3.391 1.65-3.474 3.58-.338 3.123 2.468 6.9 7.499 10.143 4.963-3.243 7.827-7.099 7.498-10.065-.058-1.972-1.593-3.566-3.521-3.658a3.576 3.576 0 00-3.397 1.977L9.918 6.22l-.639-1.226a3.51 3.51 0 00-3.328-1.977z\" id=\"heart-regular_svg__a\"></path></defs><use fill=\"currentColor\" fill-rule=\"evenodd\" xlink:href=\"#heart-regular_svg__a\"></use></svg></div><span>Sauvegarder</span></div></div><div class=\"block__ShadowedBlock-sc-10w6hsj-0 ContentZone__SelectModal-wghbmy-15 eUFtOa\"><div class=\"ContentZone__SelectTitle-wghbmy-13 logJyh\">Pour quelle raison souhaitez-vous masquer cette annonce ? </div><div class=\"ContentZone__SelectOption-wghbmy-14 kBiYaS\">Pas intéressé(e)</div><div class=\"ContentZone__SelectOption-wghbmy-14 kBiYaS\">Déjà visité/contacté</div><div class=\"ContentZone__SelectOption-wghbmy-14 kBiYaS\">Photo insatisfaisante/absente</div><div class=\"ContentZone__SelectOption-wghbmy-14 kBiYaS\">Localisation incomplète</div><div class=\"ContentZone__SelectOption-wghbmy-14 kBiYaS\">Autre raison</div></div><div class=\"ContentZone__SmartClassifiedContact-wghbmy-1 bqeKmt Contact__ContactContainer-sc-3d01ca-1 hVXgxb\" mode=\"small\"><a class=\"AgencyLogo__AgencyLogoContainer-fcobow-0 hjyUfp\" mode=\"small\" target=\"_blank\"><div class=\"AgencyLogo__Placeholder-fcobow-2 jRuXFY\">ELIOTT'S</div></a><div class=\"Contact__Buttons-sc-3d01ca-3 pKCwm\" mode=\"small\"><div class=\"Contact__ButtonContainer-sc-3d01ca-2 iklMcR\" data-test=\"button-container\"><div class=\"Contact__ButtonIcon-sc-3d01ca-6 hWcXVi Icon__IconElement-sc-1xnn3zd-0 jGTLkV\" data-test=\"icon\"><svg viewbox=\"0 0 512 512\"><g><path d=\"M391.3 382.7c-68.4-69.2-73.8-72.7-76.6-74.4-12.7-7.9-26.2-6.8-40.3 3.3-3 2.2-16.9 12.7-23.3 27.3-1.3-.6-2.5-1.2-3.7-1.9-12.6-7.3-25.8-17.9-39.3-31.6l-3.1-3.1c-13.5-13.7-23.9-27.1-30.9-39.7-.7-1.2-1.3-2.5-1.8-3.8 14.5-6.1 25.4-19.9 27.6-22.8 10.5-13.9 11.9-27.4 4.1-40.4-1.6-2.7-5-8.2-73.2-77.7-7.9-8.2-18.9-12.8-30.3-12.6-9.8.5-19.2 4.2-26.7 10.7-19.5 16.4-29.9 38.1-35.2 53.5-4.3 12.6-6.8 25.7-7.6 39-4.8 78.3 41.7 142.9 81.5 183.4l.1.1 4.3 4.4c38.4 39.1 99.3 84.7 173.9 84.7 2.7 0 5.4-.1 8.1-.2 13.3-.5 26.5-2.8 39.2-6.9 15.5-5 37.5-15 54.2-34.3 6.8-7.9 10.6-17 11.1-26.4.4-11.5-4-22.5-12.1-30.6.1 0 0 0 0 0zm-205.6-55.4c15.5 15.7 31 28.1 46 36.8 5.9 3.6 12.5 6 19.3 7.1 8.7 1.3 13.7-.9 17.5-3 5.3-3.2 9-8.6 10.9-15.8 1.1-4.4 7.8-11.5 13.3-15.5 1-.7 2.3-2.5 4.9-2.5 1.8 1.4 12.3 10.4 71.3 70.1 2 1.8 3.1 4.4 3.1 7.1-.1 2.3-1.3 4.9-3.5 7.4-12 13.8-28.4 21.2-40.2 25-10 3.2-20.4 5-30.9 5.3-67.9 3-123-39.2-158.4-75.3l-2.1-2.1c-.8-.8-1.6-1.5-2.3-2.2l.1-.1C99.4 334 58.1 277.1 62.2 210.4c.6-10.5 2.6-20.8 5.9-30.8 4-11.6 11.7-27.9 25.7-39.6 2.6-2.2 5.1-3.3 7.5-3.4h.2c2.6.1 5.1 1.3 6.9 3.2 60.2 61.4 68 71.1 69.1 72.8-.1 1-1.9 3.4-2.7 4.5-4 5.4-11.2 11.9-15.6 13-7.3 1.7-12.7 5.3-16.3 10.9-1.9 3.1-4.3 8.2-3.1 17.2 1 6.8 3.3 13.4 6.8 19.4 8.4 15.1 20.5 30.8 36 46.5l3.1 3.2zM239.1 105.8c-8.5-.9-16.1 5.3-17 13.7v.5c-.8 8.6 5.5 16.2 14.1 17h.1c73 6.5 131 64.1 138 137 .8 8 7.5 14.2 15.6 14.2.5 0 1 0 1.5-.1 8.6-.8 14.9-8.5 14.1-17.1-8.6-87.9-78.5-157.3-166.4-165.2z\"></path><path d=\"M407.5 104.2c-42-42-97.4-67.9-156.6-73.2-8.6-.8-16.2 5.6-17 14.2s5.6 16.2 14.2 17c106.4 9.5 191 93.4 201.3 199.8.8 8 7.5 14.2 15.6 14.2.5 0 1 0 1.5-.1 8.6-.8 14.9-8.5 14.1-17.1-5.7-58.5-31.6-113.2-73.1-154.8z\"></path></g></svg></div></div><div class=\"Contact__ButtonContainer-sc-3d01ca-2 iklMcR\" data-test=\"button-container\"><div class=\"Contact__ButtonIcon-sc-3d01ca-6 hWcXVi Icon__IconElement-sc-1xnn3zd-0 jGTLkV\" data-test=\"icon\"><svg viewbox=\"0 0 512 512\"><path d=\"M449.07 431.55H64.33c-29.06 0-52.63-24.37-52.63-54.44v-245c0-30.07 23.57-54.44 52.63-54.44h384.74c29.07 0 52.63 24.37 52.63 54.44v245c0 30.07-23.56 54.44-52.63 54.44zm12.37-281.73L256.7 354.24 52 149.59v229.7a12.58 12.58 0 0 0 12.37 12.52h384.7a12.58 12.58 0 0 0 12.37-12.52zm-380.8-28.33L256.7 297.35 433 121.49z\" data-name=\"R/uEA51-B-enveloppe\"></path></svg></div></div></div></div><a class=\"CoveringLink-a3s3kt-0 dXJclF\" href=\"https://www.seloger.com/annonces/locations/appartement/paris-13eme-75/nationale-deux-moulins/159144335.htm?projects=1&amp;types=1&amp;places=[{ci:750105}|{ci:750111}|{ci:940067}|{ci:940080}|{idq:133102}|{idq:133103}|{idq:133104}|{idq:133105}|{idq:133106}|{idq:133107}|{idq:133108}|{idq:133109}|{idq:133110}|{idq:133111}|{idq:133112}|{idq:133113}|{idq:133114}|{idq:133115}|{idq:133764}]&amp;surface=20/NaN&amp;rooms=1&amp;sort=d_dt_crea&amp;picture=15&amp;qsVersion=1.0&amp;bd=ListToDetail\" name=\"classified-link\" target=\"_blank\" z=\"1\"></a></div></div><div class=\"OptionalCriteria__Criteria-ae5ia6-1 eJJkJo\"><div class=\"OptionalCriteria__Criterion-ae5ia6-2 rqdCi\">Avec photos</div></div></div><div class=\"block__ShadowedBlock-sc-10w6hsj-0 ListContent__SmartClassifiedExtended-sc-1viyr2k-2 iddbNe classified__ClassifiedContainer-sc-1wmlctl-0 jzFgwH Card__CardContainer-sc-7insep-7 fMfqlk\"><div class=\"classified__ContentWrapper-sc-1wmlctl-1 iFOIpl\"><div class=\"Card__MediaZone-sc-7insep-0 fPingW\"><div class=\"PhotoSlider__PhotoSliderContainer-cta2l8-0 feqESw\"></div><div class=\"MediaZone__Stickers-bd1uhq-3 iwwrzY\"></div><div class=\"MediaZone__Chips-bd1uhq-4 ifvlFB\"><div class=\"MediaZone__Chip-bd1uhq-5 eUGAIh\"><div class=\"Icon__IconElement-sc-1xnn3zd-0 iIyIAR\" color=\"white\" data-test=\"sl-ui.icon\" style=\"margin-right:6px\"><svg viewbox=\"0 0 512 512\"><path d=\"M421.5 136h-50.3c-.9-.2-1.7-.7-2.4-1.4l-13-37.6c-4.3-12.4-17.5-21.7-30.7-21.7h-143c-13.3 0-26.6 9.3-30.8 21.6l-13 37.5c-.6.8-1.4 1.3-2.3 1.6H85.6c-31.5 0-57 24.9-57 55.5v182.1c0 30.6 25.6 55.5 57 55.5h335.9c31.5 0 57.1-24.9 57.1-55.5V191.5c-.1-30.6-25.6-55.5-57.1-55.5zm26.9 237.6c0 14-12.1 25.4-26.9 25.4H85.6c-14.8 0-26.9-11.4-26.9-25.4V191.5c0-14 12.1-25.4 26.9-25.4H136c13.3 0 26.6-9.3 30.8-21.7l12.9-37.4c.6-.8 1.5-1.4 2.4-1.6h142.7c.9.2 1.7.7 2.4 1.4l13 37.6c4.2 12.4 17.5 21.7 30.8 21.7h50.4c14.9 0 26.9 11.4 26.9 25.4l.1 182.1z\"></path><path d=\"M253.5 180.3c-54.7 0-99 44.3-99 99s44.3 99 99 99 99-44.3 99-98.9c0-54.7-44.3-99-99-99.1zm0 168c-38.1 0-68.9-30.8-68.9-68.9s30.8-68.9 68.9-68.9 68.9 30.8 68.9 68.9c0 38-30.8 68.8-68.9 68.9zM396.2 180.3c-17.6 0-31.8 14.2-31.8 31.8s14.2 31.8 31.8 31.8 31.8-14.2 31.8-31.8-14.2-31.8-31.8-31.8z\"></path></svg></div>6</div></div></div><div class=\"Card__ContentZone-sc-7insep-3 gfORyM\"><div class=\"ContentZone__DetailTop-wghbmy-6 dPYwvZ\"><div><div class=\"ContentZone__Title-wghbmy-7 joPkKZ\">Appartement</div><ul class=\"ContentZone__Tags-wghbmy-8 eJYQQA\"><li>1 p</li><li>29 m²</li><li>1 asc</li></ul></div><div class=\"Price__PriceContainer-sc-1g9fitq-0 eOPseM\"><div class=\"Price__Label-sc-1g9fitq-1 mVWFG\">890 €</div><div class=\"Price__Expose-sc-1g9fitq-4 eCwDJa\">cc</div><div class=\"Price__Suffix-sc-1g9fitq-3 hYaChC\">/mois</div></div></div><div class=\"ContentZone__Address-wghbmy-2 fRAjHL\"><span>Paris 12ème</span><span>Bel-Air Sud</span></div><div class=\"ContentZone__ButtonSection-wghbmy-4 fgfCuS\"><div class=\"ContentZone__Button-wghbmy-5 ePrJwG\"><div class=\"ContentZone__StyledIcon-wghbmy-3 jIMdci Icon__IconElement-sc-1xnn3zd-0 jGTLkV\" data-test=\"sl-ui.icon\"><svg height=\"1em\" viewbox=\"0 0 20 20\" width=\"1em\"><path d=\"M18.146 2.146a.5.5 0 01.708.707l-16 16a.5.5 0 11-.708-.707l3.728-3.728c-1.421-.893-2.696-2.106-3.782-3.643a.503.503 0 01-.003-.574c.15-.215 3.718-5.277 8.886-5.188.018-.003 1.388-.088 3.335.97zm-1.794 5.258c.88.76 1.739 1.697 2.549 2.784a.5.5 0 01-.001.598c-.161.216-3.938 5.204-8.231 5.204l-.186-.003h-.034c-.148-.002-.776-.029-1.666-.265a.5.5 0 01.256-.967c.895.238 1.472.237 1.456.232 3.276.107 6.5-3.45 7.372-4.507a16.03 16.03 0 00-2.168-2.32.5.5 0 01.653-.756zm-2.26 2.226c.075.281.113.571.113.862 0 1.935-1.658 3.508-3.697 3.508-.22 0-.433-.018-.643-.053a.5.5 0 11.164-.986c.156.025.316.039.479.039 1.487 0 2.697-1.125 2.697-2.508 0-.205-.026-.408-.08-.605a.501.501 0 01.968-.257zM10.95 6.01h-.054c-3.958 0-6.971 3.461-7.774 4.482 1.01 1.36 2.179 2.43 3.473 3.206l1.033-1.033c-.521-.618-.817-1.37-.817-2.173 0-1.935 1.658-3.508 3.697-3.508a3.83 3.83 0 012.138.662l.927-.926c-1.525-.764-2.553-.708-2.568-.709h-.109zm-.442 1.974c-1.488 0-2.697 1.125-2.697 2.508 0 .535.187 1.042.522 1.468l3.595-3.595a2.835 2.835 0 00-1.42-.38z\" fill=\"currentColor\" fill-rule=\"evenodd\"></path></svg></div><span>Masquer</span></div><div class=\"ContentZone__Button-wghbmy-5 dxnwuI\"><div class=\"ContentZone__StyledIcon-wghbmy-3 jIMdci Icon__IconElement-sc-1xnn3zd-0 jGTLkV\" data-test=\"sl-ui.icon\"><svg height=\"1em\" viewbox=\"0 0 20 20\" width=\"1em\"><defs><path d=\"M9.976 18.5l-.706-.484c-5.564-3.54-8.64-7.87-8.234-11.568.13-2.704 2.267-4.854 4.915-4.944a4.9 4.9 0 014.025 1.84A5.014 5.014 0 0114 1.513c2.67.1 4.825 2.266 4.963 4.993.407 3.609-2.69 7.91-8.282 11.578l-.706.415zM5.95 3.017c-1.888.1-3.391 1.65-3.474 3.58-.338 3.123 2.468 6.9 7.499 10.143 4.963-3.243 7.827-7.099 7.498-10.065-.058-1.972-1.593-3.566-3.521-3.658a3.576 3.576 0 00-3.397 1.977L9.918 6.22l-.639-1.226a3.51 3.51 0 00-3.328-1.977z\" id=\"heart-regular_svg__a\"></path></defs><use fill=\"currentColor\" fill-rule=\"evenodd\" xlink:href=\"#heart-regular_svg__a\"></use></svg></div><span>Sauvegarder</span></div></div><div class=\"block__ShadowedBlock-sc-10w6hsj-0 ContentZone__SelectModal-wghbmy-15 eUFtOa\"><div class=\"ContentZone__SelectTitle-wghbmy-13 logJyh\">Pour quelle raison souhaitez-vous masquer cette annonce ? </div><div class=\"ContentZone__SelectOption-wghbmy-14 kBiYaS\">Pas intéressé(e)</div><div class=\"ContentZone__SelectOption-wghbmy-14 kBiYaS\">Déjà visité/contacté</div><div class=\"ContentZone__SelectOption-wghbmy-14 kBiYaS\">Photo insatisfaisante/absente</div><div class=\"ContentZone__SelectOption-wghbmy-14 kBiYaS\">Localisation incomplète</div><div class=\"ContentZone__SelectOption-wghbmy-14 kBiYaS\">Autre raison</div></div><div class=\"ContentZone__SmartClassifiedContact-wghbmy-1 bqeKmt Contact__ContactContainer-sc-3d01ca-1 hVXgxb\" mode=\"small\"><a class=\"AgencyLogo__AgencyLogoContainer-fcobow-0 hjyUfp\" mode=\"small\" target=\"_blank\"><div class=\"AgencyLogo__Placeholder-fcobow-2 jRuXFY\">Annonce de particulier</div></a><div class=\"Contact__Buttons-sc-3d01ca-3 pKCwm\" mode=\"small\"><div class=\"Contact__ButtonContainer-sc-3d01ca-2 iklMcR\" data-test=\"button-container\"><div class=\"Contact__ButtonIcon-sc-3d01ca-6 hWcXVi Icon__IconElement-sc-1xnn3zd-0 jGTLkV\" data-test=\"icon\"><svg viewbox=\"0 0 512 512\"><g><path d=\"M391.3 382.7c-68.4-69.2-73.8-72.7-76.6-74.4-12.7-7.9-26.2-6.8-40.3 3.3-3 2.2-16.9 12.7-23.3 27.3-1.3-.6-2.5-1.2-3.7-1.9-12.6-7.3-25.8-17.9-39.3-31.6l-3.1-3.1c-13.5-13.7-23.9-27.1-30.9-39.7-.7-1.2-1.3-2.5-1.8-3.8 14.5-6.1 25.4-19.9 27.6-22.8 10.5-13.9 11.9-27.4 4.1-40.4-1.6-2.7-5-8.2-73.2-77.7-7.9-8.2-18.9-12.8-30.3-12.6-9.8.5-19.2 4.2-26.7 10.7-19.5 16.4-29.9 38.1-35.2 53.5-4.3 12.6-6.8 25.7-7.6 39-4.8 78.3 41.7 142.9 81.5 183.4l.1.1 4.3 4.4c38.4 39.1 99.3 84.7 173.9 84.7 2.7 0 5.4-.1 8.1-.2 13.3-.5 26.5-2.8 39.2-6.9 15.5-5 37.5-15 54.2-34.3 6.8-7.9 10.6-17 11.1-26.4.4-11.5-4-22.5-12.1-30.6.1 0 0 0 0 0zm-205.6-55.4c15.5 15.7 31 28.1 46 36.8 5.9 3.6 12.5 6 19.3 7.1 8.7 1.3 13.7-.9 17.5-3 5.3-3.2 9-8.6 10.9-15.8 1.1-4.4 7.8-11.5 13.3-15.5 1-.7 2.3-2.5 4.9-2.5 1.8 1.4 12.3 10.4 71.3 70.1 2 1.8 3.1 4.4 3.1 7.1-.1 2.3-1.3 4.9-3.5 7.4-12 13.8-28.4 21.2-40.2 25-10 3.2-20.4 5-30.9 5.3-67.9 3-123-39.2-158.4-75.3l-2.1-2.1c-.8-.8-1.6-1.5-2.3-2.2l.1-.1C99.4 334 58.1 277.1 62.2 210.4c.6-10.5 2.6-20.8 5.9-30.8 4-11.6 11.7-27.9 25.7-39.6 2.6-2.2 5.1-3.3 7.5-3.4h.2c2.6.1 5.1 1.3 6.9 3.2 60.2 61.4 68 71.1 69.1 72.8-.1 1-1.9 3.4-2.7 4.5-4 5.4-11.2 11.9-15.6 13-7.3 1.7-12.7 5.3-16.3 10.9-1.9 3.1-4.3 8.2-3.1 17.2 1 6.8 3.3 13.4 6.8 19.4 8.4 15.1 20.5 30.8 36 46.5l3.1 3.2zM239.1 105.8c-8.5-.9-16.1 5.3-17 13.7v.5c-.8 8.6 5.5 16.2 14.1 17h.1c73 6.5 131 64.1 138 137 .8 8 7.5 14.2 15.6 14.2.5 0 1 0 1.5-.1 8.6-.8 14.9-8.5 14.1-17.1-8.6-87.9-78.5-157.3-166.4-165.2z\"></path><path d=\"M407.5 104.2c-42-42-97.4-67.9-156.6-73.2-8.6-.8-16.2 5.6-17 14.2s5.6 16.2 14.2 17c106.4 9.5 191 93.4 201.3 199.8.8 8 7.5 14.2 15.6 14.2.5 0 1 0 1.5-.1 8.6-.8 14.9-8.5 14.1-17.1-5.7-58.5-31.6-113.2-73.1-154.8z\"></path></g></svg></div></div><div class=\"Contact__ButtonContainer-sc-3d01ca-2 iklMcR\" data-test=\"button-container\"><div class=\"Contact__ButtonIcon-sc-3d01ca-6 hWcXVi Icon__IconElement-sc-1xnn3zd-0 jGTLkV\" data-test=\"icon\"><svg viewbox=\"0 0 512 512\"><path d=\"M449.07 431.55H64.33c-29.06 0-52.63-24.37-52.63-54.44v-245c0-30.07 23.57-54.44 52.63-54.44h384.74c29.07 0 52.63 24.37 52.63 54.44v245c0 30.07-23.56 54.44-52.63 54.44zm12.37-281.73L256.7 354.24 52 149.59v229.7a12.58 12.58 0 0 0 12.37 12.52h384.7a12.58 12.58 0 0 0 12.37-12.52zm-380.8-28.33L256.7 297.35 433 121.49z\" data-name=\"R/uEA51-B-enveloppe\"></path></svg></div></div></div></div><a class=\"CoveringLink-a3s3kt-0 dXJclF\" href=\"https://www.seloger.com/annonces/locations/appartement/paris-12eme-75/bel-air-sud/159143997.htm?projects=1&amp;types=1&amp;places=[{ci:750105}|{ci:750111}|{ci:940067}|{ci:940080}|{idq:133102}|{idq:133103}|{idq:133104}|{idq:133105}|{idq:133106}|{idq:133107}|{idq:133108}|{idq:133109}|{idq:133110}|{idq:133111}|{idq:133112}|{idq:133113}|{idq:133114}|{idq:133115}|{idq:133764}]&amp;surface=20/NaN&amp;rooms=1&amp;sort=d_dt_crea&amp;picture=15&amp;qsVersion=1.0&amp;bd=ListToDetail\" name=\"classified-link\" target=\"_blank\" z=\"1\"></a></div></div><div class=\"OptionalCriteria__Criteria-ae5ia6-1 eJJkJo\"><div class=\"OptionalCriteria__Criterion-ae5ia6-2 rqdCi\">Avec photos</div></div></div><div class=\"block__ShadowedBlock-sc-10w6hsj-0 ListContent__SmartClassifiedExtended-sc-1viyr2k-2 iddbNe classified__ClassifiedContainer-sc-1wmlctl-0 jzFgwH Card__CardContainer-sc-7insep-7 fMfqlk\"><div class=\"classified__ContentWrapper-sc-1wmlctl-1 iFOIpl\"><div class=\"Card__MediaZone-sc-7insep-0 fPingW\"><div class=\"PhotoSlider__PhotoSliderContainer-cta2l8-0 feqESw\"></div><div class=\"MediaZone__Stickers-bd1uhq-3 iwwrzY\"></div><div class=\"MediaZone__Chips-bd1uhq-4 ifvlFB\"><div class=\"MediaZone__Chip-bd1uhq-5 eUGAIh\"><div class=\"Icon__IconElement-sc-1xnn3zd-0 iIyIAR\" color=\"white\" data-test=\"sl-ui.icon\" style=\"margin-right:6px\"><svg viewbox=\"0 0 512 512\"><path d=\"M421.5 136h-50.3c-.9-.2-1.7-.7-2.4-1.4l-13-37.6c-4.3-12.4-17.5-21.7-30.7-21.7h-143c-13.3 0-26.6 9.3-30.8 21.6l-13 37.5c-.6.8-1.4 1.3-2.3 1.6H85.6c-31.5 0-57 24.9-57 55.5v182.1c0 30.6 25.6 55.5 57 55.5h335.9c31.5 0 57.1-24.9 57.1-55.5V191.5c-.1-30.6-25.6-55.5-57.1-55.5zm26.9 237.6c0 14-12.1 25.4-26.9 25.4H85.6c-14.8 0-26.9-11.4-26.9-25.4V191.5c0-14 12.1-25.4 26.9-25.4H136c13.3 0 26.6-9.3 30.8-21.7l12.9-37.4c.6-.8 1.5-1.4 2.4-1.6h142.7c.9.2 1.7.7 2.4 1.4l13 37.6c4.2 12.4 17.5 21.7 30.8 21.7h50.4c14.9 0 26.9 11.4 26.9 25.4l.1 182.1z\"></path><path d=\"M253.5 180.3c-54.7 0-99 44.3-99 99s44.3 99 99 99 99-44.3 99-98.9c0-54.7-44.3-99-99-99.1zm0 168c-38.1 0-68.9-30.8-68.9-68.9s30.8-68.9 68.9-68.9 68.9 30.8 68.9 68.9c0 38-30.8 68.8-68.9 68.9zM396.2 180.3c-17.6 0-31.8 14.2-31.8 31.8s14.2 31.8 31.8 31.8 31.8-14.2 31.8-31.8-14.2-31.8-31.8-31.8z\"></path></svg></div>8</div></div></div><div class=\"Card__ContentZone-sc-7insep-3 gfORyM\"><div class=\"ContentZone__DetailTop-wghbmy-6 dPYwvZ\"><div><div class=\"ContentZone__Title-wghbmy-7 joPkKZ\">Appartement</div><ul class=\"ContentZone__Tags-wghbmy-8 eJYQQA\"><li>1 p</li><li>24 m²</li><li>2 etg</li></ul></div><div class=\"Price__PriceContainer-sc-1g9fitq-0 eOPseM\"><div class=\"Price__Label-sc-1g9fitq-1 mVWFG\">900 €</div><div class=\"Price__Expose-sc-1g9fitq-4 eCwDJa\">cc</div><div class=\"Price__Suffix-sc-1g9fitq-3 hYaChC\">/mois</div></div></div><div class=\"ContentZone__Address-wghbmy-2 fRAjHL\"><span>Vincennes</span><span>Sorano-Centre Ville</span></div><div class=\"ContentZone__ButtonSection-wghbmy-4 fgfCuS\"><div class=\"ContentZone__Button-wghbmy-5 ePrJwG\"><div class=\"ContentZone__StyledIcon-wghbmy-3 jIMdci Icon__IconElement-sc-1xnn3zd-0 jGTLkV\" data-test=\"sl-ui.icon\"><svg height=\"1em\" viewbox=\"0 0 20 20\" width=\"1em\"><path d=\"M18.146 2.146a.5.5 0 01.708.707l-16 16a.5.5 0 11-.708-.707l3.728-3.728c-1.421-.893-2.696-2.106-3.782-3.643a.503.503 0 01-.003-.574c.15-.215 3.718-5.277 8.886-5.188.018-.003 1.388-.088 3.335.97zm-1.794 5.258c.88.76 1.739 1.697 2.549 2.784a.5.5 0 01-.001.598c-.161.216-3.938 5.204-8.231 5.204l-.186-.003h-.034c-.148-.002-.776-.029-1.666-.265a.5.5 0 01.256-.967c.895.238 1.472.237 1.456.232 3.276.107 6.5-3.45 7.372-4.507a16.03 16.03 0 00-2.168-2.32.5.5 0 01.653-.756zm-2.26 2.226c.075.281.113.571.113.862 0 1.935-1.658 3.508-3.697 3.508-.22 0-.433-.018-.643-.053a.5.5 0 11.164-.986c.156.025.316.039.479.039 1.487 0 2.697-1.125 2.697-2.508 0-.205-.026-.408-.08-.605a.501.501 0 01.968-.257zM10.95 6.01h-.054c-3.958 0-6.971 3.461-7.774 4.482 1.01 1.36 2.179 2.43 3.473 3.206l1.033-1.033c-.521-.618-.817-1.37-.817-2.173 0-1.935 1.658-3.508 3.697-3.508a3.83 3.83 0 012.138.662l.927-.926c-1.525-.764-2.553-.708-2.568-.709h-.109zm-.442 1.974c-1.488 0-2.697 1.125-2.697 2.508 0 .535.187 1.042.522 1.468l3.595-3.595a2.835 2.835 0 00-1.42-.38z\" fill=\"currentColor\" fill-rule=\"evenodd\"></path></svg></div><span>Masquer</span></div><div class=\"ContentZone__Button-wghbmy-5 dxnwuI\"><div class=\"ContentZone__StyledIcon-wghbmy-3 jIMdci Icon__IconElement-sc-1xnn3zd-0 jGTLkV\" data-test=\"sl-ui.icon\"><svg height=\"1em\" viewbox=\"0 0 20 20\" width=\"1em\"><defs><path d=\"M9.976 18.5l-.706-.484c-5.564-3.54-8.64-7.87-8.234-11.568.13-2.704 2.267-4.854 4.915-4.944a4.9 4.9 0 014.025 1.84A5.014 5.014 0 0114 1.513c2.67.1 4.825 2.266 4.963 4.993.407 3.609-2.69 7.91-8.282 11.578l-.706.415zM5.95 3.017c-1.888.1-3.391 1.65-3.474 3.58-.338 3.123 2.468 6.9 7.499 10.143 4.963-3.243 7.827-7.099 7.498-10.065-.058-1.972-1.593-3.566-3.521-3.658a3.576 3.576 0 00-3.397 1.977L9.918 6.22l-.639-1.226a3.51 3.51 0 00-3.328-1.977z\" id=\"heart-regular_svg__a\"></path></defs><use fill=\"currentColor\" fill-rule=\"evenodd\" xlink:href=\"#heart-regular_svg__a\"></use></svg></div><span>Sauvegarder</span></div></div><div class=\"block__ShadowedBlock-sc-10w6hsj-0 ContentZone__SelectModal-wghbmy-15 eUFtOa\"><div class=\"ContentZone__SelectTitle-wghbmy-13 logJyh\">Pour quelle raison souhaitez-vous masquer cette annonce ? </div><div class=\"ContentZone__SelectOption-wghbmy-14 kBiYaS\">Pas intéressé(e)</div><div class=\"ContentZone__SelectOption-wghbmy-14 kBiYaS\">Déjà visité/contacté</div><div class=\"ContentZone__SelectOption-wghbmy-14 kBiYaS\">Photo insatisfaisante/absente</div><div class=\"ContentZone__SelectOption-wghbmy-14 kBiYaS\">Localisation incomplète</div><div class=\"ContentZone__SelectOption-wghbmy-14 kBiYaS\">Autre raison</div></div><div class=\"ContentZone__SmartClassifiedContact-wghbmy-1 bqeKmt Contact__ContactContainer-sc-3d01ca-1 hVXgxb\" mode=\"small\"><a class=\"AgencyLogo__AgencyLogoContainer-fcobow-0 hjyUfp\" mode=\"small\" target=\"_blank\"><div class=\"AgencyLogo__Placeholder-fcobow-2 jRuXFY\">STUDAPART</div></a><div class=\"Contact__Buttons-sc-3d01ca-3 pKCwm\" mode=\"small\"><div class=\"Contact__ButtonContainer-sc-3d01ca-2 iklMcR\" data-test=\"button-container\"><div class=\"Contact__ButtonIcon-sc-3d01ca-6 hWcXVi Icon__IconElement-sc-1xnn3zd-0 jGTLkV\" data-test=\"icon\"><svg viewbox=\"0 0 512 512\"><g><path d=\"M391.3 382.7c-68.4-69.2-73.8-72.7-76.6-74.4-12.7-7.9-26.2-6.8-40.3 3.3-3 2.2-16.9 12.7-23.3 27.3-1.3-.6-2.5-1.2-3.7-1.9-12.6-7.3-25.8-17.9-39.3-31.6l-3.1-3.1c-13.5-13.7-23.9-27.1-30.9-39.7-.7-1.2-1.3-2.5-1.8-3.8 14.5-6.1 25.4-19.9 27.6-22.8 10.5-13.9 11.9-27.4 4.1-40.4-1.6-2.7-5-8.2-73.2-77.7-7.9-8.2-18.9-12.8-30.3-12.6-9.8.5-19.2 4.2-26.7 10.7-19.5 16.4-29.9 38.1-35.2 53.5-4.3 12.6-6.8 25.7-7.6 39-4.8 78.3 41.7 142.9 81.5 183.4l.1.1 4.3 4.4c38.4 39.1 99.3 84.7 173.9 84.7 2.7 0 5.4-.1 8.1-.2 13.3-.5 26.5-2.8 39.2-6.9 15.5-5 37.5-15 54.2-34.3 6.8-7.9 10.6-17 11.1-26.4.4-11.5-4-22.5-12.1-30.6.1 0 0 0 0 0zm-205.6-55.4c15.5 15.7 31 28.1 46 36.8 5.9 3.6 12.5 6 19.3 7.1 8.7 1.3 13.7-.9 17.5-3 5.3-3.2 9-8.6 10.9-15.8 1.1-4.4 7.8-11.5 13.3-15.5 1-.7 2.3-2.5 4.9-2.5 1.8 1.4 12.3 10.4 71.3 70.1 2 1.8 3.1 4.4 3.1 7.1-.1 2.3-1.3 4.9-3.5 7.4-12 13.8-28.4 21.2-40.2 25-10 3.2-20.4 5-30.9 5.3-67.9 3-123-39.2-158.4-75.3l-2.1-2.1c-.8-.8-1.6-1.5-2.3-2.2l.1-.1C99.4 334 58.1 277.1 62.2 210.4c.6-10.5 2.6-20.8 5.9-30.8 4-11.6 11.7-27.9 25.7-39.6 2.6-2.2 5.1-3.3 7.5-3.4h.2c2.6.1 5.1 1.3 6.9 3.2 60.2 61.4 68 71.1 69.1 72.8-.1 1-1.9 3.4-2.7 4.5-4 5.4-11.2 11.9-15.6 13-7.3 1.7-12.7 5.3-16.3 10.9-1.9 3.1-4.3 8.2-3.1 17.2 1 6.8 3.3 13.4 6.8 19.4 8.4 15.1 20.5 30.8 36 46.5l3.1 3.2zM239.1 105.8c-8.5-.9-16.1 5.3-17 13.7v.5c-.8 8.6 5.5 16.2 14.1 17h.1c73 6.5 131 64.1 138 137 .8 8 7.5 14.2 15.6 14.2.5 0 1 0 1.5-.1 8.6-.8 14.9-8.5 14.1-17.1-8.6-87.9-78.5-157.3-166.4-165.2z\"></path><path d=\"M407.5 104.2c-42-42-97.4-67.9-156.6-73.2-8.6-.8-16.2 5.6-17 14.2s5.6 16.2 14.2 17c106.4 9.5 191 93.4 201.3 199.8.8 8 7.5 14.2 15.6 14.2.5 0 1 0 1.5-.1 8.6-.8 14.9-8.5 14.1-17.1-5.7-58.5-31.6-113.2-73.1-154.8z\"></path></g></svg></div></div><div class=\"Contact__ButtonContainer-sc-3d01ca-2 iklMcR\" data-test=\"button-container\"><div class=\"Contact__ButtonIcon-sc-3d01ca-6 hWcXVi Icon__IconElement-sc-1xnn3zd-0 jGTLkV\" data-test=\"icon\"><svg viewbox=\"0 0 512 512\"><path d=\"M449.07 431.55H64.33c-29.06 0-52.63-24.37-52.63-54.44v-245c0-30.07 23.57-54.44 52.63-54.44h384.74c29.07 0 52.63 24.37 52.63 54.44v245c0 30.07-23.56 54.44-52.63 54.44zm12.37-281.73L256.7 354.24 52 149.59v229.7a12.58 12.58 0 0 0 12.37 12.52h384.7a12.58 12.58 0 0 0 12.37-12.52zm-380.8-28.33L256.7 297.35 433 121.49z\" data-name=\"R/uEA51-B-enveloppe\"></path></svg></div></div></div></div><a class=\"CoveringLink-a3s3kt-0 dXJclF\" href=\"https://www.seloger.com/annonces/locations/appartement/vincennes-94/sorano-centre-ville/159140189.htm?projects=1&amp;types=1&amp;places=[{ci:750105}|{ci:750111}|{ci:940067}|{ci:940080}|{idq:133102}|{idq:133103}|{idq:133104}|{idq:133105}|{idq:133106}|{idq:133107}|{idq:133108}|{idq:133109}|{idq:133110}|{idq:133111}|{idq:133112}|{idq:133113}|{idq:133114}|{idq:133115}|{idq:133764}]&amp;surface=20/NaN&amp;rooms=1&amp;sort=d_dt_crea&amp;picture=15&amp;qsVersion=1.0&amp;bd=ListToDetail\" name=\"classified-link\" target=\"_blank\" z=\"1\"></a></div></div><div class=\"OptionalCriteria__Criteria-ae5ia6-1 eJJkJo\"><div class=\"OptionalCriteria__Criterion-ae5ia6-2 rqdCi\">Avec photos</div></div></div><div class=\"block__ShadowedBlock-sc-10w6hsj-0 ListContent__SmartLocalExpertExtended-sc-1viyr2k-3 loLgaA Card__CardContainer-sc-7insep-7 fMfqlk\"><div class=\"Card__MediaZone-sc-7insep-0 LocalExpert__ImageContainer-sc-1gzt9ds-4 ekfjPO\"><img alt=\"LocalExpert\" class=\"LocalExpert__Image-sc-1gzt9ds-3 gsNKfj\" src=\"https://v.seloger.com/s/width/500/bandeaux/0/r/b/3/0rb30zs7ytj9uik7ivpgwdbrh1ffmcjwty6uj5kif.jpg\"/></div><div class=\"Card__ContentZone-sc-7insep-3 gfORyM\"><div class=\"LocalExpert__Tag-sc-1gzt9ds-0 jpFYMX\">Vous recherchez un Locataire ?</div><div class=\"LocalExpert__Title-sc-1gzt9ds-1 fnseYI\">COSY HOME - Cher Propriétaire,</div><div class=\"Card__Description-sc-7insep-4 bbcegX\">Spécialiste Paris 11 - Location Meublé ou Vide - Locataire Entreprise</div><ul class=\"LocalExpert__RealEstateAds-sc-1gzt9ds-2 hVLPaD\"><li><a>84 biens en location</a></li></ul><div class=\"Card__Sponsor-sc-7insep-5 lcwbLW\">Contenu sponsorisé</div></div><a class=\"CoveringLink-a3s3kt-0 dXJclF\" href=\"https://www.seloger.com/professionnels/vous-recherchez-un-locataire/paris-9eme-75/agency-59513.htm?CMP=localexpertweb&amp;idc=394&amp;pdb=0&amp;nbd=1\" name=\"localExpert-link\" target=\"_blank\" title=\"COSY HOME - Cher Propriétaire,\" z=\"1\"></a></div><div class=\"block__ShadowedBlock-sc-10w6hsj-0 ListContent__SmartClassifiedExtended-sc-1viyr2k-2 iddbNe classified__ClassifiedContainer-sc-1wmlctl-0 jzFgwH Card__CardContainer-sc-7insep-7 fMfqlk\"><div class=\"classified__ContentWrapper-sc-1wmlctl-1 iFOIpl\"><div class=\"Card__MediaZone-sc-7insep-0 fPingW\"><div class=\"PhotoSlider__PhotoSliderContainer-cta2l8-0 feqESw\"></div><div class=\"MediaZone__Stickers-bd1uhq-3 iwwrzY\"></div><div class=\"MediaZone__Chips-bd1uhq-4 ifvlFB\"><div class=\"MediaZone__Chip-bd1uhq-5 eUGAIh\"><div class=\"Icon__IconElement-sc-1xnn3zd-0 iIyIAR\" color=\"white\" data-test=\"sl-ui.icon\" style=\"margin-right:6px\"><svg viewbox=\"0 0 512 512\"><path d=\"M421.5 136h-50.3c-.9-.2-1.7-.7-2.4-1.4l-13-37.6c-4.3-12.4-17.5-21.7-30.7-21.7h-143c-13.3 0-26.6 9.3-30.8 21.6l-13 37.5c-.6.8-1.4 1.3-2.3 1.6H85.6c-31.5 0-57 24.9-57 55.5v182.1c0 30.6 25.6 55.5 57 55.5h335.9c31.5 0 57.1-24.9 57.1-55.5V191.5c-.1-30.6-25.6-55.5-57.1-55.5zm26.9 237.6c0 14-12.1 25.4-26.9 25.4H85.6c-14.8 0-26.9-11.4-26.9-25.4V191.5c0-14 12.1-25.4 26.9-25.4H136c13.3 0 26.6-9.3 30.8-21.7l12.9-37.4c.6-.8 1.5-1.4 2.4-1.6h142.7c.9.2 1.7.7 2.4 1.4l13 37.6c4.2 12.4 17.5 21.7 30.8 21.7h50.4c14.9 0 26.9 11.4 26.9 25.4l.1 182.1z\"></path><path d=\"M253.5 180.3c-54.7 0-99 44.3-99 99s44.3 99 99 99 99-44.3 99-98.9c0-54.7-44.3-99-99-99.1zm0 168c-38.1 0-68.9-30.8-68.9-68.9s30.8-68.9 68.9-68.9 68.9 30.8 68.9 68.9c0 38-30.8 68.8-68.9 68.9zM396.2 180.3c-17.6 0-31.8 14.2-31.8 31.8s14.2 31.8 31.8 31.8 31.8-14.2 31.8-31.8-14.2-31.8-31.8-31.8z\"></path></svg></div>7</div></div></div><div class=\"Card__ContentZone-sc-7insep-3 gfORyM\"><div class=\"ContentZone__DetailTop-wghbmy-6 dPYwvZ\"><div><div class=\"ContentZone__Title-wghbmy-7 joPkKZ\">Appartement</div><ul class=\"ContentZone__Tags-wghbmy-8 eJYQQA\"><li>1 p</li><li>25,63 m²</li><li>7 etg</li></ul></div><div class=\"Price__PriceContainer-sc-1g9fitq-0 eOPseM\"><div class=\"Price__Label-sc-1g9fitq-1 mVWFG\">901 €</div><div class=\"Price__Expose-sc-1g9fitq-4 eCwDJa\">cc</div><div class=\"Price__Suffix-sc-1g9fitq-3 hYaChC\">/mois</div></div></div><div class=\"ContentZone__Address-wghbmy-2 fRAjHL\"><span>Paris 5ème</span><span>Jardin des Plantes</span></div><div class=\"ContentZone__ButtonSection-wghbmy-4 fgfCuS\"><div class=\"ContentZone__Button-wghbmy-5 ePrJwG\"><div class=\"ContentZone__StyledIcon-wghbmy-3 jIMdci Icon__IconElement-sc-1xnn3zd-0 jGTLkV\" data-test=\"sl-ui.icon\"><svg height=\"1em\" viewbox=\"0 0 20 20\" width=\"1em\"><path d=\"M18.146 2.146a.5.5 0 01.708.707l-16 16a.5.5 0 11-.708-.707l3.728-3.728c-1.421-.893-2.696-2.106-3.782-3.643a.503.503 0 01-.003-.574c.15-.215 3.718-5.277 8.886-5.188.018-.003 1.388-.088 3.335.97zm-1.794 5.258c.88.76 1.739 1.697 2.549 2.784a.5.5 0 01-.001.598c-.161.216-3.938 5.204-8.231 5.204l-.186-.003h-.034c-.148-.002-.776-.029-1.666-.265a.5.5 0 01.256-.967c.895.238 1.472.237 1.456.232 3.276.107 6.5-3.45 7.372-4.507a16.03 16.03 0 00-2.168-2.32.5.5 0 01.653-.756zm-2.26 2.226c.075.281.113.571.113.862 0 1.935-1.658 3.508-3.697 3.508-.22 0-.433-.018-.643-.053a.5.5 0 11.164-.986c.156.025.316.039.479.039 1.487 0 2.697-1.125 2.697-2.508 0-.205-.026-.408-.08-.605a.501.501 0 01.968-.257zM10.95 6.01h-.054c-3.958 0-6.971 3.461-7.774 4.482 1.01 1.36 2.179 2.43 3.473 3.206l1.033-1.033c-.521-.618-.817-1.37-.817-2.173 0-1.935 1.658-3.508 3.697-3.508a3.83 3.83 0 012.138.662l.927-.926c-1.525-.764-2.553-.708-2.568-.709h-.109zm-.442 1.974c-1.488 0-2.697 1.125-2.697 2.508 0 .535.187 1.042.522 1.468l3.595-3.595a2.835 2.835 0 00-1.42-.38z\" fill=\"currentColor\" fill-rule=\"evenodd\"></path></svg></div><span>Masquer</span></div><div class=\"ContentZone__Button-wghbmy-5 dxnwuI\"><div class=\"ContentZone__StyledIcon-wghbmy-3 jIMdci Icon__IconElement-sc-1xnn3zd-0 jGTLkV\" data-test=\"sl-ui.icon\"><svg height=\"1em\" viewbox=\"0 0 20 20\" width=\"1em\"><defs><path d=\"M9.976 18.5l-.706-.484c-5.564-3.54-8.64-7.87-8.234-11.568.13-2.704 2.267-4.854 4.915-4.944a4.9 4.9 0 014.025 1.84A5.014 5.014 0 0114 1.513c2.67.1 4.825 2.266 4.963 4.993.407 3.609-2.69 7.91-8.282 11.578l-.706.415zM5.95 3.017c-1.888.1-3.391 1.65-3.474 3.58-.338 3.123 2.468 6.9 7.499 10.143 4.963-3.243 7.827-7.099 7.498-10.065-.058-1.972-1.593-3.566-3.521-3.658a3.576 3.576 0 00-3.397 1.977L9.918 6.22l-.639-1.226a3.51 3.51 0 00-3.328-1.977z\" id=\"heart-regular_svg__a\"></path></defs><use fill=\"currentColor\" fill-rule=\"evenodd\" xlink:href=\"#heart-regular_svg__a\"></use></svg></div><span>Sauvegarder</span></div></div><div class=\"block__ShadowedBlock-sc-10w6hsj-0 ContentZone__SelectModal-wghbmy-15 eUFtOa\"><div class=\"ContentZone__SelectTitle-wghbmy-13 logJyh\">Pour quelle raison souhaitez-vous masquer cette annonce ? </div><div class=\"ContentZone__SelectOption-wghbmy-14 kBiYaS\">Pas intéressé(e)</div><div class=\"ContentZone__SelectOption-wghbmy-14 kBiYaS\">Déjà visité/contacté</div><div class=\"ContentZone__SelectOption-wghbmy-14 kBiYaS\">Photo insatisfaisante/absente</div><div class=\"ContentZone__SelectOption-wghbmy-14 kBiYaS\">Localisation incomplète</div><div class=\"ContentZone__SelectOption-wghbmy-14 kBiYaS\">Autre raison</div></div><div class=\"ContentZone__SmartClassifiedContact-wghbmy-1 bqeKmt Contact__ContactContainer-sc-3d01ca-1 hVXgxb\" mode=\"small\"><a class=\"AgencyLogo__AgencyLogoContainer-fcobow-0 hjyUfp\" mode=\"small\" target=\"_blank\"><div class=\"AgencyLogo__Image-fcobow-1 gjjStY\"></div></a><div class=\"Contact__Buttons-sc-3d01ca-3 pKCwm\" mode=\"small\"><div class=\"Contact__ButtonContainer-sc-3d01ca-2 iklMcR\" data-test=\"button-container\"><div class=\"Contact__ButtonIcon-sc-3d01ca-6 hWcXVi Icon__IconElement-sc-1xnn3zd-0 jGTLkV\" data-test=\"icon\"><svg viewbox=\"0 0 512 512\"><g><path d=\"M391.3 382.7c-68.4-69.2-73.8-72.7-76.6-74.4-12.7-7.9-26.2-6.8-40.3 3.3-3 2.2-16.9 12.7-23.3 27.3-1.3-.6-2.5-1.2-3.7-1.9-12.6-7.3-25.8-17.9-39.3-31.6l-3.1-3.1c-13.5-13.7-23.9-27.1-30.9-39.7-.7-1.2-1.3-2.5-1.8-3.8 14.5-6.1 25.4-19.9 27.6-22.8 10.5-13.9 11.9-27.4 4.1-40.4-1.6-2.7-5-8.2-73.2-77.7-7.9-8.2-18.9-12.8-30.3-12.6-9.8.5-19.2 4.2-26.7 10.7-19.5 16.4-29.9 38.1-35.2 53.5-4.3 12.6-6.8 25.7-7.6 39-4.8 78.3 41.7 142.9 81.5 183.4l.1.1 4.3 4.4c38.4 39.1 99.3 84.7 173.9 84.7 2.7 0 5.4-.1 8.1-.2 13.3-.5 26.5-2.8 39.2-6.9 15.5-5 37.5-15 54.2-34.3 6.8-7.9 10.6-17 11.1-26.4.4-11.5-4-22.5-12.1-30.6.1 0 0 0 0 0zm-205.6-55.4c15.5 15.7 31 28.1 46 36.8 5.9 3.6 12.5 6 19.3 7.1 8.7 1.3 13.7-.9 17.5-3 5.3-3.2 9-8.6 10.9-15.8 1.1-4.4 7.8-11.5 13.3-15.5 1-.7 2.3-2.5 4.9-2.5 1.8 1.4 12.3 10.4 71.3 70.1 2 1.8 3.1 4.4 3.1 7.1-.1 2.3-1.3 4.9-3.5 7.4-12 13.8-28.4 21.2-40.2 25-10 3.2-20.4 5-30.9 5.3-67.9 3-123-39.2-158.4-75.3l-2.1-2.1c-.8-.8-1.6-1.5-2.3-2.2l.1-.1C99.4 334 58.1 277.1 62.2 210.4c.6-10.5 2.6-20.8 5.9-30.8 4-11.6 11.7-27.9 25.7-39.6 2.6-2.2 5.1-3.3 7.5-3.4h.2c2.6.1 5.1 1.3 6.9 3.2 60.2 61.4 68 71.1 69.1 72.8-.1 1-1.9 3.4-2.7 4.5-4 5.4-11.2 11.9-15.6 13-7.3 1.7-12.7 5.3-16.3 10.9-1.9 3.1-4.3 8.2-3.1 17.2 1 6.8 3.3 13.4 6.8 19.4 8.4 15.1 20.5 30.8 36 46.5l3.1 3.2zM239.1 105.8c-8.5-.9-16.1 5.3-17 13.7v.5c-.8 8.6 5.5 16.2 14.1 17h.1c73 6.5 131 64.1 138 137 .8 8 7.5 14.2 15.6 14.2.5 0 1 0 1.5-.1 8.6-.8 14.9-8.5 14.1-17.1-8.6-87.9-78.5-157.3-166.4-165.2z\"></path><path d=\"M407.5 104.2c-42-42-97.4-67.9-156.6-73.2-8.6-.8-16.2 5.6-17 14.2s5.6 16.2 14.2 17c106.4 9.5 191 93.4 201.3 199.8.8 8 7.5 14.2 15.6 14.2.5 0 1 0 1.5-.1 8.6-.8 14.9-8.5 14.1-17.1-5.7-58.5-31.6-113.2-73.1-154.8z\"></path></g></svg></div></div><div class=\"Contact__ButtonContainer-sc-3d01ca-2 iklMcR\" data-test=\"button-container\"><div class=\"Contact__ButtonIcon-sc-3d01ca-6 hWcXVi Icon__IconElement-sc-1xnn3zd-0 jGTLkV\" data-test=\"icon\"><svg viewbox=\"0 0 512 512\"><path d=\"M449.07 431.55H64.33c-29.06 0-52.63-24.37-52.63-54.44v-245c0-30.07 23.57-54.44 52.63-54.44h384.74c29.07 0 52.63 24.37 52.63 54.44v245c0 30.07-23.56 54.44-52.63 54.44zm12.37-281.73L256.7 354.24 52 149.59v229.7a12.58 12.58 0 0 0 12.37 12.52h384.7a12.58 12.58 0 0 0 12.37-12.52zm-380.8-28.33L256.7 297.35 433 121.49z\" data-name=\"R/uEA51-B-enveloppe\"></path></svg></div></div></div></div><a class=\"CoveringLink-a3s3kt-0 dXJclF\" href=\"https://www.seloger.com/annonces/locations/appartement/paris-5eme-75/jardin-des-plantes/159135193.htm?projects=1&amp;types=1&amp;places=[{ci:750105}|{ci:750111}|{ci:940067}|{ci:940080}|{idq:133102}|{idq:133103}|{idq:133104}|{idq:133105}|{idq:133106}|{idq:133107}|{idq:133108}|{idq:133109}|{idq:133110}|{idq:133111}|{idq:133112}|{idq:133113}|{idq:133114}|{idq:133115}|{idq:133764}]&amp;surface=20/NaN&amp;rooms=1&amp;sort=d_dt_crea&amp;picture=15&amp;qsVersion=1.0&amp;bd=ListToDetail\" name=\"classified-link\" target=\"_blank\" z=\"1\"></a></div></div><div class=\"OptionalCriteria__Criteria-ae5ia6-1 eJJkJo\"><div class=\"OptionalCriteria__Criterion-ae5ia6-2 rqdCi\">Avec photos</div></div></div><div class=\"block__ShadowedBlock-sc-10w6hsj-0 ListContent__SmartClassifiedExtended-sc-1viyr2k-2 iddbNe classified__ClassifiedContainer-sc-1wmlctl-0 jzFgwH Card__CardContainer-sc-7insep-7 fMfqlk\"><div class=\"classified__ContentWrapper-sc-1wmlctl-1 iFOIpl\"><div class=\"Card__MediaZone-sc-7insep-0 fPingW\"><div class=\"PhotoSlider__PhotoSliderContainer-cta2l8-0 feqESw\"></div><div class=\"MediaZone__Stickers-bd1uhq-3 iwwrzY\"></div><div class=\"MediaZone__Chips-bd1uhq-4 ifvlFB\"><div class=\"MediaZone__Chip-bd1uhq-5 eUGAIh\"><div class=\"Icon__IconElement-sc-1xnn3zd-0 iIyIAR\" color=\"white\" data-test=\"sl-ui.icon\" style=\"margin-right:6px\"><svg viewbox=\"0 0 512 512\"><path d=\"M421.5 136h-50.3c-.9-.2-1.7-.7-2.4-1.4l-13-37.6c-4.3-12.4-17.5-21.7-30.7-21.7h-143c-13.3 0-26.6 9.3-30.8 21.6l-13 37.5c-.6.8-1.4 1.3-2.3 1.6H85.6c-31.5 0-57 24.9-57 55.5v182.1c0 30.6 25.6 55.5 57 55.5h335.9c31.5 0 57.1-24.9 57.1-55.5V191.5c-.1-30.6-25.6-55.5-57.1-55.5zm26.9 237.6c0 14-12.1 25.4-26.9 25.4H85.6c-14.8 0-26.9-11.4-26.9-25.4V191.5c0-14 12.1-25.4 26.9-25.4H136c13.3 0 26.6-9.3 30.8-21.7l12.9-37.4c.6-.8 1.5-1.4 2.4-1.6h142.7c.9.2 1.7.7 2.4 1.4l13 37.6c4.2 12.4 17.5 21.7 30.8 21.7h50.4c14.9 0 26.9 11.4 26.9 25.4l.1 182.1z\"></path><path d=\"M253.5 180.3c-54.7 0-99 44.3-99 99s44.3 99 99 99 99-44.3 99-98.9c0-54.7-44.3-99-99-99.1zm0 168c-38.1 0-68.9-30.8-68.9-68.9s30.8-68.9 68.9-68.9 68.9 30.8 68.9 68.9c0 38-30.8 68.8-68.9 68.9zM396.2 180.3c-17.6 0-31.8 14.2-31.8 31.8s14.2 31.8 31.8 31.8 31.8-14.2 31.8-31.8-14.2-31.8-31.8-31.8z\"></path></svg></div>7</div></div></div><div class=\"Card__ContentZone-sc-7insep-3 gfORyM\"><div class=\"ContentZone__DetailTop-wghbmy-6 dPYwvZ\"><div><div class=\"ContentZone__Title-wghbmy-7 joPkKZ\">Appartement</div><ul class=\"ContentZone__Tags-wghbmy-8 eJYQQA\"><li>1 p</li><li>37 m²</li><li>1 asc</li></ul></div><div class=\"Price__PriceContainer-sc-1g9fitq-0 eOPseM\"><div class=\"Price__Label-sc-1g9fitq-1 mVWFG\">1 290 €</div><div class=\"Price__Expose-sc-1g9fitq-4 eCwDJa\">cc</div><div class=\"Price__Suffix-sc-1g9fitq-3 hYaChC\">/mois</div></div></div><div class=\"ContentZone__Address-wghbmy-2 fRAjHL\"><span>Paris 13ème</span><span>Dunois-Bibliothèque-Jeanne-d'Arc</span></div><div class=\"ContentZone__ButtonSection-wghbmy-4 fgfCuS\"><div class=\"ContentZone__Button-wghbmy-5 ePrJwG\"><div class=\"ContentZone__StyledIcon-wghbmy-3 jIMdci Icon__IconElement-sc-1xnn3zd-0 jGTLkV\" data-test=\"sl-ui.icon\"><svg height=\"1em\" viewbox=\"0 0 20 20\" width=\"1em\"><path d=\"M18.146 2.146a.5.5 0 01.708.707l-16 16a.5.5 0 11-.708-.707l3.728-3.728c-1.421-.893-2.696-2.106-3.782-3.643a.503.503 0 01-.003-.574c.15-.215 3.718-5.277 8.886-5.188.018-.003 1.388-.088 3.335.97zm-1.794 5.258c.88.76 1.739 1.697 2.549 2.784a.5.5 0 01-.001.598c-.161.216-3.938 5.204-8.231 5.204l-.186-.003h-.034c-.148-.002-.776-.029-1.666-.265a.5.5 0 01.256-.967c.895.238 1.472.237 1.456.232 3.276.107 6.5-3.45 7.372-4.507a16.03 16.03 0 00-2.168-2.32.5.5 0 01.653-.756zm-2.26 2.226c.075.281.113.571.113.862 0 1.935-1.658 3.508-3.697 3.508-.22 0-.433-.018-.643-.053a.5.5 0 11.164-.986c.156.025.316.039.479.039 1.487 0 2.697-1.125 2.697-2.508 0-.205-.026-.408-.08-.605a.501.501 0 01.968-.257zM10.95 6.01h-.054c-3.958 0-6.971 3.461-7.774 4.482 1.01 1.36 2.179 2.43 3.473 3.206l1.033-1.033c-.521-.618-.817-1.37-.817-2.173 0-1.935 1.658-3.508 3.697-3.508a3.83 3.83 0 012.138.662l.927-.926c-1.525-.764-2.553-.708-2.568-.709h-.109zm-.442 1.974c-1.488 0-2.697 1.125-2.697 2.508 0 .535.187 1.042.522 1.468l3.595-3.595a2.835 2.835 0 00-1.42-.38z\" fill=\"currentColor\" fill-rule=\"evenodd\"></path></svg></div><span>Masquer</span></div><div class=\"ContentZone__Button-wghbmy-5 dxnwuI\"><div class=\"ContentZone__StyledIcon-wghbmy-3 jIMdci Icon__IconElement-sc-1xnn3zd-0 jGTLkV\" data-test=\"sl-ui.icon\"><svg height=\"1em\" viewbox=\"0 0 20 20\" width=\"1em\"><defs><path d=\"M9.976 18.5l-.706-.484c-5.564-3.54-8.64-7.87-8.234-11.568.13-2.704 2.267-4.854 4.915-4.944a4.9 4.9 0 014.025 1.84A5.014 5.014 0 0114 1.513c2.67.1 4.825 2.266 4.963 4.993.407 3.609-2.69 7.91-8.282 11.578l-.706.415zM5.95 3.017c-1.888.1-3.391 1.65-3.474 3.58-.338 3.123 2.468 6.9 7.499 10.143 4.963-3.243 7.827-7.099 7.498-10.065-.058-1.972-1.593-3.566-3.521-3.658a3.576 3.576 0 00-3.397 1.977L9.918 6.22l-.639-1.226a3.51 3.51 0 00-3.328-1.977z\" id=\"heart-regular_svg__a\"></path></defs><use fill=\"currentColor\" fill-rule=\"evenodd\" xlink:href=\"#heart-regular_svg__a\"></use></svg></div><span>Sauvegarder</span></div></div><div class=\"block__ShadowedBlock-sc-10w6hsj-0 ContentZone__SelectModal-wghbmy-15 eUFtOa\"><div class=\"ContentZone__SelectTitle-wghbmy-13 logJyh\">Pour quelle raison souhaitez-vous masquer cette annonce ? </div><div class=\"ContentZone__SelectOption-wghbmy-14 kBiYaS\">Pas intéressé(e)</div><div class=\"ContentZone__SelectOption-wghbmy-14 kBiYaS\">Déjà visité/contacté</div><div class=\"ContentZone__SelectOption-wghbmy-14 kBiYaS\">Photo insatisfaisante/absente</div><div class=\"ContentZone__SelectOption-wghbmy-14 kBiYaS\">Localisation incomplète</div><div class=\"ContentZone__SelectOption-wghbmy-14 kBiYaS\">Autre raison</div></div><div class=\"ContentZone__SmartClassifiedContact-wghbmy-1 bqeKmt Contact__ContactContainer-sc-3d01ca-1 hVXgxb\" mode=\"small\"><a class=\"AgencyLogo__AgencyLogoContainer-fcobow-0 hjyUfp\" mode=\"small\" target=\"_blank\"><div class=\"AgencyLogo__Placeholder-fcobow-2 jRuXFY\">Annonce de particulier</div></a><div class=\"Contact__Buttons-sc-3d01ca-3 pKCwm\" mode=\"small\"><div class=\"Contact__ButtonContainer-sc-3d01ca-2 iklMcR\" data-test=\"button-container\"><div class=\"Contact__ButtonIcon-sc-3d01ca-6 hWcXVi Icon__IconElement-sc-1xnn3zd-0 jGTLkV\" data-test=\"icon\"><svg viewbox=\"0 0 512 512\"><g><path d=\"M391.3 382.7c-68.4-69.2-73.8-72.7-76.6-74.4-12.7-7.9-26.2-6.8-40.3 3.3-3 2.2-16.9 12.7-23.3 27.3-1.3-.6-2.5-1.2-3.7-1.9-12.6-7.3-25.8-17.9-39.3-31.6l-3.1-3.1c-13.5-13.7-23.9-27.1-30.9-39.7-.7-1.2-1.3-2.5-1.8-3.8 14.5-6.1 25.4-19.9 27.6-22.8 10.5-13.9 11.9-27.4 4.1-40.4-1.6-2.7-5-8.2-73.2-77.7-7.9-8.2-18.9-12.8-30.3-12.6-9.8.5-19.2 4.2-26.7 10.7-19.5 16.4-29.9 38.1-35.2 53.5-4.3 12.6-6.8 25.7-7.6 39-4.8 78.3 41.7 142.9 81.5 183.4l.1.1 4.3 4.4c38.4 39.1 99.3 84.7 173.9 84.7 2.7 0 5.4-.1 8.1-.2 13.3-.5 26.5-2.8 39.2-6.9 15.5-5 37.5-15 54.2-34.3 6.8-7.9 10.6-17 11.1-26.4.4-11.5-4-22.5-12.1-30.6.1 0 0 0 0 0zm-205.6-55.4c15.5 15.7 31 28.1 46 36.8 5.9 3.6 12.5 6 19.3 7.1 8.7 1.3 13.7-.9 17.5-3 5.3-3.2 9-8.6 10.9-15.8 1.1-4.4 7.8-11.5 13.3-15.5 1-.7 2.3-2.5 4.9-2.5 1.8 1.4 12.3 10.4 71.3 70.1 2 1.8 3.1 4.4 3.1 7.1-.1 2.3-1.3 4.9-3.5 7.4-12 13.8-28.4 21.2-40.2 25-10 3.2-20.4 5-30.9 5.3-67.9 3-123-39.2-158.4-75.3l-2.1-2.1c-.8-.8-1.6-1.5-2.3-2.2l.1-.1C99.4 334 58.1 277.1 62.2 210.4c.6-10.5 2.6-20.8 5.9-30.8 4-11.6 11.7-27.9 25.7-39.6 2.6-2.2 5.1-3.3 7.5-3.4h.2c2.6.1 5.1 1.3 6.9 3.2 60.2 61.4 68 71.1 69.1 72.8-.1 1-1.9 3.4-2.7 4.5-4 5.4-11.2 11.9-15.6 13-7.3 1.7-12.7 5.3-16.3 10.9-1.9 3.1-4.3 8.2-3.1 17.2 1 6.8 3.3 13.4 6.8 19.4 8.4 15.1 20.5 30.8 36 46.5l3.1 3.2zM239.1 105.8c-8.5-.9-16.1 5.3-17 13.7v.5c-.8 8.6 5.5 16.2 14.1 17h.1c73 6.5 131 64.1 138 137 .8 8 7.5 14.2 15.6 14.2.5 0 1 0 1.5-.1 8.6-.8 14.9-8.5 14.1-17.1-8.6-87.9-78.5-157.3-166.4-165.2z\"></path><path d=\"M407.5 104.2c-42-42-97.4-67.9-156.6-73.2-8.6-.8-16.2 5.6-17 14.2s5.6 16.2 14.2 17c106.4 9.5 191 93.4 201.3 199.8.8 8 7.5 14.2 15.6 14.2.5 0 1 0 1.5-.1 8.6-.8 14.9-8.5 14.1-17.1-5.7-58.5-31.6-113.2-73.1-154.8z\"></path></g></svg></div></div><div class=\"Contact__ButtonContainer-sc-3d01ca-2 iklMcR\" data-test=\"button-container\"><div class=\"Contact__ButtonIcon-sc-3d01ca-6 hWcXVi Icon__IconElement-sc-1xnn3zd-0 jGTLkV\" data-test=\"icon\"><svg viewbox=\"0 0 512 512\"><path d=\"M449.07 431.55H64.33c-29.06 0-52.63-24.37-52.63-54.44v-245c0-30.07 23.57-54.44 52.63-54.44h384.74c29.07 0 52.63 24.37 52.63 54.44v245c0 30.07-23.56 54.44-52.63 54.44zm12.37-281.73L256.7 354.24 52 149.59v229.7a12.58 12.58 0 0 0 12.37 12.52h384.7a12.58 12.58 0 0 0 12.37-12.52zm-380.8-28.33L256.7 297.35 433 121.49z\" data-name=\"R/uEA51-B-enveloppe\"></path></svg></div></div></div></div><a class=\"CoveringLink-a3s3kt-0 dXJclF\" href=\"https://www.seloger.com/annonces/locations/appartement/paris-13eme-75/dunois-bibliotheque-jeanne-d-arc/159133015.htm?projects=1&amp;types=1&amp;places=[{ci:750105}|{ci:750111}|{ci:940067}|{ci:940080}|{idq:133102}|{idq:133103}|{idq:133104}|{idq:133105}|{idq:133106}|{idq:133107}|{idq:133108}|{idq:133109}|{idq:133110}|{idq:133111}|{idq:133112}|{idq:133113}|{idq:133114}|{idq:133115}|{idq:133764}]&amp;surface=20/NaN&amp;rooms=1&amp;sort=d_dt_crea&amp;picture=15&amp;qsVersion=1.0&amp;bd=ListToDetail\" name=\"classified-link\" target=\"_blank\" z=\"1\"></a></div></div><div class=\"OptionalCriteria__Criteria-ae5ia6-1 eJJkJo\"><div class=\"OptionalCriteria__Criterion-ae5ia6-2 rqdCi\">Avec photos</div></div></div><div class=\"block__ShadowedBlock-sc-10w6hsj-0 ListContent__SmartClassifiedExtended-sc-1viyr2k-2 iddbNe classified__ClassifiedContainer-sc-1wmlctl-0 jzFgwH Card__CardContainer-sc-7insep-7 fMfqlk\"><div class=\"classified__ContentWrapper-sc-1wmlctl-1 iFOIpl\"><div class=\"Card__MediaZone-sc-7insep-0 fPingW\"><div class=\"PhotoSlider__PhotoSliderContainer-cta2l8-0 feqESw\"></div><div class=\"MediaZone__Stickers-bd1uhq-3 iwwrzY\"></div><div class=\"MediaZone__Chips-bd1uhq-4 ifvlFB\"><div class=\"MediaZone__Chip-bd1uhq-5 eUGAIh\"><div class=\"Icon__IconElement-sc-1xnn3zd-0 iIyIAR\" color=\"white\" data-test=\"sl-ui.icon\" style=\"margin-right:6px\"><svg viewbox=\"0 0 512 512\"><path d=\"M421.5 136h-50.3c-.9-.2-1.7-.7-2.4-1.4l-13-37.6c-4.3-12.4-17.5-21.7-30.7-21.7h-143c-13.3 0-26.6 9.3-30.8 21.6l-13 37.5c-.6.8-1.4 1.3-2.3 1.6H85.6c-31.5 0-57 24.9-57 55.5v182.1c0 30.6 25.6 55.5 57 55.5h335.9c31.5 0 57.1-24.9 57.1-55.5V191.5c-.1-30.6-25.6-55.5-57.1-55.5zm26.9 237.6c0 14-12.1 25.4-26.9 25.4H85.6c-14.8 0-26.9-11.4-26.9-25.4V191.5c0-14 12.1-25.4 26.9-25.4H136c13.3 0 26.6-9.3 30.8-21.7l12.9-37.4c.6-.8 1.5-1.4 2.4-1.6h142.7c.9.2 1.7.7 2.4 1.4l13 37.6c4.2 12.4 17.5 21.7 30.8 21.7h50.4c14.9 0 26.9 11.4 26.9 25.4l.1 182.1z\"></path><path d=\"M253.5 180.3c-54.7 0-99 44.3-99 99s44.3 99 99 99 99-44.3 99-98.9c0-54.7-44.3-99-99-99.1zm0 168c-38.1 0-68.9-30.8-68.9-68.9s30.8-68.9 68.9-68.9 68.9 30.8 68.9 68.9c0 38-30.8 68.8-68.9 68.9zM396.2 180.3c-17.6 0-31.8 14.2-31.8 31.8s14.2 31.8 31.8 31.8 31.8-14.2 31.8-31.8-14.2-31.8-31.8-31.8z\"></path></svg></div>4</div></div></div><div class=\"Card__ContentZone-sc-7insep-3 gfORyM\"><div class=\"ContentZone__DetailTop-wghbmy-6 dPYwvZ\"><div><div class=\"ContentZone__Title-wghbmy-7 joPkKZ\">Appartement</div><ul class=\"ContentZone__Tags-wghbmy-8 eJYQQA\"><li>1 p</li><li>22 m²</li></ul></div><div class=\"Price__PriceContainer-sc-1g9fitq-0 eOPseM\"><div class=\"Price__Label-sc-1g9fitq-1 mVWFG\">900 €</div><div class=\"Price__Expose-sc-1g9fitq-4 eCwDJa\">cc</div><div class=\"Price__Suffix-sc-1g9fitq-3 hYaChC\">/mois</div></div></div><div class=\"ContentZone__Address-wghbmy-2 fRAjHL\"><span>Paris 11ème</span><span>République-Saint Ambroise</span></div><div class=\"ContentZone__ButtonSection-wghbmy-4 fgfCuS\"><div class=\"ContentZone__Button-wghbmy-5 ePrJwG\"><div class=\"ContentZone__StyledIcon-wghbmy-3 jIMdci Icon__IconElement-sc-1xnn3zd-0 jGTLkV\" data-test=\"sl-ui.icon\"><svg height=\"1em\" viewbox=\"0 0 20 20\" width=\"1em\"><path d=\"M18.146 2.146a.5.5 0 01.708.707l-16 16a.5.5 0 11-.708-.707l3.728-3.728c-1.421-.893-2.696-2.106-3.782-3.643a.503.503 0 01-.003-.574c.15-.215 3.718-5.277 8.886-5.188.018-.003 1.388-.088 3.335.97zm-1.794 5.258c.88.76 1.739 1.697 2.549 2.784a.5.5 0 01-.001.598c-.161.216-3.938 5.204-8.231 5.204l-.186-.003h-.034c-.148-.002-.776-.029-1.666-.265a.5.5 0 01.256-.967c.895.238 1.472.237 1.456.232 3.276.107 6.5-3.45 7.372-4.507a16.03 16.03 0 00-2.168-2.32.5.5 0 01.653-.756zm-2.26 2.226c.075.281.113.571.113.862 0 1.935-1.658 3.508-3.697 3.508-.22 0-.433-.018-.643-.053a.5.5 0 11.164-.986c.156.025.316.039.479.039 1.487 0 2.697-1.125 2.697-2.508 0-.205-.026-.408-.08-.605a.501.501 0 01.968-.257zM10.95 6.01h-.054c-3.958 0-6.971 3.461-7.774 4.482 1.01 1.36 2.179 2.43 3.473 3.206l1.033-1.033c-.521-.618-.817-1.37-.817-2.173 0-1.935 1.658-3.508 3.697-3.508a3.83 3.83 0 012.138.662l.927-.926c-1.525-.764-2.553-.708-2.568-.709h-.109zm-.442 1.974c-1.488 0-2.697 1.125-2.697 2.508 0 .535.187 1.042.522 1.468l3.595-3.595a2.835 2.835 0 00-1.42-.38z\" fill=\"currentColor\" fill-rule=\"evenodd\"></path></svg></div><span>Masquer</span></div><div class=\"ContentZone__Button-wghbmy-5 dxnwuI\"><div class=\"ContentZone__StyledIcon-wghbmy-3 jIMdci Icon__IconElement-sc-1xnn3zd-0 jGTLkV\" data-test=\"sl-ui.icon\"><svg height=\"1em\" viewbox=\"0 0 20 20\" width=\"1em\"><defs><path d=\"M9.976 18.5l-.706-.484c-5.564-3.54-8.64-7.87-8.234-11.568.13-2.704 2.267-4.854 4.915-4.944a4.9 4.9 0 014.025 1.84A5.014 5.014 0 0114 1.513c2.67.1 4.825 2.266 4.963 4.993.407 3.609-2.69 7.91-8.282 11.578l-.706.415zM5.95 3.017c-1.888.1-3.391 1.65-3.474 3.58-.338 3.123 2.468 6.9 7.499 10.143 4.963-3.243 7.827-7.099 7.498-10.065-.058-1.972-1.593-3.566-3.521-3.658a3.576 3.576 0 00-3.397 1.977L9.918 6.22l-.639-1.226a3.51 3.51 0 00-3.328-1.977z\" id=\"heart-regular_svg__a\"></path></defs><use fill=\"currentColor\" fill-rule=\"evenodd\" xlink:href=\"#heart-regular_svg__a\"></use></svg></div><span>Sauvegarder</span></div></div><div class=\"block__ShadowedBlock-sc-10w6hsj-0 ContentZone__SelectModal-wghbmy-15 eUFtOa\"><div class=\"ContentZone__SelectTitle-wghbmy-13 logJyh\">Pour quelle raison souhaitez-vous masquer cette annonce ? </div><div class=\"ContentZone__SelectOption-wghbmy-14 kBiYaS\">Pas intéressé(e)</div><div class=\"ContentZone__SelectOption-wghbmy-14 kBiYaS\">Déjà visité/contacté</div><div class=\"ContentZone__SelectOption-wghbmy-14 kBiYaS\">Photo insatisfaisante/absente</div><div class=\"ContentZone__SelectOption-wghbmy-14 kBiYaS\">Localisation incomplète</div><div class=\"ContentZone__SelectOption-wghbmy-14 kBiYaS\">Autre raison</div></div><div class=\"ContentZone__SmartClassifiedContact-wghbmy-1 bqeKmt Contact__ContactContainer-sc-3d01ca-1 hVXgxb\" mode=\"small\"><a class=\"AgencyLogo__AgencyLogoContainer-fcobow-0 hjyUfp\" mode=\"small\" target=\"_blank\"><div class=\"AgencyLogo__Placeholder-fcobow-2 jRuXFY\">CLICKAPPART</div></a><div class=\"Contact__Buttons-sc-3d01ca-3 pKCwm\" mode=\"small\"><div class=\"Contact__ButtonContainer-sc-3d01ca-2 iklMcR\" data-test=\"button-container\"><div class=\"Contact__ButtonIcon-sc-3d01ca-6 hWcXVi Icon__IconElement-sc-1xnn3zd-0 jGTLkV\" data-test=\"icon\"><svg viewbox=\"0 0 512 512\"><g><path d=\"M391.3 382.7c-68.4-69.2-73.8-72.7-76.6-74.4-12.7-7.9-26.2-6.8-40.3 3.3-3 2.2-16.9 12.7-23.3 27.3-1.3-.6-2.5-1.2-3.7-1.9-12.6-7.3-25.8-17.9-39.3-31.6l-3.1-3.1c-13.5-13.7-23.9-27.1-30.9-39.7-.7-1.2-1.3-2.5-1.8-3.8 14.5-6.1 25.4-19.9 27.6-22.8 10.5-13.9 11.9-27.4 4.1-40.4-1.6-2.7-5-8.2-73.2-77.7-7.9-8.2-18.9-12.8-30.3-12.6-9.8.5-19.2 4.2-26.7 10.7-19.5 16.4-29.9 38.1-35.2 53.5-4.3 12.6-6.8 25.7-7.6 39-4.8 78.3 41.7 142.9 81.5 183.4l.1.1 4.3 4.4c38.4 39.1 99.3 84.7 173.9 84.7 2.7 0 5.4-.1 8.1-.2 13.3-.5 26.5-2.8 39.2-6.9 15.5-5 37.5-15 54.2-34.3 6.8-7.9 10.6-17 11.1-26.4.4-11.5-4-22.5-12.1-30.6.1 0 0 0 0 0zm-205.6-55.4c15.5 15.7 31 28.1 46 36.8 5.9 3.6 12.5 6 19.3 7.1 8.7 1.3 13.7-.9 17.5-3 5.3-3.2 9-8.6 10.9-15.8 1.1-4.4 7.8-11.5 13.3-15.5 1-.7 2.3-2.5 4.9-2.5 1.8 1.4 12.3 10.4 71.3 70.1 2 1.8 3.1 4.4 3.1 7.1-.1 2.3-1.3 4.9-3.5 7.4-12 13.8-28.4 21.2-40.2 25-10 3.2-20.4 5-30.9 5.3-67.9 3-123-39.2-158.4-75.3l-2.1-2.1c-.8-.8-1.6-1.5-2.3-2.2l.1-.1C99.4 334 58.1 277.1 62.2 210.4c.6-10.5 2.6-20.8 5.9-30.8 4-11.6 11.7-27.9 25.7-39.6 2.6-2.2 5.1-3.3 7.5-3.4h.2c2.6.1 5.1 1.3 6.9 3.2 60.2 61.4 68 71.1 69.1 72.8-.1 1-1.9 3.4-2.7 4.5-4 5.4-11.2 11.9-15.6 13-7.3 1.7-12.7 5.3-16.3 10.9-1.9 3.1-4.3 8.2-3.1 17.2 1 6.8 3.3 13.4 6.8 19.4 8.4 15.1 20.5 30.8 36 46.5l3.1 3.2zM239.1 105.8c-8.5-.9-16.1 5.3-17 13.7v.5c-.8 8.6 5.5 16.2 14.1 17h.1c73 6.5 131 64.1 138 137 .8 8 7.5 14.2 15.6 14.2.5 0 1 0 1.5-.1 8.6-.8 14.9-8.5 14.1-17.1-8.6-87.9-78.5-157.3-166.4-165.2z\"></path><path d=\"M407.5 104.2c-42-42-97.4-67.9-156.6-73.2-8.6-.8-16.2 5.6-17 14.2s5.6 16.2 14.2 17c106.4 9.5 191 93.4 201.3 199.8.8 8 7.5 14.2 15.6 14.2.5 0 1 0 1.5-.1 8.6-.8 14.9-8.5 14.1-17.1-5.7-58.5-31.6-113.2-73.1-154.8z\"></path></g></svg></div></div><div class=\"Contact__ButtonContainer-sc-3d01ca-2 iklMcR\" data-test=\"button-container\"><div class=\"Contact__ButtonIcon-sc-3d01ca-6 hWcXVi Icon__IconElement-sc-1xnn3zd-0 jGTLkV\" data-test=\"icon\"><svg viewbox=\"0 0 512 512\"><path d=\"M449.07 431.55H64.33c-29.06 0-52.63-24.37-52.63-54.44v-245c0-30.07 23.57-54.44 52.63-54.44h384.74c29.07 0 52.63 24.37 52.63 54.44v245c0 30.07-23.56 54.44-52.63 54.44zm12.37-281.73L256.7 354.24 52 149.59v229.7a12.58 12.58 0 0 0 12.37 12.52h384.7a12.58 12.58 0 0 0 12.37-12.52zm-380.8-28.33L256.7 297.35 433 121.49z\" data-name=\"R/uEA51-B-enveloppe\"></path></svg></div></div></div></div><a class=\"CoveringLink-a3s3kt-0 dXJclF\" href=\"https://www.seloger.com/annonces/locations/appartement/paris-11eme-75/republique-saint-ambroise/159131151.htm?projects=1&amp;types=1&amp;places=[{ci:750105}|{ci:750111}|{ci:940067}|{ci:940080}|{idq:133102}|{idq:133103}|{idq:133104}|{idq:133105}|{idq:133106}|{idq:133107}|{idq:133108}|{idq:133109}|{idq:133110}|{idq:133111}|{idq:133112}|{idq:133113}|{idq:133114}|{idq:133115}|{idq:133764}]&amp;surface=20/NaN&amp;rooms=1&amp;sort=d_dt_crea&amp;picture=15&amp;qsVersion=1.0&amp;bd=ListToDetail\" name=\"classified-link\" target=\"_blank\" z=\"1\"></a></div></div><div class=\"OptionalCriteria__Criteria-ae5ia6-1 eJJkJo\"><div class=\"OptionalCriteria__Criterion-ae5ia6-2 rqdCi\">Avec photos</div></div></div><div class=\"block__ShadowedBlock-sc-10w6hsj-0 ListContent__SmartClassifiedExtended-sc-1viyr2k-2 iddbNe classified__ClassifiedContainer-sc-1wmlctl-0 jzFgwH Card__CardContainer-sc-7insep-7 fMfqlk\"><div class=\"classified__ContentWrapper-sc-1wmlctl-1 iFOIpl\"><div class=\"Card__MediaZone-sc-7insep-0 fPingW\"><div class=\"PhotoSlider__PhotoSliderContainer-cta2l8-0 feqESw\"></div><div class=\"MediaZone__Stickers-bd1uhq-3 iwwrzY\"></div><div class=\"MediaZone__Chips-bd1uhq-4 ifvlFB\"><div class=\"MediaZone__Chip-bd1uhq-5 eUGAIh\"><div class=\"Icon__IconElement-sc-1xnn3zd-0 iIyIAR\" color=\"white\" data-test=\"sl-ui.icon\" style=\"margin-right:6px\"><svg viewbox=\"0 0 512 512\"><path d=\"M421.5 136h-50.3c-.9-.2-1.7-.7-2.4-1.4l-13-37.6c-4.3-12.4-17.5-21.7-30.7-21.7h-143c-13.3 0-26.6 9.3-30.8 21.6l-13 37.5c-.6.8-1.4 1.3-2.3 1.6H85.6c-31.5 0-57 24.9-57 55.5v182.1c0 30.6 25.6 55.5 57 55.5h335.9c31.5 0 57.1-24.9 57.1-55.5V191.5c-.1-30.6-25.6-55.5-57.1-55.5zm26.9 237.6c0 14-12.1 25.4-26.9 25.4H85.6c-14.8 0-26.9-11.4-26.9-25.4V191.5c0-14 12.1-25.4 26.9-25.4H136c13.3 0 26.6-9.3 30.8-21.7l12.9-37.4c.6-.8 1.5-1.4 2.4-1.6h142.7c.9.2 1.7.7 2.4 1.4l13 37.6c4.2 12.4 17.5 21.7 30.8 21.7h50.4c14.9 0 26.9 11.4 26.9 25.4l.1 182.1z\"></path><path d=\"M253.5 180.3c-54.7 0-99 44.3-99 99s44.3 99 99 99 99-44.3 99-98.9c0-54.7-44.3-99-99-99.1zm0 168c-38.1 0-68.9-30.8-68.9-68.9s30.8-68.9 68.9-68.9 68.9 30.8 68.9 68.9c0 38-30.8 68.8-68.9 68.9zM396.2 180.3c-17.6 0-31.8 14.2-31.8 31.8s14.2 31.8 31.8 31.8 31.8-14.2 31.8-31.8-14.2-31.8-31.8-31.8z\"></path></svg></div>7</div></div></div><div class=\"Card__ContentZone-sc-7insep-3 gfORyM\"><div class=\"ContentZone__DetailTop-wghbmy-6 dPYwvZ\"><div><div class=\"ContentZone__Title-wghbmy-7 joPkKZ\">Appartement</div><ul class=\"ContentZone__Tags-wghbmy-8 eJYQQA\"><li>1 p</li><li>20 m²</li></ul></div><div class=\"Price__PriceContainer-sc-1g9fitq-0 eOPseM\"><div class=\"Price__Label-sc-1g9fitq-1 mVWFG\">980 €</div><div class=\"Price__Expose-sc-1g9fitq-4 eCwDJa\">cc</div><div class=\"Price__Suffix-sc-1g9fitq-3 hYaChC\">/mois</div></div></div><div class=\"ContentZone__Address-wghbmy-2 fRAjHL\"><span>Paris 11ème</span><span>Léon-Blum Folie-Regnault</span></div><div class=\"ContentZone__ButtonSection-wghbmy-4 fgfCuS\"><div class=\"ContentZone__Button-wghbmy-5 ePrJwG\"><div class=\"ContentZone__StyledIcon-wghbmy-3 jIMdci Icon__IconElement-sc-1xnn3zd-0 jGTLkV\" data-test=\"sl-ui.icon\"><svg height=\"1em\" viewbox=\"0 0 20 20\" width=\"1em\"><path d=\"M18.146 2.146a.5.5 0 01.708.707l-16 16a.5.5 0 11-.708-.707l3.728-3.728c-1.421-.893-2.696-2.106-3.782-3.643a.503.503 0 01-.003-.574c.15-.215 3.718-5.277 8.886-5.188.018-.003 1.388-.088 3.335.97zm-1.794 5.258c.88.76 1.739 1.697 2.549 2.784a.5.5 0 01-.001.598c-.161.216-3.938 5.204-8.231 5.204l-.186-.003h-.034c-.148-.002-.776-.029-1.666-.265a.5.5 0 01.256-.967c.895.238 1.472.237 1.456.232 3.276.107 6.5-3.45 7.372-4.507a16.03 16.03 0 00-2.168-2.32.5.5 0 01.653-.756zm-2.26 2.226c.075.281.113.571.113.862 0 1.935-1.658 3.508-3.697 3.508-.22 0-.433-.018-.643-.053a.5.5 0 11.164-.986c.156.025.316.039.479.039 1.487 0 2.697-1.125 2.697-2.508 0-.205-.026-.408-.08-.605a.501.501 0 01.968-.257zM10.95 6.01h-.054c-3.958 0-6.971 3.461-7.774 4.482 1.01 1.36 2.179 2.43 3.473 3.206l1.033-1.033c-.521-.618-.817-1.37-.817-2.173 0-1.935 1.658-3.508 3.697-3.508a3.83 3.83 0 012.138.662l.927-.926c-1.525-.764-2.553-.708-2.568-.709h-.109zm-.442 1.974c-1.488 0-2.697 1.125-2.697 2.508 0 .535.187 1.042.522 1.468l3.595-3.595a2.835 2.835 0 00-1.42-.38z\" fill=\"currentColor\" fill-rule=\"evenodd\"></path></svg></div><span>Masquer</span></div><div class=\"ContentZone__Button-wghbmy-5 dxnwuI\"><div class=\"ContentZone__StyledIcon-wghbmy-3 jIMdci Icon__IconElement-sc-1xnn3zd-0 jGTLkV\" data-test=\"sl-ui.icon\"><svg height=\"1em\" viewbox=\"0 0 20 20\" width=\"1em\"><defs><path d=\"M9.976 18.5l-.706-.484c-5.564-3.54-8.64-7.87-8.234-11.568.13-2.704 2.267-4.854 4.915-4.944a4.9 4.9 0 014.025 1.84A5.014 5.014 0 0114 1.513c2.67.1 4.825 2.266 4.963 4.993.407 3.609-2.69 7.91-8.282 11.578l-.706.415zM5.95 3.017c-1.888.1-3.391 1.65-3.474 3.58-.338 3.123 2.468 6.9 7.499 10.143 4.963-3.243 7.827-7.099 7.498-10.065-.058-1.972-1.593-3.566-3.521-3.658a3.576 3.576 0 00-3.397 1.977L9.918 6.22l-.639-1.226a3.51 3.51 0 00-3.328-1.977z\" id=\"heart-regular_svg__a\"></path></defs><use fill=\"currentColor\" fill-rule=\"evenodd\" xlink:href=\"#heart-regular_svg__a\"></use></svg></div><span>Sauvegarder</span></div></div><div class=\"block__ShadowedBlock-sc-10w6hsj-0 ContentZone__SelectModal-wghbmy-15 eUFtOa\"><div class=\"ContentZone__SelectTitle-wghbmy-13 logJyh\">Pour quelle raison souhaitez-vous masquer cette annonce ? </div><div class=\"ContentZone__SelectOption-wghbmy-14 kBiYaS\">Pas intéressé(e)</div><div class=\"ContentZone__SelectOption-wghbmy-14 kBiYaS\">Déjà visité/contacté</div><div class=\"ContentZone__SelectOption-wghbmy-14 kBiYaS\">Photo insatisfaisante/absente</div><div class=\"ContentZone__SelectOption-wghbmy-14 kBiYaS\">Localisation incomplète</div><div class=\"ContentZone__SelectOption-wghbmy-14 kBiYaS\">Autre raison</div></div><div class=\"ContentZone__SmartClassifiedContact-wghbmy-1 bqeKmt Contact__ContactContainer-sc-3d01ca-1 hVXgxb\" mode=\"small\"><a class=\"AgencyLogo__AgencyLogoContainer-fcobow-0 hjyUfp\" mode=\"small\" target=\"_blank\"><div class=\"AgencyLogo__Placeholder-fcobow-2 jRuXFY\">STUDAPART</div></a><div class=\"Contact__Buttons-sc-3d01ca-3 pKCwm\" mode=\"small\"><div class=\"Contact__ButtonContainer-sc-3d01ca-2 iklMcR\" data-test=\"button-container\"><div class=\"Contact__ButtonIcon-sc-3d01ca-6 hWcXVi Icon__IconElement-sc-1xnn3zd-0 jGTLkV\" data-test=\"icon\"><svg viewbox=\"0 0 512 512\"><g><path d=\"M391.3 382.7c-68.4-69.2-73.8-72.7-76.6-74.4-12.7-7.9-26.2-6.8-40.3 3.3-3 2.2-16.9 12.7-23.3 27.3-1.3-.6-2.5-1.2-3.7-1.9-12.6-7.3-25.8-17.9-39.3-31.6l-3.1-3.1c-13.5-13.7-23.9-27.1-30.9-39.7-.7-1.2-1.3-2.5-1.8-3.8 14.5-6.1 25.4-19.9 27.6-22.8 10.5-13.9 11.9-27.4 4.1-40.4-1.6-2.7-5-8.2-73.2-77.7-7.9-8.2-18.9-12.8-30.3-12.6-9.8.5-19.2 4.2-26.7 10.7-19.5 16.4-29.9 38.1-35.2 53.5-4.3 12.6-6.8 25.7-7.6 39-4.8 78.3 41.7 142.9 81.5 183.4l.1.1 4.3 4.4c38.4 39.1 99.3 84.7 173.9 84.7 2.7 0 5.4-.1 8.1-.2 13.3-.5 26.5-2.8 39.2-6.9 15.5-5 37.5-15 54.2-34.3 6.8-7.9 10.6-17 11.1-26.4.4-11.5-4-22.5-12.1-30.6.1 0 0 0 0 0zm-205.6-55.4c15.5 15.7 31 28.1 46 36.8 5.9 3.6 12.5 6 19.3 7.1 8.7 1.3 13.7-.9 17.5-3 5.3-3.2 9-8.6 10.9-15.8 1.1-4.4 7.8-11.5 13.3-15.5 1-.7 2.3-2.5 4.9-2.5 1.8 1.4 12.3 10.4 71.3 70.1 2 1.8 3.1 4.4 3.1 7.1-.1 2.3-1.3 4.9-3.5 7.4-12 13.8-28.4 21.2-40.2 25-10 3.2-20.4 5-30.9 5.3-67.9 3-123-39.2-158.4-75.3l-2.1-2.1c-.8-.8-1.6-1.5-2.3-2.2l.1-.1C99.4 334 58.1 277.1 62.2 210.4c.6-10.5 2.6-20.8 5.9-30.8 4-11.6 11.7-27.9 25.7-39.6 2.6-2.2 5.1-3.3 7.5-3.4h.2c2.6.1 5.1 1.3 6.9 3.2 60.2 61.4 68 71.1 69.1 72.8-.1 1-1.9 3.4-2.7 4.5-4 5.4-11.2 11.9-15.6 13-7.3 1.7-12.7 5.3-16.3 10.9-1.9 3.1-4.3 8.2-3.1 17.2 1 6.8 3.3 13.4 6.8 19.4 8.4 15.1 20.5 30.8 36 46.5l3.1 3.2zM239.1 105.8c-8.5-.9-16.1 5.3-17 13.7v.5c-.8 8.6 5.5 16.2 14.1 17h.1c73 6.5 131 64.1 138 137 .8 8 7.5 14.2 15.6 14.2.5 0 1 0 1.5-.1 8.6-.8 14.9-8.5 14.1-17.1-8.6-87.9-78.5-157.3-166.4-165.2z\"></path><path d=\"M407.5 104.2c-42-42-97.4-67.9-156.6-73.2-8.6-.8-16.2 5.6-17 14.2s5.6 16.2 14.2 17c106.4 9.5 191 93.4 201.3 199.8.8 8 7.5 14.2 15.6 14.2.5 0 1 0 1.5-.1 8.6-.8 14.9-8.5 14.1-17.1-5.7-58.5-31.6-113.2-73.1-154.8z\"></path></g></svg></div></div><div class=\"Contact__ButtonContainer-sc-3d01ca-2 iklMcR\" data-test=\"button-container\"><div class=\"Contact__ButtonIcon-sc-3d01ca-6 hWcXVi Icon__IconElement-sc-1xnn3zd-0 jGTLkV\" data-test=\"icon\"><svg viewbox=\"0 0 512 512\"><path d=\"M449.07 431.55H64.33c-29.06 0-52.63-24.37-52.63-54.44v-245c0-30.07 23.57-54.44 52.63-54.44h384.74c29.07 0 52.63 24.37 52.63 54.44v245c0 30.07-23.56 54.44-52.63 54.44zm12.37-281.73L256.7 354.24 52 149.59v229.7a12.58 12.58 0 0 0 12.37 12.52h384.7a12.58 12.58 0 0 0 12.37-12.52zm-380.8-28.33L256.7 297.35 433 121.49z\" data-name=\"R/uEA51-B-enveloppe\"></path></svg></div></div></div></div><a class=\"CoveringLink-a3s3kt-0 dXJclF\" href=\"https://www.seloger.com/annonces/locations/appartement/paris-11eme-75/leon-blum-folie-regnault/159122441.htm?projects=1&amp;types=1&amp;places=[{ci:750105}|{ci:750111}|{ci:940067}|{ci:940080}|{idq:133102}|{idq:133103}|{idq:133104}|{idq:133105}|{idq:133106}|{idq:133107}|{idq:133108}|{idq:133109}|{idq:133110}|{idq:133111}|{idq:133112}|{idq:133113}|{idq:133114}|{idq:133115}|{idq:133764}]&amp;surface=20/NaN&amp;rooms=1&amp;sort=d_dt_crea&amp;picture=15&amp;qsVersion=1.0&amp;bd=ListToDetail\" name=\"classified-link\" target=\"_blank\" z=\"1\"></a></div></div><div class=\"OptionalCriteria__Criteria-ae5ia6-1 eJJkJo\"><div class=\"OptionalCriteria__Criterion-ae5ia6-2 rqdCi\">Avec photos</div></div></div><div class=\"SaveSearchCard__SaveSearchCardContainer-sc-3zvgo3-0 exiatl\"><p>Soyez alerté quand de nouvelles annonces sont disponibles</p><div class=\"SaveSearch__SaveSearchContainer-sc-16mh3c7-0 byhEfU\"><div class=\"SaveSearch__ButtonWrapper-sc-16mh3c7-1 UWBIh\"><button class=\"SaveSearch__SaveSearchButton-sc-16mh3c7-2 ecnQHy Button__StyledButton-fl6j-2 duIBCg\" data-test=\"sl-ui.button\" format=\"normal\"><div class=\"Button__ButtonIcon-fl6j-0 hOhti Icon__IconElement-sc-1xnn3zd-0 jGTLkV\" data-test=\"sl-ui.icon\"><svg viewbox=\"0 0 512 512\"><path d=\"M120.8 388.9h269.8c-26.5-40.8-26.5-102.7-26.5-130.1v-49.3c-.1-57.9-48.4-104.9-108.1-105.3-28.8-.4-56.5 10.5-77.3 30.4-20.4 19.5-31.8 46.6-31.6 74.8v49.3c3 45-6.1 89.9-26.3 130.2zm163.3 38.5h-56.2v1c0 15 12.6 27.2 28.1 27.2s28.1-12.2 28.1-27.2v-1zm-8.2-360.5c72.6 9.4 128.7 69.6 128.8 142.5v49.3c0 130.1 42.4 130.1 56.4 130.1 11 0 19.9 8.6 19.9 19.3s-8.9 19.2-19.9 19.2H323.8v1c.1 17.6-7 34.4-19.7 46.6-27 25.5-69.2 25.5-96.3 0a64.02 64.02 0 0 1-19.7-46.6v-1H50.9c-11 0-19.9-8.6-19.9-19.2s8.9-19.3 19.9-19.3c37.6 0 56.4-43.9 56.4-130.1v-49.3c-.3-38.5 15.4-75.5 43.2-102.1 23.4-22.5 53.4-36.7 85.6-40.5V36.9c0-10.6 8.9-19.2 19.9-19.2s19.9 8.6 19.9 19.2v30z\"></path></svg></div><span class=\"Button__ButtonText-fl6j-1 gdQzAO\">Activez l'alerte</span></button></div></div></div><div class=\"block__ShadowedBlock-sc-10w6hsj-0 ListContent__SmartClassifiedExtended-sc-1viyr2k-2 iddbNe classified__ClassifiedContainer-sc-1wmlctl-0 jzFgwH Card__CardContainer-sc-7insep-7 fMfqlk\"><div class=\"classified__ContentWrapper-sc-1wmlctl-1 iFOIpl\"><div class=\"Card__MediaZone-sc-7insep-0 fPingW\"><div class=\"PhotoSlider__PhotoSliderContainer-cta2l8-0 feqESw\"></div><div class=\"MediaZone__Stickers-bd1uhq-3 iwwrzY\"></div><div class=\"MediaZone__Chips-bd1uhq-4 ifvlFB\"><div class=\"MediaZone__Chip-bd1uhq-5 eUGAIh\"><div class=\"Icon__IconElement-sc-1xnn3zd-0 iIyIAR\" color=\"white\" data-test=\"sl-ui.icon\" style=\"margin-right:6px\"><svg viewbox=\"0 0 512 512\"><path d=\"M421.5 136h-50.3c-.9-.2-1.7-.7-2.4-1.4l-13-37.6c-4.3-12.4-17.5-21.7-30.7-21.7h-143c-13.3 0-26.6 9.3-30.8 21.6l-13 37.5c-.6.8-1.4 1.3-2.3 1.6H85.6c-31.5 0-57 24.9-57 55.5v182.1c0 30.6 25.6 55.5 57 55.5h335.9c31.5 0 57.1-24.9 57.1-55.5V191.5c-.1-30.6-25.6-55.5-57.1-55.5zm26.9 237.6c0 14-12.1 25.4-26.9 25.4H85.6c-14.8 0-26.9-11.4-26.9-25.4V191.5c0-14 12.1-25.4 26.9-25.4H136c13.3 0 26.6-9.3 30.8-21.7l12.9-37.4c.6-.8 1.5-1.4 2.4-1.6h142.7c.9.2 1.7.7 2.4 1.4l13 37.6c4.2 12.4 17.5 21.7 30.8 21.7h50.4c14.9 0 26.9 11.4 26.9 25.4l.1 182.1z\"></path><path d=\"M253.5 180.3c-54.7 0-99 44.3-99 99s44.3 99 99 99 99-44.3 99-98.9c0-54.7-44.3-99-99-99.1zm0 168c-38.1 0-68.9-30.8-68.9-68.9s30.8-68.9 68.9-68.9 68.9 30.8 68.9 68.9c0 38-30.8 68.8-68.9 68.9zM396.2 180.3c-17.6 0-31.8 14.2-31.8 31.8s14.2 31.8 31.8 31.8 31.8-14.2 31.8-31.8-14.2-31.8-31.8-31.8z\"></path></svg></div>6</div></div></div><div class=\"Card__ContentZone-sc-7insep-3 gfORyM\"><div class=\"ContentZone__DetailTop-wghbmy-6 dPYwvZ\"><div><div class=\"ContentZone__Title-wghbmy-7 joPkKZ\">Appartement</div><ul class=\"ContentZone__Tags-wghbmy-8 eJYQQA\"><li>1 p</li><li>20 m²</li></ul></div><div class=\"Price__PriceContainer-sc-1g9fitq-0 eOPseM\"><div class=\"Price__Label-sc-1g9fitq-1 mVWFG\">830 €</div><div class=\"Price__Expose-sc-1g9fitq-4 eCwDJa\">cc</div><div class=\"Price__Suffix-sc-1g9fitq-3 hYaChC\">/mois</div></div></div><div class=\"ContentZone__Address-wghbmy-2 fRAjHL\"><span>Paris 13ème</span><span>Nationale-Deux Moulins</span></div><div class=\"ContentZone__ButtonSection-wghbmy-4 fgfCuS\"><div class=\"ContentZone__Button-wghbmy-5 ePrJwG\"><div class=\"ContentZone__StyledIcon-wghbmy-3 jIMdci Icon__IconElement-sc-1xnn3zd-0 jGTLkV\" data-test=\"sl-ui.icon\"><svg height=\"1em\" viewbox=\"0 0 20 20\" width=\"1em\"><path d=\"M18.146 2.146a.5.5 0 01.708.707l-16 16a.5.5 0 11-.708-.707l3.728-3.728c-1.421-.893-2.696-2.106-3.782-3.643a.503.503 0 01-.003-.574c.15-.215 3.718-5.277 8.886-5.188.018-.003 1.388-.088 3.335.97zm-1.794 5.258c.88.76 1.739 1.697 2.549 2.784a.5.5 0 01-.001.598c-.161.216-3.938 5.204-8.231 5.204l-.186-.003h-.034c-.148-.002-.776-.029-1.666-.265a.5.5 0 01.256-.967c.895.238 1.472.237 1.456.232 3.276.107 6.5-3.45 7.372-4.507a16.03 16.03 0 00-2.168-2.32.5.5 0 01.653-.756zm-2.26 2.226c.075.281.113.571.113.862 0 1.935-1.658 3.508-3.697 3.508-.22 0-.433-.018-.643-.053a.5.5 0 11.164-.986c.156.025.316.039.479.039 1.487 0 2.697-1.125 2.697-2.508 0-.205-.026-.408-.08-.605a.501.501 0 01.968-.257zM10.95 6.01h-.054c-3.958 0-6.971 3.461-7.774 4.482 1.01 1.36 2.179 2.43 3.473 3.206l1.033-1.033c-.521-.618-.817-1.37-.817-2.173 0-1.935 1.658-3.508 3.697-3.508a3.83 3.83 0 012.138.662l.927-.926c-1.525-.764-2.553-.708-2.568-.709h-.109zm-.442 1.974c-1.488 0-2.697 1.125-2.697 2.508 0 .535.187 1.042.522 1.468l3.595-3.595a2.835 2.835 0 00-1.42-.38z\" fill=\"currentColor\" fill-rule=\"evenodd\"></path></svg></div><span>Masquer</span></div><div class=\"ContentZone__Button-wghbmy-5 dxnwuI\"><div class=\"ContentZone__StyledIcon-wghbmy-3 jIMdci Icon__IconElement-sc-1xnn3zd-0 jGTLkV\" data-test=\"sl-ui.icon\"><svg height=\"1em\" viewbox=\"0 0 20 20\" width=\"1em\"><defs><path d=\"M9.976 18.5l-.706-.484c-5.564-3.54-8.64-7.87-8.234-11.568.13-2.704 2.267-4.854 4.915-4.944a4.9 4.9 0 014.025 1.84A5.014 5.014 0 0114 1.513c2.67.1 4.825 2.266 4.963 4.993.407 3.609-2.69 7.91-8.282 11.578l-.706.415zM5.95 3.017c-1.888.1-3.391 1.65-3.474 3.58-.338 3.123 2.468 6.9 7.499 10.143 4.963-3.243 7.827-7.099 7.498-10.065-.058-1.972-1.593-3.566-3.521-3.658a3.576 3.576 0 00-3.397 1.977L9.918 6.22l-.639-1.226a3.51 3.51 0 00-3.328-1.977z\" id=\"heart-regular_svg__a\"></path></defs><use fill=\"currentColor\" fill-rule=\"evenodd\" xlink:href=\"#heart-regular_svg__a\"></use></svg></div><span>Sauvegarder</span></div></div><div class=\"block__ShadowedBlock-sc-10w6hsj-0 ContentZone__SelectModal-wghbmy-15 eUFtOa\"><div class=\"ContentZone__SelectTitle-wghbmy-13 logJyh\">Pour quelle raison souhaitez-vous masquer cette annonce ? </div><div class=\"ContentZone__SelectOption-wghbmy-14 kBiYaS\">Pas intéressé(e)</div><div class=\"ContentZone__SelectOption-wghbmy-14 kBiYaS\">Déjà visité/contacté</div><div class=\"ContentZone__SelectOption-wghbmy-14 kBiYaS\">Photo insatisfaisante/absente</div><div class=\"ContentZone__SelectOption-wghbmy-14 kBiYaS\">Localisation incomplète</div><div class=\"ContentZone__SelectOption-wghbmy-14 kBiYaS\">Autre raison</div></div><div class=\"ContentZone__SmartClassifiedContact-wghbmy-1 bqeKmt Contact__ContactContainer-sc-3d01ca-1 hVXgxb\" mode=\"small\"><a class=\"Contact__WebSiteShortcutContainer-sc-3d01ca-0 csZlpz\" href=\"http://www.cosyhome.net\" rel=\"nofollow\" target=\"_blank\"><div class=\"Icon__IconElement-sc-1xnn3zd-0 qqhlj\" color=\"#929292\" data-test=\"icon\"><svg viewbox=\"0 0 512 512\"><path d=\"M478.2 254.2c0-120.6-93.3-219.3-211.2-226.5-1.2-.3-2.5-.4-3.8-.4-1.3 0-2.7 0-4 .1-2-.1-4-.1-6.1-.1h-4.2C149.1 29.2 65.1 96.7 37.7 188.9c-.8 1.7-1.4 3.6-1.6 5.5-5.3 19.5-7.9 39.6-7.9 59.8 0 123.9 98.5 224.7 220.9 226.9h4.1c2.1 0 4.1 0 6.1-.1 1.3 0 2.6.1 3.9.1 1.3 0 2.5-.1 3.8-.4 117.9-7.2 211.2-105.8 211.2-226.5zm-416.2 0c0-13.8 1.5-27.6 4.4-41.2h56.5c-3 26.2-3.1 52.6-.4 78.8H65.7c-2.5-12.3-3.7-24.9-3.7-37.6zm92.3 0c0-13.8.8-27.5 2.6-41.2h79.5v78.8h-79.8c-1.6-12.4-2.3-25-2.3-37.6zm196-75h-80.2V64.5c35.4 12.2 65.9 55.8 80.2 114.7zm-114-112v112H163c13.4-55 41-96.7 73.3-112zm0 258.4v115.5c-33.1-15.5-61.1-58.6-74.1-115.5h74.1zm33.8 118.3V325.7h81c-13.9 60.7-44.9 105.8-81 118.2zm0-152v-78.8h86.3c1.7 13.7 2.6 27.4 2.6 41.2 0 12.6-.7 25.2-2.1 37.7l-86.8-.1zM390.5 213H440c5.6 26 5.8 52.8.7 78.8h-49.9c1.3-12.5 1.9-25.1 1.9-37.7.1-13.7-.7-27.4-2.2-41.1zm39-33.8H385c-7.9-36.4-21.3-68.6-39-93.9 37.6 21.1 66.9 54.2 83.5 93.9zm-258-99.6c-19.6 26.1-34.6 60.5-43.1 99.7H77c18.2-43.7 51.8-79.2 94.5-99.7zM75.6 325.7h52.1c8.3 40.6 23.6 76.3 43.8 103.2-43.9-21.1-78.1-58-95.9-103.2zM346 423.1c18.2-26.1 32-59.7 39.7-97.5h45.2c-16.3 41.4-46.2 75.8-84.9 97.5z\"></path></svg></div></a><a class=\"AgencyLogo__AgencyLogoContainer-fcobow-0 dKHFSg\" href=\"https://www.seloger.com/professionnels/1/paris-9eme-75/agency-59513.htm?bd=Liste_annonce_annuaire_detail\" mode=\"small\" target=\"_blank\"><div class=\"AgencyLogo__Image-fcobow-1 iKDnku\"></div></a><div class=\"Contact__Buttons-sc-3d01ca-3 pKCwm\" mode=\"small\"><div class=\"Contact__ButtonContainer-sc-3d01ca-2 iklMcR\" data-test=\"button-container\"><div class=\"Contact__ButtonIcon-sc-3d01ca-6 hWcXVi Icon__IconElement-sc-1xnn3zd-0 jGTLkV\" data-test=\"icon\"><svg viewbox=\"0 0 512 512\"><g><path d=\"M391.3 382.7c-68.4-69.2-73.8-72.7-76.6-74.4-12.7-7.9-26.2-6.8-40.3 3.3-3 2.2-16.9 12.7-23.3 27.3-1.3-.6-2.5-1.2-3.7-1.9-12.6-7.3-25.8-17.9-39.3-31.6l-3.1-3.1c-13.5-13.7-23.9-27.1-30.9-39.7-.7-1.2-1.3-2.5-1.8-3.8 14.5-6.1 25.4-19.9 27.6-22.8 10.5-13.9 11.9-27.4 4.1-40.4-1.6-2.7-5-8.2-73.2-77.7-7.9-8.2-18.9-12.8-30.3-12.6-9.8.5-19.2 4.2-26.7 10.7-19.5 16.4-29.9 38.1-35.2 53.5-4.3 12.6-6.8 25.7-7.6 39-4.8 78.3 41.7 142.9 81.5 183.4l.1.1 4.3 4.4c38.4 39.1 99.3 84.7 173.9 84.7 2.7 0 5.4-.1 8.1-.2 13.3-.5 26.5-2.8 39.2-6.9 15.5-5 37.5-15 54.2-34.3 6.8-7.9 10.6-17 11.1-26.4.4-11.5-4-22.5-12.1-30.6.1 0 0 0 0 0zm-205.6-55.4c15.5 15.7 31 28.1 46 36.8 5.9 3.6 12.5 6 19.3 7.1 8.7 1.3 13.7-.9 17.5-3 5.3-3.2 9-8.6 10.9-15.8 1.1-4.4 7.8-11.5 13.3-15.5 1-.7 2.3-2.5 4.9-2.5 1.8 1.4 12.3 10.4 71.3 70.1 2 1.8 3.1 4.4 3.1 7.1-.1 2.3-1.3 4.9-3.5 7.4-12 13.8-28.4 21.2-40.2 25-10 3.2-20.4 5-30.9 5.3-67.9 3-123-39.2-158.4-75.3l-2.1-2.1c-.8-.8-1.6-1.5-2.3-2.2l.1-.1C99.4 334 58.1 277.1 62.2 210.4c.6-10.5 2.6-20.8 5.9-30.8 4-11.6 11.7-27.9 25.7-39.6 2.6-2.2 5.1-3.3 7.5-3.4h.2c2.6.1 5.1 1.3 6.9 3.2 60.2 61.4 68 71.1 69.1 72.8-.1 1-1.9 3.4-2.7 4.5-4 5.4-11.2 11.9-15.6 13-7.3 1.7-12.7 5.3-16.3 10.9-1.9 3.1-4.3 8.2-3.1 17.2 1 6.8 3.3 13.4 6.8 19.4 8.4 15.1 20.5 30.8 36 46.5l3.1 3.2zM239.1 105.8c-8.5-.9-16.1 5.3-17 13.7v.5c-.8 8.6 5.5 16.2 14.1 17h.1c73 6.5 131 64.1 138 137 .8 8 7.5 14.2 15.6 14.2.5 0 1 0 1.5-.1 8.6-.8 14.9-8.5 14.1-17.1-8.6-87.9-78.5-157.3-166.4-165.2z\"></path><path d=\"M407.5 104.2c-42-42-97.4-67.9-156.6-73.2-8.6-.8-16.2 5.6-17 14.2s5.6 16.2 14.2 17c106.4 9.5 191 93.4 201.3 199.8.8 8 7.5 14.2 15.6 14.2.5 0 1 0 1.5-.1 8.6-.8 14.9-8.5 14.1-17.1-5.7-58.5-31.6-113.2-73.1-154.8z\"></path></g></svg></div></div><div class=\"Contact__ButtonContainer-sc-3d01ca-2 iklMcR\" data-test=\"button-container\"><div class=\"Contact__ButtonIcon-sc-3d01ca-6 hWcXVi Icon__IconElement-sc-1xnn3zd-0 jGTLkV\" data-test=\"icon\"><svg viewbox=\"0 0 512 512\"><path d=\"M449.07 431.55H64.33c-29.06 0-52.63-24.37-52.63-54.44v-245c0-30.07 23.57-54.44 52.63-54.44h384.74c29.07 0 52.63 24.37 52.63 54.44v245c0 30.07-23.56 54.44-52.63 54.44zm12.37-281.73L256.7 354.24 52 149.59v229.7a12.58 12.58 0 0 0 12.37 12.52h384.7a12.58 12.58 0 0 0 12.37-12.52zm-380.8-28.33L256.7 297.35 433 121.49z\" data-name=\"R/uEA51-B-enveloppe\"></path></svg></div></div></div></div><a class=\"CoveringLink-a3s3kt-0 dXJclF\" href=\"https://www.seloger.com/annonces/locations/appartement/paris-13eme-75/nationale-deux-moulins/159121435.htm?projects=1&amp;types=1&amp;places=[{ci:750105}|{ci:750111}|{ci:940067}|{ci:940080}|{idq:133102}|{idq:133103}|{idq:133104}|{idq:133105}|{idq:133106}|{idq:133107}|{idq:133108}|{idq:133109}|{idq:133110}|{idq:133111}|{idq:133112}|{idq:133113}|{idq:133114}|{idq:133115}|{idq:133764}]&amp;surface=20/NaN&amp;rooms=1&amp;sort=d_dt_crea&amp;picture=15&amp;qsVersion=1.0&amp;bd=ListToDetail\" name=\"classified-link\" target=\"_blank\" z=\"1\"></a></div></div><div class=\"OptionalCriteria__Criteria-ae5ia6-1 eJJkJo\"><div class=\"OptionalCriteria__Criterion-ae5ia6-2 rqdCi\">Avec photos</div></div></div><div class=\"block__ShadowedBlock-sc-10w6hsj-0 ListContent__SmartClassifiedExtended-sc-1viyr2k-2 iddbNe classified__ClassifiedContainer-sc-1wmlctl-0 jzFgwH Card__CardContainer-sc-7insep-7 fMfqlk\"><div class=\"classified__ContentWrapper-sc-1wmlctl-1 iFOIpl\"><div class=\"Card__MediaZone-sc-7insep-0 fPingW\"><div class=\"PhotoSlider__PhotoSliderContainer-cta2l8-0 feqESw\"></div><div class=\"MediaZone__Stickers-bd1uhq-3 iwwrzY\"></div><div class=\"MediaZone__Chips-bd1uhq-4 ifvlFB\"><div class=\"MediaZone__Chip-bd1uhq-5 eUGAIh\"><div class=\"Icon__IconElement-sc-1xnn3zd-0 iIyIAR\" color=\"white\" data-test=\"sl-ui.icon\" style=\"margin-right:6px\"><svg viewbox=\"0 0 512 512\"><path d=\"M421.5 136h-50.3c-.9-.2-1.7-.7-2.4-1.4l-13-37.6c-4.3-12.4-17.5-21.7-30.7-21.7h-143c-13.3 0-26.6 9.3-30.8 21.6l-13 37.5c-.6.8-1.4 1.3-2.3 1.6H85.6c-31.5 0-57 24.9-57 55.5v182.1c0 30.6 25.6 55.5 57 55.5h335.9c31.5 0 57.1-24.9 57.1-55.5V191.5c-.1-30.6-25.6-55.5-57.1-55.5zm26.9 237.6c0 14-12.1 25.4-26.9 25.4H85.6c-14.8 0-26.9-11.4-26.9-25.4V191.5c0-14 12.1-25.4 26.9-25.4H136c13.3 0 26.6-9.3 30.8-21.7l12.9-37.4c.6-.8 1.5-1.4 2.4-1.6h142.7c.9.2 1.7.7 2.4 1.4l13 37.6c4.2 12.4 17.5 21.7 30.8 21.7h50.4c14.9 0 26.9 11.4 26.9 25.4l.1 182.1z\"></path><path d=\"M253.5 180.3c-54.7 0-99 44.3-99 99s44.3 99 99 99 99-44.3 99-98.9c0-54.7-44.3-99-99-99.1zm0 168c-38.1 0-68.9-30.8-68.9-68.9s30.8-68.9 68.9-68.9 68.9 30.8 68.9 68.9c0 38-30.8 68.8-68.9 68.9zM396.2 180.3c-17.6 0-31.8 14.2-31.8 31.8s14.2 31.8 31.8 31.8 31.8-14.2 31.8-31.8-14.2-31.8-31.8-31.8z\"></path></svg></div>6</div></div></div><div class=\"Card__ContentZone-sc-7insep-3 gfORyM\"><div class=\"ContentZone__DetailTop-wghbmy-6 dPYwvZ\"><div><div class=\"ContentZone__Title-wghbmy-7 joPkKZ\">Appartement</div><ul class=\"ContentZone__Tags-wghbmy-8 eJYQQA\"><li>1 p</li><li>26,65 m²</li><li>1 asc</li></ul></div><div class=\"Price__PriceContainer-sc-1g9fitq-0 eOPseM\"><div class=\"Price__Label-sc-1g9fitq-1 mVWFG\">856 €</div><div class=\"Price__Expose-sc-1g9fitq-4 eCwDJa\">cc</div><div class=\"Price__Suffix-sc-1g9fitq-3 hYaChC\">/mois</div></div></div><div class=\"ContentZone__Address-wghbmy-2 fRAjHL\"><span>Paris 11ème</span><span>Léon-Blum Folie-Regnault</span></div><div class=\"ContentZone__ButtonSection-wghbmy-4 fgfCuS\"><div class=\"ContentZone__Button-wghbmy-5 ePrJwG\"><div class=\"ContentZone__StyledIcon-wghbmy-3 jIMdci Icon__IconElement-sc-1xnn3zd-0 jGTLkV\" data-test=\"sl-ui.icon\"><svg height=\"1em\" viewbox=\"0 0 20 20\" width=\"1em\"><path d=\"M18.146 2.146a.5.5 0 01.708.707l-16 16a.5.5 0 11-.708-.707l3.728-3.728c-1.421-.893-2.696-2.106-3.782-3.643a.503.503 0 01-.003-.574c.15-.215 3.718-5.277 8.886-5.188.018-.003 1.388-.088 3.335.97zm-1.794 5.258c.88.76 1.739 1.697 2.549 2.784a.5.5 0 01-.001.598c-.161.216-3.938 5.204-8.231 5.204l-.186-.003h-.034c-.148-.002-.776-.029-1.666-.265a.5.5 0 01.256-.967c.895.238 1.472.237 1.456.232 3.276.107 6.5-3.45 7.372-4.507a16.03 16.03 0 00-2.168-2.32.5.5 0 01.653-.756zm-2.26 2.226c.075.281.113.571.113.862 0 1.935-1.658 3.508-3.697 3.508-.22 0-.433-.018-.643-.053a.5.5 0 11.164-.986c.156.025.316.039.479.039 1.487 0 2.697-1.125 2.697-2.508 0-.205-.026-.408-.08-.605a.501.501 0 01.968-.257zM10.95 6.01h-.054c-3.958 0-6.971 3.461-7.774 4.482 1.01 1.36 2.179 2.43 3.473 3.206l1.033-1.033c-.521-.618-.817-1.37-.817-2.173 0-1.935 1.658-3.508 3.697-3.508a3.83 3.83 0 012.138.662l.927-.926c-1.525-.764-2.553-.708-2.568-.709h-.109zm-.442 1.974c-1.488 0-2.697 1.125-2.697 2.508 0 .535.187 1.042.522 1.468l3.595-3.595a2.835 2.835 0 00-1.42-.38z\" fill=\"currentColor\" fill-rule=\"evenodd\"></path></svg></div><span>Masquer</span></div><div class=\"ContentZone__Button-wghbmy-5 dxnwuI\"><div class=\"ContentZone__StyledIcon-wghbmy-3 jIMdci Icon__IconElement-sc-1xnn3zd-0 jGTLkV\" data-test=\"sl-ui.icon\"><svg height=\"1em\" viewbox=\"0 0 20 20\" width=\"1em\"><defs><path d=\"M9.976 18.5l-.706-.484c-5.564-3.54-8.64-7.87-8.234-11.568.13-2.704 2.267-4.854 4.915-4.944a4.9 4.9 0 014.025 1.84A5.014 5.014 0 0114 1.513c2.67.1 4.825 2.266 4.963 4.993.407 3.609-2.69 7.91-8.282 11.578l-.706.415zM5.95 3.017c-1.888.1-3.391 1.65-3.474 3.58-.338 3.123 2.468 6.9 7.499 10.143 4.963-3.243 7.827-7.099 7.498-10.065-.058-1.972-1.593-3.566-3.521-3.658a3.576 3.576 0 00-3.397 1.977L9.918 6.22l-.639-1.226a3.51 3.51 0 00-3.328-1.977z\" id=\"heart-regular_svg__a\"></path></defs><use fill=\"currentColor\" fill-rule=\"evenodd\" xlink:href=\"#heart-regular_svg__a\"></use></svg></div><span>Sauvegarder</span></div></div><div class=\"block__ShadowedBlock-sc-10w6hsj-0 ContentZone__SelectModal-wghbmy-15 eUFtOa\"><div class=\"ContentZone__SelectTitle-wghbmy-13 logJyh\">Pour quelle raison souhaitez-vous masquer cette annonce ? </div><div class=\"ContentZone__SelectOption-wghbmy-14 kBiYaS\">Pas intéressé(e)</div><div class=\"ContentZone__SelectOption-wghbmy-14 kBiYaS\">Déjà visité/contacté</div><div class=\"ContentZone__SelectOption-wghbmy-14 kBiYaS\">Photo insatisfaisante/absente</div><div class=\"ContentZone__SelectOption-wghbmy-14 kBiYaS\">Localisation incomplète</div><div class=\"ContentZone__SelectOption-wghbmy-14 kBiYaS\">Autre raison</div></div><div class=\"ContentZone__SmartClassifiedContact-wghbmy-1 bqeKmt Contact__ContactContainer-sc-3d01ca-1 hVXgxb\" mode=\"small\"><a class=\"Contact__WebSiteShortcutContainer-sc-3d01ca-0 csZlpz\" href=\"http://esprimmo.com\" rel=\"nofollow\" target=\"_blank\"><div class=\"Icon__IconElement-sc-1xnn3zd-0 qqhlj\" color=\"#929292\" data-test=\"icon\"><svg viewbox=\"0 0 512 512\"><path d=\"M478.2 254.2c0-120.6-93.3-219.3-211.2-226.5-1.2-.3-2.5-.4-3.8-.4-1.3 0-2.7 0-4 .1-2-.1-4-.1-6.1-.1h-4.2C149.1 29.2 65.1 96.7 37.7 188.9c-.8 1.7-1.4 3.6-1.6 5.5-5.3 19.5-7.9 39.6-7.9 59.8 0 123.9 98.5 224.7 220.9 226.9h4.1c2.1 0 4.1 0 6.1-.1 1.3 0 2.6.1 3.9.1 1.3 0 2.5-.1 3.8-.4 117.9-7.2 211.2-105.8 211.2-226.5zm-416.2 0c0-13.8 1.5-27.6 4.4-41.2h56.5c-3 26.2-3.1 52.6-.4 78.8H65.7c-2.5-12.3-3.7-24.9-3.7-37.6zm92.3 0c0-13.8.8-27.5 2.6-41.2h79.5v78.8h-79.8c-1.6-12.4-2.3-25-2.3-37.6zm196-75h-80.2V64.5c35.4 12.2 65.9 55.8 80.2 114.7zm-114-112v112H163c13.4-55 41-96.7 73.3-112zm0 258.4v115.5c-33.1-15.5-61.1-58.6-74.1-115.5h74.1zm33.8 118.3V325.7h81c-13.9 60.7-44.9 105.8-81 118.2zm0-152v-78.8h86.3c1.7 13.7 2.6 27.4 2.6 41.2 0 12.6-.7 25.2-2.1 37.7l-86.8-.1zM390.5 213H440c5.6 26 5.8 52.8.7 78.8h-49.9c1.3-12.5 1.9-25.1 1.9-37.7.1-13.7-.7-27.4-2.2-41.1zm39-33.8H385c-7.9-36.4-21.3-68.6-39-93.9 37.6 21.1 66.9 54.2 83.5 93.9zm-258-99.6c-19.6 26.1-34.6 60.5-43.1 99.7H77c18.2-43.7 51.8-79.2 94.5-99.7zM75.6 325.7h52.1c8.3 40.6 23.6 76.3 43.8 103.2-43.9-21.1-78.1-58-95.9-103.2zM346 423.1c18.2-26.1 32-59.7 39.7-97.5h45.2c-16.3 41.4-46.2 75.8-84.9 97.5z\"></path></svg></div></a><a class=\"AgencyLogo__AgencyLogoContainer-fcobow-0 dKHFSg\" href=\"https://www.seloger.com/professionnels/1/paris-11eme-75/agency-142587.htm?bd=Liste_annonce_annuaire_detail\" mode=\"small\" target=\"_blank\"><div class=\"AgencyLogo__Image-fcobow-1 hZXEiW\"></div></a><div class=\"Contact__Buttons-sc-3d01ca-3 pKCwm\" mode=\"small\"><div class=\"Contact__ButtonContainer-sc-3d01ca-2 iklMcR\" data-test=\"button-container\"><div class=\"Contact__ButtonIcon-sc-3d01ca-6 hWcXVi Icon__IconElement-sc-1xnn3zd-0 jGTLkV\" data-test=\"icon\"><svg viewbox=\"0 0 512 512\"><g><path d=\"M391.3 382.7c-68.4-69.2-73.8-72.7-76.6-74.4-12.7-7.9-26.2-6.8-40.3 3.3-3 2.2-16.9 12.7-23.3 27.3-1.3-.6-2.5-1.2-3.7-1.9-12.6-7.3-25.8-17.9-39.3-31.6l-3.1-3.1c-13.5-13.7-23.9-27.1-30.9-39.7-.7-1.2-1.3-2.5-1.8-3.8 14.5-6.1 25.4-19.9 27.6-22.8 10.5-13.9 11.9-27.4 4.1-40.4-1.6-2.7-5-8.2-73.2-77.7-7.9-8.2-18.9-12.8-30.3-12.6-9.8.5-19.2 4.2-26.7 10.7-19.5 16.4-29.9 38.1-35.2 53.5-4.3 12.6-6.8 25.7-7.6 39-4.8 78.3 41.7 142.9 81.5 183.4l.1.1 4.3 4.4c38.4 39.1 99.3 84.7 173.9 84.7 2.7 0 5.4-.1 8.1-.2 13.3-.5 26.5-2.8 39.2-6.9 15.5-5 37.5-15 54.2-34.3 6.8-7.9 10.6-17 11.1-26.4.4-11.5-4-22.5-12.1-30.6.1 0 0 0 0 0zm-205.6-55.4c15.5 15.7 31 28.1 46 36.8 5.9 3.6 12.5 6 19.3 7.1 8.7 1.3 13.7-.9 17.5-3 5.3-3.2 9-8.6 10.9-15.8 1.1-4.4 7.8-11.5 13.3-15.5 1-.7 2.3-2.5 4.9-2.5 1.8 1.4 12.3 10.4 71.3 70.1 2 1.8 3.1 4.4 3.1 7.1-.1 2.3-1.3 4.9-3.5 7.4-12 13.8-28.4 21.2-40.2 25-10 3.2-20.4 5-30.9 5.3-67.9 3-123-39.2-158.4-75.3l-2.1-2.1c-.8-.8-1.6-1.5-2.3-2.2l.1-.1C99.4 334 58.1 277.1 62.2 210.4c.6-10.5 2.6-20.8 5.9-30.8 4-11.6 11.7-27.9 25.7-39.6 2.6-2.2 5.1-3.3 7.5-3.4h.2c2.6.1 5.1 1.3 6.9 3.2 60.2 61.4 68 71.1 69.1 72.8-.1 1-1.9 3.4-2.7 4.5-4 5.4-11.2 11.9-15.6 13-7.3 1.7-12.7 5.3-16.3 10.9-1.9 3.1-4.3 8.2-3.1 17.2 1 6.8 3.3 13.4 6.8 19.4 8.4 15.1 20.5 30.8 36 46.5l3.1 3.2zM239.1 105.8c-8.5-.9-16.1 5.3-17 13.7v.5c-.8 8.6 5.5 16.2 14.1 17h.1c73 6.5 131 64.1 138 137 .8 8 7.5 14.2 15.6 14.2.5 0 1 0 1.5-.1 8.6-.8 14.9-8.5 14.1-17.1-8.6-87.9-78.5-157.3-166.4-165.2z\"></path><path d=\"M407.5 104.2c-42-42-97.4-67.9-156.6-73.2-8.6-.8-16.2 5.6-17 14.2s5.6 16.2 14.2 17c106.4 9.5 191 93.4 201.3 199.8.8 8 7.5 14.2 15.6 14.2.5 0 1 0 1.5-.1 8.6-.8 14.9-8.5 14.1-17.1-5.7-58.5-31.6-113.2-73.1-154.8z\"></path></g></svg></div></div><div class=\"Contact__ButtonContainer-sc-3d01ca-2 iklMcR\" data-test=\"button-container\"><div class=\"Contact__ButtonIcon-sc-3d01ca-6 hWcXVi Icon__IconElement-sc-1xnn3zd-0 jGTLkV\" data-test=\"icon\"><svg viewbox=\"0 0 512 512\"><path d=\"M449.07 431.55H64.33c-29.06 0-52.63-24.37-52.63-54.44v-245c0-30.07 23.57-54.44 52.63-54.44h384.74c29.07 0 52.63 24.37 52.63 54.44v245c0 30.07-23.56 54.44-52.63 54.44zm12.37-281.73L256.7 354.24 52 149.59v229.7a12.58 12.58 0 0 0 12.37 12.52h384.7a12.58 12.58 0 0 0 12.37-12.52zm-380.8-28.33L256.7 297.35 433 121.49z\" data-name=\"R/uEA51-B-enveloppe\"></path></svg></div></div></div></div><a class=\"CoveringLink-a3s3kt-0 dXJclF\" href=\"https://www.seloger.com/annonces/locations/appartement/paris-11eme-75/leon-blum-folie-regnault/159117195.htm?projects=1&amp;types=1&amp;places=[{ci:750105}|{ci:750111}|{ci:940067}|{ci:940080}|{idq:133102}|{idq:133103}|{idq:133104}|{idq:133105}|{idq:133106}|{idq:133107}|{idq:133108}|{idq:133109}|{idq:133110}|{idq:133111}|{idq:133112}|{idq:133113}|{idq:133114}|{idq:133115}|{idq:133764}]&amp;surface=20/NaN&amp;rooms=1&amp;sort=d_dt_crea&amp;picture=15&amp;qsVersion=1.0&amp;bd=ListToDetail\" name=\"classified-link\" target=\"_blank\" z=\"1\"></a></div></div><div class=\"OptionalCriteria__Criteria-ae5ia6-1 eJJkJo\"><div class=\"OptionalCriteria__Criterion-ae5ia6-2 rqdCi\">Avec photos</div></div></div><div class=\"block__ShadowedBlock-sc-10w6hsj-0 ListContent__SmartClassifiedExtended-sc-1viyr2k-2 iddbNe classified__ClassifiedContainer-sc-1wmlctl-0 jzFgwH Card__CardContainer-sc-7insep-7 fMfqlk\"><div class=\"classified__ContentWrapper-sc-1wmlctl-1 iFOIpl\"><div class=\"Card__MediaZone-sc-7insep-0 fPingW\"><div class=\"PhotoSlider__PhotoSliderContainer-cta2l8-0 feqESw\"></div><div class=\"MediaZone__Stickers-bd1uhq-3 iwwrzY\"></div><div class=\"MediaZone__Chips-bd1uhq-4 ifvlFB\"><div class=\"MediaZone__Chip-bd1uhq-5 eUGAIh\"><div class=\"Icon__IconElement-sc-1xnn3zd-0 iIyIAR\" color=\"white\" data-test=\"sl-ui.icon\" style=\"margin-right:6px\"><svg viewbox=\"0 0 512 512\"><path d=\"M421.5 136h-50.3c-.9-.2-1.7-.7-2.4-1.4l-13-37.6c-4.3-12.4-17.5-21.7-30.7-21.7h-143c-13.3 0-26.6 9.3-30.8 21.6l-13 37.5c-.6.8-1.4 1.3-2.3 1.6H85.6c-31.5 0-57 24.9-57 55.5v182.1c0 30.6 25.6 55.5 57 55.5h335.9c31.5 0 57.1-24.9 57.1-55.5V191.5c-.1-30.6-25.6-55.5-57.1-55.5zm26.9 237.6c0 14-12.1 25.4-26.9 25.4H85.6c-14.8 0-26.9-11.4-26.9-25.4V191.5c0-14 12.1-25.4 26.9-25.4H136c13.3 0 26.6-9.3 30.8-21.7l12.9-37.4c.6-.8 1.5-1.4 2.4-1.6h142.7c.9.2 1.7.7 2.4 1.4l13 37.6c4.2 12.4 17.5 21.7 30.8 21.7h50.4c14.9 0 26.9 11.4 26.9 25.4l.1 182.1z\"></path><path d=\"M253.5 180.3c-54.7 0-99 44.3-99 99s44.3 99 99 99 99-44.3 99-98.9c0-54.7-44.3-99-99-99.1zm0 168c-38.1 0-68.9-30.8-68.9-68.9s30.8-68.9 68.9-68.9 68.9 30.8 68.9 68.9c0 38-30.8 68.8-68.9 68.9zM396.2 180.3c-17.6 0-31.8 14.2-31.8 31.8s14.2 31.8 31.8 31.8 31.8-14.2 31.8-31.8-14.2-31.8-31.8-31.8z\"></path></svg></div>7</div></div></div><div class=\"Card__ContentZone-sc-7insep-3 gfORyM\"><div class=\"ContentZone__DetailTop-wghbmy-6 dPYwvZ\"><div><div class=\"ContentZone__Title-wghbmy-7 joPkKZ\">Appartement</div><ul class=\"ContentZone__Tags-wghbmy-8 eJYQQA\"><li>1 p</li><li>20 m²</li><li> tess</li></ul></div><div class=\"Price__PriceContainer-sc-1g9fitq-0 eOPseM\"><div class=\"Price__Label-sc-1g9fitq-1 mVWFG\">900 €</div><div class=\"Price__Expose-sc-1g9fitq-4 eCwDJa\">cc</div><div class=\"Price__Suffix-sc-1g9fitq-3 hYaChC\">/mois</div></div></div><div class=\"ContentZone__Address-wghbmy-2 fRAjHL\"><span>Paris 11ème</span><span>Léon-Blum Folie-Regnault</span></div><div class=\"ContentZone__ButtonSection-wghbmy-4 fgfCuS\"><div class=\"ContentZone__Button-wghbmy-5 ePrJwG\"><div class=\"ContentZone__StyledIcon-wghbmy-3 jIMdci Icon__IconElement-sc-1xnn3zd-0 jGTLkV\" data-test=\"sl-ui.icon\"><svg height=\"1em\" viewbox=\"0 0 20 20\" width=\"1em\"><path d=\"M18.146 2.146a.5.5 0 01.708.707l-16 16a.5.5 0 11-.708-.707l3.728-3.728c-1.421-.893-2.696-2.106-3.782-3.643a.503.503 0 01-.003-.574c.15-.215 3.718-5.277 8.886-5.188.018-.003 1.388-.088 3.335.97zm-1.794 5.258c.88.76 1.739 1.697 2.549 2.784a.5.5 0 01-.001.598c-.161.216-3.938 5.204-8.231 5.204l-.186-.003h-.034c-.148-.002-.776-.029-1.666-.265a.5.5 0 01.256-.967c.895.238 1.472.237 1.456.232 3.276.107 6.5-3.45 7.372-4.507a16.03 16.03 0 00-2.168-2.32.5.5 0 01.653-.756zm-2.26 2.226c.075.281.113.571.113.862 0 1.935-1.658 3.508-3.697 3.508-.22 0-.433-.018-.643-.053a.5.5 0 11.164-.986c.156.025.316.039.479.039 1.487 0 2.697-1.125 2.697-2.508 0-.205-.026-.408-.08-.605a.501.501 0 01.968-.257zM10.95 6.01h-.054c-3.958 0-6.971 3.461-7.774 4.482 1.01 1.36 2.179 2.43 3.473 3.206l1.033-1.033c-.521-.618-.817-1.37-.817-2.173 0-1.935 1.658-3.508 3.697-3.508a3.83 3.83 0 012.138.662l.927-.926c-1.525-.764-2.553-.708-2.568-.709h-.109zm-.442 1.974c-1.488 0-2.697 1.125-2.697 2.508 0 .535.187 1.042.522 1.468l3.595-3.595a2.835 2.835 0 00-1.42-.38z\" fill=\"currentColor\" fill-rule=\"evenodd\"></path></svg></div><span>Masquer</span></div><div class=\"ContentZone__Button-wghbmy-5 dxnwuI\"><div class=\"ContentZone__StyledIcon-wghbmy-3 jIMdci Icon__IconElement-sc-1xnn3zd-0 jGTLkV\" data-test=\"sl-ui.icon\"><svg height=\"1em\" viewbox=\"0 0 20 20\" width=\"1em\"><defs><path d=\"M9.976 18.5l-.706-.484c-5.564-3.54-8.64-7.87-8.234-11.568.13-2.704 2.267-4.854 4.915-4.944a4.9 4.9 0 014.025 1.84A5.014 5.014 0 0114 1.513c2.67.1 4.825 2.266 4.963 4.993.407 3.609-2.69 7.91-8.282 11.578l-.706.415zM5.95 3.017c-1.888.1-3.391 1.65-3.474 3.58-.338 3.123 2.468 6.9 7.499 10.143 4.963-3.243 7.827-7.099 7.498-10.065-.058-1.972-1.593-3.566-3.521-3.658a3.576 3.576 0 00-3.397 1.977L9.918 6.22l-.639-1.226a3.51 3.51 0 00-3.328-1.977z\" id=\"heart-regular_svg__a\"></path></defs><use fill=\"currentColor\" fill-rule=\"evenodd\" xlink:href=\"#heart-regular_svg__a\"></use></svg></div><span>Sauvegarder</span></div></div><div class=\"block__ShadowedBlock-sc-10w6hsj-0 ContentZone__SelectModal-wghbmy-15 eUFtOa\"><div class=\"ContentZone__SelectTitle-wghbmy-13 logJyh\">Pour quelle raison souhaitez-vous masquer cette annonce ? </div><div class=\"ContentZone__SelectOption-wghbmy-14 kBiYaS\">Pas intéressé(e)</div><div class=\"ContentZone__SelectOption-wghbmy-14 kBiYaS\">Déjà visité/contacté</div><div class=\"ContentZone__SelectOption-wghbmy-14 kBiYaS\">Photo insatisfaisante/absente</div><div class=\"ContentZone__SelectOption-wghbmy-14 kBiYaS\">Localisation incomplète</div><div class=\"ContentZone__SelectOption-wghbmy-14 kBiYaS\">Autre raison</div></div><div class=\"ContentZone__SmartClassifiedContact-wghbmy-1 bqeKmt Contact__ContactContainer-sc-3d01ca-1 hVXgxb\" mode=\"small\"><a class=\"AgencyLogo__AgencyLogoContainer-fcobow-0 hjyUfp\" mode=\"small\" target=\"_blank\"><div class=\"AgencyLogo__Placeholder-fcobow-2 jRuXFY\">STUDAPART</div></a><div class=\"Contact__Buttons-sc-3d01ca-3 pKCwm\" mode=\"small\"><div class=\"Contact__ButtonContainer-sc-3d01ca-2 iklMcR\" data-test=\"button-container\"><div class=\"Contact__ButtonIcon-sc-3d01ca-6 hWcXVi Icon__IconElement-sc-1xnn3zd-0 jGTLkV\" data-test=\"icon\"><svg viewbox=\"0 0 512 512\"><g><path d=\"M391.3 382.7c-68.4-69.2-73.8-72.7-76.6-74.4-12.7-7.9-26.2-6.8-40.3 3.3-3 2.2-16.9 12.7-23.3 27.3-1.3-.6-2.5-1.2-3.7-1.9-12.6-7.3-25.8-17.9-39.3-31.6l-3.1-3.1c-13.5-13.7-23.9-27.1-30.9-39.7-.7-1.2-1.3-2.5-1.8-3.8 14.5-6.1 25.4-19.9 27.6-22.8 10.5-13.9 11.9-27.4 4.1-40.4-1.6-2.7-5-8.2-73.2-77.7-7.9-8.2-18.9-12.8-30.3-12.6-9.8.5-19.2 4.2-26.7 10.7-19.5 16.4-29.9 38.1-35.2 53.5-4.3 12.6-6.8 25.7-7.6 39-4.8 78.3 41.7 142.9 81.5 183.4l.1.1 4.3 4.4c38.4 39.1 99.3 84.7 173.9 84.7 2.7 0 5.4-.1 8.1-.2 13.3-.5 26.5-2.8 39.2-6.9 15.5-5 37.5-15 54.2-34.3 6.8-7.9 10.6-17 11.1-26.4.4-11.5-4-22.5-12.1-30.6.1 0 0 0 0 0zm-205.6-55.4c15.5 15.7 31 28.1 46 36.8 5.9 3.6 12.5 6 19.3 7.1 8.7 1.3 13.7-.9 17.5-3 5.3-3.2 9-8.6 10.9-15.8 1.1-4.4 7.8-11.5 13.3-15.5 1-.7 2.3-2.5 4.9-2.5 1.8 1.4 12.3 10.4 71.3 70.1 2 1.8 3.1 4.4 3.1 7.1-.1 2.3-1.3 4.9-3.5 7.4-12 13.8-28.4 21.2-40.2 25-10 3.2-20.4 5-30.9 5.3-67.9 3-123-39.2-158.4-75.3l-2.1-2.1c-.8-.8-1.6-1.5-2.3-2.2l.1-.1C99.4 334 58.1 277.1 62.2 210.4c.6-10.5 2.6-20.8 5.9-30.8 4-11.6 11.7-27.9 25.7-39.6 2.6-2.2 5.1-3.3 7.5-3.4h.2c2.6.1 5.1 1.3 6.9 3.2 60.2 61.4 68 71.1 69.1 72.8-.1 1-1.9 3.4-2.7 4.5-4 5.4-11.2 11.9-15.6 13-7.3 1.7-12.7 5.3-16.3 10.9-1.9 3.1-4.3 8.2-3.1 17.2 1 6.8 3.3 13.4 6.8 19.4 8.4 15.1 20.5 30.8 36 46.5l3.1 3.2zM239.1 105.8c-8.5-.9-16.1 5.3-17 13.7v.5c-.8 8.6 5.5 16.2 14.1 17h.1c73 6.5 131 64.1 138 137 .8 8 7.5 14.2 15.6 14.2.5 0 1 0 1.5-.1 8.6-.8 14.9-8.5 14.1-17.1-8.6-87.9-78.5-157.3-166.4-165.2z\"></path><path d=\"M407.5 104.2c-42-42-97.4-67.9-156.6-73.2-8.6-.8-16.2 5.6-17 14.2s5.6 16.2 14.2 17c106.4 9.5 191 93.4 201.3 199.8.8 8 7.5 14.2 15.6 14.2.5 0 1 0 1.5-.1 8.6-.8 14.9-8.5 14.1-17.1-5.7-58.5-31.6-113.2-73.1-154.8z\"></path></g></svg></div></div><div class=\"Contact__ButtonContainer-sc-3d01ca-2 iklMcR\" data-test=\"button-container\"><div class=\"Contact__ButtonIcon-sc-3d01ca-6 hWcXVi Icon__IconElement-sc-1xnn3zd-0 jGTLkV\" data-test=\"icon\"><svg viewbox=\"0 0 512 512\"><path d=\"M449.07 431.55H64.33c-29.06 0-52.63-24.37-52.63-54.44v-245c0-30.07 23.57-54.44 52.63-54.44h384.74c29.07 0 52.63 24.37 52.63 54.44v245c0 30.07-23.56 54.44-52.63 54.44zm12.37-281.73L256.7 354.24 52 149.59v229.7a12.58 12.58 0 0 0 12.37 12.52h384.7a12.58 12.58 0 0 0 12.37-12.52zm-380.8-28.33L256.7 297.35 433 121.49z\" data-name=\"R/uEA51-B-enveloppe\"></path></svg></div></div></div></div><a class=\"CoveringLink-a3s3kt-0 dXJclF\" href=\"https://www.seloger.com/annonces/locations/appartement/paris-11eme-75/leon-blum-folie-regnault/159111619.htm?projects=1&amp;types=1&amp;places=[{ci:750105}|{ci:750111}|{ci:940067}|{ci:940080}|{idq:133102}|{idq:133103}|{idq:133104}|{idq:133105}|{idq:133106}|{idq:133107}|{idq:133108}|{idq:133109}|{idq:133110}|{idq:133111}|{idq:133112}|{idq:133113}|{idq:133114}|{idq:133115}|{idq:133764}]&amp;surface=20/NaN&amp;rooms=1&amp;sort=d_dt_crea&amp;picture=15&amp;qsVersion=1.0&amp;bd=ListToDetail\" name=\"classified-link\" target=\"_blank\" z=\"1\"></a></div></div><div class=\"OptionalCriteria__Criteria-ae5ia6-1 eJJkJo\"><div class=\"OptionalCriteria__Criterion-ae5ia6-2 rqdCi\">Avec photos</div></div></div><div class=\"block__ShadowedBlock-sc-10w6hsj-0 ListContent__SmartClassifiedExtended-sc-1viyr2k-2 iddbNe classified__ClassifiedContainer-sc-1wmlctl-0 jzFgwH Card__CardContainer-sc-7insep-7 fMfqlk\"><div class=\"classified__ContentWrapper-sc-1wmlctl-1 iFOIpl\"><div class=\"Card__MediaZone-sc-7insep-0 fPingW\"><div class=\"PhotoSlider__PhotoSliderContainer-cta2l8-0 feqESw\"></div><div class=\"MediaZone__RichMediaLayer-bd1uhq-0 kqxCNL\" type=\"d3Visit\"></div><div class=\"MediaZone__Stickers-bd1uhq-3 iwwrzY\"></div><div class=\"MediaZone__Chips-bd1uhq-4 ifvlFB\"><div class=\"MediaZone__Chip-bd1uhq-5 eUGAIh\"><div class=\"Icon__IconElement-sc-1xnn3zd-0 iIyIAR\" color=\"white\" data-test=\"sl-ui.icon\" style=\"margin-right:6px\"><svg viewbox=\"0 0 512 512\"><path d=\"M421.5 136h-50.3c-.9-.2-1.7-.7-2.4-1.4l-13-37.6c-4.3-12.4-17.5-21.7-30.7-21.7h-143c-13.3 0-26.6 9.3-30.8 21.6l-13 37.5c-.6.8-1.4 1.3-2.3 1.6H85.6c-31.5 0-57 24.9-57 55.5v182.1c0 30.6 25.6 55.5 57 55.5h335.9c31.5 0 57.1-24.9 57.1-55.5V191.5c-.1-30.6-25.6-55.5-57.1-55.5zm26.9 237.6c0 14-12.1 25.4-26.9 25.4H85.6c-14.8 0-26.9-11.4-26.9-25.4V191.5c0-14 12.1-25.4 26.9-25.4H136c13.3 0 26.6-9.3 30.8-21.7l12.9-37.4c.6-.8 1.5-1.4 2.4-1.6h142.7c.9.2 1.7.7 2.4 1.4l13 37.6c4.2 12.4 17.5 21.7 30.8 21.7h50.4c14.9 0 26.9 11.4 26.9 25.4l.1 182.1z\"></path><path d=\"M253.5 180.3c-54.7 0-99 44.3-99 99s44.3 99 99 99 99-44.3 99-98.9c0-54.7-44.3-99-99-99.1zm0 168c-38.1 0-68.9-30.8-68.9-68.9s30.8-68.9 68.9-68.9 68.9 30.8 68.9 68.9c0 38-30.8 68.8-68.9 68.9zM396.2 180.3c-17.6 0-31.8 14.2-31.8 31.8s14.2 31.8 31.8 31.8 31.8-14.2 31.8-31.8-14.2-31.8-31.8-31.8z\"></path></svg></div>9</div><div class=\"MediaZone__Chip-bd1uhq-5 eUGAIh\"><div class=\"Icon__IconElement-sc-1xnn3zd-0 iIyIAR\" color=\"white\" data-test=\"sl-ui.icon\" style=\"margin-right:6px\"><svg viewbox=\"0 0 512 512\"><path d=\"M224.6 157.7c.2 7.8-2.5 15.4-7.6 21.3-5.9 6.5-13.5 11-22 13.1 22.3 3.1 33.2 13.8 33.2 32 .3 11.5-5.1 22.5-14.6 29.1-12.2 7.8-26.6 11.5-41 10.7-6.7.1-13.3-.5-19.9-1.7-6.8-1.2-13.5-3-19.9-5.6V227c5.6 2.9 11.6 5.2 17.7 6.8 5.6 1.2 11.3 1.9 17 1.9 5.9.4 11.8-.7 17.2-3.2 6-4.3 7.4-12.6 3.1-18.6-.1-.2-.3-.4-.4-.5-2.6-2.3-5.8-3.8-9.2-4.4-5.4-1.1-11-1.6-16.5-1.4h-8.2v-27.2h8.5c17.7 0 27.6-4.9 27.6-14.3.1-3.1-1.5-6.1-4.1-7.8-3.4-1.7-7.1-2.5-10.9-2.2-9.6.2-18.9 3.3-26.7 8.8l-15-24.3c6.9-4.9 14.5-8.6 22.6-10.9 7.9-2 16.1-3.1 24.3-3.2 11.5-.5 22.9 2.3 32.7 8.2 7.5 5.1 12 13.7 11.6 22.8l.5.2zm145.3 189.4c-10-.4-17.8-8.9-17.4-18.9.3-7.5 5.2-14.1 12.4-16.5 47.3-14.1 78.1-36.9 78.1-57.7 0-14.3-14.3-29.6-39-42.4l-4.1-2.2c-8.9-4.4-12.6-15.3-8.2-24.2 4.3-8.9 15-12.7 23.9-8.4.1.1.2.1.3.2l4.9 2.4c37.9 19.6 58.7 46.1 58.7 74.7 0 39.1-38.1 72.8-104.1 92.4-1.9.4-3.7.6-5.5.6zm6-153c1.2 18.9-5.5 37.5-18.4 51.4-14.1 12.8-32.9 19.4-51.9 18.2h-43.7V128.6h46.3c17.7-.8 35 5.1 48.5 16.5 12.7 12.8 19.1 30.5 17.7 48.5l1.5.5zM244 362.8c-123.2-2.4-214.7-48.4-214.7-109.5 0-32.3 25.7-61.1 72.8-81.5 9.4-4.1 20.3.2 24.4 9.6s-.2 20.3-9.6 24.4c-31.8 13.8-50.4 31.5-50.4 48.5 0 33 75.2 70.2 177.6 72.6v-23.6c0-4.4 2.7-8.4 6.8-10 4-1.7 8.7-.7 11.7 2.4l41.2 41.3c1.9 1.9 3 4.4 3.1 7 0 2.8-1.1 5.5-3.1 7.5l-41.2 41.2c-2.1 2.1-4.9 3.2-7.8 3.1-1.3.2-2.6.2-3.9 0-4.1-1.6-6.8-5.5-6.8-9.9v-23.1zm94.1-168.7c.8-9.7-1.8-19.4-7.3-27.4-5.6-6.2-13.8-9.4-22.1-8.7H298v75h8.2c9.2.9 18.2-2.7 24.2-9.7 5.8-8.6 8.5-18.8 7.8-29.1\"></path></svg></div>Visite 3D</div></div></div><div class=\"Card__ContentZone-sc-7insep-3 gfORyM\"><div class=\"ContentZone__DetailTop-wghbmy-6 dPYwvZ\"><div><div class=\"ContentZone__Title-wghbmy-7 joPkKZ\">Appartement</div><ul class=\"ContentZone__Tags-wghbmy-8 eJYQQA\"><li>1 p</li><li>23 m²</li></ul></div><div class=\"Price__PriceContainer-sc-1g9fitq-0 eOPseM\"><div class=\"Price__Label-sc-1g9fitq-1 mVWFG\">900 €</div><div class=\"Price__Expose-sc-1g9fitq-4 eCwDJa\">cc</div><div class=\"Price__Suffix-sc-1g9fitq-3 hYaChC\">/mois</div></div></div><div class=\"ContentZone__Address-wghbmy-2 fRAjHL\"><span>Paris 13ème</span><span>Dunois-Bibliothèque-Jeanne-d'Arc</span></div><div class=\"ContentZone__ButtonSection-wghbmy-4 fgfCuS\"><div class=\"ContentZone__Button-wghbmy-5 ePrJwG\"><div class=\"ContentZone__StyledIcon-wghbmy-3 jIMdci Icon__IconElement-sc-1xnn3zd-0 jGTLkV\" data-test=\"sl-ui.icon\"><svg height=\"1em\" viewbox=\"0 0 20 20\" width=\"1em\"><path d=\"M18.146 2.146a.5.5 0 01.708.707l-16 16a.5.5 0 11-.708-.707l3.728-3.728c-1.421-.893-2.696-2.106-3.782-3.643a.503.503 0 01-.003-.574c.15-.215 3.718-5.277 8.886-5.188.018-.003 1.388-.088 3.335.97zm-1.794 5.258c.88.76 1.739 1.697 2.549 2.784a.5.5 0 01-.001.598c-.161.216-3.938 5.204-8.231 5.204l-.186-.003h-.034c-.148-.002-.776-.029-1.666-.265a.5.5 0 01.256-.967c.895.238 1.472.237 1.456.232 3.276.107 6.5-3.45 7.372-4.507a16.03 16.03 0 00-2.168-2.32.5.5 0 01.653-.756zm-2.26 2.226c.075.281.113.571.113.862 0 1.935-1.658 3.508-3.697 3.508-.22 0-.433-.018-.643-.053a.5.5 0 11.164-.986c.156.025.316.039.479.039 1.487 0 2.697-1.125 2.697-2.508 0-.205-.026-.408-.08-.605a.501.501 0 01.968-.257zM10.95 6.01h-.054c-3.958 0-6.971 3.461-7.774 4.482 1.01 1.36 2.179 2.43 3.473 3.206l1.033-1.033c-.521-.618-.817-1.37-.817-2.173 0-1.935 1.658-3.508 3.697-3.508a3.83 3.83 0 012.138.662l.927-.926c-1.525-.764-2.553-.708-2.568-.709h-.109zm-.442 1.974c-1.488 0-2.697 1.125-2.697 2.508 0 .535.187 1.042.522 1.468l3.595-3.595a2.835 2.835 0 00-1.42-.38z\" fill=\"currentColor\" fill-rule=\"evenodd\"></path></svg></div><span>Masquer</span></div><div class=\"ContentZone__Button-wghbmy-5 dxnwuI\"><div class=\"ContentZone__StyledIcon-wghbmy-3 jIMdci Icon__IconElement-sc-1xnn3zd-0 jGTLkV\" data-test=\"sl-ui.icon\"><svg height=\"1em\" viewbox=\"0 0 20 20\" width=\"1em\"><defs><path d=\"M9.976 18.5l-.706-.484c-5.564-3.54-8.64-7.87-8.234-11.568.13-2.704 2.267-4.854 4.915-4.944a4.9 4.9 0 014.025 1.84A5.014 5.014 0 0114 1.513c2.67.1 4.825 2.266 4.963 4.993.407 3.609-2.69 7.91-8.282 11.578l-.706.415zM5.95 3.017c-1.888.1-3.391 1.65-3.474 3.58-.338 3.123 2.468 6.9 7.499 10.143 4.963-3.243 7.827-7.099 7.498-10.065-.058-1.972-1.593-3.566-3.521-3.658a3.576 3.576 0 00-3.397 1.977L9.918 6.22l-.639-1.226a3.51 3.51 0 00-3.328-1.977z\" id=\"heart-regular_svg__a\"></path></defs><use fill=\"currentColor\" fill-rule=\"evenodd\" xlink:href=\"#heart-regular_svg__a\"></use></svg></div><span>Sauvegarder</span></div></div><div class=\"block__ShadowedBlock-sc-10w6hsj-0 ContentZone__SelectModal-wghbmy-15 eUFtOa\"><div class=\"ContentZone__SelectTitle-wghbmy-13 logJyh\">Pour quelle raison souhaitez-vous masquer cette annonce ? </div><div class=\"ContentZone__SelectOption-wghbmy-14 kBiYaS\">Pas intéressé(e)</div><div class=\"ContentZone__SelectOption-wghbmy-14 kBiYaS\">Déjà visité/contacté</div><div class=\"ContentZone__SelectOption-wghbmy-14 kBiYaS\">Photo insatisfaisante/absente</div><div class=\"ContentZone__SelectOption-wghbmy-14 kBiYaS\">Localisation incomplète</div><div class=\"ContentZone__SelectOption-wghbmy-14 kBiYaS\">Autre raison</div></div><div class=\"ContentZone__SmartClassifiedContact-wghbmy-1 bqeKmt Contact__ContactContainer-sc-3d01ca-1 hVXgxb\" mode=\"small\"><a class=\"Contact__WebSiteShortcutContainer-sc-3d01ca-0 csZlpz\" href=\"http://www.flatlooker.com\" rel=\"nofollow\" target=\"_blank\"><div class=\"Icon__IconElement-sc-1xnn3zd-0 qqhlj\" color=\"#929292\" data-test=\"icon\"><svg viewbox=\"0 0 512 512\"><path d=\"M478.2 254.2c0-120.6-93.3-219.3-211.2-226.5-1.2-.3-2.5-.4-3.8-.4-1.3 0-2.7 0-4 .1-2-.1-4-.1-6.1-.1h-4.2C149.1 29.2 65.1 96.7 37.7 188.9c-.8 1.7-1.4 3.6-1.6 5.5-5.3 19.5-7.9 39.6-7.9 59.8 0 123.9 98.5 224.7 220.9 226.9h4.1c2.1 0 4.1 0 6.1-.1 1.3 0 2.6.1 3.9.1 1.3 0 2.5-.1 3.8-.4 117.9-7.2 211.2-105.8 211.2-226.5zm-416.2 0c0-13.8 1.5-27.6 4.4-41.2h56.5c-3 26.2-3.1 52.6-.4 78.8H65.7c-2.5-12.3-3.7-24.9-3.7-37.6zm92.3 0c0-13.8.8-27.5 2.6-41.2h79.5v78.8h-79.8c-1.6-12.4-2.3-25-2.3-37.6zm196-75h-80.2V64.5c35.4 12.2 65.9 55.8 80.2 114.7zm-114-112v112H163c13.4-55 41-96.7 73.3-112zm0 258.4v115.5c-33.1-15.5-61.1-58.6-74.1-115.5h74.1zm33.8 118.3V325.7h81c-13.9 60.7-44.9 105.8-81 118.2zm0-152v-78.8h86.3c1.7 13.7 2.6 27.4 2.6 41.2 0 12.6-.7 25.2-2.1 37.7l-86.8-.1zM390.5 213H440c5.6 26 5.8 52.8.7 78.8h-49.9c1.3-12.5 1.9-25.1 1.9-37.7.1-13.7-.7-27.4-2.2-41.1zm39-33.8H385c-7.9-36.4-21.3-68.6-39-93.9 37.6 21.1 66.9 54.2 83.5 93.9zm-258-99.6c-19.6 26.1-34.6 60.5-43.1 99.7H77c18.2-43.7 51.8-79.2 94.5-99.7zM75.6 325.7h52.1c8.3 40.6 23.6 76.3 43.8 103.2-43.9-21.1-78.1-58-95.9-103.2zM346 423.1c18.2-26.1 32-59.7 39.7-97.5h45.2c-16.3 41.4-46.2 75.8-84.9 97.5z\"></path></svg></div></a><div class=\"Card__Sticker-sc-7insep-1 Contact__TagExclusive-sc-3d01ca-7 gosChP\" mode=\"small\">Exclusivité</div><a class=\"AgencyLogo__AgencyLogoContainer-fcobow-0 dKHFSg\" href=\"https://www.seloger.com/professionnels/1/paris-9eme-75/agency-125638.htm?bd=Liste_annonce_annuaire_detail\" mode=\"small\" target=\"_blank\"><div class=\"AgencyLogo__Image-fcobow-1 diRrkl\"></div></a><div class=\"Contact__Buttons-sc-3d01ca-3 pKCwm\" mode=\"small\"><div class=\"Contact__ButtonContainer-sc-3d01ca-2 iklMcR\" data-test=\"button-container\"><div class=\"Contact__ButtonIcon-sc-3d01ca-6 hWcXVi Icon__IconElement-sc-1xnn3zd-0 jGTLkV\" data-test=\"icon\"><svg viewbox=\"0 0 512 512\"><g><path d=\"M391.3 382.7c-68.4-69.2-73.8-72.7-76.6-74.4-12.7-7.9-26.2-6.8-40.3 3.3-3 2.2-16.9 12.7-23.3 27.3-1.3-.6-2.5-1.2-3.7-1.9-12.6-7.3-25.8-17.9-39.3-31.6l-3.1-3.1c-13.5-13.7-23.9-27.1-30.9-39.7-.7-1.2-1.3-2.5-1.8-3.8 14.5-6.1 25.4-19.9 27.6-22.8 10.5-13.9 11.9-27.4 4.1-40.4-1.6-2.7-5-8.2-73.2-77.7-7.9-8.2-18.9-12.8-30.3-12.6-9.8.5-19.2 4.2-26.7 10.7-19.5 16.4-29.9 38.1-35.2 53.5-4.3 12.6-6.8 25.7-7.6 39-4.8 78.3 41.7 142.9 81.5 183.4l.1.1 4.3 4.4c38.4 39.1 99.3 84.7 173.9 84.7 2.7 0 5.4-.1 8.1-.2 13.3-.5 26.5-2.8 39.2-6.9 15.5-5 37.5-15 54.2-34.3 6.8-7.9 10.6-17 11.1-26.4.4-11.5-4-22.5-12.1-30.6.1 0 0 0 0 0zm-205.6-55.4c15.5 15.7 31 28.1 46 36.8 5.9 3.6 12.5 6 19.3 7.1 8.7 1.3 13.7-.9 17.5-3 5.3-3.2 9-8.6 10.9-15.8 1.1-4.4 7.8-11.5 13.3-15.5 1-.7 2.3-2.5 4.9-2.5 1.8 1.4 12.3 10.4 71.3 70.1 2 1.8 3.1 4.4 3.1 7.1-.1 2.3-1.3 4.9-3.5 7.4-12 13.8-28.4 21.2-40.2 25-10 3.2-20.4 5-30.9 5.3-67.9 3-123-39.2-158.4-75.3l-2.1-2.1c-.8-.8-1.6-1.5-2.3-2.2l.1-.1C99.4 334 58.1 277.1 62.2 210.4c.6-10.5 2.6-20.8 5.9-30.8 4-11.6 11.7-27.9 25.7-39.6 2.6-2.2 5.1-3.3 7.5-3.4h.2c2.6.1 5.1 1.3 6.9 3.2 60.2 61.4 68 71.1 69.1 72.8-.1 1-1.9 3.4-2.7 4.5-4 5.4-11.2 11.9-15.6 13-7.3 1.7-12.7 5.3-16.3 10.9-1.9 3.1-4.3 8.2-3.1 17.2 1 6.8 3.3 13.4 6.8 19.4 8.4 15.1 20.5 30.8 36 46.5l3.1 3.2zM239.1 105.8c-8.5-.9-16.1 5.3-17 13.7v.5c-.8 8.6 5.5 16.2 14.1 17h.1c73 6.5 131 64.1 138 137 .8 8 7.5 14.2 15.6 14.2.5 0 1 0 1.5-.1 8.6-.8 14.9-8.5 14.1-17.1-8.6-87.9-78.5-157.3-166.4-165.2z\"></path><path d=\"M407.5 104.2c-42-42-97.4-67.9-156.6-73.2-8.6-.8-16.2 5.6-17 14.2s5.6 16.2 14.2 17c106.4 9.5 191 93.4 201.3 199.8.8 8 7.5 14.2 15.6 14.2.5 0 1 0 1.5-.1 8.6-.8 14.9-8.5 14.1-17.1-5.7-58.5-31.6-113.2-73.1-154.8z\"></path></g></svg></div></div><div class=\"Contact__ButtonContainer-sc-3d01ca-2 iklMcR\" data-test=\"button-container\"><div class=\"Contact__ButtonIcon-sc-3d01ca-6 hWcXVi Icon__IconElement-sc-1xnn3zd-0 jGTLkV\" data-test=\"icon\"><svg viewbox=\"0 0 512 512\"><path d=\"M449.07 431.55H64.33c-29.06 0-52.63-24.37-52.63-54.44v-245c0-30.07 23.57-54.44 52.63-54.44h384.74c29.07 0 52.63 24.37 52.63 54.44v245c0 30.07-23.56 54.44-52.63 54.44zm12.37-281.73L256.7 354.24 52 149.59v229.7a12.58 12.58 0 0 0 12.37 12.52h384.7a12.58 12.58 0 0 0 12.37-12.52zm-380.8-28.33L256.7 297.35 433 121.49z\" data-name=\"R/uEA51-B-enveloppe\"></path></svg></div></div></div></div><a class=\"CoveringLink-a3s3kt-0 dXJclF\" href=\"https://www.seloger.com/annonces/locations/appartement/paris-13eme-75/dunois-bibliotheque-jeanne-d-arc/159111407.htm?projects=1&amp;types=1&amp;places=[{ci:750105}|{ci:750111}|{ci:940067}|{ci:940080}|{idq:133102}|{idq:133103}|{idq:133104}|{idq:133105}|{idq:133106}|{idq:133107}|{idq:133108}|{idq:133109}|{idq:133110}|{idq:133111}|{idq:133112}|{idq:133113}|{idq:133114}|{idq:133115}|{idq:133764}]&amp;surface=20/NaN&amp;rooms=1&amp;sort=d_dt_crea&amp;picture=15&amp;qsVersion=1.0&amp;bd=ListToDetail\" name=\"classified-link\" target=\"_blank\" z=\"1\"></a></div></div><div class=\"OptionalCriteria__Criteria-ae5ia6-1 eJJkJo\"><div class=\"OptionalCriteria__Criterion-ae5ia6-2 rqdCi\">Avec photos</div></div></div><div class=\"ListContent__SmartAdvertCardExtended-sc-1viyr2k-0 kJKgEE AdvertCard__AdvertContainer-lf3yab-0 fGDTrM\"><div class=\"block__ShadowedBlock-sc-10w6hsj-0 AdvertCard__AdvertContent-lf3yab-1 jFJvEA\"><div class=\"adunitContainer\"><div class=\"adBox\"></div></div></div></div><div class=\"block__ShadowedBlock-sc-10w6hsj-0 ListContent__SmartClassifiedExtended-sc-1viyr2k-2 iddbNe classified__ClassifiedContainer-sc-1wmlctl-0 jzFgwH Card__CardContainer-sc-7insep-7 fMfqlk\"><div class=\"classified__ContentWrapper-sc-1wmlctl-1 iFOIpl\"><div class=\"Card__MediaZone-sc-7insep-0 fPingW\"><div class=\"PhotoSlider__PhotoSliderContainer-cta2l8-0 feqESw\"></div><div class=\"MediaZone__Stickers-bd1uhq-3 iwwrzY\"></div><div class=\"MediaZone__Chips-bd1uhq-4 ifvlFB\"><div class=\"MediaZone__Chip-bd1uhq-5 eUGAIh\"><div class=\"Icon__IconElement-sc-1xnn3zd-0 iIyIAR\" color=\"white\" data-test=\"sl-ui.icon\" style=\"margin-right:6px\"><svg viewbox=\"0 0 512 512\"><path d=\"M421.5 136h-50.3c-.9-.2-1.7-.7-2.4-1.4l-13-37.6c-4.3-12.4-17.5-21.7-30.7-21.7h-143c-13.3 0-26.6 9.3-30.8 21.6l-13 37.5c-.6.8-1.4 1.3-2.3 1.6H85.6c-31.5 0-57 24.9-57 55.5v182.1c0 30.6 25.6 55.5 57 55.5h335.9c31.5 0 57.1-24.9 57.1-55.5V191.5c-.1-30.6-25.6-55.5-57.1-55.5zm26.9 237.6c0 14-12.1 25.4-26.9 25.4H85.6c-14.8 0-26.9-11.4-26.9-25.4V191.5c0-14 12.1-25.4 26.9-25.4H136c13.3 0 26.6-9.3 30.8-21.7l12.9-37.4c.6-.8 1.5-1.4 2.4-1.6h142.7c.9.2 1.7.7 2.4 1.4l13 37.6c4.2 12.4 17.5 21.7 30.8 21.7h50.4c14.9 0 26.9 11.4 26.9 25.4l.1 182.1z\"></path><path d=\"M253.5 180.3c-54.7 0-99 44.3-99 99s44.3 99 99 99 99-44.3 99-98.9c0-54.7-44.3-99-99-99.1zm0 168c-38.1 0-68.9-30.8-68.9-68.9s30.8-68.9 68.9-68.9 68.9 30.8 68.9 68.9c0 38-30.8 68.8-68.9 68.9zM396.2 180.3c-17.6 0-31.8 14.2-31.8 31.8s14.2 31.8 31.8 31.8 31.8-14.2 31.8-31.8-14.2-31.8-31.8-31.8z\"></path></svg></div>3</div></div></div><div class=\"Card__ContentZone-sc-7insep-3 gfORyM\"><div class=\"ContentZone__DetailTop-wghbmy-6 dPYwvZ\"><div><div class=\"ContentZone__Title-wghbmy-7 joPkKZ\">Appartement</div><ul class=\"ContentZone__Tags-wghbmy-8 eJYQQA\"><li>1 p</li><li>25 m²</li><li>1 asc</li></ul></div><div class=\"Price__PriceContainer-sc-1g9fitq-0 eOPseM\"><div class=\"Price__Label-sc-1g9fitq-1 mVWFG\">870 €</div><div class=\"Price__Expose-sc-1g9fitq-4 eCwDJa\">cc</div><div class=\"Price__Suffix-sc-1g9fitq-3 hYaChC\">/mois</div></div></div><div class=\"ContentZone__Address-wghbmy-2 fRAjHL\"><span>Paris 13ème</span><span>Dunois-Bibliothèque-Jeanne-d'Arc</span></div><div class=\"ContentZone__ButtonSection-wghbmy-4 fgfCuS\"><div class=\"ContentZone__Button-wghbmy-5 ePrJwG\"><div class=\"ContentZone__StyledIcon-wghbmy-3 jIMdci Icon__IconElement-sc-1xnn3zd-0 jGTLkV\" data-test=\"sl-ui.icon\"><svg height=\"1em\" viewbox=\"0 0 20 20\" width=\"1em\"><path d=\"M18.146 2.146a.5.5 0 01.708.707l-16 16a.5.5 0 11-.708-.707l3.728-3.728c-1.421-.893-2.696-2.106-3.782-3.643a.503.503 0 01-.003-.574c.15-.215 3.718-5.277 8.886-5.188.018-.003 1.388-.088 3.335.97zm-1.794 5.258c.88.76 1.739 1.697 2.549 2.784a.5.5 0 01-.001.598c-.161.216-3.938 5.204-8.231 5.204l-.186-.003h-.034c-.148-.002-.776-.029-1.666-.265a.5.5 0 01.256-.967c.895.238 1.472.237 1.456.232 3.276.107 6.5-3.45 7.372-4.507a16.03 16.03 0 00-2.168-2.32.5.5 0 01.653-.756zm-2.26 2.226c.075.281.113.571.113.862 0 1.935-1.658 3.508-3.697 3.508-.22 0-.433-.018-.643-.053a.5.5 0 11.164-.986c.156.025.316.039.479.039 1.487 0 2.697-1.125 2.697-2.508 0-.205-.026-.408-.08-.605a.501.501 0 01.968-.257zM10.95 6.01h-.054c-3.958 0-6.971 3.461-7.774 4.482 1.01 1.36 2.179 2.43 3.473 3.206l1.033-1.033c-.521-.618-.817-1.37-.817-2.173 0-1.935 1.658-3.508 3.697-3.508a3.83 3.83 0 012.138.662l.927-.926c-1.525-.764-2.553-.708-2.568-.709h-.109zm-.442 1.974c-1.488 0-2.697 1.125-2.697 2.508 0 .535.187 1.042.522 1.468l3.595-3.595a2.835 2.835 0 00-1.42-.38z\" fill=\"currentColor\" fill-rule=\"evenodd\"></path></svg></div><span>Masquer</span></div><div class=\"ContentZone__Button-wghbmy-5 dxnwuI\"><div class=\"ContentZone__StyledIcon-wghbmy-3 jIMdci Icon__IconElement-sc-1xnn3zd-0 jGTLkV\" data-test=\"sl-ui.icon\"><svg height=\"1em\" viewbox=\"0 0 20 20\" width=\"1em\"><defs><path d=\"M9.976 18.5l-.706-.484c-5.564-3.54-8.64-7.87-8.234-11.568.13-2.704 2.267-4.854 4.915-4.944a4.9 4.9 0 014.025 1.84A5.014 5.014 0 0114 1.513c2.67.1 4.825 2.266 4.963 4.993.407 3.609-2.69 7.91-8.282 11.578l-.706.415zM5.95 3.017c-1.888.1-3.391 1.65-3.474 3.58-.338 3.123 2.468 6.9 7.499 10.143 4.963-3.243 7.827-7.099 7.498-10.065-.058-1.972-1.593-3.566-3.521-3.658a3.576 3.576 0 00-3.397 1.977L9.918 6.22l-.639-1.226a3.51 3.51 0 00-3.328-1.977z\" id=\"heart-regular_svg__a\"></path></defs><use fill=\"currentColor\" fill-rule=\"evenodd\" xlink:href=\"#heart-regular_svg__a\"></use></svg></div><span>Sauvegarder</span></div></div><div class=\"block__ShadowedBlock-sc-10w6hsj-0 ContentZone__SelectModal-wghbmy-15 eUFtOa\"><div class=\"ContentZone__SelectTitle-wghbmy-13 logJyh\">Pour quelle raison souhaitez-vous masquer cette annonce ? </div><div class=\"ContentZone__SelectOption-wghbmy-14 kBiYaS\">Pas intéressé(e)</div><div class=\"ContentZone__SelectOption-wghbmy-14 kBiYaS\">Déjà visité/contacté</div><div class=\"ContentZone__SelectOption-wghbmy-14 kBiYaS\">Photo insatisfaisante/absente</div><div class=\"ContentZone__SelectOption-wghbmy-14 kBiYaS\">Localisation incomplète</div><div class=\"ContentZone__SelectOption-wghbmy-14 kBiYaS\">Autre raison</div></div><div class=\"ContentZone__SmartClassifiedContact-wghbmy-1 bqeKmt Contact__ContactContainer-sc-3d01ca-1 hVXgxb\" mode=\"small\"><div class=\"Card__Sticker-sc-7insep-1 Contact__TagExclusive-sc-3d01ca-7 gosChP\" mode=\"small\">Exclusivité</div><a class=\"AgencyLogo__AgencyLogoContainer-fcobow-0 dKHFSg\" href=\"https://www.seloger.com/professionnels/1/paris-19eme-75/agency-56305.htm?bd=Liste_annonce_annuaire_detail\" mode=\"small\" target=\"_blank\"><div class=\"AgencyLogo__Image-fcobow-1 loCGWp\"></div></a><div class=\"Contact__Buttons-sc-3d01ca-3 pKCwm\" mode=\"small\"><div class=\"Contact__ButtonContainer-sc-3d01ca-2 iklMcR\" data-test=\"button-container\"><div class=\"Contact__ButtonIcon-sc-3d01ca-6 hWcXVi Icon__IconElement-sc-1xnn3zd-0 jGTLkV\" data-test=\"icon\"><svg viewbox=\"0 0 512 512\"><g><path d=\"M391.3 382.7c-68.4-69.2-73.8-72.7-76.6-74.4-12.7-7.9-26.2-6.8-40.3 3.3-3 2.2-16.9 12.7-23.3 27.3-1.3-.6-2.5-1.2-3.7-1.9-12.6-7.3-25.8-17.9-39.3-31.6l-3.1-3.1c-13.5-13.7-23.9-27.1-30.9-39.7-.7-1.2-1.3-2.5-1.8-3.8 14.5-6.1 25.4-19.9 27.6-22.8 10.5-13.9 11.9-27.4 4.1-40.4-1.6-2.7-5-8.2-73.2-77.7-7.9-8.2-18.9-12.8-30.3-12.6-9.8.5-19.2 4.2-26.7 10.7-19.5 16.4-29.9 38.1-35.2 53.5-4.3 12.6-6.8 25.7-7.6 39-4.8 78.3 41.7 142.9 81.5 183.4l.1.1 4.3 4.4c38.4 39.1 99.3 84.7 173.9 84.7 2.7 0 5.4-.1 8.1-.2 13.3-.5 26.5-2.8 39.2-6.9 15.5-5 37.5-15 54.2-34.3 6.8-7.9 10.6-17 11.1-26.4.4-11.5-4-22.5-12.1-30.6.1 0 0 0 0 0zm-205.6-55.4c15.5 15.7 31 28.1 46 36.8 5.9 3.6 12.5 6 19.3 7.1 8.7 1.3 13.7-.9 17.5-3 5.3-3.2 9-8.6 10.9-15.8 1.1-4.4 7.8-11.5 13.3-15.5 1-.7 2.3-2.5 4.9-2.5 1.8 1.4 12.3 10.4 71.3 70.1 2 1.8 3.1 4.4 3.1 7.1-.1 2.3-1.3 4.9-3.5 7.4-12 13.8-28.4 21.2-40.2 25-10 3.2-20.4 5-30.9 5.3-67.9 3-123-39.2-158.4-75.3l-2.1-2.1c-.8-.8-1.6-1.5-2.3-2.2l.1-.1C99.4 334 58.1 277.1 62.2 210.4c.6-10.5 2.6-20.8 5.9-30.8 4-11.6 11.7-27.9 25.7-39.6 2.6-2.2 5.1-3.3 7.5-3.4h.2c2.6.1 5.1 1.3 6.9 3.2 60.2 61.4 68 71.1 69.1 72.8-.1 1-1.9 3.4-2.7 4.5-4 5.4-11.2 11.9-15.6 13-7.3 1.7-12.7 5.3-16.3 10.9-1.9 3.1-4.3 8.2-3.1 17.2 1 6.8 3.3 13.4 6.8 19.4 8.4 15.1 20.5 30.8 36 46.5l3.1 3.2zM239.1 105.8c-8.5-.9-16.1 5.3-17 13.7v.5c-.8 8.6 5.5 16.2 14.1 17h.1c73 6.5 131 64.1 138 137 .8 8 7.5 14.2 15.6 14.2.5 0 1 0 1.5-.1 8.6-.8 14.9-8.5 14.1-17.1-8.6-87.9-78.5-157.3-166.4-165.2z\"></path><path d=\"M407.5 104.2c-42-42-97.4-67.9-156.6-73.2-8.6-.8-16.2 5.6-17 14.2s5.6 16.2 14.2 17c106.4 9.5 191 93.4 201.3 199.8.8 8 7.5 14.2 15.6 14.2.5 0 1 0 1.5-.1 8.6-.8 14.9-8.5 14.1-17.1-5.7-58.5-31.6-113.2-73.1-154.8z\"></path></g></svg></div></div><div class=\"Contact__ButtonContainer-sc-3d01ca-2 iklMcR\" data-test=\"button-container\"><div class=\"Contact__ButtonIcon-sc-3d01ca-6 hWcXVi Icon__IconElement-sc-1xnn3zd-0 jGTLkV\" data-test=\"icon\"><svg viewbox=\"0 0 512 512\"><path d=\"M449.07 431.55H64.33c-29.06 0-52.63-24.37-52.63-54.44v-245c0-30.07 23.57-54.44 52.63-54.44h384.74c29.07 0 52.63 24.37 52.63 54.44v245c0 30.07-23.56 54.44-52.63 54.44zm12.37-281.73L256.7 354.24 52 149.59v229.7a12.58 12.58 0 0 0 12.37 12.52h384.7a12.58 12.58 0 0 0 12.37-12.52zm-380.8-28.33L256.7 297.35 433 121.49z\" data-name=\"R/uEA51-B-enveloppe\"></path></svg></div></div></div></div><a class=\"CoveringLink-a3s3kt-0 dXJclF\" href=\"https://www.seloger.com/annonces/locations/appartement/paris-13eme-75/dunois-bibliotheque-jeanne-d-arc/159029323.htm?projects=1&amp;types=1&amp;places=[{ci:750105}|{ci:750111}|{ci:940067}|{ci:940080}|{idq:133102}|{idq:133103}|{idq:133104}|{idq:133105}|{idq:133106}|{idq:133107}|{idq:133108}|{idq:133109}|{idq:133110}|{idq:133111}|{idq:133112}|{idq:133113}|{idq:133114}|{idq:133115}|{idq:133764}]&amp;surface=20/NaN&amp;rooms=1&amp;sort=d_dt_crea&amp;picture=15&amp;qsVersion=1.0&amp;bd=ListToDetail\" name=\"classified-link\" target=\"_blank\" z=\"1\"></a></div></div><div class=\"OptionalCriteria__Criteria-ae5ia6-1 eJJkJo\"><div class=\"OptionalCriteria__Criterion-ae5ia6-2 rqdCi\">Avec photos</div></div></div><div class=\"block__ShadowedBlock-sc-10w6hsj-0 ListContent__SmartClassifiedExtended-sc-1viyr2k-2 iddbNe classified__ClassifiedContainer-sc-1wmlctl-0 jzFgwH Card__CardContainer-sc-7insep-7 fMfqlk\"><div class=\"classified__ContentWrapper-sc-1wmlctl-1 iFOIpl\"><div class=\"Card__MediaZone-sc-7insep-0 fPingW\"><div class=\"PhotoSlider__PhotoSliderContainer-cta2l8-0 feqESw\"></div><div class=\"MediaZone__Stickers-bd1uhq-3 iwwrzY\"></div><div class=\"MediaZone__Chips-bd1uhq-4 ifvlFB\"><div class=\"MediaZone__Chip-bd1uhq-5 eUGAIh\"><div class=\"Icon__IconElement-sc-1xnn3zd-0 iIyIAR\" color=\"white\" data-test=\"sl-ui.icon\" style=\"margin-right:6px\"><svg viewbox=\"0 0 512 512\"><path d=\"M421.5 136h-50.3c-.9-.2-1.7-.7-2.4-1.4l-13-37.6c-4.3-12.4-17.5-21.7-30.7-21.7h-143c-13.3 0-26.6 9.3-30.8 21.6l-13 37.5c-.6.8-1.4 1.3-2.3 1.6H85.6c-31.5 0-57 24.9-57 55.5v182.1c0 30.6 25.6 55.5 57 55.5h335.9c31.5 0 57.1-24.9 57.1-55.5V191.5c-.1-30.6-25.6-55.5-57.1-55.5zm26.9 237.6c0 14-12.1 25.4-26.9 25.4H85.6c-14.8 0-26.9-11.4-26.9-25.4V191.5c0-14 12.1-25.4 26.9-25.4H136c13.3 0 26.6-9.3 30.8-21.7l12.9-37.4c.6-.8 1.5-1.4 2.4-1.6h142.7c.9.2 1.7.7 2.4 1.4l13 37.6c4.2 12.4 17.5 21.7 30.8 21.7h50.4c14.9 0 26.9 11.4 26.9 25.4l.1 182.1z\"></path><path d=\"M253.5 180.3c-54.7 0-99 44.3-99 99s44.3 99 99 99 99-44.3 99-98.9c0-54.7-44.3-99-99-99.1zm0 168c-38.1 0-68.9-30.8-68.9-68.9s30.8-68.9 68.9-68.9 68.9 30.8 68.9 68.9c0 38-30.8 68.8-68.9 68.9zM396.2 180.3c-17.6 0-31.8 14.2-31.8 31.8s14.2 31.8 31.8 31.8 31.8-14.2 31.8-31.8-14.2-31.8-31.8-31.8z\"></path></svg></div>5</div></div></div><div class=\"Card__ContentZone-sc-7insep-3 gfORyM\"><div class=\"ContentZone__DetailTop-wghbmy-6 dPYwvZ\"><div><div class=\"ContentZone__Title-wghbmy-7 joPkKZ\">Appartement</div><ul class=\"ContentZone__Tags-wghbmy-8 eJYQQA\"><li>1 p</li><li>32 m²</li><li>1 asc</li></ul></div><div class=\"Price__PriceContainer-sc-1g9fitq-0 eOPseM\"><div class=\"Price__Label-sc-1g9fitq-1 mVWFG\">1 135 €</div><div class=\"Price__Expose-sc-1g9fitq-4 eCwDJa\">cc</div><div class=\"Price__Suffix-sc-1g9fitq-3 hYaChC\">/mois</div></div></div><div class=\"ContentZone__Address-wghbmy-2 fRAjHL\"><span>Paris 11ème</span><span>Léon-Blum Folie-Regnault</span></div><div class=\"ContentZone__ButtonSection-wghbmy-4 fgfCuS\"><div class=\"ContentZone__Button-wghbmy-5 ePrJwG\"><div class=\"ContentZone__StyledIcon-wghbmy-3 jIMdci Icon__IconElement-sc-1xnn3zd-0 jGTLkV\" data-test=\"sl-ui.icon\"><svg height=\"1em\" viewbox=\"0 0 20 20\" width=\"1em\"><path d=\"M18.146 2.146a.5.5 0 01.708.707l-16 16a.5.5 0 11-.708-.707l3.728-3.728c-1.421-.893-2.696-2.106-3.782-3.643a.503.503 0 01-.003-.574c.15-.215 3.718-5.277 8.886-5.188.018-.003 1.388-.088 3.335.97zm-1.794 5.258c.88.76 1.739 1.697 2.549 2.784a.5.5 0 01-.001.598c-.161.216-3.938 5.204-8.231 5.204l-.186-.003h-.034c-.148-.002-.776-.029-1.666-.265a.5.5 0 01.256-.967c.895.238 1.472.237 1.456.232 3.276.107 6.5-3.45 7.372-4.507a16.03 16.03 0 00-2.168-2.32.5.5 0 01.653-.756zm-2.26 2.226c.075.281.113.571.113.862 0 1.935-1.658 3.508-3.697 3.508-.22 0-.433-.018-.643-.053a.5.5 0 11.164-.986c.156.025.316.039.479.039 1.487 0 2.697-1.125 2.697-2.508 0-.205-.026-.408-.08-.605a.501.501 0 01.968-.257zM10.95 6.01h-.054c-3.958 0-6.971 3.461-7.774 4.482 1.01 1.36 2.179 2.43 3.473 3.206l1.033-1.033c-.521-.618-.817-1.37-.817-2.173 0-1.935 1.658-3.508 3.697-3.508a3.83 3.83 0 012.138.662l.927-.926c-1.525-.764-2.553-.708-2.568-.709h-.109zm-.442 1.974c-1.488 0-2.697 1.125-2.697 2.508 0 .535.187 1.042.522 1.468l3.595-3.595a2.835 2.835 0 00-1.42-.38z\" fill=\"currentColor\" fill-rule=\"evenodd\"></path></svg></div><span>Masquer</span></div><div class=\"ContentZone__Button-wghbmy-5 dxnwuI\"><div class=\"ContentZone__StyledIcon-wghbmy-3 jIMdci Icon__IconElement-sc-1xnn3zd-0 jGTLkV\" data-test=\"sl-ui.icon\"><svg height=\"1em\" viewbox=\"0 0 20 20\" width=\"1em\"><defs><path d=\"M9.976 18.5l-.706-.484c-5.564-3.54-8.64-7.87-8.234-11.568.13-2.704 2.267-4.854 4.915-4.944a4.9 4.9 0 014.025 1.84A5.014 5.014 0 0114 1.513c2.67.1 4.825 2.266 4.963 4.993.407 3.609-2.69 7.91-8.282 11.578l-.706.415zM5.95 3.017c-1.888.1-3.391 1.65-3.474 3.58-.338 3.123 2.468 6.9 7.499 10.143 4.963-3.243 7.827-7.099 7.498-10.065-.058-1.972-1.593-3.566-3.521-3.658a3.576 3.576 0 00-3.397 1.977L9.918 6.22l-.639-1.226a3.51 3.51 0 00-3.328-1.977z\" id=\"heart-regular_svg__a\"></path></defs><use fill=\"currentColor\" fill-rule=\"evenodd\" xlink:href=\"#heart-regular_svg__a\"></use></svg></div><span>Sauvegarder</span></div></div><div class=\"block__ShadowedBlock-sc-10w6hsj-0 ContentZone__SelectModal-wghbmy-15 eUFtOa\"><div class=\"ContentZone__SelectTitle-wghbmy-13 logJyh\">Pour quelle raison souhaitez-vous masquer cette annonce ? </div><div class=\"ContentZone__SelectOption-wghbmy-14 kBiYaS\">Pas intéressé(e)</div><div class=\"ContentZone__SelectOption-wghbmy-14 kBiYaS\">Déjà visité/contacté</div><div class=\"ContentZone__SelectOption-wghbmy-14 kBiYaS\">Photo insatisfaisante/absente</div><div class=\"ContentZone__SelectOption-wghbmy-14 kBiYaS\">Localisation incomplète</div><div class=\"ContentZone__SelectOption-wghbmy-14 kBiYaS\">Autre raison</div></div><div class=\"ContentZone__SmartClassifiedContact-wghbmy-1 bqeKmt Contact__ContactContainer-sc-3d01ca-1 hVXgxb\" mode=\"small\"><a class=\"Contact__WebSiteShortcutContainer-sc-3d01ca-0 csZlpz\" href=\"http://www.oceimmobilier.com\" rel=\"nofollow\" target=\"_blank\"><div class=\"Icon__IconElement-sc-1xnn3zd-0 qqhlj\" color=\"#929292\" data-test=\"icon\"><svg viewbox=\"0 0 512 512\"><path d=\"M478.2 254.2c0-120.6-93.3-219.3-211.2-226.5-1.2-.3-2.5-.4-3.8-.4-1.3 0-2.7 0-4 .1-2-.1-4-.1-6.1-.1h-4.2C149.1 29.2 65.1 96.7 37.7 188.9c-.8 1.7-1.4 3.6-1.6 5.5-5.3 19.5-7.9 39.6-7.9 59.8 0 123.9 98.5 224.7 220.9 226.9h4.1c2.1 0 4.1 0 6.1-.1 1.3 0 2.6.1 3.9.1 1.3 0 2.5-.1 3.8-.4 117.9-7.2 211.2-105.8 211.2-226.5zm-416.2 0c0-13.8 1.5-27.6 4.4-41.2h56.5c-3 26.2-3.1 52.6-.4 78.8H65.7c-2.5-12.3-3.7-24.9-3.7-37.6zm92.3 0c0-13.8.8-27.5 2.6-41.2h79.5v78.8h-79.8c-1.6-12.4-2.3-25-2.3-37.6zm196-75h-80.2V64.5c35.4 12.2 65.9 55.8 80.2 114.7zm-114-112v112H163c13.4-55 41-96.7 73.3-112zm0 258.4v115.5c-33.1-15.5-61.1-58.6-74.1-115.5h74.1zm33.8 118.3V325.7h81c-13.9 60.7-44.9 105.8-81 118.2zm0-152v-78.8h86.3c1.7 13.7 2.6 27.4 2.6 41.2 0 12.6-.7 25.2-2.1 37.7l-86.8-.1zM390.5 213H440c5.6 26 5.8 52.8.7 78.8h-49.9c1.3-12.5 1.9-25.1 1.9-37.7.1-13.7-.7-27.4-2.2-41.1zm39-33.8H385c-7.9-36.4-21.3-68.6-39-93.9 37.6 21.1 66.9 54.2 83.5 93.9zm-258-99.6c-19.6 26.1-34.6 60.5-43.1 99.7H77c18.2-43.7 51.8-79.2 94.5-99.7zM75.6 325.7h52.1c8.3 40.6 23.6 76.3 43.8 103.2-43.9-21.1-78.1-58-95.9-103.2zM346 423.1c18.2-26.1 32-59.7 39.7-97.5h45.2c-16.3 41.4-46.2 75.8-84.9 97.5z\"></path></svg></div></a><div class=\"Card__Sticker-sc-7insep-1 Contact__TagExclusive-sc-3d01ca-7 gosChP\" mode=\"small\">Exclusivité</div><a class=\"AgencyLogo__AgencyLogoContainer-fcobow-0 dKHFSg\" href=\"https://www.seloger.com/professionnels/1/paris-11eme-75/agency-55495.htm?bd=Liste_annonce_annuaire_detail\" mode=\"small\" target=\"_blank\"><div class=\"AgencyLogo__Image-fcobow-1 bvedfY\"></div></a><div class=\"Contact__Buttons-sc-3d01ca-3 pKCwm\" mode=\"small\"><div class=\"Contact__ButtonContainer-sc-3d01ca-2 iklMcR\" data-test=\"button-container\"><div class=\"Contact__ButtonIcon-sc-3d01ca-6 hWcXVi Icon__IconElement-sc-1xnn3zd-0 jGTLkV\" data-test=\"icon\"><svg viewbox=\"0 0 512 512\"><g><path d=\"M391.3 382.7c-68.4-69.2-73.8-72.7-76.6-74.4-12.7-7.9-26.2-6.8-40.3 3.3-3 2.2-16.9 12.7-23.3 27.3-1.3-.6-2.5-1.2-3.7-1.9-12.6-7.3-25.8-17.9-39.3-31.6l-3.1-3.1c-13.5-13.7-23.9-27.1-30.9-39.7-.7-1.2-1.3-2.5-1.8-3.8 14.5-6.1 25.4-19.9 27.6-22.8 10.5-13.9 11.9-27.4 4.1-40.4-1.6-2.7-5-8.2-73.2-77.7-7.9-8.2-18.9-12.8-30.3-12.6-9.8.5-19.2 4.2-26.7 10.7-19.5 16.4-29.9 38.1-35.2 53.5-4.3 12.6-6.8 25.7-7.6 39-4.8 78.3 41.7 142.9 81.5 183.4l.1.1 4.3 4.4c38.4 39.1 99.3 84.7 173.9 84.7 2.7 0 5.4-.1 8.1-.2 13.3-.5 26.5-2.8 39.2-6.9 15.5-5 37.5-15 54.2-34.3 6.8-7.9 10.6-17 11.1-26.4.4-11.5-4-22.5-12.1-30.6.1 0 0 0 0 0zm-205.6-55.4c15.5 15.7 31 28.1 46 36.8 5.9 3.6 12.5 6 19.3 7.1 8.7 1.3 13.7-.9 17.5-3 5.3-3.2 9-8.6 10.9-15.8 1.1-4.4 7.8-11.5 13.3-15.5 1-.7 2.3-2.5 4.9-2.5 1.8 1.4 12.3 10.4 71.3 70.1 2 1.8 3.1 4.4 3.1 7.1-.1 2.3-1.3 4.9-3.5 7.4-12 13.8-28.4 21.2-40.2 25-10 3.2-20.4 5-30.9 5.3-67.9 3-123-39.2-158.4-75.3l-2.1-2.1c-.8-.8-1.6-1.5-2.3-2.2l.1-.1C99.4 334 58.1 277.1 62.2 210.4c.6-10.5 2.6-20.8 5.9-30.8 4-11.6 11.7-27.9 25.7-39.6 2.6-2.2 5.1-3.3 7.5-3.4h.2c2.6.1 5.1 1.3 6.9 3.2 60.2 61.4 68 71.1 69.1 72.8-.1 1-1.9 3.4-2.7 4.5-4 5.4-11.2 11.9-15.6 13-7.3 1.7-12.7 5.3-16.3 10.9-1.9 3.1-4.3 8.2-3.1 17.2 1 6.8 3.3 13.4 6.8 19.4 8.4 15.1 20.5 30.8 36 46.5l3.1 3.2zM239.1 105.8c-8.5-.9-16.1 5.3-17 13.7v.5c-.8 8.6 5.5 16.2 14.1 17h.1c73 6.5 131 64.1 138 137 .8 8 7.5 14.2 15.6 14.2.5 0 1 0 1.5-.1 8.6-.8 14.9-8.5 14.1-17.1-8.6-87.9-78.5-157.3-166.4-165.2z\"></path><path d=\"M407.5 104.2c-42-42-97.4-67.9-156.6-73.2-8.6-.8-16.2 5.6-17 14.2s5.6 16.2 14.2 17c106.4 9.5 191 93.4 201.3 199.8.8 8 7.5 14.2 15.6 14.2.5 0 1 0 1.5-.1 8.6-.8 14.9-8.5 14.1-17.1-5.7-58.5-31.6-113.2-73.1-154.8z\"></path></g></svg></div></div><div class=\"Contact__ButtonContainer-sc-3d01ca-2 iklMcR\" data-test=\"button-container\"><div class=\"Contact__ButtonIcon-sc-3d01ca-6 hWcXVi Icon__IconElement-sc-1xnn3zd-0 jGTLkV\" data-test=\"icon\"><svg viewbox=\"0 0 512 512\"><path d=\"M449.07 431.55H64.33c-29.06 0-52.63-24.37-52.63-54.44v-245c0-30.07 23.57-54.44 52.63-54.44h384.74c29.07 0 52.63 24.37 52.63 54.44v245c0 30.07-23.56 54.44-52.63 54.44zm12.37-281.73L256.7 354.24 52 149.59v229.7a12.58 12.58 0 0 0 12.37 12.52h384.7a12.58 12.58 0 0 0 12.37-12.52zm-380.8-28.33L256.7 297.35 433 121.49z\" data-name=\"R/uEA51-B-enveloppe\"></path></svg></div></div></div></div><a class=\"CoveringLink-a3s3kt-0 dXJclF\" href=\"https://www.seloger.com/annonces/locations/appartement/paris-11eme-75/leon-blum-folie-regnault/159110739.htm?projects=1&amp;types=1&amp;places=[{ci:750105}|{ci:750111}|{ci:940067}|{ci:940080}|{idq:133102}|{idq:133103}|{idq:133104}|{idq:133105}|{idq:133106}|{idq:133107}|{idq:133108}|{idq:133109}|{idq:133110}|{idq:133111}|{idq:133112}|{idq:133113}|{idq:133114}|{idq:133115}|{idq:133764}]&amp;surface=20/NaN&amp;rooms=1&amp;sort=d_dt_crea&amp;picture=15&amp;qsVersion=1.0&amp;bd=ListToDetail\" name=\"classified-link\" target=\"_blank\" z=\"1\"></a></div></div><div class=\"OptionalCriteria__Criteria-ae5ia6-1 eJJkJo\"><div class=\"OptionalCriteria__Criterion-ae5ia6-2 rqdCi\">Avec photos</div></div></div><div class=\"block__ShadowedBlock-sc-10w6hsj-0 ListContent__SmartClassifiedExtended-sc-1viyr2k-2 iddbNe classified__ClassifiedContainer-sc-1wmlctl-0 jzFgwH Card__CardContainer-sc-7insep-7 fMfqlk\"><div class=\"classified__ContentWrapper-sc-1wmlctl-1 iFOIpl\"><div class=\"Card__MediaZone-sc-7insep-0 fPingW\"><div class=\"PhotoSlider__PhotoSliderContainer-cta2l8-0 feqESw\"></div><div class=\"MediaZone__RichMediaLayer-bd1uhq-0 kqxCNL\" type=\"d3Visit\"></div><div class=\"MediaZone__Stickers-bd1uhq-3 iwwrzY\"></div><div class=\"MediaZone__Chips-bd1uhq-4 ifvlFB\"><div class=\"MediaZone__Chip-bd1uhq-5 eUGAIh\"><div class=\"Icon__IconElement-sc-1xnn3zd-0 iIyIAR\" color=\"white\" data-test=\"sl-ui.icon\" style=\"margin-right:6px\"><svg viewbox=\"0 0 512 512\"><path d=\"M421.5 136h-50.3c-.9-.2-1.7-.7-2.4-1.4l-13-37.6c-4.3-12.4-17.5-21.7-30.7-21.7h-143c-13.3 0-26.6 9.3-30.8 21.6l-13 37.5c-.6.8-1.4 1.3-2.3 1.6H85.6c-31.5 0-57 24.9-57 55.5v182.1c0 30.6 25.6 55.5 57 55.5h335.9c31.5 0 57.1-24.9 57.1-55.5V191.5c-.1-30.6-25.6-55.5-57.1-55.5zm26.9 237.6c0 14-12.1 25.4-26.9 25.4H85.6c-14.8 0-26.9-11.4-26.9-25.4V191.5c0-14 12.1-25.4 26.9-25.4H136c13.3 0 26.6-9.3 30.8-21.7l12.9-37.4c.6-.8 1.5-1.4 2.4-1.6h142.7c.9.2 1.7.7 2.4 1.4l13 37.6c4.2 12.4 17.5 21.7 30.8 21.7h50.4c14.9 0 26.9 11.4 26.9 25.4l.1 182.1z\"></path><path d=\"M253.5 180.3c-54.7 0-99 44.3-99 99s44.3 99 99 99 99-44.3 99-98.9c0-54.7-44.3-99-99-99.1zm0 168c-38.1 0-68.9-30.8-68.9-68.9s30.8-68.9 68.9-68.9 68.9 30.8 68.9 68.9c0 38-30.8 68.8-68.9 68.9zM396.2 180.3c-17.6 0-31.8 14.2-31.8 31.8s14.2 31.8 31.8 31.8 31.8-14.2 31.8-31.8-14.2-31.8-31.8-31.8z\"></path></svg></div>17</div><div class=\"MediaZone__Chip-bd1uhq-5 eUGAIh\"><div class=\"Icon__IconElement-sc-1xnn3zd-0 iIyIAR\" color=\"white\" data-test=\"sl-ui.icon\" style=\"margin-right:6px\"><svg viewbox=\"0 0 512 512\"><path d=\"M224.6 157.7c.2 7.8-2.5 15.4-7.6 21.3-5.9 6.5-13.5 11-22 13.1 22.3 3.1 33.2 13.8 33.2 32 .3 11.5-5.1 22.5-14.6 29.1-12.2 7.8-26.6 11.5-41 10.7-6.7.1-13.3-.5-19.9-1.7-6.8-1.2-13.5-3-19.9-5.6V227c5.6 2.9 11.6 5.2 17.7 6.8 5.6 1.2 11.3 1.9 17 1.9 5.9.4 11.8-.7 17.2-3.2 6-4.3 7.4-12.6 3.1-18.6-.1-.2-.3-.4-.4-.5-2.6-2.3-5.8-3.8-9.2-4.4-5.4-1.1-11-1.6-16.5-1.4h-8.2v-27.2h8.5c17.7 0 27.6-4.9 27.6-14.3.1-3.1-1.5-6.1-4.1-7.8-3.4-1.7-7.1-2.5-10.9-2.2-9.6.2-18.9 3.3-26.7 8.8l-15-24.3c6.9-4.9 14.5-8.6 22.6-10.9 7.9-2 16.1-3.1 24.3-3.2 11.5-.5 22.9 2.3 32.7 8.2 7.5 5.1 12 13.7 11.6 22.8l.5.2zm145.3 189.4c-10-.4-17.8-8.9-17.4-18.9.3-7.5 5.2-14.1 12.4-16.5 47.3-14.1 78.1-36.9 78.1-57.7 0-14.3-14.3-29.6-39-42.4l-4.1-2.2c-8.9-4.4-12.6-15.3-8.2-24.2 4.3-8.9 15-12.7 23.9-8.4.1.1.2.1.3.2l4.9 2.4c37.9 19.6 58.7 46.1 58.7 74.7 0 39.1-38.1 72.8-104.1 92.4-1.9.4-3.7.6-5.5.6zm6-153c1.2 18.9-5.5 37.5-18.4 51.4-14.1 12.8-32.9 19.4-51.9 18.2h-43.7V128.6h46.3c17.7-.8 35 5.1 48.5 16.5 12.7 12.8 19.1 30.5 17.7 48.5l1.5.5zM244 362.8c-123.2-2.4-214.7-48.4-214.7-109.5 0-32.3 25.7-61.1 72.8-81.5 9.4-4.1 20.3.2 24.4 9.6s-.2 20.3-9.6 24.4c-31.8 13.8-50.4 31.5-50.4 48.5 0 33 75.2 70.2 177.6 72.6v-23.6c0-4.4 2.7-8.4 6.8-10 4-1.7 8.7-.7 11.7 2.4l41.2 41.3c1.9 1.9 3 4.4 3.1 7 0 2.8-1.1 5.5-3.1 7.5l-41.2 41.2c-2.1 2.1-4.9 3.2-7.8 3.1-1.3.2-2.6.2-3.9 0-4.1-1.6-6.8-5.5-6.8-9.9v-23.1zm94.1-168.7c.8-9.7-1.8-19.4-7.3-27.4-5.6-6.2-13.8-9.4-22.1-8.7H298v75h8.2c9.2.9 18.2-2.7 24.2-9.7 5.8-8.6 8.5-18.8 7.8-29.1\"></path></svg></div>Visite 3D</div></div></div><div class=\"Card__ContentZone-sc-7insep-3 gfORyM\"><div class=\"ContentZone__DetailTop-wghbmy-6 dPYwvZ\"><div><div class=\"ContentZone__Title-wghbmy-7 joPkKZ\">Appartement</div><ul class=\"ContentZone__Tags-wghbmy-8 eJYQQA\"><li>1 p</li><li>20 m²</li></ul></div><div class=\"Price__PriceContainer-sc-1g9fitq-0 eOPseM\"><div class=\"Price__Label-sc-1g9fitq-1 mVWFG\">891 €</div><div class=\"Price__Expose-sc-1g9fitq-4 eCwDJa\">cc</div><div class=\"Price__Suffix-sc-1g9fitq-3 hYaChC\">/mois</div></div></div><div class=\"ContentZone__Address-wghbmy-2 fRAjHL\"><span>Paris 11ème</span><span>République-Saint Ambroise</span></div><div class=\"ContentZone__ButtonSection-wghbmy-4 fgfCuS\"><div class=\"ContentZone__Button-wghbmy-5 ePrJwG\"><div class=\"ContentZone__StyledIcon-wghbmy-3 jIMdci Icon__IconElement-sc-1xnn3zd-0 jGTLkV\" data-test=\"sl-ui.icon\"><svg height=\"1em\" viewbox=\"0 0 20 20\" width=\"1em\"><path d=\"M18.146 2.146a.5.5 0 01.708.707l-16 16a.5.5 0 11-.708-.707l3.728-3.728c-1.421-.893-2.696-2.106-3.782-3.643a.503.503 0 01-.003-.574c.15-.215 3.718-5.277 8.886-5.188.018-.003 1.388-.088 3.335.97zm-1.794 5.258c.88.76 1.739 1.697 2.549 2.784a.5.5 0 01-.001.598c-.161.216-3.938 5.204-8.231 5.204l-.186-.003h-.034c-.148-.002-.776-.029-1.666-.265a.5.5 0 01.256-.967c.895.238 1.472.237 1.456.232 3.276.107 6.5-3.45 7.372-4.507a16.03 16.03 0 00-2.168-2.32.5.5 0 01.653-.756zm-2.26 2.226c.075.281.113.571.113.862 0 1.935-1.658 3.508-3.697 3.508-.22 0-.433-.018-.643-.053a.5.5 0 11.164-.986c.156.025.316.039.479.039 1.487 0 2.697-1.125 2.697-2.508 0-.205-.026-.408-.08-.605a.501.501 0 01.968-.257zM10.95 6.01h-.054c-3.958 0-6.971 3.461-7.774 4.482 1.01 1.36 2.179 2.43 3.473 3.206l1.033-1.033c-.521-.618-.817-1.37-.817-2.173 0-1.935 1.658-3.508 3.697-3.508a3.83 3.83 0 012.138.662l.927-.926c-1.525-.764-2.553-.708-2.568-.709h-.109zm-.442 1.974c-1.488 0-2.697 1.125-2.697 2.508 0 .535.187 1.042.522 1.468l3.595-3.595a2.835 2.835 0 00-1.42-.38z\" fill=\"currentColor\" fill-rule=\"evenodd\"></path></svg></div><span>Masquer</span></div><div class=\"ContentZone__Button-wghbmy-5 dxnwuI\"><div class=\"ContentZone__StyledIcon-wghbmy-3 jIMdci Icon__IconElement-sc-1xnn3zd-0 jGTLkV\" data-test=\"sl-ui.icon\"><svg height=\"1em\" viewbox=\"0 0 20 20\" width=\"1em\"><defs><path d=\"M9.976 18.5l-.706-.484c-5.564-3.54-8.64-7.87-8.234-11.568.13-2.704 2.267-4.854 4.915-4.944a4.9 4.9 0 014.025 1.84A5.014 5.014 0 0114 1.513c2.67.1 4.825 2.266 4.963 4.993.407 3.609-2.69 7.91-8.282 11.578l-.706.415zM5.95 3.017c-1.888.1-3.391 1.65-3.474 3.58-.338 3.123 2.468 6.9 7.499 10.143 4.963-3.243 7.827-7.099 7.498-10.065-.058-1.972-1.593-3.566-3.521-3.658a3.576 3.576 0 00-3.397 1.977L9.918 6.22l-.639-1.226a3.51 3.51 0 00-3.328-1.977z\" id=\"heart-regular_svg__a\"></path></defs><use fill=\"currentColor\" fill-rule=\"evenodd\" xlink:href=\"#heart-regular_svg__a\"></use></svg></div><span>Sauvegarder</span></div></div><div class=\"block__ShadowedBlock-sc-10w6hsj-0 ContentZone__SelectModal-wghbmy-15 eUFtOa\"><div class=\"ContentZone__SelectTitle-wghbmy-13 logJyh\">Pour quelle raison souhaitez-vous masquer cette annonce ? </div><div class=\"ContentZone__SelectOption-wghbmy-14 kBiYaS\">Pas intéressé(e)</div><div class=\"ContentZone__SelectOption-wghbmy-14 kBiYaS\">Déjà visité/contacté</div><div class=\"ContentZone__SelectOption-wghbmy-14 kBiYaS\">Photo insatisfaisante/absente</div><div class=\"ContentZone__SelectOption-wghbmy-14 kBiYaS\">Localisation incomplète</div><div class=\"ContentZone__SelectOption-wghbmy-14 kBiYaS\">Autre raison</div></div><div class=\"ContentZone__SmartClassifiedContact-wghbmy-1 bqeKmt Contact__ContactContainer-sc-3d01ca-1 hVXgxb\" mode=\"small\"><a class=\"Contact__WebSiteShortcutContainer-sc-3d01ca-0 csZlpz\" href=\"http://www.morningcroissant.fr\" rel=\"nofollow\" target=\"_blank\"><div class=\"Icon__IconElement-sc-1xnn3zd-0 qqhlj\" color=\"#929292\" data-test=\"icon\"><svg viewbox=\"0 0 512 512\"><path d=\"M478.2 254.2c0-120.6-93.3-219.3-211.2-226.5-1.2-.3-2.5-.4-3.8-.4-1.3 0-2.7 0-4 .1-2-.1-4-.1-6.1-.1h-4.2C149.1 29.2 65.1 96.7 37.7 188.9c-.8 1.7-1.4 3.6-1.6 5.5-5.3 19.5-7.9 39.6-7.9 59.8 0 123.9 98.5 224.7 220.9 226.9h4.1c2.1 0 4.1 0 6.1-.1 1.3 0 2.6.1 3.9.1 1.3 0 2.5-.1 3.8-.4 117.9-7.2 211.2-105.8 211.2-226.5zm-416.2 0c0-13.8 1.5-27.6 4.4-41.2h56.5c-3 26.2-3.1 52.6-.4 78.8H65.7c-2.5-12.3-3.7-24.9-3.7-37.6zm92.3 0c0-13.8.8-27.5 2.6-41.2h79.5v78.8h-79.8c-1.6-12.4-2.3-25-2.3-37.6zm196-75h-80.2V64.5c35.4 12.2 65.9 55.8 80.2 114.7zm-114-112v112H163c13.4-55 41-96.7 73.3-112zm0 258.4v115.5c-33.1-15.5-61.1-58.6-74.1-115.5h74.1zm33.8 118.3V325.7h81c-13.9 60.7-44.9 105.8-81 118.2zm0-152v-78.8h86.3c1.7 13.7 2.6 27.4 2.6 41.2 0 12.6-.7 25.2-2.1 37.7l-86.8-.1zM390.5 213H440c5.6 26 5.8 52.8.7 78.8h-49.9c1.3-12.5 1.9-25.1 1.9-37.7.1-13.7-.7-27.4-2.2-41.1zm39-33.8H385c-7.9-36.4-21.3-68.6-39-93.9 37.6 21.1 66.9 54.2 83.5 93.9zm-258-99.6c-19.6 26.1-34.6 60.5-43.1 99.7H77c18.2-43.7 51.8-79.2 94.5-99.7zM75.6 325.7h52.1c8.3 40.6 23.6 76.3 43.8 103.2-43.9-21.1-78.1-58-95.9-103.2zM346 423.1c18.2-26.1 32-59.7 39.7-97.5h45.2c-16.3 41.4-46.2 75.8-84.9 97.5z\"></path></svg></div></a><a class=\"AgencyLogo__AgencyLogoContainer-fcobow-0 dKHFSg\" href=\"https://www.seloger.com/professionnels/1/paris-2eme-75/agency-120034.htm?bd=Liste_annonce_annuaire_detail\" mode=\"small\" target=\"_blank\"><div class=\"AgencyLogo__Image-fcobow-1 fsBbUt\"></div></a><div class=\"Contact__Buttons-sc-3d01ca-3 pKCwm\" mode=\"small\"><div class=\"Contact__ButtonContainer-sc-3d01ca-2 iklMcR\" data-test=\"button-container\"><div class=\"Contact__ButtonIcon-sc-3d01ca-6 hWcXVi Icon__IconElement-sc-1xnn3zd-0 jGTLkV\" data-test=\"icon\"><svg viewbox=\"0 0 512 512\"><g><path d=\"M391.3 382.7c-68.4-69.2-73.8-72.7-76.6-74.4-12.7-7.9-26.2-6.8-40.3 3.3-3 2.2-16.9 12.7-23.3 27.3-1.3-.6-2.5-1.2-3.7-1.9-12.6-7.3-25.8-17.9-39.3-31.6l-3.1-3.1c-13.5-13.7-23.9-27.1-30.9-39.7-.7-1.2-1.3-2.5-1.8-3.8 14.5-6.1 25.4-19.9 27.6-22.8 10.5-13.9 11.9-27.4 4.1-40.4-1.6-2.7-5-8.2-73.2-77.7-7.9-8.2-18.9-12.8-30.3-12.6-9.8.5-19.2 4.2-26.7 10.7-19.5 16.4-29.9 38.1-35.2 53.5-4.3 12.6-6.8 25.7-7.6 39-4.8 78.3 41.7 142.9 81.5 183.4l.1.1 4.3 4.4c38.4 39.1 99.3 84.7 173.9 84.7 2.7 0 5.4-.1 8.1-.2 13.3-.5 26.5-2.8 39.2-6.9 15.5-5 37.5-15 54.2-34.3 6.8-7.9 10.6-17 11.1-26.4.4-11.5-4-22.5-12.1-30.6.1 0 0 0 0 0zm-205.6-55.4c15.5 15.7 31 28.1 46 36.8 5.9 3.6 12.5 6 19.3 7.1 8.7 1.3 13.7-.9 17.5-3 5.3-3.2 9-8.6 10.9-15.8 1.1-4.4 7.8-11.5 13.3-15.5 1-.7 2.3-2.5 4.9-2.5 1.8 1.4 12.3 10.4 71.3 70.1 2 1.8 3.1 4.4 3.1 7.1-.1 2.3-1.3 4.9-3.5 7.4-12 13.8-28.4 21.2-40.2 25-10 3.2-20.4 5-30.9 5.3-67.9 3-123-39.2-158.4-75.3l-2.1-2.1c-.8-.8-1.6-1.5-2.3-2.2l.1-.1C99.4 334 58.1 277.1 62.2 210.4c.6-10.5 2.6-20.8 5.9-30.8 4-11.6 11.7-27.9 25.7-39.6 2.6-2.2 5.1-3.3 7.5-3.4h.2c2.6.1 5.1 1.3 6.9 3.2 60.2 61.4 68 71.1 69.1 72.8-.1 1-1.9 3.4-2.7 4.5-4 5.4-11.2 11.9-15.6 13-7.3 1.7-12.7 5.3-16.3 10.9-1.9 3.1-4.3 8.2-3.1 17.2 1 6.8 3.3 13.4 6.8 19.4 8.4 15.1 20.5 30.8 36 46.5l3.1 3.2zM239.1 105.8c-8.5-.9-16.1 5.3-17 13.7v.5c-.8 8.6 5.5 16.2 14.1 17h.1c73 6.5 131 64.1 138 137 .8 8 7.5 14.2 15.6 14.2.5 0 1 0 1.5-.1 8.6-.8 14.9-8.5 14.1-17.1-8.6-87.9-78.5-157.3-166.4-165.2z\"></path><path d=\"M407.5 104.2c-42-42-97.4-67.9-156.6-73.2-8.6-.8-16.2 5.6-17 14.2s5.6 16.2 14.2 17c106.4 9.5 191 93.4 201.3 199.8.8 8 7.5 14.2 15.6 14.2.5 0 1 0 1.5-.1 8.6-.8 14.9-8.5 14.1-17.1-5.7-58.5-31.6-113.2-73.1-154.8z\"></path></g></svg></div></div><div class=\"Contact__ButtonContainer-sc-3d01ca-2 iklMcR\" data-test=\"button-container\"><div class=\"Contact__ButtonIcon-sc-3d01ca-6 hWcXVi Icon__IconElement-sc-1xnn3zd-0 jGTLkV\" data-test=\"icon\"><svg viewbox=\"0 0 512 512\"><path d=\"M449.07 431.55H64.33c-29.06 0-52.63-24.37-52.63-54.44v-245c0-30.07 23.57-54.44 52.63-54.44h384.74c29.07 0 52.63 24.37 52.63 54.44v245c0 30.07-23.56 54.44-52.63 54.44zm12.37-281.73L256.7 354.24 52 149.59v229.7a12.58 12.58 0 0 0 12.37 12.52h384.7a12.58 12.58 0 0 0 12.37-12.52zm-380.8-28.33L256.7 297.35 433 121.49z\" data-name=\"R/uEA51-B-enveloppe\"></path></svg></div></div></div></div><a class=\"CoveringLink-a3s3kt-0 dXJclF\" href=\"https://www.seloger.com/annonces/locations/appartement/paris-11eme-75/republique-saint-ambroise/159103113.htm?projects=1&amp;types=1&amp;places=[{ci:750105}|{ci:750111}|{ci:940067}|{ci:940080}|{idq:133102}|{idq:133103}|{idq:133104}|{idq:133105}|{idq:133106}|{idq:133107}|{idq:133108}|{idq:133109}|{idq:133110}|{idq:133111}|{idq:133112}|{idq:133113}|{idq:133114}|{idq:133115}|{idq:133764}]&amp;surface=20/NaN&amp;rooms=1&amp;sort=d_dt_crea&amp;picture=15&amp;qsVersion=1.0&amp;bd=ListToDetail\" name=\"classified-link\" target=\"_blank\" z=\"1\"></a></div></div><div class=\"OptionalCriteria__Criteria-ae5ia6-1 eJJkJo\"><div class=\"OptionalCriteria__Criterion-ae5ia6-2 rqdCi\">Avec photos</div></div></div><div class=\"block__ShadowedBlock-sc-10w6hsj-0 ListContent__SmartClassifiedExtended-sc-1viyr2k-2 iddbNe classified__ClassifiedContainer-sc-1wmlctl-0 jzFgwH Card__CardContainer-sc-7insep-7 fMfqlk\"><div class=\"classified__ContentWrapper-sc-1wmlctl-1 iFOIpl\"><div class=\"Card__MediaZone-sc-7insep-0 fPingW\"><div class=\"PhotoSlider__PhotoSliderContainer-cta2l8-0 feqESw\"></div><div class=\"MediaZone__Stickers-bd1uhq-3 iwwrzY\"></div><div class=\"MediaZone__Chips-bd1uhq-4 ifvlFB\"><div class=\"MediaZone__Chip-bd1uhq-5 eUGAIh\"><div class=\"Icon__IconElement-sc-1xnn3zd-0 iIyIAR\" color=\"white\" data-test=\"sl-ui.icon\" style=\"margin-right:6px\"><svg viewbox=\"0 0 512 512\"><path d=\"M421.5 136h-50.3c-.9-.2-1.7-.7-2.4-1.4l-13-37.6c-4.3-12.4-17.5-21.7-30.7-21.7h-143c-13.3 0-26.6 9.3-30.8 21.6l-13 37.5c-.6.8-1.4 1.3-2.3 1.6H85.6c-31.5 0-57 24.9-57 55.5v182.1c0 30.6 25.6 55.5 57 55.5h335.9c31.5 0 57.1-24.9 57.1-55.5V191.5c-.1-30.6-25.6-55.5-57.1-55.5zm26.9 237.6c0 14-12.1 25.4-26.9 25.4H85.6c-14.8 0-26.9-11.4-26.9-25.4V191.5c0-14 12.1-25.4 26.9-25.4H136c13.3 0 26.6-9.3 30.8-21.7l12.9-37.4c.6-.8 1.5-1.4 2.4-1.6h142.7c.9.2 1.7.7 2.4 1.4l13 37.6c4.2 12.4 17.5 21.7 30.8 21.7h50.4c14.9 0 26.9 11.4 26.9 25.4l.1 182.1z\"></path><path d=\"M253.5 180.3c-54.7 0-99 44.3-99 99s44.3 99 99 99 99-44.3 99-98.9c0-54.7-44.3-99-99-99.1zm0 168c-38.1 0-68.9-30.8-68.9-68.9s30.8-68.9 68.9-68.9 68.9 30.8 68.9 68.9c0 38-30.8 68.8-68.9 68.9zM396.2 180.3c-17.6 0-31.8 14.2-31.8 31.8s14.2 31.8 31.8 31.8 31.8-14.2 31.8-31.8-14.2-31.8-31.8-31.8z\"></path></svg></div>2</div></div></div><div class=\"Card__ContentZone-sc-7insep-3 gfORyM\"><div class=\"ContentZone__DetailTop-wghbmy-6 dPYwvZ\"><div><div class=\"ContentZone__Title-wghbmy-7 joPkKZ\">Appartement</div><ul class=\"ContentZone__Tags-wghbmy-8 eJYQQA\"><li>1 p</li><li>23 m²</li></ul></div><div class=\"Price__PriceContainer-sc-1g9fitq-0 eOPseM\"><div class=\"Price__Label-sc-1g9fitq-1 mVWFG\">950 €</div><div class=\"Price__Expose-sc-1g9fitq-4 eCwDJa\">cc</div><div class=\"Price__Suffix-sc-1g9fitq-3 hYaChC\">/mois</div></div></div><div class=\"ContentZone__Address-wghbmy-2 fRAjHL\"><span>Paris 11ème</span><span>Bastille-Popincourt</span></div><div class=\"ContentZone__ButtonSection-wghbmy-4 fgfCuS\"><div class=\"ContentZone__Button-wghbmy-5 ePrJwG\"><div class=\"ContentZone__StyledIcon-wghbmy-3 jIMdci Icon__IconElement-sc-1xnn3zd-0 jGTLkV\" data-test=\"sl-ui.icon\"><svg height=\"1em\" viewbox=\"0 0 20 20\" width=\"1em\"><path d=\"M18.146 2.146a.5.5 0 01.708.707l-16 16a.5.5 0 11-.708-.707l3.728-3.728c-1.421-.893-2.696-2.106-3.782-3.643a.503.503 0 01-.003-.574c.15-.215 3.718-5.277 8.886-5.188.018-.003 1.388-.088 3.335.97zm-1.794 5.258c.88.76 1.739 1.697 2.549 2.784a.5.5 0 01-.001.598c-.161.216-3.938 5.204-8.231 5.204l-.186-.003h-.034c-.148-.002-.776-.029-1.666-.265a.5.5 0 01.256-.967c.895.238 1.472.237 1.456.232 3.276.107 6.5-3.45 7.372-4.507a16.03 16.03 0 00-2.168-2.32.5.5 0 01.653-.756zm-2.26 2.226c.075.281.113.571.113.862 0 1.935-1.658 3.508-3.697 3.508-.22 0-.433-.018-.643-.053a.5.5 0 11.164-.986c.156.025.316.039.479.039 1.487 0 2.697-1.125 2.697-2.508 0-.205-.026-.408-.08-.605a.501.501 0 01.968-.257zM10.95 6.01h-.054c-3.958 0-6.971 3.461-7.774 4.482 1.01 1.36 2.179 2.43 3.473 3.206l1.033-1.033c-.521-.618-.817-1.37-.817-2.173 0-1.935 1.658-3.508 3.697-3.508a3.83 3.83 0 012.138.662l.927-.926c-1.525-.764-2.553-.708-2.568-.709h-.109zm-.442 1.974c-1.488 0-2.697 1.125-2.697 2.508 0 .535.187 1.042.522 1.468l3.595-3.595a2.835 2.835 0 00-1.42-.38z\" fill=\"currentColor\" fill-rule=\"evenodd\"></path></svg></div><span>Masquer</span></div><div class=\"ContentZone__Button-wghbmy-5 dxnwuI\"><div class=\"ContentZone__StyledIcon-wghbmy-3 jIMdci Icon__IconElement-sc-1xnn3zd-0 jGTLkV\" data-test=\"sl-ui.icon\"><svg height=\"1em\" viewbox=\"0 0 20 20\" width=\"1em\"><defs><path d=\"M9.976 18.5l-.706-.484c-5.564-3.54-8.64-7.87-8.234-11.568.13-2.704 2.267-4.854 4.915-4.944a4.9 4.9 0 014.025 1.84A5.014 5.014 0 0114 1.513c2.67.1 4.825 2.266 4.963 4.993.407 3.609-2.69 7.91-8.282 11.578l-.706.415zM5.95 3.017c-1.888.1-3.391 1.65-3.474 3.58-.338 3.123 2.468 6.9 7.499 10.143 4.963-3.243 7.827-7.099 7.498-10.065-.058-1.972-1.593-3.566-3.521-3.658a3.576 3.576 0 00-3.397 1.977L9.918 6.22l-.639-1.226a3.51 3.51 0 00-3.328-1.977z\" id=\"heart-regular_svg__a\"></path></defs><use fill=\"currentColor\" fill-rule=\"evenodd\" xlink:href=\"#heart-regular_svg__a\"></use></svg></div><span>Sauvegarder</span></div></div><div class=\"block__ShadowedBlock-sc-10w6hsj-0 ContentZone__SelectModal-wghbmy-15 eUFtOa\"><div class=\"ContentZone__SelectTitle-wghbmy-13 logJyh\">Pour quelle raison souhaitez-vous masquer cette annonce ? </div><div class=\"ContentZone__SelectOption-wghbmy-14 kBiYaS\">Pas intéressé(e)</div><div class=\"ContentZone__SelectOption-wghbmy-14 kBiYaS\">Déjà visité/contacté</div><div class=\"ContentZone__SelectOption-wghbmy-14 kBiYaS\">Photo insatisfaisante/absente</div><div class=\"ContentZone__SelectOption-wghbmy-14 kBiYaS\">Localisation incomplète</div><div class=\"ContentZone__SelectOption-wghbmy-14 kBiYaS\">Autre raison</div></div><div class=\"ContentZone__SmartClassifiedContact-wghbmy-1 bqeKmt Contact__ContactContainer-sc-3d01ca-1 hVXgxb\" mode=\"small\"><a class=\"AgencyLogo__AgencyLogoContainer-fcobow-0 hjyUfp\" mode=\"small\" target=\"_blank\"><div class=\"AgencyLogo__Placeholder-fcobow-2 jRuXFY\">Annonce de particulier</div></a><div class=\"Contact__Buttons-sc-3d01ca-3 pKCwm\" mode=\"small\"><div class=\"Contact__ButtonContainer-sc-3d01ca-2 iklMcR\" data-test=\"button-container\"><div class=\"Contact__ButtonIcon-sc-3d01ca-6 hWcXVi Icon__IconElement-sc-1xnn3zd-0 jGTLkV\" data-test=\"icon\"><svg viewbox=\"0 0 512 512\"><g><path d=\"M391.3 382.7c-68.4-69.2-73.8-72.7-76.6-74.4-12.7-7.9-26.2-6.8-40.3 3.3-3 2.2-16.9 12.7-23.3 27.3-1.3-.6-2.5-1.2-3.7-1.9-12.6-7.3-25.8-17.9-39.3-31.6l-3.1-3.1c-13.5-13.7-23.9-27.1-30.9-39.7-.7-1.2-1.3-2.5-1.8-3.8 14.5-6.1 25.4-19.9 27.6-22.8 10.5-13.9 11.9-27.4 4.1-40.4-1.6-2.7-5-8.2-73.2-77.7-7.9-8.2-18.9-12.8-30.3-12.6-9.8.5-19.2 4.2-26.7 10.7-19.5 16.4-29.9 38.1-35.2 53.5-4.3 12.6-6.8 25.7-7.6 39-4.8 78.3 41.7 142.9 81.5 183.4l.1.1 4.3 4.4c38.4 39.1 99.3 84.7 173.9 84.7 2.7 0 5.4-.1 8.1-.2 13.3-.5 26.5-2.8 39.2-6.9 15.5-5 37.5-15 54.2-34.3 6.8-7.9 10.6-17 11.1-26.4.4-11.5-4-22.5-12.1-30.6.1 0 0 0 0 0zm-205.6-55.4c15.5 15.7 31 28.1 46 36.8 5.9 3.6 12.5 6 19.3 7.1 8.7 1.3 13.7-.9 17.5-3 5.3-3.2 9-8.6 10.9-15.8 1.1-4.4 7.8-11.5 13.3-15.5 1-.7 2.3-2.5 4.9-2.5 1.8 1.4 12.3 10.4 71.3 70.1 2 1.8 3.1 4.4 3.1 7.1-.1 2.3-1.3 4.9-3.5 7.4-12 13.8-28.4 21.2-40.2 25-10 3.2-20.4 5-30.9 5.3-67.9 3-123-39.2-158.4-75.3l-2.1-2.1c-.8-.8-1.6-1.5-2.3-2.2l.1-.1C99.4 334 58.1 277.1 62.2 210.4c.6-10.5 2.6-20.8 5.9-30.8 4-11.6 11.7-27.9 25.7-39.6 2.6-2.2 5.1-3.3 7.5-3.4h.2c2.6.1 5.1 1.3 6.9 3.2 60.2 61.4 68 71.1 69.1 72.8-.1 1-1.9 3.4-2.7 4.5-4 5.4-11.2 11.9-15.6 13-7.3 1.7-12.7 5.3-16.3 10.9-1.9 3.1-4.3 8.2-3.1 17.2 1 6.8 3.3 13.4 6.8 19.4 8.4 15.1 20.5 30.8 36 46.5l3.1 3.2zM239.1 105.8c-8.5-.9-16.1 5.3-17 13.7v.5c-.8 8.6 5.5 16.2 14.1 17h.1c73 6.5 131 64.1 138 137 .8 8 7.5 14.2 15.6 14.2.5 0 1 0 1.5-.1 8.6-.8 14.9-8.5 14.1-17.1-8.6-87.9-78.5-157.3-166.4-165.2z\"></path><path d=\"M407.5 104.2c-42-42-97.4-67.9-156.6-73.2-8.6-.8-16.2 5.6-17 14.2s5.6 16.2 14.2 17c106.4 9.5 191 93.4 201.3 199.8.8 8 7.5 14.2 15.6 14.2.5 0 1 0 1.5-.1 8.6-.8 14.9-8.5 14.1-17.1-5.7-58.5-31.6-113.2-73.1-154.8z\"></path></g></svg></div></div><div class=\"Contact__ButtonContainer-sc-3d01ca-2 iklMcR\" data-test=\"button-container\"><div class=\"Contact__ButtonIcon-sc-3d01ca-6 hWcXVi Icon__IconElement-sc-1xnn3zd-0 jGTLkV\" data-test=\"icon\"><svg viewbox=\"0 0 512 512\"><path d=\"M449.07 431.55H64.33c-29.06 0-52.63-24.37-52.63-54.44v-245c0-30.07 23.57-54.44 52.63-54.44h384.74c29.07 0 52.63 24.37 52.63 54.44v245c0 30.07-23.56 54.44-52.63 54.44zm12.37-281.73L256.7 354.24 52 149.59v229.7a12.58 12.58 0 0 0 12.37 12.52h384.7a12.58 12.58 0 0 0 12.37-12.52zm-380.8-28.33L256.7 297.35 433 121.49z\" data-name=\"R/uEA51-B-enveloppe\"></path></svg></div></div></div></div><a class=\"CoveringLink-a3s3kt-0 dXJclF\" href=\"https://www.seloger.com/annonces/locations/appartement/paris-11eme-75/bastille-popincourt/159102961.htm?projects=1&amp;types=1&amp;places=[{ci:750105}|{ci:750111}|{ci:940067}|{ci:940080}|{idq:133102}|{idq:133103}|{idq:133104}|{idq:133105}|{idq:133106}|{idq:133107}|{idq:133108}|{idq:133109}|{idq:133110}|{idq:133111}|{idq:133112}|{idq:133113}|{idq:133114}|{idq:133115}|{idq:133764}]&amp;surface=20/NaN&amp;rooms=1&amp;sort=d_dt_crea&amp;picture=15&amp;qsVersion=1.0&amp;bd=ListToDetail\" name=\"classified-link\" target=\"_blank\" z=\"1\"></a></div></div><div class=\"OptionalCriteria__Criteria-ae5ia6-1 eJJkJo\"><div class=\"OptionalCriteria__Criterion-ae5ia6-2 rqdCi\">Avec photos</div></div></div><a class=\"ListContent__SmartMasterVignetteExtended-sc-1viyr2k-1 bXMlD MasterVignette__MasterVignetteContainer-sc-7mm8hh-0 bYZlBU\" href=\"http://www.icfhabitat.fr/novedis/?CMP=mastervignette&amp;pdb=0&amp;nbd=1\" target=\"_blank\"><div class=\"MasterVignette__PlaceHolder-sc-7mm8hh-1 irmzMw\"></div></a><div class=\"block__ShadowedBlock-sc-10w6hsj-0 ListContent__SmartClassifiedExtended-sc-1viyr2k-2 iddbNe classified__ClassifiedContainer-sc-1wmlctl-0 jzFgwH Card__CardContainer-sc-7insep-7 fMfqlk\"><div class=\"classified__ContentWrapper-sc-1wmlctl-1 iFOIpl\"><div class=\"Card__MediaZone-sc-7insep-0 fPingW\"><div class=\"PhotoSlider__PhotoSliderContainer-cta2l8-0 feqESw\"></div><div class=\"MediaZone__Stickers-bd1uhq-3 iwwrzY\"></div><div class=\"MediaZone__Chips-bd1uhq-4 ifvlFB\"><div class=\"MediaZone__Chip-bd1uhq-5 eUGAIh\"><div class=\"Icon__IconElement-sc-1xnn3zd-0 iIyIAR\" color=\"white\" data-test=\"sl-ui.icon\" style=\"margin-right:6px\"><svg viewbox=\"0 0 512 512\"><path d=\"M421.5 136h-50.3c-.9-.2-1.7-.7-2.4-1.4l-13-37.6c-4.3-12.4-17.5-21.7-30.7-21.7h-143c-13.3 0-26.6 9.3-30.8 21.6l-13 37.5c-.6.8-1.4 1.3-2.3 1.6H85.6c-31.5 0-57 24.9-57 55.5v182.1c0 30.6 25.6 55.5 57 55.5h335.9c31.5 0 57.1-24.9 57.1-55.5V191.5c-.1-30.6-25.6-55.5-57.1-55.5zm26.9 237.6c0 14-12.1 25.4-26.9 25.4H85.6c-14.8 0-26.9-11.4-26.9-25.4V191.5c0-14 12.1-25.4 26.9-25.4H136c13.3 0 26.6-9.3 30.8-21.7l12.9-37.4c.6-.8 1.5-1.4 2.4-1.6h142.7c.9.2 1.7.7 2.4 1.4l13 37.6c4.2 12.4 17.5 21.7 30.8 21.7h50.4c14.9 0 26.9 11.4 26.9 25.4l.1 182.1z\"></path><path d=\"M253.5 180.3c-54.7 0-99 44.3-99 99s44.3 99 99 99 99-44.3 99-98.9c0-54.7-44.3-99-99-99.1zm0 168c-38.1 0-68.9-30.8-68.9-68.9s30.8-68.9 68.9-68.9 68.9 30.8 68.9 68.9c0 38-30.8 68.8-68.9 68.9zM396.2 180.3c-17.6 0-31.8 14.2-31.8 31.8s14.2 31.8 31.8 31.8 31.8-14.2 31.8-31.8-14.2-31.8-31.8-31.8z\"></path></svg></div>7</div></div></div><div class=\"Card__ContentZone-sc-7insep-3 gfORyM\"><div class=\"ContentZone__DetailTop-wghbmy-6 dPYwvZ\"><div><div class=\"ContentZone__Title-wghbmy-7 joPkKZ\">Appartement</div><ul class=\"ContentZone__Tags-wghbmy-8 eJYQQA\"><li>1 p</li><li>23,87 m²</li><li>1 asc</li></ul></div><div class=\"Price__PriceContainer-sc-1g9fitq-0 eOPseM\"><div class=\"Price__Label-sc-1g9fitq-1 mVWFG\">755 €</div><div class=\"Price__Expose-sc-1g9fitq-4 eCwDJa\">cc</div><div class=\"Price__Suffix-sc-1g9fitq-3 hYaChC\">/mois</div></div></div><div class=\"ContentZone__Address-wghbmy-2 fRAjHL\"><span>Paris 13ème</span><span>Buttes Aux Cailles-Glacière</span></div><div class=\"ContentZone__ButtonSection-wghbmy-4 fgfCuS\"><div class=\"ContentZone__Button-wghbmy-5 ePrJwG\"><div class=\"ContentZone__StyledIcon-wghbmy-3 jIMdci Icon__IconElement-sc-1xnn3zd-0 jGTLkV\" data-test=\"sl-ui.icon\"><svg height=\"1em\" viewbox=\"0 0 20 20\" width=\"1em\"><path d=\"M18.146 2.146a.5.5 0 01.708.707l-16 16a.5.5 0 11-.708-.707l3.728-3.728c-1.421-.893-2.696-2.106-3.782-3.643a.503.503 0 01-.003-.574c.15-.215 3.718-5.277 8.886-5.188.018-.003 1.388-.088 3.335.97zm-1.794 5.258c.88.76 1.739 1.697 2.549 2.784a.5.5 0 01-.001.598c-.161.216-3.938 5.204-8.231 5.204l-.186-.003h-.034c-.148-.002-.776-.029-1.666-.265a.5.5 0 01.256-.967c.895.238 1.472.237 1.456.232 3.276.107 6.5-3.45 7.372-4.507a16.03 16.03 0 00-2.168-2.32.5.5 0 01.653-.756zm-2.26 2.226c.075.281.113.571.113.862 0 1.935-1.658 3.508-3.697 3.508-.22 0-.433-.018-.643-.053a.5.5 0 11.164-.986c.156.025.316.039.479.039 1.487 0 2.697-1.125 2.697-2.508 0-.205-.026-.408-.08-.605a.501.501 0 01.968-.257zM10.95 6.01h-.054c-3.958 0-6.971 3.461-7.774 4.482 1.01 1.36 2.179 2.43 3.473 3.206l1.033-1.033c-.521-.618-.817-1.37-.817-2.173 0-1.935 1.658-3.508 3.697-3.508a3.83 3.83 0 012.138.662l.927-.926c-1.525-.764-2.553-.708-2.568-.709h-.109zm-.442 1.974c-1.488 0-2.697 1.125-2.697 2.508 0 .535.187 1.042.522 1.468l3.595-3.595a2.835 2.835 0 00-1.42-.38z\" fill=\"currentColor\" fill-rule=\"evenodd\"></path></svg></div><span>Masquer</span></div><div class=\"ContentZone__Button-wghbmy-5 dxnwuI\"><div class=\"ContentZone__StyledIcon-wghbmy-3 jIMdci Icon__IconElement-sc-1xnn3zd-0 jGTLkV\" data-test=\"sl-ui.icon\"><svg height=\"1em\" viewbox=\"0 0 20 20\" width=\"1em\"><defs><path d=\"M9.976 18.5l-.706-.484c-5.564-3.54-8.64-7.87-8.234-11.568.13-2.704 2.267-4.854 4.915-4.944a4.9 4.9 0 014.025 1.84A5.014 5.014 0 0114 1.513c2.67.1 4.825 2.266 4.963 4.993.407 3.609-2.69 7.91-8.282 11.578l-.706.415zM5.95 3.017c-1.888.1-3.391 1.65-3.474 3.58-.338 3.123 2.468 6.9 7.499 10.143 4.963-3.243 7.827-7.099 7.498-10.065-.058-1.972-1.593-3.566-3.521-3.658a3.576 3.576 0 00-3.397 1.977L9.918 6.22l-.639-1.226a3.51 3.51 0 00-3.328-1.977z\" id=\"heart-regular_svg__a\"></path></defs><use fill=\"currentColor\" fill-rule=\"evenodd\" xlink:href=\"#heart-regular_svg__a\"></use></svg></div><span>Sauvegarder</span></div></div><div class=\"block__ShadowedBlock-sc-10w6hsj-0 ContentZone__SelectModal-wghbmy-15 eUFtOa\"><div class=\"ContentZone__SelectTitle-wghbmy-13 logJyh\">Pour quelle raison souhaitez-vous masquer cette annonce ? </div><div class=\"ContentZone__SelectOption-wghbmy-14 kBiYaS\">Pas intéressé(e)</div><div class=\"ContentZone__SelectOption-wghbmy-14 kBiYaS\">Déjà visité/contacté</div><div class=\"ContentZone__SelectOption-wghbmy-14 kBiYaS\">Photo insatisfaisante/absente</div><div class=\"ContentZone__SelectOption-wghbmy-14 kBiYaS\">Localisation incomplète</div><div class=\"ContentZone__SelectOption-wghbmy-14 kBiYaS\">Autre raison</div></div><div class=\"ContentZone__SmartClassifiedContact-wghbmy-1 bqeKmt Contact__ContactContainer-sc-3d01ca-1 hVXgxb\" mode=\"small\"><a class=\"Contact__WebSiteShortcutContainer-sc-3d01ca-0 csZlpz\" href=\"http://www.orpi.com/perspective\" rel=\"nofollow\" target=\"_blank\"><div class=\"Icon__IconElement-sc-1xnn3zd-0 qqhlj\" color=\"#929292\" data-test=\"icon\"><svg viewbox=\"0 0 512 512\"><path d=\"M478.2 254.2c0-120.6-93.3-219.3-211.2-226.5-1.2-.3-2.5-.4-3.8-.4-1.3 0-2.7 0-4 .1-2-.1-4-.1-6.1-.1h-4.2C149.1 29.2 65.1 96.7 37.7 188.9c-.8 1.7-1.4 3.6-1.6 5.5-5.3 19.5-7.9 39.6-7.9 59.8 0 123.9 98.5 224.7 220.9 226.9h4.1c2.1 0 4.1 0 6.1-.1 1.3 0 2.6.1 3.9.1 1.3 0 2.5-.1 3.8-.4 117.9-7.2 211.2-105.8 211.2-226.5zm-416.2 0c0-13.8 1.5-27.6 4.4-41.2h56.5c-3 26.2-3.1 52.6-.4 78.8H65.7c-2.5-12.3-3.7-24.9-3.7-37.6zm92.3 0c0-13.8.8-27.5 2.6-41.2h79.5v78.8h-79.8c-1.6-12.4-2.3-25-2.3-37.6zm196-75h-80.2V64.5c35.4 12.2 65.9 55.8 80.2 114.7zm-114-112v112H163c13.4-55 41-96.7 73.3-112zm0 258.4v115.5c-33.1-15.5-61.1-58.6-74.1-115.5h74.1zm33.8 118.3V325.7h81c-13.9 60.7-44.9 105.8-81 118.2zm0-152v-78.8h86.3c1.7 13.7 2.6 27.4 2.6 41.2 0 12.6-.7 25.2-2.1 37.7l-86.8-.1zM390.5 213H440c5.6 26 5.8 52.8.7 78.8h-49.9c1.3-12.5 1.9-25.1 1.9-37.7.1-13.7-.7-27.4-2.2-41.1zm39-33.8H385c-7.9-36.4-21.3-68.6-39-93.9 37.6 21.1 66.9 54.2 83.5 93.9zm-258-99.6c-19.6 26.1-34.6 60.5-43.1 99.7H77c18.2-43.7 51.8-79.2 94.5-99.7zM75.6 325.7h52.1c8.3 40.6 23.6 76.3 43.8 103.2-43.9-21.1-78.1-58-95.9-103.2zM346 423.1c18.2-26.1 32-59.7 39.7-97.5h45.2c-16.3 41.4-46.2 75.8-84.9 97.5z\"></path></svg></div></a><a class=\"AgencyLogo__AgencyLogoContainer-fcobow-0 dKHFSg\" href=\"https://www.seloger.com/professionnels/1/paris-14eme-75/agency-57087.htm?bd=Liste_annonce_annuaire_detail\" mode=\"small\" target=\"_blank\"><div class=\"AgencyLogo__Image-fcobow-1 pebsH\"></div></a><div class=\"Contact__Buttons-sc-3d01ca-3 pKCwm\" mode=\"small\"><div class=\"Contact__ButtonContainer-sc-3d01ca-2 iklMcR\" data-test=\"button-container\"><div class=\"Contact__ButtonIcon-sc-3d01ca-6 hWcXVi Icon__IconElement-sc-1xnn3zd-0 jGTLkV\" data-test=\"icon\"><svg viewbox=\"0 0 512 512\"><g><path d=\"M391.3 382.7c-68.4-69.2-73.8-72.7-76.6-74.4-12.7-7.9-26.2-6.8-40.3 3.3-3 2.2-16.9 12.7-23.3 27.3-1.3-.6-2.5-1.2-3.7-1.9-12.6-7.3-25.8-17.9-39.3-31.6l-3.1-3.1c-13.5-13.7-23.9-27.1-30.9-39.7-.7-1.2-1.3-2.5-1.8-3.8 14.5-6.1 25.4-19.9 27.6-22.8 10.5-13.9 11.9-27.4 4.1-40.4-1.6-2.7-5-8.2-73.2-77.7-7.9-8.2-18.9-12.8-30.3-12.6-9.8.5-19.2 4.2-26.7 10.7-19.5 16.4-29.9 38.1-35.2 53.5-4.3 12.6-6.8 25.7-7.6 39-4.8 78.3 41.7 142.9 81.5 183.4l.1.1 4.3 4.4c38.4 39.1 99.3 84.7 173.9 84.7 2.7 0 5.4-.1 8.1-.2 13.3-.5 26.5-2.8 39.2-6.9 15.5-5 37.5-15 54.2-34.3 6.8-7.9 10.6-17 11.1-26.4.4-11.5-4-22.5-12.1-30.6.1 0 0 0 0 0zm-205.6-55.4c15.5 15.7 31 28.1 46 36.8 5.9 3.6 12.5 6 19.3 7.1 8.7 1.3 13.7-.9 17.5-3 5.3-3.2 9-8.6 10.9-15.8 1.1-4.4 7.8-11.5 13.3-15.5 1-.7 2.3-2.5 4.9-2.5 1.8 1.4 12.3 10.4 71.3 70.1 2 1.8 3.1 4.4 3.1 7.1-.1 2.3-1.3 4.9-3.5 7.4-12 13.8-28.4 21.2-40.2 25-10 3.2-20.4 5-30.9 5.3-67.9 3-123-39.2-158.4-75.3l-2.1-2.1c-.8-.8-1.6-1.5-2.3-2.2l.1-.1C99.4 334 58.1 277.1 62.2 210.4c.6-10.5 2.6-20.8 5.9-30.8 4-11.6 11.7-27.9 25.7-39.6 2.6-2.2 5.1-3.3 7.5-3.4h.2c2.6.1 5.1 1.3 6.9 3.2 60.2 61.4 68 71.1 69.1 72.8-.1 1-1.9 3.4-2.7 4.5-4 5.4-11.2 11.9-15.6 13-7.3 1.7-12.7 5.3-16.3 10.9-1.9 3.1-4.3 8.2-3.1 17.2 1 6.8 3.3 13.4 6.8 19.4 8.4 15.1 20.5 30.8 36 46.5l3.1 3.2zM239.1 105.8c-8.5-.9-16.1 5.3-17 13.7v.5c-.8 8.6 5.5 16.2 14.1 17h.1c73 6.5 131 64.1 138 137 .8 8 7.5 14.2 15.6 14.2.5 0 1 0 1.5-.1 8.6-.8 14.9-8.5 14.1-17.1-8.6-87.9-78.5-157.3-166.4-165.2z\"></path><path d=\"M407.5 104.2c-42-42-97.4-67.9-156.6-73.2-8.6-.8-16.2 5.6-17 14.2s5.6 16.2 14.2 17c106.4 9.5 191 93.4 201.3 199.8.8 8 7.5 14.2 15.6 14.2.5 0 1 0 1.5-.1 8.6-.8 14.9-8.5 14.1-17.1-5.7-58.5-31.6-113.2-73.1-154.8z\"></path></g></svg></div></div><div class=\"Contact__ButtonContainer-sc-3d01ca-2 iklMcR\" data-test=\"button-container\"><div class=\"Contact__ButtonIcon-sc-3d01ca-6 hWcXVi Icon__IconElement-sc-1xnn3zd-0 jGTLkV\" data-test=\"icon\"><svg viewbox=\"0 0 512 512\"><path d=\"M449.07 431.55H64.33c-29.06 0-52.63-24.37-52.63-54.44v-245c0-30.07 23.57-54.44 52.63-54.44h384.74c29.07 0 52.63 24.37 52.63 54.44v245c0 30.07-23.56 54.44-52.63 54.44zm12.37-281.73L256.7 354.24 52 149.59v229.7a12.58 12.58 0 0 0 12.37 12.52h384.7a12.58 12.58 0 0 0 12.37-12.52zm-380.8-28.33L256.7 297.35 433 121.49z\" data-name=\"R/uEA51-B-enveloppe\"></path></svg></div></div></div></div><a class=\"CoveringLink-a3s3kt-0 dXJclF\" href=\"https://www.seloger.com/annonces/locations/appartement/paris-13eme-75/buttes-aux-cailles-glaciere/159100275.htm?projects=1&amp;types=1&amp;places=[{ci:750105}|{ci:750111}|{ci:940067}|{ci:940080}|{idq:133102}|{idq:133103}|{idq:133104}|{idq:133105}|{idq:133106}|{idq:133107}|{idq:133108}|{idq:133109}|{idq:133110}|{idq:133111}|{idq:133112}|{idq:133113}|{idq:133114}|{idq:133115}|{idq:133764}]&amp;surface=20/NaN&amp;rooms=1&amp;sort=d_dt_crea&amp;picture=15&amp;qsVersion=1.0&amp;bd=ListToDetail\" name=\"classified-link\" target=\"_blank\" z=\"1\"></a></div></div><div class=\"OptionalCriteria__Criteria-ae5ia6-1 eJJkJo\"><div class=\"OptionalCriteria__Criterion-ae5ia6-2 rqdCi\">Avec photos</div></div></div><div class=\"block__ShadowedBlock-sc-10w6hsj-0 ListContent__SmartClassifiedExtended-sc-1viyr2k-2 iddbNe classified__ClassifiedContainer-sc-1wmlctl-0 jzFgwH Card__CardContainer-sc-7insep-7 fMfqlk\"><div class=\"classified__ContentWrapper-sc-1wmlctl-1 iFOIpl\"><div class=\"Card__MediaZone-sc-7insep-0 fPingW\"><div class=\"PhotoSlider__PhotoSliderContainer-cta2l8-0 feqESw\"></div><div class=\"MediaZone__Stickers-bd1uhq-3 iwwrzY\"></div><div class=\"MediaZone__Chips-bd1uhq-4 ifvlFB\"><div class=\"MediaZone__Chip-bd1uhq-5 eUGAIh\"><div class=\"Icon__IconElement-sc-1xnn3zd-0 iIyIAR\" color=\"white\" data-test=\"sl-ui.icon\" style=\"margin-right:6px\"><svg viewbox=\"0 0 512 512\"><path d=\"M421.5 136h-50.3c-.9-.2-1.7-.7-2.4-1.4l-13-37.6c-4.3-12.4-17.5-21.7-30.7-21.7h-143c-13.3 0-26.6 9.3-30.8 21.6l-13 37.5c-.6.8-1.4 1.3-2.3 1.6H85.6c-31.5 0-57 24.9-57 55.5v182.1c0 30.6 25.6 55.5 57 55.5h335.9c31.5 0 57.1-24.9 57.1-55.5V191.5c-.1-30.6-25.6-55.5-57.1-55.5zm26.9 237.6c0 14-12.1 25.4-26.9 25.4H85.6c-14.8 0-26.9-11.4-26.9-25.4V191.5c0-14 12.1-25.4 26.9-25.4H136c13.3 0 26.6-9.3 30.8-21.7l12.9-37.4c.6-.8 1.5-1.4 2.4-1.6h142.7c.9.2 1.7.7 2.4 1.4l13 37.6c4.2 12.4 17.5 21.7 30.8 21.7h50.4c14.9 0 26.9 11.4 26.9 25.4l.1 182.1z\"></path><path d=\"M253.5 180.3c-54.7 0-99 44.3-99 99s44.3 99 99 99 99-44.3 99-98.9c0-54.7-44.3-99-99-99.1zm0 168c-38.1 0-68.9-30.8-68.9-68.9s30.8-68.9 68.9-68.9 68.9 30.8 68.9 68.9c0 38-30.8 68.8-68.9 68.9zM396.2 180.3c-17.6 0-31.8 14.2-31.8 31.8s14.2 31.8 31.8 31.8 31.8-14.2 31.8-31.8-14.2-31.8-31.8-31.8z\"></path></svg></div>4</div></div></div><div class=\"Card__ContentZone-sc-7insep-3 gfORyM\"><div class=\"ContentZone__DetailTop-wghbmy-6 dPYwvZ\"><div><div class=\"ContentZone__Title-wghbmy-7 joPkKZ\">Appartement</div><ul class=\"ContentZone__Tags-wghbmy-8 eJYQQA\"><li>1 p</li><li>26,62 m²</li></ul></div><div class=\"Price__PriceContainer-sc-1g9fitq-0 eOPseM\"><div class=\"Price__Label-sc-1g9fitq-1 mVWFG\">993 €</div><div class=\"Price__Expose-sc-1g9fitq-4 eCwDJa\">cc</div><div class=\"Price__Suffix-sc-1g9fitq-3 hYaChC\">/mois</div></div></div><div class=\"ContentZone__Address-wghbmy-2 fRAjHL\"><span>Paris 12ème</span><span>Jardin de Reuilly</span></div><div class=\"ContentZone__ButtonSection-wghbmy-4 fgfCuS\"><div class=\"ContentZone__Button-wghbmy-5 ePrJwG\"><div class=\"ContentZone__StyledIcon-wghbmy-3 jIMdci Icon__IconElement-sc-1xnn3zd-0 jGTLkV\" data-test=\"sl-ui.icon\"><svg height=\"1em\" viewbox=\"0 0 20 20\" width=\"1em\"><path d=\"M18.146 2.146a.5.5 0 01.708.707l-16 16a.5.5 0 11-.708-.707l3.728-3.728c-1.421-.893-2.696-2.106-3.782-3.643a.503.503 0 01-.003-.574c.15-.215 3.718-5.277 8.886-5.188.018-.003 1.388-.088 3.335.97zm-1.794 5.258c.88.76 1.739 1.697 2.549 2.784a.5.5 0 01-.001.598c-.161.216-3.938 5.204-8.231 5.204l-.186-.003h-.034c-.148-.002-.776-.029-1.666-.265a.5.5 0 01.256-.967c.895.238 1.472.237 1.456.232 3.276.107 6.5-3.45 7.372-4.507a16.03 16.03 0 00-2.168-2.32.5.5 0 01.653-.756zm-2.26 2.226c.075.281.113.571.113.862 0 1.935-1.658 3.508-3.697 3.508-.22 0-.433-.018-.643-.053a.5.5 0 11.164-.986c.156.025.316.039.479.039 1.487 0 2.697-1.125 2.697-2.508 0-.205-.026-.408-.08-.605a.501.501 0 01.968-.257zM10.95 6.01h-.054c-3.958 0-6.971 3.461-7.774 4.482 1.01 1.36 2.179 2.43 3.473 3.206l1.033-1.033c-.521-.618-.817-1.37-.817-2.173 0-1.935 1.658-3.508 3.697-3.508a3.83 3.83 0 012.138.662l.927-.926c-1.525-.764-2.553-.708-2.568-.709h-.109zm-.442 1.974c-1.488 0-2.697 1.125-2.697 2.508 0 .535.187 1.042.522 1.468l3.595-3.595a2.835 2.835 0 00-1.42-.38z\" fill=\"currentColor\" fill-rule=\"evenodd\"></path></svg></div><span>Masquer</span></div><div class=\"ContentZone__Button-wghbmy-5 dxnwuI\"><div class=\"ContentZone__StyledIcon-wghbmy-3 jIMdci Icon__IconElement-sc-1xnn3zd-0 jGTLkV\" data-test=\"sl-ui.icon\"><svg height=\"1em\" viewbox=\"0 0 20 20\" width=\"1em\"><defs><path d=\"M9.976 18.5l-.706-.484c-5.564-3.54-8.64-7.87-8.234-11.568.13-2.704 2.267-4.854 4.915-4.944a4.9 4.9 0 014.025 1.84A5.014 5.014 0 0114 1.513c2.67.1 4.825 2.266 4.963 4.993.407 3.609-2.69 7.91-8.282 11.578l-.706.415zM5.95 3.017c-1.888.1-3.391 1.65-3.474 3.58-.338 3.123 2.468 6.9 7.499 10.143 4.963-3.243 7.827-7.099 7.498-10.065-.058-1.972-1.593-3.566-3.521-3.658a3.576 3.576 0 00-3.397 1.977L9.918 6.22l-.639-1.226a3.51 3.51 0 00-3.328-1.977z\" id=\"heart-regular_svg__a\"></path></defs><use fill=\"currentColor\" fill-rule=\"evenodd\" xlink:href=\"#heart-regular_svg__a\"></use></svg></div><span>Sauvegarder</span></div></div><div class=\"block__ShadowedBlock-sc-10w6hsj-0 ContentZone__SelectModal-wghbmy-15 eUFtOa\"><div class=\"ContentZone__SelectTitle-wghbmy-13 logJyh\">Pour quelle raison souhaitez-vous masquer cette annonce ? </div><div class=\"ContentZone__SelectOption-wghbmy-14 kBiYaS\">Pas intéressé(e)</div><div class=\"ContentZone__SelectOption-wghbmy-14 kBiYaS\">Déjà visité/contacté</div><div class=\"ContentZone__SelectOption-wghbmy-14 kBiYaS\">Photo insatisfaisante/absente</div><div class=\"ContentZone__SelectOption-wghbmy-14 kBiYaS\">Localisation incomplète</div><div class=\"ContentZone__SelectOption-wghbmy-14 kBiYaS\">Autre raison</div></div><div class=\"ContentZone__SmartClassifiedContact-wghbmy-1 bqeKmt Contact__ContactContainer-sc-3d01ca-1 hVXgxb\" mode=\"small\"><a class=\"Contact__WebSiteShortcutContainer-sc-3d01ca-0 csZlpz\" href=\"http://www.orpi.com/ajleslilas\" rel=\"nofollow\" target=\"_blank\"><div class=\"Icon__IconElement-sc-1xnn3zd-0 qqhlj\" color=\"#929292\" data-test=\"icon\"><svg viewbox=\"0 0 512 512\"><path d=\"M478.2 254.2c0-120.6-93.3-219.3-211.2-226.5-1.2-.3-2.5-.4-3.8-.4-1.3 0-2.7 0-4 .1-2-.1-4-.1-6.1-.1h-4.2C149.1 29.2 65.1 96.7 37.7 188.9c-.8 1.7-1.4 3.6-1.6 5.5-5.3 19.5-7.9 39.6-7.9 59.8 0 123.9 98.5 224.7 220.9 226.9h4.1c2.1 0 4.1 0 6.1-.1 1.3 0 2.6.1 3.9.1 1.3 0 2.5-.1 3.8-.4 117.9-7.2 211.2-105.8 211.2-226.5zm-416.2 0c0-13.8 1.5-27.6 4.4-41.2h56.5c-3 26.2-3.1 52.6-.4 78.8H65.7c-2.5-12.3-3.7-24.9-3.7-37.6zm92.3 0c0-13.8.8-27.5 2.6-41.2h79.5v78.8h-79.8c-1.6-12.4-2.3-25-2.3-37.6zm196-75h-80.2V64.5c35.4 12.2 65.9 55.8 80.2 114.7zm-114-112v112H163c13.4-55 41-96.7 73.3-112zm0 258.4v115.5c-33.1-15.5-61.1-58.6-74.1-115.5h74.1zm33.8 118.3V325.7h81c-13.9 60.7-44.9 105.8-81 118.2zm0-152v-78.8h86.3c1.7 13.7 2.6 27.4 2.6 41.2 0 12.6-.7 25.2-2.1 37.7l-86.8-.1zM390.5 213H440c5.6 26 5.8 52.8.7 78.8h-49.9c1.3-12.5 1.9-25.1 1.9-37.7.1-13.7-.7-27.4-2.2-41.1zm39-33.8H385c-7.9-36.4-21.3-68.6-39-93.9 37.6 21.1 66.9 54.2 83.5 93.9zm-258-99.6c-19.6 26.1-34.6 60.5-43.1 99.7H77c18.2-43.7 51.8-79.2 94.5-99.7zM75.6 325.7h52.1c8.3 40.6 23.6 76.3 43.8 103.2-43.9-21.1-78.1-58-95.9-103.2zM346 423.1c18.2-26.1 32-59.7 39.7-97.5h45.2c-16.3 41.4-46.2 75.8-84.9 97.5z\"></path></svg></div></a><div class=\"Card__Sticker-sc-7insep-1 Contact__TagExclusive-sc-3d01ca-7 gosChP\" mode=\"small\">Exclusivité</div><a class=\"AgencyLogo__AgencyLogoContainer-fcobow-0 dKHFSg\" href=\"https://www.seloger.com/professionnels/1/les-lilas-93/agency-1714381.htm?bd=Liste_annonce_annuaire_detail\" mode=\"small\" target=\"_blank\"><div class=\"AgencyLogo__Image-fcobow-1 pebsH\"></div></a><div class=\"Contact__Buttons-sc-3d01ca-3 pKCwm\" mode=\"small\"><div class=\"Contact__ButtonContainer-sc-3d01ca-2 iklMcR\" data-test=\"button-container\"><div class=\"Contact__ButtonIcon-sc-3d01ca-6 hWcXVi Icon__IconElement-sc-1xnn3zd-0 jGTLkV\" data-test=\"icon\"><svg viewbox=\"0 0 512 512\"><g><path d=\"M391.3 382.7c-68.4-69.2-73.8-72.7-76.6-74.4-12.7-7.9-26.2-6.8-40.3 3.3-3 2.2-16.9 12.7-23.3 27.3-1.3-.6-2.5-1.2-3.7-1.9-12.6-7.3-25.8-17.9-39.3-31.6l-3.1-3.1c-13.5-13.7-23.9-27.1-30.9-39.7-.7-1.2-1.3-2.5-1.8-3.8 14.5-6.1 25.4-19.9 27.6-22.8 10.5-13.9 11.9-27.4 4.1-40.4-1.6-2.7-5-8.2-73.2-77.7-7.9-8.2-18.9-12.8-30.3-12.6-9.8.5-19.2 4.2-26.7 10.7-19.5 16.4-29.9 38.1-35.2 53.5-4.3 12.6-6.8 25.7-7.6 39-4.8 78.3 41.7 142.9 81.5 183.4l.1.1 4.3 4.4c38.4 39.1 99.3 84.7 173.9 84.7 2.7 0 5.4-.1 8.1-.2 13.3-.5 26.5-2.8 39.2-6.9 15.5-5 37.5-15 54.2-34.3 6.8-7.9 10.6-17 11.1-26.4.4-11.5-4-22.5-12.1-30.6.1 0 0 0 0 0zm-205.6-55.4c15.5 15.7 31 28.1 46 36.8 5.9 3.6 12.5 6 19.3 7.1 8.7 1.3 13.7-.9 17.5-3 5.3-3.2 9-8.6 10.9-15.8 1.1-4.4 7.8-11.5 13.3-15.5 1-.7 2.3-2.5 4.9-2.5 1.8 1.4 12.3 10.4 71.3 70.1 2 1.8 3.1 4.4 3.1 7.1-.1 2.3-1.3 4.9-3.5 7.4-12 13.8-28.4 21.2-40.2 25-10 3.2-20.4 5-30.9 5.3-67.9 3-123-39.2-158.4-75.3l-2.1-2.1c-.8-.8-1.6-1.5-2.3-2.2l.1-.1C99.4 334 58.1 277.1 62.2 210.4c.6-10.5 2.6-20.8 5.9-30.8 4-11.6 11.7-27.9 25.7-39.6 2.6-2.2 5.1-3.3 7.5-3.4h.2c2.6.1 5.1 1.3 6.9 3.2 60.2 61.4 68 71.1 69.1 72.8-.1 1-1.9 3.4-2.7 4.5-4 5.4-11.2 11.9-15.6 13-7.3 1.7-12.7 5.3-16.3 10.9-1.9 3.1-4.3 8.2-3.1 17.2 1 6.8 3.3 13.4 6.8 19.4 8.4 15.1 20.5 30.8 36 46.5l3.1 3.2zM239.1 105.8c-8.5-.9-16.1 5.3-17 13.7v.5c-.8 8.6 5.5 16.2 14.1 17h.1c73 6.5 131 64.1 138 137 .8 8 7.5 14.2 15.6 14.2.5 0 1 0 1.5-.1 8.6-.8 14.9-8.5 14.1-17.1-8.6-87.9-78.5-157.3-166.4-165.2z\"></path><path d=\"M407.5 104.2c-42-42-97.4-67.9-156.6-73.2-8.6-.8-16.2 5.6-17 14.2s5.6 16.2 14.2 17c106.4 9.5 191 93.4 201.3 199.8.8 8 7.5 14.2 15.6 14.2.5 0 1 0 1.5-.1 8.6-.8 14.9-8.5 14.1-17.1-5.7-58.5-31.6-113.2-73.1-154.8z\"></path></g></svg></div></div><div class=\"Contact__ButtonContainer-sc-3d01ca-2 iklMcR\" data-test=\"button-container\"><div class=\"Contact__ButtonIcon-sc-3d01ca-6 hWcXVi Icon__IconElement-sc-1xnn3zd-0 jGTLkV\" data-test=\"icon\"><svg viewbox=\"0 0 512 512\"><path d=\"M449.07 431.55H64.33c-29.06 0-52.63-24.37-52.63-54.44v-245c0-30.07 23.57-54.44 52.63-54.44h384.74c29.07 0 52.63 24.37 52.63 54.44v245c0 30.07-23.56 54.44-52.63 54.44zm12.37-281.73L256.7 354.24 52 149.59v229.7a12.58 12.58 0 0 0 12.37 12.52h384.7a12.58 12.58 0 0 0 12.37-12.52zm-380.8-28.33L256.7 297.35 433 121.49z\" data-name=\"R/uEA51-B-enveloppe\"></path></svg></div></div></div></div><a class=\"CoveringLink-a3s3kt-0 dXJclF\" href=\"https://www.seloger.com/annonces/locations/appartement/paris-12eme-75/jardin-de-reuilly/159099975.htm?projects=1&amp;types=1&amp;places=[{ci:750105}|{ci:750111}|{ci:940067}|{ci:940080}|{idq:133102}|{idq:133103}|{idq:133104}|{idq:133105}|{idq:133106}|{idq:133107}|{idq:133108}|{idq:133109}|{idq:133110}|{idq:133111}|{idq:133112}|{idq:133113}|{idq:133114}|{idq:133115}|{idq:133764}]&amp;surface=20/NaN&amp;rooms=1&amp;sort=d_dt_crea&amp;picture=15&amp;qsVersion=1.0&amp;bd=ListToDetail\" name=\"classified-link\" target=\"_blank\" z=\"1\"></a></div></div><div class=\"OptionalCriteria__Criteria-ae5ia6-1 eJJkJo\"><div class=\"OptionalCriteria__Criterion-ae5ia6-2 rqdCi\">Avec photos</div></div></div><div class=\"block__ShadowedBlock-sc-10w6hsj-0 ListContent__SmartClassifiedExtended-sc-1viyr2k-2 iddbNe classified__ClassifiedContainer-sc-1wmlctl-0 jzFgwH Card__CardContainer-sc-7insep-7 fMfqlk\"><div class=\"classified__ContentWrapper-sc-1wmlctl-1 iFOIpl\"><div class=\"Card__MediaZone-sc-7insep-0 fPingW\"><div class=\"PhotoSlider__PhotoSliderContainer-cta2l8-0 feqESw\"></div><div class=\"MediaZone__Stickers-bd1uhq-3 iwwrzY\"></div><div class=\"MediaZone__Chips-bd1uhq-4 ifvlFB\"><div class=\"MediaZone__Chip-bd1uhq-5 eUGAIh\"><div class=\"Icon__IconElement-sc-1xnn3zd-0 iIyIAR\" color=\"white\" data-test=\"sl-ui.icon\" style=\"margin-right:6px\"><svg viewbox=\"0 0 512 512\"><path d=\"M421.5 136h-50.3c-.9-.2-1.7-.7-2.4-1.4l-13-37.6c-4.3-12.4-17.5-21.7-30.7-21.7h-143c-13.3 0-26.6 9.3-30.8 21.6l-13 37.5c-.6.8-1.4 1.3-2.3 1.6H85.6c-31.5 0-57 24.9-57 55.5v182.1c0 30.6 25.6 55.5 57 55.5h335.9c31.5 0 57.1-24.9 57.1-55.5V191.5c-.1-30.6-25.6-55.5-57.1-55.5zm26.9 237.6c0 14-12.1 25.4-26.9 25.4H85.6c-14.8 0-26.9-11.4-26.9-25.4V191.5c0-14 12.1-25.4 26.9-25.4H136c13.3 0 26.6-9.3 30.8-21.7l12.9-37.4c.6-.8 1.5-1.4 2.4-1.6h142.7c.9.2 1.7.7 2.4 1.4l13 37.6c4.2 12.4 17.5 21.7 30.8 21.7h50.4c14.9 0 26.9 11.4 26.9 25.4l.1 182.1z\"></path><path d=\"M253.5 180.3c-54.7 0-99 44.3-99 99s44.3 99 99 99 99-44.3 99-98.9c0-54.7-44.3-99-99-99.1zm0 168c-38.1 0-68.9-30.8-68.9-68.9s30.8-68.9 68.9-68.9 68.9 30.8 68.9 68.9c0 38-30.8 68.8-68.9 68.9zM396.2 180.3c-17.6 0-31.8 14.2-31.8 31.8s14.2 31.8 31.8 31.8 31.8-14.2 31.8-31.8-14.2-31.8-31.8-31.8z\"></path></svg></div>4</div></div></div><div class=\"Card__ContentZone-sc-7insep-3 gfORyM\"><div class=\"ContentZone__DetailTop-wghbmy-6 dPYwvZ\"><div><div class=\"ContentZone__Title-wghbmy-7 joPkKZ\">Appartement</div><ul class=\"ContentZone__Tags-wghbmy-8 eJYQQA\"><li>1 p</li><li>30 m²</li><li>1 asc</li></ul></div><div class=\"Price__PriceContainer-sc-1g9fitq-0 eOPseM\"><div class=\"Price__Label-sc-1g9fitq-1 mVWFG\">990 €</div><div class=\"Price__Expose-sc-1g9fitq-4 eCwDJa\">cc</div><div class=\"Price__Suffix-sc-1g9fitq-3 hYaChC\">/mois</div></div></div><div class=\"ContentZone__Address-wghbmy-2 fRAjHL\"><span>Vincennes</span><span>Sorano-Centre Ville</span></div><div class=\"ContentZone__ButtonSection-wghbmy-4 fgfCuS\"><div class=\"ContentZone__Button-wghbmy-5 ePrJwG\"><div class=\"ContentZone__StyledIcon-wghbmy-3 jIMdci Icon__IconElement-sc-1xnn3zd-0 jGTLkV\" data-test=\"sl-ui.icon\"><svg height=\"1em\" viewbox=\"0 0 20 20\" width=\"1em\"><path d=\"M18.146 2.146a.5.5 0 01.708.707l-16 16a.5.5 0 11-.708-.707l3.728-3.728c-1.421-.893-2.696-2.106-3.782-3.643a.503.503 0 01-.003-.574c.15-.215 3.718-5.277 8.886-5.188.018-.003 1.388-.088 3.335.97zm-1.794 5.258c.88.76 1.739 1.697 2.549 2.784a.5.5 0 01-.001.598c-.161.216-3.938 5.204-8.231 5.204l-.186-.003h-.034c-.148-.002-.776-.029-1.666-.265a.5.5 0 01.256-.967c.895.238 1.472.237 1.456.232 3.276.107 6.5-3.45 7.372-4.507a16.03 16.03 0 00-2.168-2.32.5.5 0 01.653-.756zm-2.26 2.226c.075.281.113.571.113.862 0 1.935-1.658 3.508-3.697 3.508-.22 0-.433-.018-.643-.053a.5.5 0 11.164-.986c.156.025.316.039.479.039 1.487 0 2.697-1.125 2.697-2.508 0-.205-.026-.408-.08-.605a.501.501 0 01.968-.257zM10.95 6.01h-.054c-3.958 0-6.971 3.461-7.774 4.482 1.01 1.36 2.179 2.43 3.473 3.206l1.033-1.033c-.521-.618-.817-1.37-.817-2.173 0-1.935 1.658-3.508 3.697-3.508a3.83 3.83 0 012.138.662l.927-.926c-1.525-.764-2.553-.708-2.568-.709h-.109zm-.442 1.974c-1.488 0-2.697 1.125-2.697 2.508 0 .535.187 1.042.522 1.468l3.595-3.595a2.835 2.835 0 00-1.42-.38z\" fill=\"currentColor\" fill-rule=\"evenodd\"></path></svg></div><span>Masquer</span></div><div class=\"ContentZone__Button-wghbmy-5 dxnwuI\"><div class=\"ContentZone__StyledIcon-wghbmy-3 jIMdci Icon__IconElement-sc-1xnn3zd-0 jGTLkV\" data-test=\"sl-ui.icon\"><svg height=\"1em\" viewbox=\"0 0 20 20\" width=\"1em\"><defs><path d=\"M9.976 18.5l-.706-.484c-5.564-3.54-8.64-7.87-8.234-11.568.13-2.704 2.267-4.854 4.915-4.944a4.9 4.9 0 014.025 1.84A5.014 5.014 0 0114 1.513c2.67.1 4.825 2.266 4.963 4.993.407 3.609-2.69 7.91-8.282 11.578l-.706.415zM5.95 3.017c-1.888.1-3.391 1.65-3.474 3.58-.338 3.123 2.468 6.9 7.499 10.143 4.963-3.243 7.827-7.099 7.498-10.065-.058-1.972-1.593-3.566-3.521-3.658a3.576 3.576 0 00-3.397 1.977L9.918 6.22l-.639-1.226a3.51 3.51 0 00-3.328-1.977z\" id=\"heart-regular_svg__a\"></path></defs><use fill=\"currentColor\" fill-rule=\"evenodd\" xlink:href=\"#heart-regular_svg__a\"></use></svg></div><span>Sauvegarder</span></div></div><div class=\"block__ShadowedBlock-sc-10w6hsj-0 ContentZone__SelectModal-wghbmy-15 eUFtOa\"><div class=\"ContentZone__SelectTitle-wghbmy-13 logJyh\">Pour quelle raison souhaitez-vous masquer cette annonce ? </div><div class=\"ContentZone__SelectOption-wghbmy-14 kBiYaS\">Pas intéressé(e)</div><div class=\"ContentZone__SelectOption-wghbmy-14 kBiYaS\">Déjà visité/contacté</div><div class=\"ContentZone__SelectOption-wghbmy-14 kBiYaS\">Photo insatisfaisante/absente</div><div class=\"ContentZone__SelectOption-wghbmy-14 kBiYaS\">Localisation incomplète</div><div class=\"ContentZone__SelectOption-wghbmy-14 kBiYaS\">Autre raison</div></div><div class=\"ContentZone__SmartClassifiedContact-wghbmy-1 bqeKmt Contact__ContactContainer-sc-3d01ca-1 hVXgxb\" mode=\"small\"><a class=\"Contact__WebSiteShortcutContainer-sc-3d01ca-0 csZlpz\" href=\"http://www.en-appart-et.fr\" rel=\"nofollow\" target=\"_blank\"><div class=\"Icon__IconElement-sc-1xnn3zd-0 qqhlj\" color=\"#929292\" data-test=\"icon\"><svg viewbox=\"0 0 512 512\"><path d=\"M478.2 254.2c0-120.6-93.3-219.3-211.2-226.5-1.2-.3-2.5-.4-3.8-.4-1.3 0-2.7 0-4 .1-2-.1-4-.1-6.1-.1h-4.2C149.1 29.2 65.1 96.7 37.7 188.9c-.8 1.7-1.4 3.6-1.6 5.5-5.3 19.5-7.9 39.6-7.9 59.8 0 123.9 98.5 224.7 220.9 226.9h4.1c2.1 0 4.1 0 6.1-.1 1.3 0 2.6.1 3.9.1 1.3 0 2.5-.1 3.8-.4 117.9-7.2 211.2-105.8 211.2-226.5zm-416.2 0c0-13.8 1.5-27.6 4.4-41.2h56.5c-3 26.2-3.1 52.6-.4 78.8H65.7c-2.5-12.3-3.7-24.9-3.7-37.6zm92.3 0c0-13.8.8-27.5 2.6-41.2h79.5v78.8h-79.8c-1.6-12.4-2.3-25-2.3-37.6zm196-75h-80.2V64.5c35.4 12.2 65.9 55.8 80.2 114.7zm-114-112v112H163c13.4-55 41-96.7 73.3-112zm0 258.4v115.5c-33.1-15.5-61.1-58.6-74.1-115.5h74.1zm33.8 118.3V325.7h81c-13.9 60.7-44.9 105.8-81 118.2zm0-152v-78.8h86.3c1.7 13.7 2.6 27.4 2.6 41.2 0 12.6-.7 25.2-2.1 37.7l-86.8-.1zM390.5 213H440c5.6 26 5.8 52.8.7 78.8h-49.9c1.3-12.5 1.9-25.1 1.9-37.7.1-13.7-.7-27.4-2.2-41.1zm39-33.8H385c-7.9-36.4-21.3-68.6-39-93.9 37.6 21.1 66.9 54.2 83.5 93.9zm-258-99.6c-19.6 26.1-34.6 60.5-43.1 99.7H77c18.2-43.7 51.8-79.2 94.5-99.7zM75.6 325.7h52.1c8.3 40.6 23.6 76.3 43.8 103.2-43.9-21.1-78.1-58-95.9-103.2zM346 423.1c18.2-26.1 32-59.7 39.7-97.5h45.2c-16.3 41.4-46.2 75.8-84.9 97.5z\"></path></svg></div></a><div class=\"Card__Sticker-sc-7insep-1 Contact__TagExclusive-sc-3d01ca-7 gosChP\" mode=\"small\">Exclusivité</div><a class=\"AgencyLogo__AgencyLogoContainer-fcobow-0 dKHFSg\" href=\"https://www.seloger.com/professionnels/1/vincennes-94/agency-59064.htm?bd=Liste_annonce_annuaire_detail\" mode=\"small\" target=\"_blank\"><div class=\"AgencyLogo__Image-fcobow-1 dQCUET\"></div></a><div class=\"Contact__Buttons-sc-3d01ca-3 pKCwm\" mode=\"small\"><div class=\"Contact__ButtonContainer-sc-3d01ca-2 iklMcR\" data-test=\"button-container\"><div class=\"Contact__ButtonIcon-sc-3d01ca-6 hWcXVi Icon__IconElement-sc-1xnn3zd-0 jGTLkV\" data-test=\"icon\"><svg viewbox=\"0 0 512 512\"><g><path d=\"M391.3 382.7c-68.4-69.2-73.8-72.7-76.6-74.4-12.7-7.9-26.2-6.8-40.3 3.3-3 2.2-16.9 12.7-23.3 27.3-1.3-.6-2.5-1.2-3.7-1.9-12.6-7.3-25.8-17.9-39.3-31.6l-3.1-3.1c-13.5-13.7-23.9-27.1-30.9-39.7-.7-1.2-1.3-2.5-1.8-3.8 14.5-6.1 25.4-19.9 27.6-22.8 10.5-13.9 11.9-27.4 4.1-40.4-1.6-2.7-5-8.2-73.2-77.7-7.9-8.2-18.9-12.8-30.3-12.6-9.8.5-19.2 4.2-26.7 10.7-19.5 16.4-29.9 38.1-35.2 53.5-4.3 12.6-6.8 25.7-7.6 39-4.8 78.3 41.7 142.9 81.5 183.4l.1.1 4.3 4.4c38.4 39.1 99.3 84.7 173.9 84.7 2.7 0 5.4-.1 8.1-.2 13.3-.5 26.5-2.8 39.2-6.9 15.5-5 37.5-15 54.2-34.3 6.8-7.9 10.6-17 11.1-26.4.4-11.5-4-22.5-12.1-30.6.1 0 0 0 0 0zm-205.6-55.4c15.5 15.7 31 28.1 46 36.8 5.9 3.6 12.5 6 19.3 7.1 8.7 1.3 13.7-.9 17.5-3 5.3-3.2 9-8.6 10.9-15.8 1.1-4.4 7.8-11.5 13.3-15.5 1-.7 2.3-2.5 4.9-2.5 1.8 1.4 12.3 10.4 71.3 70.1 2 1.8 3.1 4.4 3.1 7.1-.1 2.3-1.3 4.9-3.5 7.4-12 13.8-28.4 21.2-40.2 25-10 3.2-20.4 5-30.9 5.3-67.9 3-123-39.2-158.4-75.3l-2.1-2.1c-.8-.8-1.6-1.5-2.3-2.2l.1-.1C99.4 334 58.1 277.1 62.2 210.4c.6-10.5 2.6-20.8 5.9-30.8 4-11.6 11.7-27.9 25.7-39.6 2.6-2.2 5.1-3.3 7.5-3.4h.2c2.6.1 5.1 1.3 6.9 3.2 60.2 61.4 68 71.1 69.1 72.8-.1 1-1.9 3.4-2.7 4.5-4 5.4-11.2 11.9-15.6 13-7.3 1.7-12.7 5.3-16.3 10.9-1.9 3.1-4.3 8.2-3.1 17.2 1 6.8 3.3 13.4 6.8 19.4 8.4 15.1 20.5 30.8 36 46.5l3.1 3.2zM239.1 105.8c-8.5-.9-16.1 5.3-17 13.7v.5c-.8 8.6 5.5 16.2 14.1 17h.1c73 6.5 131 64.1 138 137 .8 8 7.5 14.2 15.6 14.2.5 0 1 0 1.5-.1 8.6-.8 14.9-8.5 14.1-17.1-8.6-87.9-78.5-157.3-166.4-165.2z\"></path><path d=\"M407.5 104.2c-42-42-97.4-67.9-156.6-73.2-8.6-.8-16.2 5.6-17 14.2s5.6 16.2 14.2 17c106.4 9.5 191 93.4 201.3 199.8.8 8 7.5 14.2 15.6 14.2.5 0 1 0 1.5-.1 8.6-.8 14.9-8.5 14.1-17.1-5.7-58.5-31.6-113.2-73.1-154.8z\"></path></g></svg></div></div><div class=\"Contact__ButtonContainer-sc-3d01ca-2 iklMcR\" data-test=\"button-container\"><div class=\"Contact__ButtonIcon-sc-3d01ca-6 hWcXVi Icon__IconElement-sc-1xnn3zd-0 jGTLkV\" data-test=\"icon\"><svg viewbox=\"0 0 512 512\"><path d=\"M449.07 431.55H64.33c-29.06 0-52.63-24.37-52.63-54.44v-245c0-30.07 23.57-54.44 52.63-54.44h384.74c29.07 0 52.63 24.37 52.63 54.44v245c0 30.07-23.56 54.44-52.63 54.44zm12.37-281.73L256.7 354.24 52 149.59v229.7a12.58 12.58 0 0 0 12.37 12.52h384.7a12.58 12.58 0 0 0 12.37-12.52zm-380.8-28.33L256.7 297.35 433 121.49z\" data-name=\"R/uEA51-B-enveloppe\"></path></svg></div></div></div></div><a class=\"CoveringLink-a3s3kt-0 dXJclF\" href=\"https://www.seloger.com/annonces/locations/appartement/vincennes-94/sorano-centre-ville/159099393.htm?projects=1&amp;types=1&amp;places=[{ci:750105}|{ci:750111}|{ci:940067}|{ci:940080}|{idq:133102}|{idq:133103}|{idq:133104}|{idq:133105}|{idq:133106}|{idq:133107}|{idq:133108}|{idq:133109}|{idq:133110}|{idq:133111}|{idq:133112}|{idq:133113}|{idq:133114}|{idq:133115}|{idq:133764}]&amp;surface=20/NaN&amp;rooms=1&amp;sort=d_dt_crea&amp;picture=15&amp;qsVersion=1.0&amp;bd=ListToDetail\" name=\"classified-link\" target=\"_blank\" z=\"1\"></a></div></div><div class=\"OptionalCriteria__Criteria-ae5ia6-1 eJJkJo\"><div class=\"OptionalCriteria__Criterion-ae5ia6-2 rqdCi\">Avec photos</div></div></div><div class=\"block__ShadowedBlock-sc-10w6hsj-0 ListContent__SmartClassifiedExtended-sc-1viyr2k-2 iddbNe classified__ClassifiedContainer-sc-1wmlctl-0 jzFgwH Card__CardContainer-sc-7insep-7 fMfqlk\"><div class=\"classified__ContentWrapper-sc-1wmlctl-1 iFOIpl\"><div class=\"Card__MediaZone-sc-7insep-0 fPingW\"><div class=\"PhotoSlider__PhotoSliderContainer-cta2l8-0 feqESw\"></div><div class=\"MediaZone__Stickers-bd1uhq-3 iwwrzY\"></div><div class=\"MediaZone__Chips-bd1uhq-4 ifvlFB\"><div class=\"MediaZone__Chip-bd1uhq-5 eUGAIh\"><div class=\"Icon__IconElement-sc-1xnn3zd-0 iIyIAR\" color=\"white\" data-test=\"sl-ui.icon\" style=\"margin-right:6px\"><svg viewbox=\"0 0 512 512\"><path d=\"M421.5 136h-50.3c-.9-.2-1.7-.7-2.4-1.4l-13-37.6c-4.3-12.4-17.5-21.7-30.7-21.7h-143c-13.3 0-26.6 9.3-30.8 21.6l-13 37.5c-.6.8-1.4 1.3-2.3 1.6H85.6c-31.5 0-57 24.9-57 55.5v182.1c0 30.6 25.6 55.5 57 55.5h335.9c31.5 0 57.1-24.9 57.1-55.5V191.5c-.1-30.6-25.6-55.5-57.1-55.5zm26.9 237.6c0 14-12.1 25.4-26.9 25.4H85.6c-14.8 0-26.9-11.4-26.9-25.4V191.5c0-14 12.1-25.4 26.9-25.4H136c13.3 0 26.6-9.3 30.8-21.7l12.9-37.4c.6-.8 1.5-1.4 2.4-1.6h142.7c.9.2 1.7.7 2.4 1.4l13 37.6c4.2 12.4 17.5 21.7 30.8 21.7h50.4c14.9 0 26.9 11.4 26.9 25.4l.1 182.1z\"></path><path d=\"M253.5 180.3c-54.7 0-99 44.3-99 99s44.3 99 99 99 99-44.3 99-98.9c0-54.7-44.3-99-99-99.1zm0 168c-38.1 0-68.9-30.8-68.9-68.9s30.8-68.9 68.9-68.9 68.9 30.8 68.9 68.9c0 38-30.8 68.8-68.9 68.9zM396.2 180.3c-17.6 0-31.8 14.2-31.8 31.8s14.2 31.8 31.8 31.8 31.8-14.2 31.8-31.8-14.2-31.8-31.8-31.8z\"></path></svg></div>6</div></div></div><div class=\"Card__ContentZone-sc-7insep-3 gfORyM\"><div class=\"ContentZone__DetailTop-wghbmy-6 dPYwvZ\"><div><div class=\"ContentZone__Title-wghbmy-7 joPkKZ\">Appartement</div><ul class=\"ContentZone__Tags-wghbmy-8 eJYQQA\"><li>1 p</li><li>22 m²</li><li>1 asc</li></ul></div><div class=\"Price__PriceContainer-sc-1g9fitq-0 eOPseM\"><div class=\"Price__Label-sc-1g9fitq-1 mVWFG\">1 050 €</div><div class=\"Price__Expose-sc-1g9fitq-4 eCwDJa\">+ch</div><div class=\"Price__Suffix-sc-1g9fitq-3 hYaChC\">/mois</div></div></div><div class=\"ContentZone__Address-wghbmy-2 fRAjHL\"><span>Paris 11ème</span><span>Belleville-Saint Maur</span></div><div class=\"ContentZone__ButtonSection-wghbmy-4 fgfCuS\"><div class=\"ContentZone__Button-wghbmy-5 ePrJwG\"><div class=\"ContentZone__StyledIcon-wghbmy-3 jIMdci Icon__IconElement-sc-1xnn3zd-0 jGTLkV\" data-test=\"sl-ui.icon\"><svg height=\"1em\" viewbox=\"0 0 20 20\" width=\"1em\"><path d=\"M18.146 2.146a.5.5 0 01.708.707l-16 16a.5.5 0 11-.708-.707l3.728-3.728c-1.421-.893-2.696-2.106-3.782-3.643a.503.503 0 01-.003-.574c.15-.215 3.718-5.277 8.886-5.188.018-.003 1.388-.088 3.335.97zm-1.794 5.258c.88.76 1.739 1.697 2.549 2.784a.5.5 0 01-.001.598c-.161.216-3.938 5.204-8.231 5.204l-.186-.003h-.034c-.148-.002-.776-.029-1.666-.265a.5.5 0 01.256-.967c.895.238 1.472.237 1.456.232 3.276.107 6.5-3.45 7.372-4.507a16.03 16.03 0 00-2.168-2.32.5.5 0 01.653-.756zm-2.26 2.226c.075.281.113.571.113.862 0 1.935-1.658 3.508-3.697 3.508-.22 0-.433-.018-.643-.053a.5.5 0 11.164-.986c.156.025.316.039.479.039 1.487 0 2.697-1.125 2.697-2.508 0-.205-.026-.408-.08-.605a.501.501 0 01.968-.257zM10.95 6.01h-.054c-3.958 0-6.971 3.461-7.774 4.482 1.01 1.36 2.179 2.43 3.473 3.206l1.033-1.033c-.521-.618-.817-1.37-.817-2.173 0-1.935 1.658-3.508 3.697-3.508a3.83 3.83 0 012.138.662l.927-.926c-1.525-.764-2.553-.708-2.568-.709h-.109zm-.442 1.974c-1.488 0-2.697 1.125-2.697 2.508 0 .535.187 1.042.522 1.468l3.595-3.595a2.835 2.835 0 00-1.42-.38z\" fill=\"currentColor\" fill-rule=\"evenodd\"></path></svg></div><span>Masquer</span></div><div class=\"ContentZone__Button-wghbmy-5 dxnwuI\"><div class=\"ContentZone__StyledIcon-wghbmy-3 jIMdci Icon__IconElement-sc-1xnn3zd-0 jGTLkV\" data-test=\"sl-ui.icon\"><svg height=\"1em\" viewbox=\"0 0 20 20\" width=\"1em\"><defs><path d=\"M9.976 18.5l-.706-.484c-5.564-3.54-8.64-7.87-8.234-11.568.13-2.704 2.267-4.854 4.915-4.944a4.9 4.9 0 014.025 1.84A5.014 5.014 0 0114 1.513c2.67.1 4.825 2.266 4.963 4.993.407 3.609-2.69 7.91-8.282 11.578l-.706.415zM5.95 3.017c-1.888.1-3.391 1.65-3.474 3.58-.338 3.123 2.468 6.9 7.499 10.143 4.963-3.243 7.827-7.099 7.498-10.065-.058-1.972-1.593-3.566-3.521-3.658a3.576 3.576 0 00-3.397 1.977L9.918 6.22l-.639-1.226a3.51 3.51 0 00-3.328-1.977z\" id=\"heart-regular_svg__a\"></path></defs><use fill=\"currentColor\" fill-rule=\"evenodd\" xlink:href=\"#heart-regular_svg__a\"></use></svg></div><span>Sauvegarder</span></div></div><div class=\"block__ShadowedBlock-sc-10w6hsj-0 ContentZone__SelectModal-wghbmy-15 eUFtOa\"><div class=\"ContentZone__SelectTitle-wghbmy-13 logJyh\">Pour quelle raison souhaitez-vous masquer cette annonce ? </div><div class=\"ContentZone__SelectOption-wghbmy-14 kBiYaS\">Pas intéressé(e)</div><div class=\"ContentZone__SelectOption-wghbmy-14 kBiYaS\">Déjà visité/contacté</div><div class=\"ContentZone__SelectOption-wghbmy-14 kBiYaS\">Photo insatisfaisante/absente</div><div class=\"ContentZone__SelectOption-wghbmy-14 kBiYaS\">Localisation incomplète</div><div class=\"ContentZone__SelectOption-wghbmy-14 kBiYaS\">Autre raison</div></div><div class=\"ContentZone__SmartClassifiedContact-wghbmy-1 bqeKmt Contact__ContactContainer-sc-3d01ca-1 hVXgxb\" mode=\"small\"><a class=\"Contact__WebSiteShortcutContainer-sc-3d01ca-0 csZlpz\" href=\"http://www.morningcroissant.fr\" rel=\"nofollow\" target=\"_blank\"><div class=\"Icon__IconElement-sc-1xnn3zd-0 qqhlj\" color=\"#929292\" data-test=\"icon\"><svg viewbox=\"0 0 512 512\"><path d=\"M478.2 254.2c0-120.6-93.3-219.3-211.2-226.5-1.2-.3-2.5-.4-3.8-.4-1.3 0-2.7 0-4 .1-2-.1-4-.1-6.1-.1h-4.2C149.1 29.2 65.1 96.7 37.7 188.9c-.8 1.7-1.4 3.6-1.6 5.5-5.3 19.5-7.9 39.6-7.9 59.8 0 123.9 98.5 224.7 220.9 226.9h4.1c2.1 0 4.1 0 6.1-.1 1.3 0 2.6.1 3.9.1 1.3 0 2.5-.1 3.8-.4 117.9-7.2 211.2-105.8 211.2-226.5zm-416.2 0c0-13.8 1.5-27.6 4.4-41.2h56.5c-3 26.2-3.1 52.6-.4 78.8H65.7c-2.5-12.3-3.7-24.9-3.7-37.6zm92.3 0c0-13.8.8-27.5 2.6-41.2h79.5v78.8h-79.8c-1.6-12.4-2.3-25-2.3-37.6zm196-75h-80.2V64.5c35.4 12.2 65.9 55.8 80.2 114.7zm-114-112v112H163c13.4-55 41-96.7 73.3-112zm0 258.4v115.5c-33.1-15.5-61.1-58.6-74.1-115.5h74.1zm33.8 118.3V325.7h81c-13.9 60.7-44.9 105.8-81 118.2zm0-152v-78.8h86.3c1.7 13.7 2.6 27.4 2.6 41.2 0 12.6-.7 25.2-2.1 37.7l-86.8-.1zM390.5 213H440c5.6 26 5.8 52.8.7 78.8h-49.9c1.3-12.5 1.9-25.1 1.9-37.7.1-13.7-.7-27.4-2.2-41.1zm39-33.8H385c-7.9-36.4-21.3-68.6-39-93.9 37.6 21.1 66.9 54.2 83.5 93.9zm-258-99.6c-19.6 26.1-34.6 60.5-43.1 99.7H77c18.2-43.7 51.8-79.2 94.5-99.7zM75.6 325.7h52.1c8.3 40.6 23.6 76.3 43.8 103.2-43.9-21.1-78.1-58-95.9-103.2zM346 423.1c18.2-26.1 32-59.7 39.7-97.5h45.2c-16.3 41.4-46.2 75.8-84.9 97.5z\"></path></svg></div></a><a class=\"AgencyLogo__AgencyLogoContainer-fcobow-0 dKHFSg\" href=\"https://www.seloger.com/professionnels/1/paris-2eme-75/agency-120034.htm?bd=Liste_annonce_annuaire_detail\" mode=\"small\" target=\"_blank\"><div class=\"AgencyLogo__Image-fcobow-1 fsBbUt\"></div></a><div class=\"Contact__Buttons-sc-3d01ca-3 pKCwm\" mode=\"small\"><div class=\"Contact__ButtonContainer-sc-3d01ca-2 iklMcR\" data-test=\"button-container\"><div class=\"Contact__ButtonIcon-sc-3d01ca-6 hWcXVi Icon__IconElement-sc-1xnn3zd-0 jGTLkV\" data-test=\"icon\"><svg viewbox=\"0 0 512 512\"><g><path d=\"M391.3 382.7c-68.4-69.2-73.8-72.7-76.6-74.4-12.7-7.9-26.2-6.8-40.3 3.3-3 2.2-16.9 12.7-23.3 27.3-1.3-.6-2.5-1.2-3.7-1.9-12.6-7.3-25.8-17.9-39.3-31.6l-3.1-3.1c-13.5-13.7-23.9-27.1-30.9-39.7-.7-1.2-1.3-2.5-1.8-3.8 14.5-6.1 25.4-19.9 27.6-22.8 10.5-13.9 11.9-27.4 4.1-40.4-1.6-2.7-5-8.2-73.2-77.7-7.9-8.2-18.9-12.8-30.3-12.6-9.8.5-19.2 4.2-26.7 10.7-19.5 16.4-29.9 38.1-35.2 53.5-4.3 12.6-6.8 25.7-7.6 39-4.8 78.3 41.7 142.9 81.5 183.4l.1.1 4.3 4.4c38.4 39.1 99.3 84.7 173.9 84.7 2.7 0 5.4-.1 8.1-.2 13.3-.5 26.5-2.8 39.2-6.9 15.5-5 37.5-15 54.2-34.3 6.8-7.9 10.6-17 11.1-26.4.4-11.5-4-22.5-12.1-30.6.1 0 0 0 0 0zm-205.6-55.4c15.5 15.7 31 28.1 46 36.8 5.9 3.6 12.5 6 19.3 7.1 8.7 1.3 13.7-.9 17.5-3 5.3-3.2 9-8.6 10.9-15.8 1.1-4.4 7.8-11.5 13.3-15.5 1-.7 2.3-2.5 4.9-2.5 1.8 1.4 12.3 10.4 71.3 70.1 2 1.8 3.1 4.4 3.1 7.1-.1 2.3-1.3 4.9-3.5 7.4-12 13.8-28.4 21.2-40.2 25-10 3.2-20.4 5-30.9 5.3-67.9 3-123-39.2-158.4-75.3l-2.1-2.1c-.8-.8-1.6-1.5-2.3-2.2l.1-.1C99.4 334 58.1 277.1 62.2 210.4c.6-10.5 2.6-20.8 5.9-30.8 4-11.6 11.7-27.9 25.7-39.6 2.6-2.2 5.1-3.3 7.5-3.4h.2c2.6.1 5.1 1.3 6.9 3.2 60.2 61.4 68 71.1 69.1 72.8-.1 1-1.9 3.4-2.7 4.5-4 5.4-11.2 11.9-15.6 13-7.3 1.7-12.7 5.3-16.3 10.9-1.9 3.1-4.3 8.2-3.1 17.2 1 6.8 3.3 13.4 6.8 19.4 8.4 15.1 20.5 30.8 36 46.5l3.1 3.2zM239.1 105.8c-8.5-.9-16.1 5.3-17 13.7v.5c-.8 8.6 5.5 16.2 14.1 17h.1c73 6.5 131 64.1 138 137 .8 8 7.5 14.2 15.6 14.2.5 0 1 0 1.5-.1 8.6-.8 14.9-8.5 14.1-17.1-8.6-87.9-78.5-157.3-166.4-165.2z\"></path><path d=\"M407.5 104.2c-42-42-97.4-67.9-156.6-73.2-8.6-.8-16.2 5.6-17 14.2s5.6 16.2 14.2 17c106.4 9.5 191 93.4 201.3 199.8.8 8 7.5 14.2 15.6 14.2.5 0 1 0 1.5-.1 8.6-.8 14.9-8.5 14.1-17.1-5.7-58.5-31.6-113.2-73.1-154.8z\"></path></g></svg></div></div><div class=\"Contact__ButtonContainer-sc-3d01ca-2 iklMcR\" data-test=\"button-container\"><div class=\"Contact__ButtonIcon-sc-3d01ca-6 hWcXVi Icon__IconElement-sc-1xnn3zd-0 jGTLkV\" data-test=\"icon\"><svg viewbox=\"0 0 512 512\"><path d=\"M449.07 431.55H64.33c-29.06 0-52.63-24.37-52.63-54.44v-245c0-30.07 23.57-54.44 52.63-54.44h384.74c29.07 0 52.63 24.37 52.63 54.44v245c0 30.07-23.56 54.44-52.63 54.44zm12.37-281.73L256.7 354.24 52 149.59v229.7a12.58 12.58 0 0 0 12.37 12.52h384.7a12.58 12.58 0 0 0 12.37-12.52zm-380.8-28.33L256.7 297.35 433 121.49z\" data-name=\"R/uEA51-B-enveloppe\"></path></svg></div></div></div></div><a class=\"CoveringLink-a3s3kt-0 dXJclF\" href=\"https://www.seloger.com/annonces/locations/appartement/paris-11eme-75/belleville-saint-maur/159097487.htm?projects=1&amp;types=1&amp;places=[{ci:750105}|{ci:750111}|{ci:940067}|{ci:940080}|{idq:133102}|{idq:133103}|{idq:133104}|{idq:133105}|{idq:133106}|{idq:133107}|{idq:133108}|{idq:133109}|{idq:133110}|{idq:133111}|{idq:133112}|{idq:133113}|{idq:133114}|{idq:133115}|{idq:133764}]&amp;surface=20/NaN&amp;rooms=1&amp;sort=d_dt_crea&amp;picture=15&amp;qsVersion=1.0&amp;bd=ListToDetail\" name=\"classified-link\" target=\"_blank\" z=\"1\"></a></div></div><div class=\"OptionalCriteria__Criteria-ae5ia6-1 eJJkJo\"><div class=\"OptionalCriteria__Criterion-ae5ia6-2 rqdCi\">Avec photos</div></div></div><div class=\"ListContent__SmartAdvertCardExtended-sc-1viyr2k-0 kJKgEE AdvertCard__AdvertContainer-lf3yab-0 fGDTrM\"><div class=\"block__ShadowedBlock-sc-10w6hsj-0 AdvertCard__AdvertContent-lf3yab-1 jFJvEA\"><div class=\"adunitContainer\"><div class=\"adBox\"></div></div></div></div><section class=\"pagination__PaginationContainer-sc-1vi25cj-0 hzVtBH\"><div class=\"Status__StatusContainer-yh17cz-0 ckWPHD\">Annonces<!-- --> <strong>1<!-- --> à <!-- -->25</strong> <!-- -->sur <!-- -->235</div><ul class=\"SimplePagination__SimplePaginationContainer-sc-1xh27g4-0 bREhzg\"><li class=\"active\"><a href=\"/list.htm?projects=1&amp;types=1&amp;places=%5B%7Bci%3A750105%7D%7C%7Bci%3A750111%7D%7C%7Bci%3A940067%7D%7C%7Bci%3A940080%7D%7C%7Bidq%3A133102%7D%7C%7Bidq%3A133103%7D%7C%7Bidq%3A133104%7D%7C%7Bidq%3A133105%7D%7C%7Bidq%3A133106%7D%7C%7Bidq%3A133107%7D%7C%7Bidq%3A133108%7D%7C%7Bidq%3A133109%7D%7C%7Bidq%3A133110%7D%7C%7Bidq%3A133111%7D%7C%7Bidq%3A133112%7D%7C%7Bidq%3A133113%7D%7C%7Bidq%3A133114%7D%7C%7Bidq%3A133115%7D%7C%7Bidq%3A133764%7D%5D&amp;surface=20%2FNaN&amp;rooms=1&amp;sort=d_dt_crea&amp;picture=15&amp;qsVersion=1.0&amp;LISTING-LISTpg=1\">1</a></li></ul></section></div>"
      ]
     },
     "execution_count": 559,
     "metadata": {},
     "output_type": "execute_result"
    }
   ],
   "source": [
    "main_tag"
   ]
  },
  {
   "cell_type": "code",
   "execution_count": 571,
   "metadata": {},
   "outputs": [],
   "source": [
    "results = main_tag.find_all('div', class_=\"classified__ContentWrapper-sc-1wmlctl-1 iFOIpl\")"
   ]
  },
  {
   "cell_type": "code",
   "execution_count": 572,
   "metadata": {},
   "outputs": [
    {
     "data": {
      "text/plain": [
       "25"
      ]
     },
     "execution_count": 572,
     "metadata": {},
     "output_type": "execute_result"
    }
   ],
   "source": [
    "len(results)"
   ]
  },
  {
   "cell_type": "code",
   "execution_count": 581,
   "metadata": {},
   "outputs": [
    {
     "data": {
      "text/plain": [
       "'https://www.seloger.com/annonces/locations/appartement/paris-11eme-75/leon-blum-folie-regnault/159157123.htm?projects=1&types=1&places=[{ci:750105}|{ci:750111}|{ci:940067}|{ci:940080}|{idq:133102}|{idq:133103}|{idq:133104}|{idq:133105}|{idq:133106}|{idq:133107}|{idq:133108}|{idq:133109}|{idq:133110}|{idq:133111}|{idq:133112}|{idq:133113}|{idq:133114}|{idq:133115}|{idq:133764}]&surface=20/NaN&rooms=1&sort=d_dt_crea&picture=15&qsVersion=1.0&bd=ListToDetail'"
      ]
     },
     "execution_count": 581,
     "metadata": {},
     "output_type": "execute_result"
    }
   ],
   "source": [
    "results[0].find_all('a', class_='CoveringLink-a3s3kt-0 dXJclF')[0].get('href')"
   ]
  },
  {
   "cell_type": "code",
   "execution_count": 584,
   "metadata": {},
   "outputs": [
    {
     "name": "stdout",
     "output_type": "stream",
     "text": [
      "https://www.seloger.com/annonces/locations/appartement/paris-11eme-75/leon-blum-folie-regnault/159157123.htm?projects=1&types=1&places=[{ci:750105}|{ci:750111}|{ci:940067}|{ci:940080}|{idq:133102}|{idq:133103}|{idq:133104}|{idq:133105}|{idq:133106}|{idq:133107}|{idq:133108}|{idq:133109}|{idq:133110}|{idq:133111}|{idq:133112}|{idq:133113}|{idq:133114}|{idq:133115}|{idq:133764}]&surface=20/NaN&rooms=1&sort=d_dt_crea&picture=15&qsVersion=1.0&bd=ListToDetail\n",
      "\n",
      "\n",
      "https://www.seloger.com/annonces/locations/appartement/paris-11eme-75/nation-alexandre-dumas/155711407.htm?projects=1&types=1&places=[{ci:750105}|{ci:750111}|{ci:940067}|{ci:940080}|{idq:133102}|{idq:133103}|{idq:133104}|{idq:133105}|{idq:133106}|{idq:133107}|{idq:133108}|{idq:133109}|{idq:133110}|{idq:133111}|{idq:133112}|{idq:133113}|{idq:133114}|{idq:133115}|{idq:133764}]&surface=20/NaN&rooms=1&sort=d_dt_crea&picture=15&qsVersion=1.0&bd=ListToDetail\n",
      "\n",
      "\n",
      "https://www.seloger.com/annonces/locations/appartement/paris-11eme-75/leon-blum-folie-regnault/159153475.htm?projects=1&types=1&places=[{ci:750105}|{ci:750111}|{ci:940067}|{ci:940080}|{idq:133102}|{idq:133103}|{idq:133104}|{idq:133105}|{idq:133106}|{idq:133107}|{idq:133108}|{idq:133109}|{idq:133110}|{idq:133111}|{idq:133112}|{idq:133113}|{idq:133114}|{idq:133115}|{idq:133764}]&surface=20/NaN&rooms=1&sort=d_dt_crea&picture=15&qsVersion=1.0&bd=ListToDetail\n",
      "\n",
      "\n",
      "https://www.seloger.com/annonces/locations/appartement/paris-12eme-75/vallee-de-fecamp/159153483.htm?projects=1&types=1&places=[{ci:750105}|{ci:750111}|{ci:940067}|{ci:940080}|{idq:133102}|{idq:133103}|{idq:133104}|{idq:133105}|{idq:133106}|{idq:133107}|{idq:133108}|{idq:133109}|{idq:133110}|{idq:133111}|{idq:133112}|{idq:133113}|{idq:133114}|{idq:133115}|{idq:133764}]&surface=20/NaN&rooms=1&sort=d_dt_crea&picture=15&qsVersion=1.0&bd=ListToDetail\n",
      "\n",
      "\n",
      "https://www.seloger.com/annonces/locations/appartement/paris-12eme-75/jardin-de-reuilly/159148805.htm?projects=1&types=1&places=[{ci:750105}|{ci:750111}|{ci:940067}|{ci:940080}|{idq:133102}|{idq:133103}|{idq:133104}|{idq:133105}|{idq:133106}|{idq:133107}|{idq:133108}|{idq:133109}|{idq:133110}|{idq:133111}|{idq:133112}|{idq:133113}|{idq:133114}|{idq:133115}|{idq:133764}]&surface=20/NaN&rooms=1&sort=d_dt_crea&picture=15&qsVersion=1.0&bd=ListToDetail\n",
      "\n",
      "\n",
      "https://www.seloger.com/annonces/locations/appartement/paris-11eme-75/bastille-popincourt/159145879.htm?projects=1&types=1&places=[{ci:750105}|{ci:750111}|{ci:940067}|{ci:940080}|{idq:133102}|{idq:133103}|{idq:133104}|{idq:133105}|{idq:133106}|{idq:133107}|{idq:133108}|{idq:133109}|{idq:133110}|{idq:133111}|{idq:133112}|{idq:133113}|{idq:133114}|{idq:133115}|{idq:133764}]&surface=20/NaN&rooms=1&sort=d_dt_crea&picture=15&qsVersion=1.0&bd=ListToDetail\n",
      "\n",
      "\n",
      "https://www.seloger.com/annonces/locations/appartement/paris-13eme-75/nationale-deux-moulins/159144335.htm?projects=1&types=1&places=[{ci:750105}|{ci:750111}|{ci:940067}|{ci:940080}|{idq:133102}|{idq:133103}|{idq:133104}|{idq:133105}|{idq:133106}|{idq:133107}|{idq:133108}|{idq:133109}|{idq:133110}|{idq:133111}|{idq:133112}|{idq:133113}|{idq:133114}|{idq:133115}|{idq:133764}]&surface=20/NaN&rooms=1&sort=d_dt_crea&picture=15&qsVersion=1.0&bd=ListToDetail\n",
      "\n",
      "\n",
      "https://www.seloger.com/annonces/locations/appartement/paris-12eme-75/bel-air-sud/159143997.htm?projects=1&types=1&places=[{ci:750105}|{ci:750111}|{ci:940067}|{ci:940080}|{idq:133102}|{idq:133103}|{idq:133104}|{idq:133105}|{idq:133106}|{idq:133107}|{idq:133108}|{idq:133109}|{idq:133110}|{idq:133111}|{idq:133112}|{idq:133113}|{idq:133114}|{idq:133115}|{idq:133764}]&surface=20/NaN&rooms=1&sort=d_dt_crea&picture=15&qsVersion=1.0&bd=ListToDetail\n",
      "\n",
      "\n",
      "https://www.seloger.com/annonces/locations/appartement/vincennes-94/sorano-centre-ville/159140189.htm?projects=1&types=1&places=[{ci:750105}|{ci:750111}|{ci:940067}|{ci:940080}|{idq:133102}|{idq:133103}|{idq:133104}|{idq:133105}|{idq:133106}|{idq:133107}|{idq:133108}|{idq:133109}|{idq:133110}|{idq:133111}|{idq:133112}|{idq:133113}|{idq:133114}|{idq:133115}|{idq:133764}]&surface=20/NaN&rooms=1&sort=d_dt_crea&picture=15&qsVersion=1.0&bd=ListToDetail\n",
      "\n",
      "\n",
      "https://www.seloger.com/annonces/locations/appartement/paris-5eme-75/jardin-des-plantes/159135193.htm?projects=1&types=1&places=[{ci:750105}|{ci:750111}|{ci:940067}|{ci:940080}|{idq:133102}|{idq:133103}|{idq:133104}|{idq:133105}|{idq:133106}|{idq:133107}|{idq:133108}|{idq:133109}|{idq:133110}|{idq:133111}|{idq:133112}|{idq:133113}|{idq:133114}|{idq:133115}|{idq:133764}]&surface=20/NaN&rooms=1&sort=d_dt_crea&picture=15&qsVersion=1.0&bd=ListToDetail\n",
      "\n",
      "\n",
      "https://www.seloger.com/annonces/locations/appartement/paris-13eme-75/dunois-bibliotheque-jeanne-d-arc/159133015.htm?projects=1&types=1&places=[{ci:750105}|{ci:750111}|{ci:940067}|{ci:940080}|{idq:133102}|{idq:133103}|{idq:133104}|{idq:133105}|{idq:133106}|{idq:133107}|{idq:133108}|{idq:133109}|{idq:133110}|{idq:133111}|{idq:133112}|{idq:133113}|{idq:133114}|{idq:133115}|{idq:133764}]&surface=20/NaN&rooms=1&sort=d_dt_crea&picture=15&qsVersion=1.0&bd=ListToDetail\n",
      "\n",
      "\n",
      "https://www.seloger.com/annonces/locations/appartement/paris-11eme-75/republique-saint-ambroise/159131151.htm?projects=1&types=1&places=[{ci:750105}|{ci:750111}|{ci:940067}|{ci:940080}|{idq:133102}|{idq:133103}|{idq:133104}|{idq:133105}|{idq:133106}|{idq:133107}|{idq:133108}|{idq:133109}|{idq:133110}|{idq:133111}|{idq:133112}|{idq:133113}|{idq:133114}|{idq:133115}|{idq:133764}]&surface=20/NaN&rooms=1&sort=d_dt_crea&picture=15&qsVersion=1.0&bd=ListToDetail\n",
      "\n",
      "\n",
      "https://www.seloger.com/annonces/locations/appartement/paris-11eme-75/leon-blum-folie-regnault/159122441.htm?projects=1&types=1&places=[{ci:750105}|{ci:750111}|{ci:940067}|{ci:940080}|{idq:133102}|{idq:133103}|{idq:133104}|{idq:133105}|{idq:133106}|{idq:133107}|{idq:133108}|{idq:133109}|{idq:133110}|{idq:133111}|{idq:133112}|{idq:133113}|{idq:133114}|{idq:133115}|{idq:133764}]&surface=20/NaN&rooms=1&sort=d_dt_crea&picture=15&qsVersion=1.0&bd=ListToDetail\n",
      "\n",
      "\n",
      "https://www.seloger.com/annonces/locations/appartement/paris-13eme-75/nationale-deux-moulins/159121435.htm?projects=1&types=1&places=[{ci:750105}|{ci:750111}|{ci:940067}|{ci:940080}|{idq:133102}|{idq:133103}|{idq:133104}|{idq:133105}|{idq:133106}|{idq:133107}|{idq:133108}|{idq:133109}|{idq:133110}|{idq:133111}|{idq:133112}|{idq:133113}|{idq:133114}|{idq:133115}|{idq:133764}]&surface=20/NaN&rooms=1&sort=d_dt_crea&picture=15&qsVersion=1.0&bd=ListToDetail\n",
      "\n",
      "\n",
      "https://www.seloger.com/annonces/locations/appartement/paris-11eme-75/leon-blum-folie-regnault/159117195.htm?projects=1&types=1&places=[{ci:750105}|{ci:750111}|{ci:940067}|{ci:940080}|{idq:133102}|{idq:133103}|{idq:133104}|{idq:133105}|{idq:133106}|{idq:133107}|{idq:133108}|{idq:133109}|{idq:133110}|{idq:133111}|{idq:133112}|{idq:133113}|{idq:133114}|{idq:133115}|{idq:133764}]&surface=20/NaN&rooms=1&sort=d_dt_crea&picture=15&qsVersion=1.0&bd=ListToDetail\n",
      "\n",
      "\n",
      "https://www.seloger.com/annonces/locations/appartement/paris-11eme-75/leon-blum-folie-regnault/159111619.htm?projects=1&types=1&places=[{ci:750105}|{ci:750111}|{ci:940067}|{ci:940080}|{idq:133102}|{idq:133103}|{idq:133104}|{idq:133105}|{idq:133106}|{idq:133107}|{idq:133108}|{idq:133109}|{idq:133110}|{idq:133111}|{idq:133112}|{idq:133113}|{idq:133114}|{idq:133115}|{idq:133764}]&surface=20/NaN&rooms=1&sort=d_dt_crea&picture=15&qsVersion=1.0&bd=ListToDetail\n",
      "\n",
      "\n",
      "https://www.seloger.com/annonces/locations/appartement/paris-13eme-75/dunois-bibliotheque-jeanne-d-arc/159111407.htm?projects=1&types=1&places=[{ci:750105}|{ci:750111}|{ci:940067}|{ci:940080}|{idq:133102}|{idq:133103}|{idq:133104}|{idq:133105}|{idq:133106}|{idq:133107}|{idq:133108}|{idq:133109}|{idq:133110}|{idq:133111}|{idq:133112}|{idq:133113}|{idq:133114}|{idq:133115}|{idq:133764}]&surface=20/NaN&rooms=1&sort=d_dt_crea&picture=15&qsVersion=1.0&bd=ListToDetail\n",
      "\n",
      "\n",
      "https://www.seloger.com/annonces/locations/appartement/paris-13eme-75/dunois-bibliotheque-jeanne-d-arc/159029323.htm?projects=1&types=1&places=[{ci:750105}|{ci:750111}|{ci:940067}|{ci:940080}|{idq:133102}|{idq:133103}|{idq:133104}|{idq:133105}|{idq:133106}|{idq:133107}|{idq:133108}|{idq:133109}|{idq:133110}|{idq:133111}|{idq:133112}|{idq:133113}|{idq:133114}|{idq:133115}|{idq:133764}]&surface=20/NaN&rooms=1&sort=d_dt_crea&picture=15&qsVersion=1.0&bd=ListToDetail\n",
      "\n",
      "\n",
      "https://www.seloger.com/annonces/locations/appartement/paris-11eme-75/leon-blum-folie-regnault/159110739.htm?projects=1&types=1&places=[{ci:750105}|{ci:750111}|{ci:940067}|{ci:940080}|{idq:133102}|{idq:133103}|{idq:133104}|{idq:133105}|{idq:133106}|{idq:133107}|{idq:133108}|{idq:133109}|{idq:133110}|{idq:133111}|{idq:133112}|{idq:133113}|{idq:133114}|{idq:133115}|{idq:133764}]&surface=20/NaN&rooms=1&sort=d_dt_crea&picture=15&qsVersion=1.0&bd=ListToDetail\n",
      "\n",
      "\n",
      "https://www.seloger.com/annonces/locations/appartement/paris-11eme-75/republique-saint-ambroise/159103113.htm?projects=1&types=1&places=[{ci:750105}|{ci:750111}|{ci:940067}|{ci:940080}|{idq:133102}|{idq:133103}|{idq:133104}|{idq:133105}|{idq:133106}|{idq:133107}|{idq:133108}|{idq:133109}|{idq:133110}|{idq:133111}|{idq:133112}|{idq:133113}|{idq:133114}|{idq:133115}|{idq:133764}]&surface=20/NaN&rooms=1&sort=d_dt_crea&picture=15&qsVersion=1.0&bd=ListToDetail\n",
      "\n",
      "\n",
      "https://www.seloger.com/annonces/locations/appartement/paris-11eme-75/bastille-popincourt/159102961.htm?projects=1&types=1&places=[{ci:750105}|{ci:750111}|{ci:940067}|{ci:940080}|{idq:133102}|{idq:133103}|{idq:133104}|{idq:133105}|{idq:133106}|{idq:133107}|{idq:133108}|{idq:133109}|{idq:133110}|{idq:133111}|{idq:133112}|{idq:133113}|{idq:133114}|{idq:133115}|{idq:133764}]&surface=20/NaN&rooms=1&sort=d_dt_crea&picture=15&qsVersion=1.0&bd=ListToDetail\n",
      "\n",
      "\n",
      "https://www.seloger.com/annonces/locations/appartement/paris-13eme-75/buttes-aux-cailles-glaciere/159100275.htm?projects=1&types=1&places=[{ci:750105}|{ci:750111}|{ci:940067}|{ci:940080}|{idq:133102}|{idq:133103}|{idq:133104}|{idq:133105}|{idq:133106}|{idq:133107}|{idq:133108}|{idq:133109}|{idq:133110}|{idq:133111}|{idq:133112}|{idq:133113}|{idq:133114}|{idq:133115}|{idq:133764}]&surface=20/NaN&rooms=1&sort=d_dt_crea&picture=15&qsVersion=1.0&bd=ListToDetail\n",
      "\n",
      "\n",
      "https://www.seloger.com/annonces/locations/appartement/paris-12eme-75/jardin-de-reuilly/159099975.htm?projects=1&types=1&places=[{ci:750105}|{ci:750111}|{ci:940067}|{ci:940080}|{idq:133102}|{idq:133103}|{idq:133104}|{idq:133105}|{idq:133106}|{idq:133107}|{idq:133108}|{idq:133109}|{idq:133110}|{idq:133111}|{idq:133112}|{idq:133113}|{idq:133114}|{idq:133115}|{idq:133764}]&surface=20/NaN&rooms=1&sort=d_dt_crea&picture=15&qsVersion=1.0&bd=ListToDetail\n",
      "\n",
      "\n",
      "https://www.seloger.com/annonces/locations/appartement/vincennes-94/sorano-centre-ville/159099393.htm?projects=1&types=1&places=[{ci:750105}|{ci:750111}|{ci:940067}|{ci:940080}|{idq:133102}|{idq:133103}|{idq:133104}|{idq:133105}|{idq:133106}|{idq:133107}|{idq:133108}|{idq:133109}|{idq:133110}|{idq:133111}|{idq:133112}|{idq:133113}|{idq:133114}|{idq:133115}|{idq:133764}]&surface=20/NaN&rooms=1&sort=d_dt_crea&picture=15&qsVersion=1.0&bd=ListToDetail\n",
      "\n",
      "\n",
      "https://www.seloger.com/annonces/locations/appartement/paris-11eme-75/belleville-saint-maur/159097487.htm?projects=1&types=1&places=[{ci:750105}|{ci:750111}|{ci:940067}|{ci:940080}|{idq:133102}|{idq:133103}|{idq:133104}|{idq:133105}|{idq:133106}|{idq:133107}|{idq:133108}|{idq:133109}|{idq:133110}|{idq:133111}|{idq:133112}|{idq:133113}|{idq:133114}|{idq:133115}|{idq:133764}]&surface=20/NaN&rooms=1&sort=d_dt_crea&picture=15&qsVersion=1.0&bd=ListToDetail\n",
      "\n",
      "\n"
     ]
    }
   ],
   "source": [
    "for result in results:\n",
    "    print(result.find_all('a', class_='CoveringLink-a3s3kt-0 dXJclF')[0].get('href'))\n",
    "    print('\\n')"
   ]
  },
  {
   "cell_type": "code",
   "execution_count": null,
   "metadata": {},
   "outputs": [],
   "source": []
  }
 ],
 "metadata": {
  "kernelspec": {
   "display_name": "venv",
   "language": "python",
   "name": "venv"
  },
  "language_info": {
   "codemirror_mode": {
    "name": "ipython",
    "version": 3
   },
   "file_extension": ".py",
   "mimetype": "text/x-python",
   "name": "python",
   "nbconvert_exporter": "python",
   "pygments_lexer": "ipython3",
   "version": "3.7.4"
  }
 },
 "nbformat": 4,
 "nbformat_minor": 2
}
